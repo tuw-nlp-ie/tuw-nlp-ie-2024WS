{
 "cells": [
  {
   "cell_type": "markdown",
   "metadata": {
    "id": "TUJ9cPl-Fry3"
   },
   "source": [
    "# Natural Language Processing and Information Extraction\n",
    "## Deep learning - practical session\n",
    "\n",
    "__Nov 22, 2024__\n",
    "\n",
    "__Varvara Arzt__\n",
    "\n",
    "The material of this lecture was created by __Ádám Kovács__ and extended by Varvara Arzt\n",
    "\n",
    "<a href=\"https://colab.research.google.com/github/tuw-nlp-ie/tuw-nlp-ie-2024WS/blob/main/lectures/05_Deep_learning_practical_lesson/deep_learning_practical_lesson_with_outputs.ipynb\" target=\"_parent\">\n",
    "  <img src=\"https://colab.research.google.com/assets/colab-badge.svg\" alt=\"Open In Colab\"/>\n",
    "</a>"
   ]
  },
  {
   "cell_type": "markdown",
   "metadata": {
    "id": "-08G4DavFry5"
   },
   "source": [
    "During this lecture we are going to use a classification dataset from a shared task: [SemEval 2019 - Task 6](https://github.com/ZeyadZanaty/offenseval).\n",
    "\n",
    "SemEval (Semantic Evaluation) is a series of international NLP research workshops whose mission is to advance the current SOTA in semantic analysis. [Here](https://github.com/SemEval/SemEval2025/blob/main/tasks.md) you can find a list of shared tasks for SemEval-2025.\n",
    "\n",
    "The [SemEval 2019 - Task 6](https://github.com/ZeyadZanaty/offenseval) is about Identifying and Categorizing Offensive Language in Social Media.\n",
    "__Preparation:__\n",
    "- You will need the Semeval dataset (we will have code to download it)\n",
    "- You will need to install pytorch:\n",
    "    - pip install torch (for details on PyTorch installation depending on your OS, CUDA version etc. check the official [PyTorch documentation](https://pytorch.org/get-started/locally/))\n",
    "- You will also need to have pandas, torchtext, numpy and scikit learn installed."
   ]
  },
  {
   "cell_type": "markdown",
   "metadata": {
    "id": "I_7oXPa0Fry6"
   },
   "source": [
    "We are going to use an open source library for building optimized deep learning models that can be run on GPUs, the library is called [Pytorch](https://pytorch.org/docs/stable/index.html). It is one of the most widely used libraries for building neural networks/deep learning models.\n",
    "\n",
    "In this lecture we are mostly using pure PyTorch models, but there are multiple libraries available to make it even easier to build neural networks. You are free to use them in your projects.\n",
    "Just to name a few:\n",
    "- TorchText: https://pytorch.org/text/stable/index.html\n",
    "- AllenNLP: https://github.com/allenai/allennlp\n",
    "- HuggingFace: https://huggingface.co\n",
    "\n",
    "__NOTE: It is advised to use Google Colab for this laboratory for free access to GPUs, and also for reproducibility.__"
   ]
  },
  {
   "cell_type": "code",
   "execution_count": null,
   "metadata": {
    "colab": {
     "base_uri": "https://localhost:8080/"
    },
    "id": "eZt9zm2LFry6",
    "outputId": "c2bdc279-bcad-45a5-fa44-d5c09b976c66"
   },
   "outputs": [],
   "source": [
    "!pip install torch\n",
    "!pip install pandas\n",
    "!pip install scikit-learn"
   ]
  },
  {
   "cell_type": "code",
   "execution_count": null,
   "metadata": {
    "colab": {
     "base_uri": "https://localhost:8080/"
    },
    "id": "-Y0mhic03d_a",
    "outputId": "344bf891-c924-4590-e55e-a7a086ed8f98"
   },
   "outputs": [],
   "source": [
    "!conda info"
   ]
  },
  {
   "cell_type": "code",
   "execution_count": 31,
   "metadata": {
    "id": "v4Xkf04_Fry7"
   },
   "outputs": [],
   "source": [
    "# Import the needed libraries\n",
    "import pandas as pd\n",
    "import numpy as np\n",
    "import matplotlib.pyplot as plt"
   ]
  },
  {
   "cell_type": "code",
   "execution_count": 32,
   "metadata": {
    "id": "LeotTKMl3d_b"
   },
   "outputs": [],
   "source": [
    "# Disable warnings\n",
    "import warnings\n",
    "warnings.filterwarnings('ignore')  # \"error\", \"ignore\", \"always\", \"default\", \"module\" or \"once\""
   ]
  },
  {
   "cell_type": "markdown",
   "metadata": {
    "id": "sDFv7TnVFry8"
   },
   "source": [
    "## Download the dataset and load it into a pandas DataFrame"
   ]
  },
  {
   "cell_type": "code",
   "execution_count": 33,
   "metadata": {
    "colab": {
     "base_uri": "https://localhost:8080/"
    },
    "id": "t0gNCsikFry8",
    "outputId": "7f7c0a4a-559a-42dd-ded7-6e1d1cd517ee"
   },
   "outputs": [
    {
     "data": {
      "text/plain": [
       "('data/offenseval.tsv', <http.client.HTTPMessage at 0x2ae1f74f0>)"
      ]
     },
     "execution_count": 33,
     "metadata": {},
     "output_type": "execute_result"
    }
   ],
   "source": [
    "import os\n",
    "\n",
    "if not os.path.isdir(\"./data\"):\n",
    "    os.mkdir(\"./data\")\n",
    "\n",
    "import urllib.request\n",
    "\n",
    "u = urllib.request.URLopener()\n",
    "u.retrieve(\n",
    "    \"https://raw.githubusercontent.com/ZeyadZanaty/offenseval/master/datasets/training-v1/offenseval-training-v1.tsv\",\n",
    "    \"data/offenseval.tsv\",\n",
    ")"
   ]
  },
  {
   "cell_type": "markdown",
   "metadata": {
    "id": "_xxkoCVUFry8"
   },
   "source": [
    "## Read in the dataset into a Pandas DataFrame\n",
    "Use `pd.read_csv` with the correct parameters to read in the dataset. If done correctly, `DataFrame` should have 5 columns,\n",
    "`id`, `tweet`, `subtask_a`, `subtask_b`, `subtask_c`."
   ]
  },
  {
   "cell_type": "code",
   "execution_count": 34,
   "metadata": {
    "id": "14AzL6GHFry9",
    "nbgrader": {
     "grade": false,
     "grade_id": "cell-eef320fdacfdf485",
     "locked": false,
     "schema_version": 3,
     "solution": true,
     "task": false
    }
   },
   "outputs": [],
   "source": [
    "def read_dataset():\n",
    "    train_data = pd.read_csv(\"./data/offenseval.tsv\", sep=\"\\t\")\n",
    "    return train_data"
   ]
  },
  {
   "cell_type": "code",
   "execution_count": 35,
   "metadata": {
    "colab": {
     "base_uri": "https://localhost:8080/",
     "height": 419
    },
    "id": "rNCxGm0LFry-",
    "nbgrader": {
     "grade": true,
     "grade_id": "cell-8f39b3b86623648c",
     "locked": true,
     "points": 0,
     "schema_version": 3,
     "solution": false,
     "task": false
    },
    "outputId": "c38ebe19-f5ba-42bb-a7c0-a8f0028def60"
   },
   "outputs": [
    {
     "data": {
      "text/html": [
       "<div>\n",
       "<style scoped>\n",
       "    .dataframe tbody tr th:only-of-type {\n",
       "        vertical-align: middle;\n",
       "    }\n",
       "\n",
       "    .dataframe tbody tr th {\n",
       "        vertical-align: top;\n",
       "    }\n",
       "\n",
       "    .dataframe thead th {\n",
       "        text-align: right;\n",
       "    }\n",
       "</style>\n",
       "<table border=\"1\" class=\"dataframe\">\n",
       "  <thead>\n",
       "    <tr style=\"text-align: right;\">\n",
       "      <th></th>\n",
       "      <th>id</th>\n",
       "      <th>tweet</th>\n",
       "      <th>subtask_a</th>\n",
       "      <th>subtask_b</th>\n",
       "      <th>subtask_c</th>\n",
       "    </tr>\n",
       "  </thead>\n",
       "  <tbody>\n",
       "    <tr>\n",
       "      <th>0</th>\n",
       "      <td>86426</td>\n",
       "      <td>@USER She should ask a few native Americans wh...</td>\n",
       "      <td>OFF</td>\n",
       "      <td>UNT</td>\n",
       "      <td>NaN</td>\n",
       "    </tr>\n",
       "    <tr>\n",
       "      <th>1</th>\n",
       "      <td>90194</td>\n",
       "      <td>@USER @USER Go home you’re drunk!!! @USER #MAG...</td>\n",
       "      <td>OFF</td>\n",
       "      <td>TIN</td>\n",
       "      <td>IND</td>\n",
       "    </tr>\n",
       "    <tr>\n",
       "      <th>2</th>\n",
       "      <td>16820</td>\n",
       "      <td>Amazon is investigating Chinese employees who ...</td>\n",
       "      <td>NOT</td>\n",
       "      <td>NaN</td>\n",
       "      <td>NaN</td>\n",
       "    </tr>\n",
       "    <tr>\n",
       "      <th>3</th>\n",
       "      <td>62688</td>\n",
       "      <td>@USER Someone should'veTaken\" this piece of sh...</td>\n",
       "      <td>OFF</td>\n",
       "      <td>UNT</td>\n",
       "      <td>NaN</td>\n",
       "    </tr>\n",
       "    <tr>\n",
       "      <th>4</th>\n",
       "      <td>43605</td>\n",
       "      <td>@USER @USER Obama wanted liberals &amp;amp; illega...</td>\n",
       "      <td>NOT</td>\n",
       "      <td>NaN</td>\n",
       "      <td>NaN</td>\n",
       "    </tr>\n",
       "    <tr>\n",
       "      <th>...</th>\n",
       "      <td>...</td>\n",
       "      <td>...</td>\n",
       "      <td>...</td>\n",
       "      <td>...</td>\n",
       "      <td>...</td>\n",
       "    </tr>\n",
       "    <tr>\n",
       "      <th>13235</th>\n",
       "      <td>95338</td>\n",
       "      <td>@USER Sometimes I get strong vibes from people...</td>\n",
       "      <td>OFF</td>\n",
       "      <td>TIN</td>\n",
       "      <td>IND</td>\n",
       "    </tr>\n",
       "    <tr>\n",
       "      <th>13236</th>\n",
       "      <td>67210</td>\n",
       "      <td>Benidorm ✅  Creamfields ✅  Maga ✅   Not too sh...</td>\n",
       "      <td>NOT</td>\n",
       "      <td>NaN</td>\n",
       "      <td>NaN</td>\n",
       "    </tr>\n",
       "    <tr>\n",
       "      <th>13237</th>\n",
       "      <td>82921</td>\n",
       "      <td>@USER And why report this garbage.  We don't g...</td>\n",
       "      <td>OFF</td>\n",
       "      <td>TIN</td>\n",
       "      <td>OTH</td>\n",
       "    </tr>\n",
       "    <tr>\n",
       "      <th>13238</th>\n",
       "      <td>27429</td>\n",
       "      <td>@USER Pussy</td>\n",
       "      <td>OFF</td>\n",
       "      <td>UNT</td>\n",
       "      <td>NaN</td>\n",
       "    </tr>\n",
       "    <tr>\n",
       "      <th>13239</th>\n",
       "      <td>46552</td>\n",
       "      <td>#Spanishrevenge vs. #justice #HumanRights and ...</td>\n",
       "      <td>NOT</td>\n",
       "      <td>NaN</td>\n",
       "      <td>NaN</td>\n",
       "    </tr>\n",
       "  </tbody>\n",
       "</table>\n",
       "<p>13240 rows × 5 columns</p>\n",
       "</div>"
      ],
      "text/plain": [
       "          id                                              tweet subtask_a  \\\n",
       "0      86426  @USER She should ask a few native Americans wh...       OFF   \n",
       "1      90194  @USER @USER Go home you’re drunk!!! @USER #MAG...       OFF   \n",
       "2      16820  Amazon is investigating Chinese employees who ...       NOT   \n",
       "3      62688  @USER Someone should'veTaken\" this piece of sh...       OFF   \n",
       "4      43605  @USER @USER Obama wanted liberals &amp; illega...       NOT   \n",
       "...      ...                                                ...       ...   \n",
       "13235  95338  @USER Sometimes I get strong vibes from people...       OFF   \n",
       "13236  67210  Benidorm ✅  Creamfields ✅  Maga ✅   Not too sh...       NOT   \n",
       "13237  82921  @USER And why report this garbage.  We don't g...       OFF   \n",
       "13238  27429                                        @USER Pussy       OFF   \n",
       "13239  46552  #Spanishrevenge vs. #justice #HumanRights and ...       NOT   \n",
       "\n",
       "      subtask_b subtask_c  \n",
       "0           UNT       NaN  \n",
       "1           TIN       IND  \n",
       "2           NaN       NaN  \n",
       "3           UNT       NaN  \n",
       "4           NaN       NaN  \n",
       "...         ...       ...  \n",
       "13235       TIN       IND  \n",
       "13236       NaN       NaN  \n",
       "13237       TIN       OTH  \n",
       "13238       UNT       NaN  \n",
       "13239       NaN       NaN  \n",
       "\n",
       "[13240 rows x 5 columns]"
      ]
     },
     "execution_count": 35,
     "metadata": {},
     "output_type": "execute_result"
    }
   ],
   "source": [
    "train_data_unprocessed = read_dataset()\n",
    "train_data_unprocessed"
   ]
  },
  {
   "cell_type": "markdown",
   "metadata": {
    "id": "v8sKz1zsFry-"
   },
   "source": [
    "## Convert `subtask_a` into a binary label\n",
    "The task is to classify the given tweets into two category: _offensive(OFF)_ , _not offensive (NOT)_. For machine learning algorithms you will need integer labels instead of strings. Add a new column to the dataframe called `label`, and transform the `subtask_a` column into a binary integer label."
   ]
  },
  {
   "cell_type": "code",
   "execution_count": 36,
   "metadata": {
    "id": "sQ4VazgwFry-",
    "nbgrader": {
     "grade": false,
     "grade_id": "cell-595b437c85da4194",
     "locked": false,
     "schema_version": 3,
     "solution": true,
     "task": false
    }
   },
   "outputs": [],
   "source": [
    "def transform(train_data):\n",
    "    labels = {\"NOT\": 0, \"OFF\": 1}\n",
    "\n",
    "    train_data[\"label\"] = [labels[item] for item in train_data.subtask_a]\n",
    "    train_data[\"tweet\"] = train_data[\"tweet\"].str.replace(\"@USER\", \"\")\n",
    "\n",
    "    return train_data"
   ]
  },
  {
   "cell_type": "code",
   "execution_count": 37,
   "metadata": {
    "id": "zSHYynQ3Fry_",
    "nbgrader": {
     "grade": true,
     "grade_id": "cell-56fa86b834804581",
     "locked": true,
     "points": 0,
     "schema_version": 3,
     "solution": false,
     "task": false
    }
   },
   "outputs": [],
   "source": [
    "train_data = transform(train_data_unprocessed)"
   ]
  },
  {
   "cell_type": "code",
   "execution_count": 38,
   "metadata": {
    "colab": {
     "base_uri": "https://localhost:8080/",
     "height": 419
    },
    "id": "t_9DrYdn3d_d",
    "outputId": "83805b34-45f1-495d-b528-3d5325a26c8e"
   },
   "outputs": [
    {
     "data": {
      "text/html": [
       "<div>\n",
       "<style scoped>\n",
       "    .dataframe tbody tr th:only-of-type {\n",
       "        vertical-align: middle;\n",
       "    }\n",
       "\n",
       "    .dataframe tbody tr th {\n",
       "        vertical-align: top;\n",
       "    }\n",
       "\n",
       "    .dataframe thead th {\n",
       "        text-align: right;\n",
       "    }\n",
       "</style>\n",
       "<table border=\"1\" class=\"dataframe\">\n",
       "  <thead>\n",
       "    <tr style=\"text-align: right;\">\n",
       "      <th></th>\n",
       "      <th>id</th>\n",
       "      <th>tweet</th>\n",
       "      <th>subtask_a</th>\n",
       "      <th>subtask_b</th>\n",
       "      <th>subtask_c</th>\n",
       "      <th>label</th>\n",
       "    </tr>\n",
       "  </thead>\n",
       "  <tbody>\n",
       "    <tr>\n",
       "      <th>0</th>\n",
       "      <td>86426</td>\n",
       "      <td>She should ask a few native Americans what th...</td>\n",
       "      <td>OFF</td>\n",
       "      <td>UNT</td>\n",
       "      <td>NaN</td>\n",
       "      <td>1</td>\n",
       "    </tr>\n",
       "    <tr>\n",
       "      <th>1</th>\n",
       "      <td>90194</td>\n",
       "      <td>Go home you’re drunk!!!  #MAGA #Trump2020 👊🇺...</td>\n",
       "      <td>OFF</td>\n",
       "      <td>TIN</td>\n",
       "      <td>IND</td>\n",
       "      <td>1</td>\n",
       "    </tr>\n",
       "    <tr>\n",
       "      <th>2</th>\n",
       "      <td>16820</td>\n",
       "      <td>Amazon is investigating Chinese employees who ...</td>\n",
       "      <td>NOT</td>\n",
       "      <td>NaN</td>\n",
       "      <td>NaN</td>\n",
       "      <td>0</td>\n",
       "    </tr>\n",
       "    <tr>\n",
       "      <th>3</th>\n",
       "      <td>62688</td>\n",
       "      <td>Someone should'veTaken\" this piece of shit to...</td>\n",
       "      <td>OFF</td>\n",
       "      <td>UNT</td>\n",
       "      <td>NaN</td>\n",
       "      <td>1</td>\n",
       "    </tr>\n",
       "    <tr>\n",
       "      <th>4</th>\n",
       "      <td>43605</td>\n",
       "      <td>Obama wanted liberals &amp;amp; illegals to move...</td>\n",
       "      <td>NOT</td>\n",
       "      <td>NaN</td>\n",
       "      <td>NaN</td>\n",
       "      <td>0</td>\n",
       "    </tr>\n",
       "    <tr>\n",
       "      <th>...</th>\n",
       "      <td>...</td>\n",
       "      <td>...</td>\n",
       "      <td>...</td>\n",
       "      <td>...</td>\n",
       "      <td>...</td>\n",
       "      <td>...</td>\n",
       "    </tr>\n",
       "    <tr>\n",
       "      <th>13235</th>\n",
       "      <td>95338</td>\n",
       "      <td>Sometimes I get strong vibes from people and ...</td>\n",
       "      <td>OFF</td>\n",
       "      <td>TIN</td>\n",
       "      <td>IND</td>\n",
       "      <td>1</td>\n",
       "    </tr>\n",
       "    <tr>\n",
       "      <th>13236</th>\n",
       "      <td>67210</td>\n",
       "      <td>Benidorm ✅  Creamfields ✅  Maga ✅   Not too sh...</td>\n",
       "      <td>NOT</td>\n",
       "      <td>NaN</td>\n",
       "      <td>NaN</td>\n",
       "      <td>0</td>\n",
       "    </tr>\n",
       "    <tr>\n",
       "      <th>13237</th>\n",
       "      <td>82921</td>\n",
       "      <td>And why report this garbage.  We don't give a...</td>\n",
       "      <td>OFF</td>\n",
       "      <td>TIN</td>\n",
       "      <td>OTH</td>\n",
       "      <td>1</td>\n",
       "    </tr>\n",
       "    <tr>\n",
       "      <th>13238</th>\n",
       "      <td>27429</td>\n",
       "      <td>Pussy</td>\n",
       "      <td>OFF</td>\n",
       "      <td>UNT</td>\n",
       "      <td>NaN</td>\n",
       "      <td>1</td>\n",
       "    </tr>\n",
       "    <tr>\n",
       "      <th>13239</th>\n",
       "      <td>46552</td>\n",
       "      <td>#Spanishrevenge vs. #justice #HumanRights and ...</td>\n",
       "      <td>NOT</td>\n",
       "      <td>NaN</td>\n",
       "      <td>NaN</td>\n",
       "      <td>0</td>\n",
       "    </tr>\n",
       "  </tbody>\n",
       "</table>\n",
       "<p>13240 rows × 6 columns</p>\n",
       "</div>"
      ],
      "text/plain": [
       "          id                                              tweet subtask_a  \\\n",
       "0      86426   She should ask a few native Americans what th...       OFF   \n",
       "1      90194    Go home you’re drunk!!!  #MAGA #Trump2020 👊🇺...       OFF   \n",
       "2      16820  Amazon is investigating Chinese employees who ...       NOT   \n",
       "3      62688   Someone should'veTaken\" this piece of shit to...       OFF   \n",
       "4      43605    Obama wanted liberals &amp; illegals to move...       NOT   \n",
       "...      ...                                                ...       ...   \n",
       "13235  95338   Sometimes I get strong vibes from people and ...       OFF   \n",
       "13236  67210  Benidorm ✅  Creamfields ✅  Maga ✅   Not too sh...       NOT   \n",
       "13237  82921   And why report this garbage.  We don't give a...       OFF   \n",
       "13238  27429                                              Pussy       OFF   \n",
       "13239  46552  #Spanishrevenge vs. #justice #HumanRights and ...       NOT   \n",
       "\n",
       "      subtask_b subtask_c  label  \n",
       "0           UNT       NaN      1  \n",
       "1           TIN       IND      1  \n",
       "2           NaN       NaN      0  \n",
       "3           UNT       NaN      1  \n",
       "4           NaN       NaN      0  \n",
       "...         ...       ...    ...  \n",
       "13235       TIN       IND      1  \n",
       "13236       NaN       NaN      0  \n",
       "13237       TIN       OTH      1  \n",
       "13238       UNT       NaN      1  \n",
       "13239       NaN       NaN      0  \n",
       "\n",
       "[13240 rows x 6 columns]"
      ]
     },
     "execution_count": 38,
     "metadata": {},
     "output_type": "execute_result"
    }
   ],
   "source": [
    "train_data"
   ]
  },
  {
   "cell_type": "code",
   "execution_count": 39,
   "metadata": {
    "colab": {
     "base_uri": "https://localhost:8080/"
    },
    "id": "GNUUEApz3d_d",
    "outputId": "5e36ca26-0c39-4db8-8895-cd83effbe489"
   },
   "outputs": [
    {
     "data": {
      "text/plain": [
       "subtask_a\n",
       "NOT    8840\n",
       "OFF    4400\n",
       "dtype: int64"
      ]
     },
     "execution_count": 39,
     "metadata": {},
     "output_type": "execute_result"
    }
   ],
   "source": [
    "train_data.groupby(\"subtask_a\").size()"
   ]
  },
  {
   "cell_type": "markdown",
   "metadata": {
    "id": "C1vVLQwfFrzA"
   },
   "source": [
    "## Train a simple neural network on this dataset\n",
    "\n",
    "In this notebook we are going to build different neural architectures on the task:\n",
    "- A simple one layered feed forward neural network (FNN) with one-hot encoded vectors\n",
    "- Adding more layers to the FNN, making it a deep neural network\n",
    "- Instead of using one-hot encoded vectors we are going to add embedding vectors to the architecture, that takes the sequential nature of natural texts into account\n",
    "- Then we will train LSTM networks\n",
    "- At last, we will also build a Transformer architecture, that currently achieves SOTA results on a lot of tasks\n",
    "\n",
    "First we will build one-hot-encoded vectors for each sentence, and then use a simple feed forward neural network to predict the correct labels."
   ]
  },
  {
   "cell_type": "code",
   "execution_count": 40,
   "metadata": {
    "id": "kWIAidfzFrzA",
    "nbgrader": {
     "grade": false,
     "grade_id": "cell-8c242629b22cb523",
     "locked": true,
     "schema_version": 3,
     "solution": false,
     "task": false
    }
   },
   "outputs": [],
   "source": [
    "# First we need to import pytorch and set a fixed random seed number for reproducibility\n",
    "import torch\n",
    "\n",
    "SEED = 1234\n",
    "\n",
    "torch.manual_seed(SEED)\n",
    "torch.backends.cudnn.deterministic = True"
   ]
  },
  {
   "cell_type": "markdown",
   "metadata": {
    "id": "ypaOR-1EFrzA"
   },
   "source": [
    "### Split the dataset into a train and a validation dataset\n",
    "Use the random seed for splitting. You should split the dataset into 70% training data and 30% validation data"
   ]
  },
  {
   "cell_type": "code",
   "execution_count": 41,
   "metadata": {
    "id": "LSeRGX4KFrzB",
    "nbgrader": {
     "grade": false,
     "grade_id": "cell-20ba609174c640e7",
     "locked": false,
     "schema_version": 3,
     "solution": true,
     "task": false
    }
   },
   "outputs": [],
   "source": [
    "from sklearn.model_selection import train_test_split as split\n",
    "\n",
    "\n",
    "def split_data(train_data, random_seed):\n",
    "    tr_data, val_data = split(train_data, test_size=0.3, random_state=SEED)\n",
    "    return tr_data, val_data"
   ]
  },
  {
   "cell_type": "code",
   "execution_count": 42,
   "metadata": {
    "id": "5bK6m0rRFrzB",
    "nbgrader": {
     "grade": true,
     "grade_id": "cell-0e8a125310d3fea9",
     "locked": true,
     "points": 0,
     "schema_version": 3,
     "solution": false,
     "task": false
    }
   },
   "outputs": [],
   "source": [
    "tr_data, val_data = split_data(train_data, SEED)"
   ]
  },
  {
   "cell_type": "markdown",
   "metadata": {
    "id": "OHxBtAYNFrzB"
   },
   "source": [
    "### Use CountVectorizer to prepare the features for the sentences\n",
    "_CountVectorizer_ is a great tool from _sklearn_ that helps us with basic preprocessing steps. It has lots of parameters to play with, you can check the documentation [here](https://scikit-learn.org/stable/modules/generated/sklearn.feature_extraction.text.CountVectorizer.html). It will:\n",
    "- Tokenize, lowercase the text\n",
    "- Filter out stopwords\n",
    "- Convert the text into one-hot encoded vectors\n",
    "- Select the _n_-best features\n",
    "\n",
    "We fit CountVectorizer using _3000_ features\n",
    "\n",
    "We will also _lemmatize_ texts using the _nltk_ package and its lemmatizer. Check the [docs](https://www.nltk.org/_modules/nltk/stem/wordnet.html) for more."
   ]
  },
  {
   "cell_type": "code",
   "execution_count": null,
   "metadata": {
    "colab": {
     "base_uri": "https://localhost:8080/"
    },
    "id": "N6H3QFQQ3d_f",
    "outputId": "9ed17478-11a3-4f7b-cc24-7ec9bf02ac37"
   },
   "outputs": [],
   "source": [
    "!pip install nltk"
   ]
  },
  {
   "cell_type": "code",
   "execution_count": 44,
   "metadata": {
    "colab": {
     "base_uri": "https://localhost:8080/"
    },
    "id": "shzT5AX0FrzC",
    "nbgrader": {
     "grade": false,
     "grade_id": "cell-c0943811065a971f",
     "locked": false,
     "schema_version": 3,
     "solution": true,
     "task": false
    },
    "outputId": "c8f11496-f926-4f27-d848-43b91cea471d"
   },
   "outputs": [
    {
     "name": "stderr",
     "output_type": "stream",
     "text": [
      "[nltk_data] Downloading package punkt to /Users/varya/nltk_data...\n",
      "[nltk_data]   Package punkt is already up-to-date!\n",
      "[nltk_data] Downloading package wordnet to /Users/varya/nltk_data...\n",
      "[nltk_data]   Package wordnet is already up-to-date!\n"
     ]
    }
   ],
   "source": [
    "from sklearn.feature_extraction.text import CountVectorizer\n",
    "\n",
    "import nltk\n",
    "\n",
    "nltk.download(\"punkt\")  # download tokenisation models\n",
    "nltk.download(\"wordnet\")  # download Wordnet dataset\n",
    "\n",
    "from nltk.stem import WordNetLemmatizer\n",
    "from nltk import word_tokenize\n",
    "\n",
    "\n",
    "class LemmaTokenizer(object):\n",
    "    def __init__(self):\n",
    "        self.wnl = WordNetLemmatizer()\n",
    "\n",
    "    def __call__(self, articles):\n",
    "        return [self.wnl.lemmatize(t) for t in word_tokenize(articles)]\n",
    "\n",
    "\n",
    "def prepare_vectorizer(tr_data):\n",
    "    #max_features: build a vocabulary that only considers the top max_features ordered by term frequency across the corpus.\n",
    "    vectorizer = CountVectorizer(\n",
    "        max_features=3000, tokenizer=LemmaTokenizer(), stop_words=\"english\"\n",
    "    )\n",
    "\n",
    "    word_to_ix = vectorizer.fit(tr_data.tweet)\n",
    "\n",
    "    return word_to_ix"
   ]
  },
  {
   "cell_type": "code",
   "execution_count": 45,
   "metadata": {
    "id": "xq4NYTdcFrzC",
    "nbgrader": {
     "grade": true,
     "grade_id": "cell-a2c6658aef3041dc",
     "locked": true,
     "points": 0,
     "schema_version": 3,
     "solution": false,
     "task": false
    }
   },
   "outputs": [],
   "source": [
    "word_to_ix = prepare_vectorizer(tr_data)\n",
    "# The vocab size is the length of the vocabulary, or the length of the feature vectors\n",
    "VOCAB_SIZE = len(word_to_ix.vocabulary_)\n",
    "assert VOCAB_SIZE == 3000"
   ]
  },
  {
   "cell_type": "code",
   "execution_count": 46,
   "metadata": {},
   "outputs": [
    {
     "data": {
      "text/plain": [
       "{'investigate': 1418,\n",
       " 'antifa': 208,\n",
       " \"'s\": 11,\n",
       " 'connection': 619,\n",
       " 'nazi': 1762,\n",
       " '.': 21,\n",
       " 'love': 1618,\n",
       " 'evil': 963,\n",
       " '!': 0,\n",
       " 'dare': 738,\n",
       " 'knew': 1500,\n",
       " \"''\": 6,\n",
       " 'twitter': 2758,\n",
       " 'wa': 2830,\n",
       " 'feeling': 1033,\n",
       " 'hope': 1307,\n",
       " \"'re\": 10,\n",
       " 'large': 1516,\n",
       " 'negative': 1769,\n",
       " 'number': 1804,\n",
       " 'republican': 2208,\n",
       " 'gun': 1197,\n",
       " 'control': 640,\n",
       " 'nonsense': 1790,\n",
       " 'finally': 1049,\n",
       " 'rest': 2223,\n",
       " '?': 88,\n",
       " 'black': 357,\n",
       " 'people': 1925,\n",
       " 'need': 1767,\n",
       " 'white': 2880,\n",
       " 'liberal': 1560,\n",
       " 'like': 1573,\n",
       " 'turning': 2753,\n",
       " 'violence': 2814,\n",
       " 'based': 299,\n",
       " 'thing': 2657,\n",
       " 'offensive': 1826,\n",
       " 'using': 2793,\n",
       " 'safe': 2274,\n",
       " 'argue': 229,\n",
       " 'order': 1864,\n",
       " 'help': 1264,\n",
       " 'perfect': 1928,\n",
       " 'play': 1974,\n",
       " 'process': 2055,\n",
       " 'helping': 1266,\n",
       " 'confuse': 613,\n",
       " '&': 4,\n",
       " 'amp': 191,\n",
       " ';': 86,\n",
       " 'seeing': 2333,\n",
       " '#': 1,\n",
       " 'walkaway': 2837,\n",
       " '......': 26,\n",
       " 'party': 1899,\n",
       " 'url': 2786,\n",
       " 'probably': 2053,\n",
       " 'best': 334,\n",
       " 'politician': 1995,\n",
       " '’': 2960,\n",
       " 've': 2803,\n",
       " 'heard': 1253,\n",
       " 'long': 1603,\n",
       " '...': 23,\n",
       " 'wish': 2897,\n",
       " 'illinois': 1356,\n",
       " 'girl': 1142,\n",
       " 'rage': 2128,\n",
       " 'threat': 2665,\n",
       " 'maga': 1636,\n",
       " 'mind': 1704,\n",
       " 'open': 1849,\n",
       " 'conservative': 622,\n",
       " 'americafirst': 189,\n",
       " 'trump': 2741,\n",
       " 'patriot': 1909,\n",
       " 'walkawayfromdemocrats': 2838,\n",
       " 'fakenews': 1003,\n",
       " 'correct': 656,\n",
       " 'don': 862,\n",
       " 't': 2601,\n",
       " 'worry': 2915,\n",
       " 'hun': 1325,\n",
       " 'sharing': 2374,\n",
       " 'talent': 2609,\n",
       " 'disgusting': 840,\n",
       " 'country': 666,\n",
       " 'day': 745,\n",
       " 'lefty': 1543,\n",
       " 'upset': 2784,\n",
       " 'forced': 1080,\n",
       " 'wear': 2862,\n",
       " 'imagine': 1360,\n",
       " '😂': 2980,\n",
       " 'worst': 2918,\n",
       " 'mistake': 1715,\n",
       " 'letting': 1553,\n",
       " 'appreciate': 224,\n",
       " 'wait': 2833,\n",
       " 'oh': 1833,\n",
       " 'boy': 396,\n",
       " 'canada': 464,\n",
       " 'congratulation': 615,\n",
       " 'great': 1177,\n",
       " 'american': 190,\n",
       " 'president': 2037,\n",
       " 'doing': 858,\n",
       " 'wwg1wga': 2930,\n",
       " 'useless': 2791,\n",
       " 'tit': 2687,\n",
       " 'just': 1470,\n",
       " 'saying': 2299,\n",
       " '😎': 2988,\n",
       " 'want': 2843,\n",
       " 'look': 1605,\n",
       " 'face': 991,\n",
       " 'bright': 415,\n",
       " 'happy': 1224,\n",
       " 'person': 1932,\n",
       " 'florida': 1065,\n",
       " 'did': 815,\n",
       " 'add': 131,\n",
       " 'concern': 602,\n",
       " 'right': 2237,\n",
       " 'activist': 126,\n",
       " 'voted': 2820,\n",
       " 'favor': 1022,\n",
       " '“': 2961,\n",
       " 'fix': 1060,\n",
       " '”': 2962,\n",
       " 'spending': 2485,\n",
       " 'congress': 616,\n",
       " 'yes': 2944,\n",
       " 'fuck': 1104,\n",
       " 'friend': 1102,\n",
       " '100': 37,\n",
       " 'pair': 1884,\n",
       " 'levi': 1555,\n",
       " 's': 2268,\n",
       " 'called': 456,\n",
       " 'wow': 2922,\n",
       " 'getting': 1138,\n",
       " 'wild': 2885,\n",
       " 'beauty': 316,\n",
       " 'dems': 789,\n",
       " 'nuclear': 1803,\n",
       " 'option': 1861,\n",
       " 'time': 2684,\n",
       " 'scotus': 2313,\n",
       " 'know': 1502,\n",
       " '(': 14,\n",
       " 'basically': 303,\n",
       " 'exactly': 966,\n",
       " 'hear': 1252,\n",
       " 'helped': 1265,\n",
       " ')': 15,\n",
       " 'lisa': 1583,\n",
       " 'page': 1881,\n",
       " 'confirmed': 610,\n",
       " 'russia': 2266,\n",
       " 'story': 2536,\n",
       " 'passed': 1902,\n",
       " 'msm': 1745,\n",
       " 'gullible': 1196,\n",
       " 'push': 2103,\n",
       " 'narrative': 1758,\n",
       " 'elected': 919,\n",
       " 'success': 2561,\n",
       " 'office': 1830,\n",
       " 'going': 1152,\n",
       " 'site': 2418,\n",
       " 'picture': 1951,\n",
       " 'judge': 1464,\n",
       " 'sister': 2416,\n",
       " 'fucker': 1106,\n",
       " 'single': 2413,\n",
       " 'obama': 1810,\n",
       " 'said': 2277,\n",
       " 'holy': 1296,\n",
       " 'article': 238,\n",
       " 'politics': 1996,\n",
       " 'sport': 2494,\n",
       " '``': 93,\n",
       " 'old': 1838,\n",
       " 'rant': 2136,\n",
       " 'agree': 159,\n",
       " 'hatred': 1241,\n",
       " 'compare': 591,\n",
       " 'presidency': 2036,\n",
       " 'tweet': 2755,\n",
       " '2016': 51,\n",
       " 'really': 2154,\n",
       " 'slap': 2427,\n",
       " 'intellectual': 1406,\n",
       " 'nah': 1755,\n",
       " 'm': 1633,\n",
       " 'okay': 1837,\n",
       " 'lol': 1601,\n",
       " 'watch': 2853,\n",
       " 'block': 367,\n",
       " 'new': 1774,\n",
       " 'season': 2326,\n",
       " '😍': 2987,\n",
       " '*': 16,\n",
       " 'available': 271,\n",
       " 'position': 2005,\n",
       " 'teacher': 2623,\n",
       " '-': 19,\n",
       " 'special': 2480,\n",
       " 'education': 913,\n",
       " 'apply': 221,\n",
       " 'link': 1580,\n",
       " ':': 85,\n",
       " 'trying': 2748,\n",
       " 'end': 933,\n",
       " 'tax': 2616,\n",
       " 'cut': 719,\n",
       " 'killing': 1491,\n",
       " 'u': 2763,\n",
       " 'shit': 2380,\n",
       " 'hand': 1210,\n",
       " 'monster': 1727,\n",
       " 'awful': 279,\n",
       " '....': 24,\n",
       " 'hold': 1290,\n",
       " 'let': 1551,\n",
       " 'comment': 582,\n",
       " 'photo': 1945,\n",
       " 'boob': 383,\n",
       " 'ha': 1203,\n",
       " 'type': 2761,\n",
       " 'ask': 242,\n",
       " 'dana': 732,\n",
       " 'worried': 2914,\n",
       " 'home': 1297,\n",
       " 'south': 2470,\n",
       " 'close': 557,\n",
       " 'currently': 718,\n",
       " '1st': 45,\n",
       " 'w/': 2829,\n",
       " 'hurricane': 1329,\n",
       " '..': 22,\n",
       " 'looking': 1607,\n",
       " 'allegation': 176,\n",
       " 'regarding': 2175,\n",
       " 'abuse': 101,\n",
       " 'tory': 2703,\n",
       " 'labour': 1510,\n",
       " 'ge2017': 1127,\n",
       " 'wonderful': 2906,\n",
       " 'experience': 978,\n",
       " 'reading': 2149,\n",
       " 'young': 2948,\n",
       " 'able': 97,\n",
       " 'promote': 2069,\n",
       " 'amazing': 186,\n",
       " 'work': 2909,\n",
       " 'poor': 1999,\n",
       " 'pocket': 1986,\n",
       " 'try': 2747,\n",
       " 'delusional': 780,\n",
       " 'idiot': 1345,\n",
       " 'traitor': 2721,\n",
       " '16': 42,\n",
       " 'year': 2941,\n",
       " 'data': 740,\n",
       " 'protection': 2080,\n",
       " 'use': 2788,\n",
       " 'left': 1541,\n",
       " 'progressive': 2063,\n",
       " 'democrat': 785,\n",
       " 'owns': 1878,\n",
       " 'deny': 793,\n",
       " 'ideology': 1344,\n",
       " 'lying': 1632,\n",
       " 'public': 2092,\n",
       " 'calling': 457,\n",
       " 'broken': 423,\n",
       " 'gon': 1154,\n",
       " 'na': 1754,\n",
       " 'scratch': 2314,\n",
       " 'sen': 2340,\n",
       " 'demon': 788,\n",
       " 'form': 1088,\n",
       " 'cool': 648,\n",
       " 'battle': 307,\n",
       " 'touch': 2707,\n",
       " 'kinda': 1493,\n",
       " 'injury': 1392,\n",
       " 'welcome': 2870,\n",
       " 'sure': 2588,\n",
       " 'family': 1009,\n",
       " 'enjoy': 941,\n",
       " 'accusing': 118,\n",
       " 'sex': 2363,\n",
       " 'crime': 694,\n",
       " 'mean': 1669,\n",
       " 'local': 1598,\n",
       " 'authority': 270,\n",
       " 'fbi': 1026,\n",
       " 'involved': 1422,\n",
       " 'issue': 1435,\n",
       " 'state': 2512,\n",
       " 'line': 1579,\n",
       " 'legal': 1545,\n",
       " 'plan': 1966,\n",
       " 'consider': 623,\n",
       " 'climate': 555,\n",
       " 'change': 507,\n",
       " 'blatant': 360,\n",
       " 'lead': 1531,\n",
       " 'believing': 325,\n",
       " 'trudeau': 2738,\n",
       " 'fault': 1021,\n",
       " 'fucking': 1108,\n",
       " 'sociopath': 2450,\n",
       " 'q': 2109,\n",
       " 'interested': 1413,\n",
       " 'post': 2009,\n",
       " 'truth': 2746,\n",
       " 'youtube': 2951,\n",
       " 'easy': 904,\n",
       " 'follow': 1070,\n",
       " 'pill': 1954,\n",
       " 'alcohol': 171,\n",
       " 'little': 1588,\n",
       " 'bit': 353,\n",
       " 'big': 343,\n",
       " 'nightmare': 1782,\n",
       " 'bad': 286,\n",
       " 'dream': 877,\n",
       " 'law': 1526,\n",
       " 'walk': 2836,\n",
       " 'cop': 650,\n",
       " 'vote': 2819,\n",
       " 'fraud': 1095,\n",
       " 'status': 2517,\n",
       " 'changed': 508,\n",
       " 'account': 111,\n",
       " 'folk': 1069,\n",
       " 'true': 2739,\n",
       " 'gal': 1120,\n",
       " 'bringing': 418,\n",
       " 'thank': 2644,\n",
       " 'planet': 1968,\n",
       " 'planned': 1969,\n",
       " 'parenthood': 1892,\n",
       " 'reason': 2155,\n",
       " \"n't\": 1753,\n",
       " 'pathetic': 1907,\n",
       " 'cute': 720,\n",
       " 'economy': 909,\n",
       " '/': 30,\n",
       " 'victim': 2808,\n",
       " 'remains': 2189,\n",
       " 'seen': 2334,\n",
       " 'turned': 2752,\n",
       " 'hearing': 1254,\n",
       " 'circus': 543,\n",
       " 'minute': 1709,\n",
       " 'started': 2509,\n",
       " 'slave': 2428,\n",
       " 'spartacus': 2475,\n",
       " 'figure': 1044,\n",
       " 'prime': 2047,\n",
       " 'example': 967,\n",
       " 'away': 277,\n",
       " 'movement': 1738,\n",
       " 'born': 389,\n",
       " 'liar': 1558,\n",
       " 'decent': 756,\n",
       " 'stand': 2504,\n",
       " 'tactic': 2605,\n",
       " 'destroying': 809,\n",
       " 'life': 1570,\n",
       " 'political': 1993,\n",
       " '30': 63,\n",
       " 'walked': 2839,\n",
       " 'yea': 2939,\n",
       " 'sorry': 2465,\n",
       " 'wing': 2892,\n",
       " 'speech': 2482,\n",
       " 'restriction': 2224,\n",
       " 'ag': 152,\n",
       " 'isn': 1432,\n",
       " 'racist': 2126,\n",
       " 'hack': 1204,\n",
       " 'charge': 511,\n",
       " 'college': 572,\n",
       " 'student': 2552,\n",
       " 'civil': 546,\n",
       " 'c': 451,\n",
       " 'gitmo': 1144,\n",
       " 'jesus': 1445,\n",
       " 'wide': 2883,\n",
       " 'way': 2858,\n",
       " 'destruction': 810,\n",
       " 'good': 1156,\n",
       " 'drunk': 888,\n",
       " 'v': 2797,\n",
       " 'tired': 2686,\n",
       " 'took': 2700,\n",
       " 'sleeping': 2431,\n",
       " 'silly': 2408,\n",
       " 'attention': 261,\n",
       " 'list': 1584,\n",
       " 'supporter': 2582,\n",
       " 'high': 1274,\n",
       " 'profile': 2060,\n",
       " 'everyday': 961,\n",
       " 'reported': 2202,\n",
       " ',': 18,\n",
       " 'suspended': 2594,\n",
       " 'check': 517,\n",
       " 'publicly': 2093,\n",
       " 'daughter': 743,\n",
       " 'gop': 1160,\n",
       " 'stop': 2531,\n",
       " 'pretending': 2041,\n",
       " 'decency': 755,\n",
       " 'jack': 1437,\n",
       " 'course': 671,\n",
       " 'according': 110,\n",
       " 'god': 1151,\n",
       " 'defeat': 767,\n",
       " 'hillary': 1280,\n",
       " 'disaster': 833,\n",
       " 'waiting': 2834,\n",
       " 'happen': 1219,\n",
       " 'hide': 1272,\n",
       " \"'ll\": 8,\n",
       " 'say': 2298,\n",
       " 'vague': 2799,\n",
       " 'word': 2908,\n",
       " 'billionaire': 349,\n",
       " 'actual': 128,\n",
       " 'soros': 2464,\n",
       " 'fund': 1111,\n",
       " 'wall': 2841,\n",
       " 'funding': 1113,\n",
       " 'corrupt': 657,\n",
       " 'given': 1145,\n",
       " 'stay': 2518,\n",
       " 'money': 1725,\n",
       " 'tell': 2631,\n",
       " 'opportunity': 1856,\n",
       " 'hell': 1262,\n",
       " 'shooting': 2388,\n",
       " 'series': 2353,\n",
       " 'closer': 558,\n",
       " 'hopefully': 1308,\n",
       " 'hi': 1269,\n",
       " 'mention': 1685,\n",
       " 'send': 2344,\n",
       " \"'\": 5,\n",
       " \"'ve\": 13,\n",
       " 'follower': 1072,\n",
       " 'make': 1642,\n",
       " 'difference': 821,\n",
       " 'rock': 2247,\n",
       " 'solid': 2454,\n",
       " 'retweet': 2227,\n",
       " 'pray': 2024,\n",
       " 'westminster': 2875,\n",
       " 'absolutely': 100,\n",
       " 'man': 1646,\n",
       " 'general': 1130,\n",
       " 'rule': 2260,\n",
       " 'graham': 1174,\n",
       " 'bell': 326,\n",
       " 'favorite': 1023,\n",
       " 'earth': 900,\n",
       " 'hungry': 1326,\n",
       " 'food': 1074,\n",
       " 'bought': 393,\n",
       " '40': 69,\n",
       " 'count': 664,\n",
       " 'bite': 355,\n",
       " 'steel': 2523,\n",
       " 'yard': 2937,\n",
       " 'won': 2904,\n",
       " 'eat': 905,\n",
       " 'terrorist': 2638,\n",
       " 'crony': 699,\n",
       " 'proper': 2073,\n",
       " 'brexit': 410,\n",
       " 'supporting': 2583,\n",
       " 'pm': 1984,\n",
       " 'politically': 1994,\n",
       " 'allowed': 180,\n",
       " 'ole': 1840,\n",
       " 'waste': 2851,\n",
       " 'breath': 406,\n",
       " 'stick': 2526,\n",
       " 'free': 1098,\n",
       " 'aka': 168,\n",
       " 'foreign': 1083,\n",
       " 'intel': 1405,\n",
       " 'agency': 154,\n",
       " 'tech': 2627,\n",
       " 'defend': 769,\n",
       " 'fascist': 1017,\n",
       " 'soul': 2467,\n",
       " 'yo': 2946,\n",
       " 'real': 2151,\n",
       " 'gorgeous': 1162,\n",
       " 'kavanaugh': 1476,\n",
       " 'destroy': 807,\n",
       " 'chance': 506,\n",
       " 'federal': 1029,\n",
       " 'lifetime': 1571,\n",
       " 'think': 2658,\n",
       " 'inspiration': 1398,\n",
       " 'younger': 2949,\n",
       " 'baby': 282,\n",
       " 'bro': 421,\n",
       " 'laughing': 1525,\n",
       " 'pissing': 1960,\n",
       " 'pant': 1887,\n",
       " 'standing': 2506,\n",
       " 'wtf': 2928,\n",
       " 'ur': 2785,\n",
       " 'business': 445,\n",
       " 'history': 1285,\n",
       " 'wrong': 2926,\n",
       " 'prove': 2086,\n",
       " 'east': 903,\n",
       " 'buck': 429,\n",
       " 'eaten': 906,\n",
       " 'willie': 2887,\n",
       " 'beto': 336,\n",
       " 'campaign': 462,\n",
       " 'rally': 2132,\n",
       " 'thanks': 2646,\n",
       " 'loving': 1621,\n",
       " 'beautiful': 315,\n",
       " 'ok': 1835,\n",
       " '.....': 25,\n",
       " 'believe': 323,\n",
       " 'woman': 2903,\n",
       " 'shut': 2398,\n",
       " 'hate': 1236,\n",
       " 'enforcement': 938,\n",
       " 'ford': 1082,\n",
       " 'ontario': 1844,\n",
       " 'slow': 2432,\n",
       " 'lock': 1599,\n",
       " 'bitter': 356,\n",
       " 'cow': 677,\n",
       " 'better': 338,\n",
       " 'germany': 1136,\n",
       " 'direct': 825,\n",
       " 'match': 1659,\n",
       " '1': 32,\n",
       " 'step': 2524,\n",
       " 'proven': 2088,\n",
       " 'failure': 999,\n",
       " 'mexico': 1691,\n",
       " 'moral': 1731,\n",
       " 'teaching': 2624,\n",
       " 'school': 2308,\n",
       " 'mental': 1683,\n",
       " 'health': 1249,\n",
       " 'watching': 2855,\n",
       " 'entire': 943,\n",
       " 'controversy': 643,\n",
       " 'serena': 2351,\n",
       " 'lucky': 1629,\n",
       " 'misconduct': 1711,\n",
       " 'ref': 2168,\n",
       " 'warning': 2847,\n",
       " 'coach': 565,\n",
       " 'admitted': 137,\n",
       " 'liking': 1576,\n",
       " 'couple': 669,\n",
       " 'happiness': 1223,\n",
       " 'point': 1987,\n",
       " 'heat': 1256,\n",
       " 'place': 1964,\n",
       " '%': 3,\n",
       " 'senator': 2343,\n",
       " 'quit': 2118,\n",
       " 'allowing': 181,\n",
       " 'resign': 2214,\n",
       " 'ugly': 2765,\n",
       " 'dumb': 890,\n",
       " 'hurt': 1330,\n",
       " 'self': 2336,\n",
       " 'freak': 1096,\n",
       " 'happening': 1221,\n",
       " 'door': 867,\n",
       " 'month': 1728,\n",
       " 'later': 1520,\n",
       " 'responsible': 2222,\n",
       " 'obviously': 1817,\n",
       " 'huh': 1321,\n",
       " 'making': 1644,\n",
       " 'joke': 1456,\n",
       " 'actually': 129,\n",
       " 'eating': 907,\n",
       " 'shame': 2370,\n",
       " 'investigation': 1420,\n",
       " 'son': 2458,\n",
       " 'nigga': 1779,\n",
       " 'feinstein': 1034,\n",
       " 'policy': 1992,\n",
       " 'deliver': 779,\n",
       " 'group': 1186,\n",
       " 'devil': 812,\n",
       " 'appointed': 222,\n",
       " 'doe': 854,\n",
       " 'voting': 2826,\n",
       " 'definitely': 775,\n",
       " 'scum': 2321,\n",
       " 'hahaha': 1206,\n",
       " 'telling': 2632,\n",
       " 'stfu': 2525,\n",
       " '🤣': 2998,\n",
       " 'air': 167,\n",
       " 'seat': 2327,\n",
       " 'come': 576,\n",
       " 'fact': 994,\n",
       " 'abortion': 98,\n",
       " 'immigrant': 1362,\n",
       " 'wanted': 2844,\n",
       " 'serve': 2355,\n",
       " 'supreme': 2587,\n",
       " 'court': 672,\n",
       " 'talented': 2610,\n",
       " 'thrilled': 2670,\n",
       " 'thread': 2664,\n",
       " 'epic': 946,\n",
       " 'didn': 816,\n",
       " 'offer': 1827,\n",
       " 'refused': 2174,\n",
       " 'zero': 2953,\n",
       " 'respect': 2217,\n",
       " 'style': 2559,\n",
       " 'attack': 256,\n",
       " 'thought': 2662,\n",
       " 'drop': 884,\n",
       " 'bomb': 379,\n",
       " 'covered': 675,\n",
       " 'blow': 373,\n",
       " 'exposed': 984,\n",
       " 'start': 2508,\n",
       " 'working': 2912,\n",
       " 'soon': 2460,\n",
       " 'disgraceful': 839,\n",
       " 'realize': 2153,\n",
       " 'thousand': 2663,\n",
       " 'thrown': 2674,\n",
       " 'border': 387,\n",
       " 'supposed': 2585,\n",
       " 'care': 472,\n",
       " '200': 49,\n",
       " 'considered': 624,\n",
       " 'star': 2507,\n",
       " 'ya': 2935,\n",
       " 'booty': 386,\n",
       " 'texas': 2642,\n",
       " 'listen': 1585,\n",
       " 'doesn': 855,\n",
       " 'matter': 1662,\n",
       " 'taxpayer': 2617,\n",
       " 'maybe': 1664,\n",
       " 'islam': 1430,\n",
       " 'opposed': 1857,\n",
       " 'utter': 2796,\n",
       " 'lie': 1567,\n",
       " 'told': 2693,\n",
       " 'gain': 1119,\n",
       " 'funny': 1114,\n",
       " 'genius': 1132,\n",
       " 'team': 2625,\n",
       " 'ago': 158,\n",
       " 'today': 2691,\n",
       " 'partnership': 1898,\n",
       " 'opened': 1850,\n",
       " 'housing': 1317,\n",
       " 'association': 252,\n",
       " 'billion': 348,\n",
       " 'government': 1168,\n",
       " 'offered': 1828,\n",
       " 'guy': 1201,\n",
       " 'speak': 2476,\n",
       " 'er': 949,\n",
       " 'sick': 2400,\n",
       " 'strictest': 2547,\n",
       " 'legally': 1546,\n",
       " 'allow': 179,\n",
       " 'arm': 232,\n",
       " 'tough': 2708,\n",
       " 'lost': 1614,\n",
       " 'chicago': 524,\n",
       " 'dont': 865,\n",
       " 'hard': 1226,\n",
       " 'concept': 601,\n",
       " 'profit': 2061,\n",
       " 'result': 2225,\n",
       " 'china': 528,\n",
       " 'trumptrain': 2743,\n",
       " 'talk': 2611,\n",
       " 'sound': 2468,\n",
       " 'superior': 2577,\n",
       " '10': 36,\n",
       " 'blog': 370,\n",
       " 'expect': 974,\n",
       " 'support': 2580,\n",
       " 'incompetent': 1380,\n",
       " 'handle': 1213,\n",
       " 'coward': 678,\n",
       " 'mask': 1655,\n",
       " 'height': 1260,\n",
       " 'body': 378,\n",
       " 'blood': 371,\n",
       " 'test': 2639,\n",
       " 'shape': 2372,\n",
       " \"'m\": 9,\n",
       " 'stating': 2515,\n",
       " 'basic': 302,\n",
       " 'totally': 2706,\n",
       " 'phony': 1944,\n",
       " 'replaced': 2199,\n",
       " 'muslim': 1751,\n",
       " 'im': 1358,\n",
       " 'hardcore': 1227,\n",
       " 'bitch': 354,\n",
       " 'act': 121,\n",
       " 'coming': 581,\n",
       " 'ny': 1807,\n",
       " 'live': 1589,\n",
       " 'typical': 2762,\n",
       " 'principled': 2048,\n",
       " 'legit': 1549,\n",
       " 'case': 481,\n",
       " 'ai': 163,\n",
       " 'sexual': 2364,\n",
       " 'dude': 889,\n",
       " 'sue': 2566,\n",
       " 'neo': 1771,\n",
       " 'speaking': 2478,\n",
       " 'rep': 2196,\n",
       " '‘': 2959,\n",
       " 'appear': 218,\n",
       " 'woke': 2902,\n",
       " 'bernie': 332,\n",
       " '2': 46,\n",
       " 'radical': 2127,\n",
       " 'prepared': 2033,\n",
       " 'remember': 2190,\n",
       " 'b': 280,\n",
       " 'refuse': 2173,\n",
       " 'qanon': 2110,\n",
       " 'trick': 2733,\n",
       " 'kid': 1486,\n",
       " 'isnt': 1433,\n",
       " 'cause': 488,\n",
       " 'delay': 778,\n",
       " 'yay': 2938,\n",
       " 'winner': 2893,\n",
       " 'created': 686,\n",
       " 'wonder': 2905,\n",
       " 'bear': 311,\n",
       " 'fan': 1011,\n",
       " 'standard': 2505,\n",
       " 'republic': 2207,\n",
       " 'german': 1135,\n",
       " 'club': 561,\n",
       " 'race': 2123,\n",
       " 'war': 2846,\n",
       " 'slam': 2426,\n",
       " 'butt': 447,\n",
       " 'testify': 2640,\n",
       " 'quickly': 2117,\n",
       " 'learn': 1538,\n",
       " 'action': 124,\n",
       " 'response': 2220,\n",
       " 'research': 2212,\n",
       " 'ca': 452,\n",
       " 'silent': 2407,\n",
       " 'majority': 1641,\n",
       " 'anymore': 211,\n",
       " 'hater': 1239,\n",
       " 'spreading': 2498,\n",
       " 'communist': 588,\n",
       " 'crook': 700,\n",
       " 'showing': 2396,\n",
       " 'leader': 1532,\n",
       " 'sacrifice': 2271,\n",
       " 'pretty': 2042,\n",
       " 'wealth': 2860,\n",
       " 'assume': 253,\n",
       " 'referring': 2170,\n",
       " 'fellow': 1035,\n",
       " 'gave': 1125,\n",
       " 'huge': 1320,\n",
       " 'break': 404,\n",
       " 'missing': 1714,\n",
       " 'having': 1243,\n",
       " 'excellent': 968,\n",
       " 'decided': 758,\n",
       " 'plant': 1971,\n",
       " 'al': 169,\n",
       " '😂😂😂😂': 2983,\n",
       " 'model': 1719,\n",
       " 'independent': 1384,\n",
       " 'character': 510,\n",
       " 'integrity': 1404,\n",
       " 'accusation': 114,\n",
       " 'anthony': 203,\n",
       " 'senate': 2342,\n",
       " 'bar': 297,\n",
       " 'buy': 448,\n",
       " 'forget': 1085,\n",
       " 'illegals': 1355,\n",
       " 'fighting': 1043,\n",
       " 'payer': 1914,\n",
       " 'dog': 857,\n",
       " 'inciting': 1375,\n",
       " 'target': 2615,\n",
       " 'anybody': 210,\n",
       " 'explain': 980,\n",
       " 'stage': 2501,\n",
       " 'tds': 2620,\n",
       " 'forgot': 1086,\n",
       " 'past': 1904,\n",
       " 'lmao': 1593,\n",
       " 'scared': 2304,\n",
       " 'loose': 1608,\n",
       " 'wth': 2929,\n",
       " 'happened': 1220,\n",
       " 'clinton': 556,\n",
       " '90': 84,\n",
       " 'banned': 295,\n",
       " 'assault': 248,\n",
       " 'weapon': 2861,\n",
       " 'effective': 915,\n",
       " 'safety': 2276,\n",
       " 'nra': 1802,\n",
       " 'worked': 2910,\n",
       " 'courage': 670,\n",
       " 'beat': 313,\n",
       " 'weak': 2859,\n",
       " 'worker': 2911,\n",
       " 'game': 1121,\n",
       " 'openly': 1851,\n",
       " 'advocating': 145,\n",
       " 'persecution': 1931,\n",
       " 'promoting': 2070,\n",
       " 'similar': 2409,\n",
       " 'hitler': 1287,\n",
       " 'brown': 426,\n",
       " 'shirt': 2379,\n",
       " 'shitty': 2382,\n",
       " 'nfl': 1776,\n",
       " '5': 71,\n",
       " 'hang': 1217,\n",
       " 'married': 1653,\n",
       " 'talked': 2612,\n",
       " 'paid': 1882,\n",
       " 'image': 1359,\n",
       " 'kind': 1492,\n",
       " 'terrible': 2635,\n",
       " 'leadership': 1533,\n",
       " 'needed': 1768,\n",
       " 'fake': 1002,\n",
       " 'news': 1775,\n",
       " 'surprised': 2591,\n",
       " 'personally': 1935,\n",
       " 'breaking': 405,\n",
       " 'shameful': 2371,\n",
       " 'society': 2449,\n",
       " 'donald': 863,\n",
       " 'truly': 2740,\n",
       " 'interaction': 1412,\n",
       " 'blame': 358,\n",
       " 'held': 1261,\n",
       " 'accountable': 113,\n",
       " 'despicable': 805,\n",
       " 'disgrace': 838,\n",
       " 'non': 1789,\n",
       " 'vatican': 2802,\n",
       " 'california': 455,\n",
       " 'central': 498,\n",
       " 'slowly': 2433,\n",
       " 'bring': 417,\n",
       " 'property': 2074,\n",
       " 'value': 2801,\n",
       " 'water': 2856,\n",
       " 'boycotting': 398,\n",
       " 'national': 1760,\n",
       " 'fool': 1075,\n",
       " 'league': 1536,\n",
       " 'problem': 2054,\n",
       " 'corporate': 655,\n",
       " 'million': 1701,\n",
       " 'instance': 1400,\n",
       " 'nike': 1783,\n",
       " 'measure': 1672,\n",
       " 'curb': 715,\n",
       " 'washington': 2848,\n",
       " 'shout': 2394,\n",
       " 'mouth': 1736,\n",
       " 'anti': 204,\n",
       " 'usa': 2787,\n",
       " 'contract': 637,\n",
       " 'convenient': 644,\n",
       " 'possible': 2007,\n",
       " 'foot': 1077,\n",
       " 'tantrum': 2614,\n",
       " 'america': 188,\n",
       " 'trusted': 2745,\n",
       " 'snake': 2442,\n",
       " 'deserve': 799,\n",
       " 'identity': 1343,\n",
       " 'living': 1591,\n",
       " 'ignorant': 1349,\n",
       " 'board': 376,\n",
       " 'apology': 215,\n",
       " 'service': 2357,\n",
       " 'passing': 1903,\n",
       " 'message': 1688,\n",
       " 'definition': 776,\n",
       " 'terrorism': 2637,\n",
       " 'regardless': 2176,\n",
       " 'belief': 322,\n",
       " 'incite': 1374,\n",
       " 'center': 497,\n",
       " 'study': 2553,\n",
       " 'death': 751,\n",
       " 'fantastic': 1012,\n",
       " 'candidate': 467,\n",
       " 'mayor': 1665,\n",
       " 'london': 1602,\n",
       " 'proud': 2085,\n",
       " 'advocate': 144,\n",
       " 'chelsea': 521,\n",
       " 'kept': 1481,\n",
       " 'bloody': 372,\n",
       " 'key': 1483,\n",
       " 'player': 1977,\n",
       " 'world': 2913,\n",
       " 'europe': 957,\n",
       " 'ah': 161,\n",
       " '💖': 2976,\n",
       " 'hoping': 1309,\n",
       " 'moron': 1733,\n",
       " 'clue': 562,\n",
       " 'carry': 477,\n",
       " 'stunt': 2556,\n",
       " 'math': 1661,\n",
       " 'crush': 705,\n",
       " 'police': 1991,\n",
       " 'reform': 2171,\n",
       " 'tried': 2734,\n",
       " 'socialism': 2447,\n",
       " 'haven': 1242,\n",
       " 'used': 2789,\n",
       " 'visit': 2816,\n",
       " 'maxine': 1663,\n",
       " 'watched': 2854,\n",
       " 'poverty': 2016,\n",
       " 'power': 2017,\n",
       " 'wednesdaywisdom': 2866,\n",
       " 'stupid': 2557,\n",
       " '2a': 59,\n",
       " 'fine': 1052,\n",
       " 'military': 1699,\n",
       " 'vet': 2805,\n",
       " 'protest': 2081,\n",
       " 'counter': 665,\n",
       " 'protester': 2082,\n",
       " 'lmaooo': 1594,\n",
       " 'receiving': 2160,\n",
       " 'pull': 2095,\n",
       " 'dear': 750,\n",
       " 'fascism': 1016,\n",
       " '=': 87,\n",
       " 'kkk': 1497,\n",
       " 'different': 822,\n",
       " 'hood': 1305,\n",
       " 'book': 384,\n",
       " 'redwaverising': 2167,\n",
       " 'grief': 1182,\n",
       " 'claim': 547,\n",
       " 'complaining': 596,\n",
       " 'reaction': 2147,\n",
       " 'online': 1842,\n",
       " 'liked': 1574,\n",
       " 'btw': 428,\n",
       " 'headed': 1246,\n",
       " 'isi': 1429,\n",
       " 'apparently': 216,\n",
       " 'run': 2263,\n",
       " 'blm': 366,\n",
       " 'city': 545,\n",
       " 'wo': 2901,\n",
       " 'stupidity': 2558,\n",
       " ...}"
      ]
     },
     "execution_count": 46,
     "metadata": {},
     "output_type": "execute_result"
    }
   ],
   "source": [
    "vocab_dict = word_to_ix.vocabulary_\n",
    "vocab_dict"
   ]
  },
  {
   "cell_type": "code",
   "execution_count": 47,
   "metadata": {},
   "outputs": [
    {
     "data": {
      "text/plain": [
       "['investigate',\n",
       " 'antifa',\n",
       " \"'s\",\n",
       " 'connection',\n",
       " 'nazi',\n",
       " '.',\n",
       " 'love',\n",
       " 'evil',\n",
       " '!',\n",
       " 'dare']"
      ]
     },
     "execution_count": 47,
     "metadata": {},
     "output_type": "execute_result"
    }
   ],
   "source": [
    "list(word_to_ix.vocabulary_.keys())[:10]"
   ]
  },
  {
   "cell_type": "code",
   "execution_count": 48,
   "metadata": {},
   "outputs": [
    {
     "data": {
      "text/plain": [
       "['six',\n",
       " 'beforehand',\n",
       " 'done',\n",
       " 'must',\n",
       " 'am',\n",
       " 'being',\n",
       " 'herein',\n",
       " 'it',\n",
       " 'mine',\n",
       " 'well']"
      ]
     },
     "execution_count": 48,
     "metadata": {},
     "output_type": "execute_result"
    }
   ],
   "source": [
    "list(word_to_ix.get_stop_words())[:10]"
   ]
  },
  {
   "cell_type": "markdown",
   "metadata": {
    "id": "dE2Gn8JY3d_g"
   },
   "source": [
    "CountVectorizer can directly transform any sentence into a Bag-of-Words representation based on the corpus it is built on (Bag-of-Words representation of each document=accumulated one-hot vectors for all words in a document). It creates a document-term matrix with each row representing a document and each column addressing a token: CountVectorizer simply counts the number of times a token shows up in the document and uses this value as its weight\n",
    "\n",
    "![onehot](https://miro.medium.com/max/886/1*_da_YknoUuryRheNS-SYWQ.png)\n",
    "![bagofwords](https://miro.medium.com/v2/resize:fit:4800/format:webp/1*3IACMnNpwVlCl8kSTJocPA.png)"
   ]
  },
  {
   "cell_type": "code",
   "execution_count": 49,
   "metadata": {
    "colab": {
     "base_uri": "https://localhost:8080/"
    },
    "id": "1rlxFUWI3d_g",
    "outputId": "abe8cc9c-1898-4930-8a9b-e104b314dab2"
   },
   "outputs": [
    {
     "data": {
      "text/plain": [
       "array([[0, 0, 0, ..., 0, 0, 0]])"
      ]
     },
     "execution_count": 49,
     "metadata": {},
     "output_type": "execute_result"
    }
   ],
   "source": [
    "word_to_ix.transform([\"he loves science\"]).toarray()"
   ]
  },
  {
   "cell_type": "code",
   "execution_count": 50,
   "metadata": {
    "colab": {
     "base_uri": "https://localhost:8080/"
    },
    "id": "coKBNy7P3d_g",
    "outputId": "0d5dd483-99ee-40ac-9947-af1e79075453"
   },
   "outputs": [
    {
     "data": {
      "text/plain": [
       "scipy.sparse.csr.csr_matrix"
      ]
     },
     "execution_count": 50,
     "metadata": {},
     "output_type": "execute_result"
    }
   ],
   "source": [
    "type(word_to_ix.transform([\"he loves science\"]))"
   ]
  },
  {
   "cell_type": "code",
   "execution_count": 51,
   "metadata": {},
   "outputs": [
    {
     "data": {
      "text/plain": [
       "(array([0, 0, 0]), array([ 858, 1618, 2212]))"
      ]
     },
     "execution_count": 51,
     "metadata": {},
     "output_type": "execute_result"
    }
   ],
   "source": [
    "non_zero_positions = word_to_ix.transform([\"he loves doing research\"]).toarray().nonzero()\n",
    "non_zero_positions"
   ]
  },
  {
   "cell_type": "code",
   "execution_count": 52,
   "metadata": {},
   "outputs": [],
   "source": [
    "vocab = word_to_ix.vocabulary_\n",
    "reverse_vocab = {index: word for word, index in vocab.items()}"
   ]
  },
  {
   "cell_type": "code",
   "execution_count": 53,
   "metadata": {},
   "outputs": [
    {
     "data": {
      "text/plain": [
       "['doing', 'love', 'research']"
      ]
     },
     "execution_count": 53,
     "metadata": {},
     "output_type": "execute_result"
    }
   ],
   "source": [
    "non_zero_words = [reverse_vocab[idx] for idx in non_zero_positions[1]]  # [1] because Countvectorizer generates a document-term matrix where rows=docs & columns=terms\n",
    "non_zero_words"
   ]
  },
  {
   "cell_type": "code",
   "execution_count": 54,
   "metadata": {
    "id": "O4SD37O4FrzE",
    "nbgrader": {
     "grade": false,
     "grade_id": "cell-4d1819598c663eb1",
     "locked": true,
     "schema_version": 3,
     "solution": false,
     "task": false
    }
   },
   "outputs": [],
   "source": [
    "# Initialize the correct device\n",
    "# It is important that every array should be on the same device or the training won't work\n",
    "# A device could be either the cpu or the gpu if it is available\n",
    "device = torch.device(\"cuda\" if torch.cuda.is_available() else \"cpu\")"
   ]
  },
  {
   "cell_type": "markdown",
   "metadata": {
    "id": "DrlPM_d1FrzC"
   },
   "source": [
    "### Prepare the DataLoader for batch processing\n",
    "\n",
    "The __prepare_dataloader(..)__ function will take the training and the validation dataset and convert them to one-hot encoded vectors with the help of the initialized CountVectorizer.\n",
    "\n",
    "We prepare two FloatTensors and LongTensors for the converted tweets and labels of the training and the validation data.\n",
    "\n",
    "Then zip together the vectors with the labels as a list of tuples!"
   ]
  },
  {
   "cell_type": "code",
   "execution_count": 55,
   "metadata": {
    "id": "e-6VMlD-FrzD",
    "nbgrader": {
     "grade": false,
     "grade_id": "cell-67b120b4ea6ba288",
     "locked": false,
     "schema_version": 3,
     "solution": true,
     "task": false
    }
   },
   "outputs": [],
   "source": [
    "# Preparing the data loaders for the training and the validation sets\n",
    "# PyTorch operates on it's own datatype which is very similar to numpy's arrays\n",
    "# They are called Torch Tensors: https://pytorch.org/docs/stable/tensors.html\n",
    "# They are optimized for training neural networks\n",
    "def prepare_dataloader(tr_data, val_data, word_to_ix):\n",
    "    # First we transform the tweets into one-hot encoded vectors\n",
    "    # Then we create Torch Tensors from the list of the vectors\n",
    "    # It is also inportant to send the Tensors to the correct device\n",
    "    # All of the tensors should be on the same device when training\n",
    "    tr_data_vecs = torch.FloatTensor(word_to_ix.transform(tr_data.tweet).toarray()).to(\n",
    "        device\n",
    "    )\n",
    "    tr_labels = torch.LongTensor(tr_data.label.tolist()).to(device)\n",
    "\n",
    "    val_data_vecs = torch.FloatTensor(\n",
    "        word_to_ix.transform(val_data.tweet).toarray()\n",
    "    ).to(device)\n",
    "    val_labels = torch.LongTensor(val_data.label.tolist()).to(device)\n",
    "\n",
    "    tr_data_loader = [(sample, label) for sample, label in zip(tr_data_vecs, tr_labels)]\n",
    "    val_data_loader = [\n",
    "        (sample, label) for sample, label in zip(val_data_vecs, val_labels)\n",
    "    ]\n",
    "\n",
    "    return tr_data_loader, val_data_loader"
   ]
  },
  {
   "cell_type": "code",
   "execution_count": 56,
   "metadata": {
    "id": "NQG5rdlpFrzD",
    "nbgrader": {
     "grade": true,
     "grade_id": "cell-212fb18e207761c4",
     "locked": true,
     "points": 0,
     "schema_version": 3,
     "solution": false,
     "task": false
    }
   },
   "outputs": [],
   "source": [
    "tr_data_loader, val_data_loader = prepare_dataloader(tr_data, val_data, word_to_ix)"
   ]
  },
  {
   "cell_type": "markdown",
   "metadata": {},
   "source": [
    "In general, usually you use `torch.utils.data.Dataset` data primitive to perform the operations reflected in `prepare_dataloader()` function: check out the [documentation for PyTorch's Datasets and DataLoaders](https://pytorch.org/tutorials/beginner/basics/data_tutorial.html)"
   ]
  },
  {
   "cell_type": "markdown",
   "metadata": {
    "id": "LxHwnckHFrzD"
   },
   "source": [
    "- __We have the correct lists now, it is time to initialize the DataLoader objects!__\n",
    "- __Create two DataLoader objects with the lists we have created__\n",
    "- __Shuffle the training data but not the validation data!__"
   ]
  },
  {
   "cell_type": "code",
   "execution_count": 57,
   "metadata": {
    "id": "i1DPygZyFrzE"
   },
   "outputs": [],
   "source": [
    "# We then define a BATCH_SIZE for our model\n",
    "# Usually we don't feed the whole dataset into our model at once\n",
    "# For this we have the BATCH_SIZE parameter\n",
    "# Try to experiment with different sized batches and see if changing this will improve the performance or not!\n",
    "BATCH_SIZE = 64"
   ]
  },
  {
   "cell_type": "code",
   "execution_count": 58,
   "metadata": {
    "id": "BT3hbbGjFrzD",
    "nbgrader": {
     "grade": false,
     "grade_id": "cell-96ac025a45bc4fec",
     "locked": false,
     "schema_version": 3,
     "solution": true,
     "task": false
    }
   },
   "outputs": [],
   "source": [
    "from torch.utils.data import DataLoader\n",
    "\n",
    "# The DataLoader(https://pytorch.org/docs/stable/data.html) class helps us to prepare the training batches\n",
    "# It has a lot of useful parameters, one of it is _shuffle_ which will randomize the training dataset in each epoch\n",
    "# This can also improve the performance of our model\n",
    "def create_dataloader_iterators(tr_data_loader, val_data_loader, BATCH_SIZE):\n",
    "    train_iterator = DataLoader(\n",
    "        tr_data_loader,\n",
    "        batch_size=BATCH_SIZE,\n",
    "        shuffle=True,\n",
    "    )\n",
    "\n",
    "    valid_iterator = DataLoader(\n",
    "        val_data_loader,\n",
    "        batch_size=BATCH_SIZE,\n",
    "        shuffle=False,\n",
    "    )\n",
    "\n",
    "    return train_iterator, valid_iterator"
   ]
  },
  {
   "cell_type": "code",
   "execution_count": 59,
   "metadata": {
    "id": "Zvvqcuk3FrzE",
    "nbgrader": {
     "grade": true,
     "grade_id": "cell-7b88321ec3ee1096",
     "locked": true,
     "points": 0,
     "schema_version": 3,
     "solution": false,
     "task": false
    }
   },
   "outputs": [],
   "source": [
    "train_iterator, valid_iterator = create_dataloader_iterators(\n",
    "    tr_data_loader, val_data_loader, BATCH_SIZE\n",
    ")\n",
    "assert type(train_iterator) == torch.utils.data.dataloader.DataLoader"
   ]
  },
  {
   "cell_type": "code",
   "execution_count": 60,
   "metadata": {
    "colab": {
     "base_uri": "https://localhost:8080/"
    },
    "id": "Uke6iYPh3d_i",
    "outputId": "970899de-7eba-4f52-c0b7-24d3ae533df7"
   },
   "outputs": [
    {
     "data": {
      "text/plain": [
       "<torch.utils.data.dataloader.DataLoader at 0x2adf1ba00>"
      ]
     },
     "execution_count": 60,
     "metadata": {},
     "output_type": "execute_result"
    }
   ],
   "source": [
    "valid_iterator"
   ]
  },
  {
   "cell_type": "markdown",
   "metadata": {
    "id": "3WUTDwv2FrzE"
   },
   "source": [
    "### Building the first PyTorch model\n",
    "At first, the model will contain a single Linear layer that takes one-hot-encoded vectors and trainsforms it into the dimension of the __NUM_LABELS__ (how many classes we are trying to predict). Then, run through the output on a softmax activation to produce probabilites of the classes!"
   ]
  },
  {
   "cell_type": "code",
   "execution_count": 61,
   "metadata": {
    "id": "HqwUwPUdFrzF",
    "nbgrader": {
     "grade": false,
     "grade_id": "cell-00fb572132edf99a",
     "locked": false,
     "schema_version": 3,
     "solution": true,
     "task": false
    }
   },
   "outputs": [],
   "source": [
    "from torch import nn\n",
    "import torch.nn.functional as F\n",
    "\n",
    "\n",
    "class BoWClassifier(nn.Module):  # inheriting from nn.Module!\n",
    "    def __init__(self, num_labels, vocab_size):\n",
    "        # calls the init function of nn.Module.  Dont get confused by syntax,\n",
    "        # just always do it in an nn.Module\n",
    "        super(BoWClassifier, self).__init__()\n",
    "\n",
    "        # Define the parameters that you will need.\n",
    "        # Torch defines nn.Linear(), which provides the affine map.\n",
    "        # Note that we could add more Linear Layers here connected to each other\n",
    "        # Then we would also need to have a HIDDEN_SIZE hyperparameter as an input to our model\n",
    "        # Then, with activation functions between them (e.g. RELU) we could have a \"Deep\" model\n",
    "        # This is just an example for a shallow network\n",
    "        self.linear = nn.Linear(vocab_size, num_labels)\n",
    "\n",
    "    def forward(self, bow_vec, sequence_lens):\n",
    "        # Ignore sequence_lens for now!\n",
    "        # Pass the input through the linear layer,\n",
    "        # then pass that through log_softmax.\n",
    "        # Many non-linearities and other functions are in torch.nn.functional\n",
    "        # Softmax will provide a probability distribution among the classes\n",
    "        # We can then use this for our loss function\n",
    "        return F.log_softmax(self.linear(bow_vec), dim=1)"
   ]
  },
  {
   "cell_type": "code",
   "execution_count": 62,
   "metadata": {
    "id": "Lr-4sjO3FrzF",
    "nbgrader": {
     "grade": false,
     "grade_id": "cell-3cbec9b993598632",
     "locked": false,
     "schema_version": 3,
     "solution": true,
     "task": false
    }
   },
   "outputs": [],
   "source": [
    "# The INPUT_DIM is the size of our input vectors\n",
    "INPUT_DIM = VOCAB_SIZE\n",
    "# We have only 2 classes\n",
    "OUTPUT_DIM = 2"
   ]
  },
  {
   "cell_type": "code",
   "execution_count": 63,
   "metadata": {
    "id": "vVxRlyR-FrzF",
    "nbgrader": {
     "grade": false,
     "grade_id": "cell-203697b21306ccb9",
     "locked": true,
     "schema_version": 3,
     "solution": false,
     "task": false
    }
   },
   "outputs": [],
   "source": [
    "# Init the model\n",
    "# At first it is untrained, the weights are assigned random\n",
    "model = BoWClassifier(OUTPUT_DIM, INPUT_DIM)"
   ]
  },
  {
   "cell_type": "code",
   "execution_count": 184,
   "metadata": {},
   "outputs": [],
   "source": [
    "# model.linear.weight"
   ]
  },
  {
   "cell_type": "code",
   "execution_count": 64,
   "metadata": {
    "id": "UEIXHRUTFrzF"
   },
   "outputs": [],
   "source": [
    "# Set the optimizer and the loss function!\n",
    "# https://pytorch.org/docs/stable/optim.html\n",
    "import torch.optim as optim\n",
    "\n",
    "# The optimizer will update the weights of our model based on the loss function\n",
    "# This is essential for correct training\n",
    "# The _lr_ parameter is the learning rate\n",
    "optimizer = optim.Adam(model.parameters(), lr=1e-3)\n",
    "criterion = nn.NLLLoss()"
   ]
  },
  {
   "cell_type": "code",
   "execution_count": 65,
   "metadata": {
    "id": "K0pDsTdKFrzG",
    "nbgrader": {
     "grade": true,
     "grade_id": "cell-9852177c09074615",
     "locked": true,
     "points": 0,
     "schema_version": 3,
     "solution": false,
     "task": false
    }
   },
   "outputs": [],
   "source": [
    "# Copy the model and the loss function to the correct device\n",
    "model = model.to(device)\n",
    "criterion = criterion.to(device)"
   ]
  },
  {
   "cell_type": "code",
   "execution_count": 66,
   "metadata": {
    "id": "_BSC-ttlFrzG",
    "nbgrader": {
     "grade": true,
     "grade_id": "cell-50c925cbe0576fd3",
     "locked": true,
     "points": 0,
     "schema_version": 3,
     "solution": false,
     "task": false
    }
   },
   "outputs": [],
   "source": [
    "assert model.linear.out_features == 2"
   ]
  },
  {
   "cell_type": "markdown",
   "metadata": {
    "id": "xCrTcch_FrzG"
   },
   "source": [
    "### Training and evaluating PyTorch models\n",
    "- __calculate_performance__: This should calculate the batch-wise precision, recall, and fscore of your model!\n",
    "- __train__ - Train your model on the training data! This function should set the model to training mode, then use the given iterator to iterate through the training samples and make predictions using the provided model. You should then propagate back the error with the loss function and the optimizer. Finally return the average epoch loss and performance!\n",
    "- __evaluate__ - Evaluate your model on the validation dataset. This function is essentially the same as the trainnig function, but you should set your model to eval mode and don't propagate back the errors to your weights!"
   ]
  },
  {
   "cell_type": "code",
   "execution_count": 67,
   "metadata": {
    "id": "9TWQekCdFrzG",
    "nbgrader": {
     "grade": false,
     "grade_id": "cell-1818f7b4bce37196",
     "locked": false,
     "schema_version": 3,
     "solution": true,
     "task": false
    }
   },
   "outputs": [],
   "source": [
    "from sklearn.metrics import precision_recall_fscore_support\n",
    "\n",
    "\n",
    "def calculate_performance(preds, y):\n",
    "    \"\"\"\n",
    "    Returns precision, recall, fscore per batch\n",
    "    \"\"\"\n",
    "    # Get the predicted label from the probabilities\n",
    "    rounded_preds = preds.argmax(1)\n",
    "\n",
    "    # Calculate the correct predictions batch-wise and calculate precision, recall, and fscore\n",
    "    # WARNING: Tensors here could be on the GPU, so make sure to copy everything to CPU\n",
    "    precision, recall, fscore, support = precision_recall_fscore_support(\n",
    "        rounded_preds.cpu(), y.cpu()\n",
    "    )\n",
    "\n",
    "    return precision[1], recall[1], fscore[1]"
   ]
  },
  {
   "cell_type": "code",
   "execution_count": 68,
   "metadata": {
    "id": "rhzACM5IFrzG",
    "nbgrader": {
     "grade": false,
     "grade_id": "cell-ea8beb3df906f9a4",
     "locked": false,
     "schema_version": 3,
     "solution": true,
     "task": false
    }
   },
   "outputs": [],
   "source": [
    "import torch.nn.functional as F\n",
    "\n",
    "\n",
    "def train(model, iterator, optimizer, criterion):\n",
    "    # We will calculate loss and accuracy epoch-wise based on average batch accuracy\n",
    "    epoch_loss = 0\n",
    "    epoch_prec = 0\n",
    "    epoch_recall = 0\n",
    "    epoch_fscore = 0\n",
    "\n",
    "    # You always need to set your model to training mode\n",
    "    # If you don't set your model to training mode the error won't propagate back to the weights\n",
    "    model.train()\n",
    "\n",
    "    # We calculate the error on batches so the iterator will return matrices with shape [BATCH_SIZE, VOCAB_SIZE]\n",
    "    for batch in iterator:\n",
    "        text_vecs = batch[0]\n",
    "        labels = batch[1]\n",
    "        sen_lens = []\n",
    "        texts = []\n",
    "\n",
    "        # This is for later!\n",
    "        if len(batch) > 2:\n",
    "            sen_lens = batch[2]\n",
    "            texts = batch[3]\n",
    "\n",
    "        # We reset the gradients from the last step, so the loss will be calculated correctly (and not added together)\n",
    "        optimizer.zero_grad()\n",
    "\n",
    "        # This runs the forward function on your model (you don't need to call it directly)\n",
    "        predictions = model(text_vecs, sen_lens)\n",
    "\n",
    "        # Calculate the loss and the accuracy on the predictions (the predictions are log probabilities, remember!)\n",
    "        loss = criterion(predictions, labels)\n",
    "\n",
    "        prec, recall, fscore = calculate_performance(predictions, labels)\n",
    "\n",
    "        # Propagate the error back on the model (this means adjusting the initial weights in your model)\n",
    "        # Calculate gradients on parameters that requries grad\n",
    "        loss.backward()\n",
    "        # Update the parameters\n",
    "        optimizer.step()\n",
    "\n",
    "        # We add batch-wise loss to the epoch-wise loss\n",
    "        epoch_loss += loss.item()\n",
    "        # We also do the same with the scores\n",
    "        epoch_prec += prec.item()\n",
    "        epoch_recall += recall.item()\n",
    "        epoch_fscore += fscore.item()\n",
    "    return (\n",
    "        epoch_loss / len(iterator),\n",
    "        epoch_prec / len(iterator),\n",
    "        epoch_recall / len(iterator),\n",
    "        epoch_fscore / len(iterator),\n",
    "    )"
   ]
  },
  {
   "cell_type": "code",
   "execution_count": 69,
   "metadata": {
    "id": "ASFglaVtFrzH",
    "nbgrader": {
     "grade": false,
     "grade_id": "cell-810fadb1db8e2028",
     "locked": false,
     "schema_version": 3,
     "solution": true,
     "task": false
    }
   },
   "outputs": [],
   "source": [
    "# The evaluation is done on the validation dataset\n",
    "def evaluate(model, iterator, criterion):\n",
    "\n",
    "    epoch_loss = 0\n",
    "    epoch_prec = 0\n",
    "    epoch_recall = 0\n",
    "    epoch_fscore = 0\n",
    "    # On the validation dataset we don't want training so we need to set the model on evaluation mode\n",
    "    model.eval()\n",
    "\n",
    "    # Also tell Pytorch to not propagate any error backwards in the model or calculate gradients\n",
    "    # This is needed when you only want to make predictions and use your model in inference mode!\n",
    "    with torch.no_grad():\n",
    "\n",
    "        # The remaining part is the same with the difference of not using the optimizer to backpropagation\n",
    "        for batch in iterator:\n",
    "            text_vecs = batch[0]\n",
    "            labels = batch[1]\n",
    "            sen_lens = []\n",
    "            texts = []\n",
    "\n",
    "            if len(batch) > 2:\n",
    "                sen_lens = batch[2]\n",
    "                texts = batch[3]\n",
    "\n",
    "            predictions = model(text_vecs, sen_lens)\n",
    "            loss = criterion(predictions, labels)\n",
    "\n",
    "            prec, recall, fscore = calculate_performance(predictions, labels)\n",
    "\n",
    "            epoch_loss += loss.item()\n",
    "            epoch_prec += prec.item()\n",
    "            epoch_recall += recall.item()\n",
    "            epoch_fscore += fscore.item()\n",
    "\n",
    "    # Return averaged loss on the whole epoch!\n",
    "    return (\n",
    "        epoch_loss / len(iterator),\n",
    "        epoch_prec / len(iterator),\n",
    "        epoch_recall / len(iterator),\n",
    "        epoch_fscore / len(iterator),\n",
    "    )"
   ]
  },
  {
   "cell_type": "code",
   "execution_count": 70,
   "metadata": {
    "id": "PzRshE3-FrzH",
    "nbgrader": {
     "grade": false,
     "grade_id": "cell-73c8635f8fc4a7fd",
     "locked": true,
     "schema_version": 3,
     "solution": false,
     "task": false
    }
   },
   "outputs": [],
   "source": [
    "import time\n",
    "\n",
    "# This is just for measuring training time!\n",
    "def epoch_time(start_time, end_time):\n",
    "    elapsed_time = end_time - start_time\n",
    "    elapsed_mins = int(elapsed_time / 60)\n",
    "    elapsed_secs = int(elapsed_time - (elapsed_mins * 60))\n",
    "    return elapsed_mins, elapsed_secs"
   ]
  },
  {
   "cell_type": "code",
   "execution_count": 71,
   "metadata": {},
   "outputs": [],
   "source": [
    "def plot_losses(train_losses, valid_losses, n_epochs):\n",
    "    \"\"\"\n",
    "    Function to plot training and validation losses.\n",
    "    \"\"\"\n",
    "    plt.figure(figsize=(10, 6))\n",
    "    plt.plot(range(1, n_epochs + 1), train_losses, label=\"Training Loss\")\n",
    "    plt.plot(range(1, n_epochs + 1), valid_losses, label=\"Validation Loss\")\n",
    "    plt.xlabel(\"Epoch\")\n",
    "    plt.ylabel(\"Loss\")\n",
    "    plt.title(\"Training and Validation Loss Over Epochs\")\n",
    "    plt.legend()\n",
    "    plt.grid()\n",
    "    plt.show()"
   ]
  },
  {
   "cell_type": "markdown",
   "metadata": {
    "id": "zBcx1vxBFrzH"
   },
   "source": [
    "### Training loop!\n",
    "Below is the training loop of our model! Try to set an EPOCH number that will correctly train your model :) (it is not underfitted but neither overfitted!"
   ]
  },
  {
   "cell_type": "code",
   "execution_count": 72,
   "metadata": {
    "id": "sGaJR3xTFrzH"
   },
   "outputs": [],
   "source": [
    "def training_loop(epoch_number=15):\n",
    "    # Set an EPOCH number!\n",
    "    N_EPOCHS = epoch_number\n",
    "\n",
    "    best_valid_loss = float(\"inf\")\n",
    "\n",
    "    # Lists to store loss values for plotting\n",
    "    train_losses = []\n",
    "    valid_losses = []\n",
    "\n",
    "    # We loop forward on the epoch number\n",
    "    for epoch in range(N_EPOCHS):\n",
    "\n",
    "        start_time = time.time()\n",
    "\n",
    "        # Train the model on the training set using the dataloader\n",
    "        train_loss, train_prec, train_rec, train_fscore = train(\n",
    "            model, train_iterator, optimizer, criterion\n",
    "        )\n",
    "        # And validate your model on the validation set\n",
    "        valid_loss, valid_prec, valid_rec, valid_fscore = evaluate(\n",
    "            model, valid_iterator, criterion\n",
    "        )\n",
    "\n",
    "        end_time = time.time()\n",
    "\n",
    "        epoch_mins, epoch_secs = epoch_time(start_time, end_time)\n",
    "\n",
    "        train_losses.append(train_loss)\n",
    "        valid_losses.append(valid_loss)\n",
    "\n",
    "        # If we find a better model, we save the weights so later we may want to reload it\n",
    "        if valid_loss < best_valid_loss:\n",
    "            best_valid_loss = valid_loss\n",
    "            torch.save(model.state_dict(), \"tut1-model.pt\")\n",
    "\n",
    "        print(f\"Epoch: {epoch+1:02} | Epoch Time: {epoch_mins}m {epoch_secs}s\")\n",
    "        print(\n",
    "            f\"\\tTrain Loss: {train_loss:.3f} | Train Prec: {train_prec*100:.2f}% | Train Rec: {train_rec*100:.2f}% | Train Fscore: {train_fscore*100:.2f}%\"\n",
    "        )\n",
    "        print(\n",
    "            f\"\\t Val. Loss: {valid_loss:.3f} |  Val Prec: {valid_prec*100:.2f}% | Val Rec: {valid_rec*100:.2f}% | Val Fscore: {valid_fscore*100:.2f}%\"\n",
    "        )\n",
    "    plot_losses(train_losses, valid_losses, N_EPOCHS)\n"
   ]
  },
  {
   "cell_type": "code",
   "execution_count": 73,
   "metadata": {
    "colab": {
     "base_uri": "https://localhost:8080/"
    },
    "id": "ZIm70jWgQq21",
    "outputId": "caeb182a-667f-49be-afa7-78ba6fe6027d"
   },
   "outputs": [
    {
     "name": "stdout",
     "output_type": "stream",
     "text": [
      "Epoch: 01 | Epoch Time: 0m 0s\n",
      "\tTrain Loss: 0.650 | Train Prec: 3.80% | Train Rec: 31.35% | Train Fscore: 5.69%\n",
      "\t Val. Loss: 0.627 |  Val Prec: 3.36% | Val Rec: 49.47% | Val Fscore: 6.18%\n",
      "Epoch: 02 | Epoch Time: 0m 0s\n",
      "\tTrain Loss: 0.600 | Train Prec: 8.76% | Train Rec: 81.10% | Train Fscore: 15.41%\n",
      "\t Val. Loss: 0.604 |  Val Prec: 12.38% | Val Rec: 82.82% | Val Fscore: 21.03%\n",
      "Epoch: 03 | Epoch Time: 0m 0s\n",
      "\tTrain Loss: 0.566 | Train Prec: 19.78% | Train Rec: 93.58% | Train Fscore: 31.80%\n",
      "\t Val. Loss: 0.586 |  Val Prec: 16.11% | Val Rec: 83.06% | Val Fscore: 26.33%\n",
      "Epoch: 04 | Epoch Time: 0m 0s\n",
      "\tTrain Loss: 0.539 | Train Prec: 27.54% | Train Rec: 91.66% | Train Fscore: 41.52%\n",
      "\t Val. Loss: 0.573 |  Val Prec: 22.95% | Val Rec: 80.32% | Val Fscore: 34.64%\n",
      "Epoch: 05 | Epoch Time: 0m 0s\n",
      "\tTrain Loss: 0.518 | Train Prec: 33.36% | Train Rec: 90.86% | Train Fscore: 47.82%\n",
      "\t Val. Loss: 0.564 |  Val Prec: 25.93% | Val Rec: 78.47% | Val Fscore: 37.91%\n",
      "Epoch: 06 | Epoch Time: 0m 0s\n",
      "\tTrain Loss: 0.501 | Train Prec: 37.20% | Train Rec: 90.12% | Train Fscore: 51.88%\n",
      "\t Val. Loss: 0.557 |  Val Prec: 28.45% | Val Rec: 76.68% | Val Fscore: 40.55%\n",
      "Epoch: 07 | Epoch Time: 0m 0s\n",
      "\tTrain Loss: 0.486 | Train Prec: 40.52% | Train Rec: 89.38% | Train Fscore: 55.23%\n",
      "\t Val. Loss: 0.551 |  Val Prec: 31.07% | Val Rec: 76.54% | Val Fscore: 43.24%\n",
      "Epoch: 08 | Epoch Time: 0m 0s\n",
      "\tTrain Loss: 0.473 | Train Prec: 43.11% | Train Rec: 89.44% | Train Fscore: 57.40%\n",
      "\t Val. Loss: 0.547 |  Val Prec: 34.62% | Val Rec: 75.78% | Val Fscore: 46.66%\n",
      "Epoch: 09 | Epoch Time: 0m 0s\n",
      "\tTrain Loss: 0.461 | Train Prec: 46.01% | Train Rec: 88.50% | Train Fscore: 59.82%\n",
      "\t Val. Loss: 0.543 |  Val Prec: 36.29% | Val Rec: 74.51% | Val Fscore: 47.89%\n",
      "Epoch: 10 | Epoch Time: 0m 0s\n",
      "\tTrain Loss: 0.451 | Train Prec: 48.93% | Train Rec: 88.06% | Train Fscore: 62.17%\n",
      "\t Val. Loss: 0.541 |  Val Prec: 36.55% | Val Rec: 75.54% | Val Fscore: 48.42%\n",
      "Epoch: 11 | Epoch Time: 0m 0s\n",
      "\tTrain Loss: 0.442 | Train Prec: 49.61% | Train Rec: 89.32% | Train Fscore: 63.08%\n",
      "\t Val. Loss: 0.539 |  Val Prec: 39.47% | Val Rec: 72.78% | Val Fscore: 50.35%\n",
      "Epoch: 12 | Epoch Time: 0m 0s\n",
      "\tTrain Loss: 0.433 | Train Prec: 52.06% | Train Rec: 87.56% | Train Fscore: 64.70%\n",
      "\t Val. Loss: 0.537 |  Val Prec: 39.33% | Val Rec: 73.99% | Val Fscore: 50.51%\n",
      "Epoch: 13 | Epoch Time: 0m 0s\n",
      "\tTrain Loss: 0.425 | Train Prec: 52.54% | Train Rec: 88.57% | Train Fscore: 65.27%\n",
      "\t Val. Loss: 0.537 |  Val Prec: 40.79% | Val Rec: 72.55% | Val Fscore: 51.43%\n",
      "Epoch: 14 | Epoch Time: 0m 0s\n",
      "\tTrain Loss: 0.418 | Train Prec: 54.63% | Train Rec: 88.23% | Train Fscore: 66.91%\n",
      "\t Val. Loss: 0.536 |  Val Prec: 41.04% | Val Rec: 72.81% | Val Fscore: 51.72%\n",
      "Epoch: 15 | Epoch Time: 0m 0s\n",
      "\tTrain Loss: 0.412 | Train Prec: 55.46% | Train Rec: 88.56% | Train Fscore: 67.41%\n",
      "\t Val. Loss: 0.536 |  Val Prec: 42.58% | Val Rec: 71.99% | Val Fscore: 52.75%\n"
     ]
    },
    {
     "data": {
      "image/png": "[encoded data removed]",
      "text/plain": [
       "<Figure size 720x432 with 1 Axes>"
      ]
     },
     "metadata": {
      "needs_background": "light"
     },
     "output_type": "display_data"
    }
   ],
   "source": [
    "training_loop()"
   ]
  },
  {
   "cell_type": "markdown",
   "metadata": {
    "id": "r4B_wdUgFrzI"
   },
   "source": [
    "\n",
    "__NOTE: DON'T FORGET TO RERUN THE MODEL INITIALIZATION WHEN YOU ARE TRYING TO RUN THE MODEL MULTIPLE TIMES. IF YOU DON'T REINITIALIZE THE MODEL IT WILL CONTINUE THE TRAINING WHERE IT HAS STOPPED LAST TIME AND DOESN'T RUN FROM SRATCH!__\n",
    "\n",
    "These lines:\n",
    "\n",
    "```python\n",
    "model = BoWClassifier(OUTPUT_DIM, INPUT_DIM)\n",
    "optimizer = optim.Adam(model.parameters(), lr=1e-3)\n",
    "criterion = nn.NLLLoss()\n",
    "model = model.to(device)\n",
    "criterion = criterion.to(device)\n",
    "```\n",
    "\n",
    "This will reinitialize the model!"
   ]
  },
  {
   "cell_type": "code",
   "execution_count": 74,
   "metadata": {
    "id": "eOpuzSyfPwBh"
   },
   "outputs": [],
   "source": [
    "def reinitialize(model):\n",
    "    optimizer = optim.Adam(model.parameters(), lr=1e-3)\n",
    "    criterion = nn.NLLLoss()\n",
    "    model = model.to(device)\n",
    "    criterion = criterion.to(device)"
   ]
  },
  {
   "cell_type": "code",
   "execution_count": 75,
   "metadata": {
    "id": "vgflJA47P3O-"
   },
   "outputs": [],
   "source": [
    "reinitialize(BoWClassifier(OUTPUT_DIM, INPUT_DIM))"
   ]
  },
  {
   "cell_type": "markdown",
   "metadata": {
    "id": "XFcqasArFrzI"
   },
   "source": [
    "## Add more linear layers to the model and experiment with other hyper-parameters"
   ]
  },
  {
   "cell_type": "markdown",
   "metadata": {
    "id": "ZSv9C_heFrzJ"
   },
   "source": [
    "### More layers\n",
    "\n",
    "Currently we only have a single linear layers in our model. We are now adding more linear layers to the model.\n",
    "We also introduce a HIDDEN_SIZE parameter that will be the size of the intermediate representation between the linear layers. Also adding a RELU activation function between the linear layers.\n",
    "\n",
    "See more:\n",
    "- https://pytorch.org/docs/stable/generated/torch.nn.ReLU.html\n",
    "- https://pytorch.org/tutorials/beginner/examples_nn/two_layer_net_nn.html"
   ]
  },
  {
   "cell_type": "code",
   "execution_count": 76,
   "metadata": {
    "id": "_S4Ytz8HFrzJ",
    "nbgrader": {
     "grade": false,
     "grade_id": "cell-f71eea2d6e70ad97",
     "locked": false,
     "schema_version": 3,
     "solution": true,
     "task": false
    }
   },
   "outputs": [],
   "source": [
    "from torch import nn\n",
    "\n",
    "\n",
    "class BoWDeepClassifier(nn.Module):\n",
    "    def __init__(self, num_labels, vocab_size, hidden_size):\n",
    "        super(BoWDeepClassifier, self).__init__()\n",
    "        # First linear layer\n",
    "        self.linear1 = nn.Linear(vocab_size, hidden_size)\n",
    "        # Non-linear activation function between them\n",
    "        self.relu = torch.nn.ReLU()\n",
    "        # Second layer\n",
    "        self.linear2 = nn.Linear(hidden_size, num_labels)\n",
    "\n",
    "    def forward(self, bow_vec, sequence_lens):\n",
    "        # Run the input vector through every layer\n",
    "        output = self.linear1(bow_vec)\n",
    "        output = self.relu(output)\n",
    "        output = self.linear2(output)\n",
    "\n",
    "        # Get the probabilities\n",
    "        return F.log_softmax(output, dim=1)"
   ]
  },
  {
   "cell_type": "code",
   "execution_count": 77,
   "metadata": {
    "id": "A5tw97UGFrzK"
   },
   "outputs": [],
   "source": [
    "HIDDEN_SIZE = 200\n",
    "learning_rate = 0.001\n",
    "BATCH_SIZE = 64\n",
    "N_EPOCHS = 15"
   ]
  },
  {
   "cell_type": "code",
   "execution_count": 78,
   "metadata": {
    "id": "7flTZ3vgFrzK"
   },
   "outputs": [],
   "source": [
    "model = BoWDeepClassifier(OUTPUT_DIM, INPUT_DIM, HIDDEN_SIZE)\n",
    "\n",
    "optimizer = optim.Adam(model.parameters(), lr=learning_rate)\n",
    "criterion = nn.NLLLoss()\n",
    "\n",
    "model = model.to(device)\n",
    "criterion = criterion.to(device)"
   ]
  },
  {
   "cell_type": "code",
   "execution_count": 79,
   "metadata": {
    "colab": {
     "base_uri": "https://localhost:8080/"
    },
    "id": "PNZV21ShFrzK",
    "outputId": "9fac20f9-bbb4-4ad4-97bd-3f8c52bee3b8"
   },
   "outputs": [
    {
     "name": "stdout",
     "output_type": "stream",
     "text": [
      "Epoch: 01 | Epoch Time: 0m 0s\n",
      "\tTrain Loss: 0.594 | Train Prec: 21.41% | Train Rec: 51.77% | Train Fscore: 26.88%\n",
      "\t Val. Loss: 0.539 |  Val Prec: 37.05% | Val Rec: 73.40% | Val Fscore: 48.40%\n",
      "Epoch: 02 | Epoch Time: 0m 0s\n",
      "\tTrain Loss: 0.428 | Train Prec: 58.17% | Train Rec: 80.00% | Train Fscore: 66.52%\n",
      "\t Val. Loss: 0.554 |  Val Prec: 48.38% | Val Rec: 68.95% | Val Fscore: 55.97%\n",
      "Epoch: 03 | Epoch Time: 0m 0s\n",
      "\tTrain Loss: 0.323 | Train Prec: 71.70% | Train Rec: 85.55% | Train Fscore: 77.50%\n",
      "\t Val. Loss: 0.600 |  Val Prec: 52.76% | Val Rec: 65.10% | Val Fscore: 57.59%\n",
      "Epoch: 04 | Epoch Time: 0m 0s\n",
      "\tTrain Loss: 0.244 | Train Prec: 81.33% | Train Rec: 90.40% | Train Fscore: 85.30%\n",
      "\t Val. Loss: 0.675 |  Val Prec: 50.71% | Val Rec: 63.41% | Val Fscore: 55.59%\n",
      "Epoch: 05 | Epoch Time: 0m 0s\n",
      "\tTrain Loss: 0.180 | Train Prec: 86.46% | Train Rec: 94.22% | Train Fscore: 89.90%\n",
      "\t Val. Loss: 0.778 |  Val Prec: 52.48% | Val Rec: 62.85% | Val Fscore: 56.45%\n",
      "Epoch: 06 | Epoch Time: 0m 0s\n",
      "\tTrain Loss: 0.133 | Train Prec: 90.85% | Train Rec: 96.68% | Train Fscore: 93.53%\n",
      "\t Val. Loss: 0.837 |  Val Prec: 50.39% | Val Rec: 62.03% | Val Fscore: 54.94%\n",
      "Epoch: 07 | Epoch Time: 0m 0s\n",
      "\tTrain Loss: 0.099 | Train Prec: 94.21% | Train Rec: 97.42% | Train Fscore: 95.71%\n",
      "\t Val. Loss: 0.914 |  Val Prec: 55.25% | Val Rec: 58.50% | Val Fscore: 56.11%\n",
      "Epoch: 08 | Epoch Time: 0m 0s\n",
      "\tTrain Loss: 0.080 | Train Prec: 94.98% | Train Rec: 98.05% | Train Fscore: 96.39%\n",
      "\t Val. Loss: 0.982 |  Val Prec: 51.63% | Val Rec: 61.01% | Val Fscore: 55.25%\n",
      "Epoch: 09 | Epoch Time: 0m 0s\n",
      "\tTrain Loss: 0.065 | Train Prec: 96.48% | Train Rec: 98.51% | Train Fscore: 97.42%\n",
      "\t Val. Loss: 1.058 |  Val Prec: 52.42% | Val Rec: 60.68% | Val Fscore: 55.65%\n",
      "Epoch: 10 | Epoch Time: 0m 0s\n",
      "\tTrain Loss: 0.056 | Train Prec: 96.65% | Train Rec: 98.62% | Train Fscore: 97.57%\n",
      "\t Val. Loss: 1.116 |  Val Prec: 51.03% | Val Rec: 60.68% | Val Fscore: 54.78%\n",
      "Epoch: 11 | Epoch Time: 0m 0s\n",
      "\tTrain Loss: 0.048 | Train Prec: 97.13% | Train Rec: 98.90% | Train Fscore: 97.96%\n",
      "\t Val. Loss: 1.161 |  Val Prec: 51.93% | Val Rec: 58.96% | Val Fscore: 54.65%\n",
      "Epoch: 12 | Epoch Time: 0m 0s\n",
      "\tTrain Loss: 0.043 | Train Prec: 97.51% | Train Rec: 99.22% | Train Fscore: 98.31%\n",
      "\t Val. Loss: 1.220 |  Val Prec: 53.76% | Val Rec: 56.85% | Val Fscore: 54.50%\n",
      "Epoch: 13 | Epoch Time: 0m 0s\n",
      "\tTrain Loss: 0.040 | Train Prec: 97.56% | Train Rec: 99.02% | Train Fscore: 98.24%\n",
      "\t Val. Loss: 1.283 |  Val Prec: 51.72% | Val Rec: 58.70% | Val Fscore: 54.41%\n",
      "Epoch: 14 | Epoch Time: 0m 0s\n",
      "\tTrain Loss: 0.037 | Train Prec: 98.05% | Train Rec: 99.13% | Train Fscore: 98.55%\n",
      "\t Val. Loss: 1.351 |  Val Prec: 50.40% | Val Rec: 59.78% | Val Fscore: 54.08%\n",
      "Epoch: 15 | Epoch Time: 0m 0s\n",
      "\tTrain Loss: 0.032 | Train Prec: 97.79% | Train Rec: 99.53% | Train Fscore: 98.62%\n",
      "\t Val. Loss: 1.357 |  Val Prec: 53.02% | Val Rec: 57.07% | Val Fscore: 54.38%\n"
     ]
    },
    {
     "data": {
      "image/png": "[encoded data removed]",
      "text/plain": [
       "<Figure size 720x432 with 1 Axes>"
      ]
     },
     "metadata": {
      "needs_background": "light"
     },
     "output_type": "display_data"
    }
   ],
   "source": [
    "training_loop()"
   ]
  },
  {
   "cell_type": "markdown",
   "metadata": {
    "id": "dRInQ1ToFrzK"
   },
   "source": [
    "## Implement automatic early-stopping in the training loop\n",
    "Early stopping is a very easy method to avoid the overfitting of your model.\n",
    "\n",
    "We could:\n",
    "- Save the training and the validation loss of the last two epochs (if you are at least in the third epoch)\n",
    "- If the loss increased in the last two epoch on the training data but descreased or stagnated in the validation data, you should stop the training automatically!\n",
    "\n",
    "In the training loop below we do a very basic early stopping after there is no improvement in validation loss on a predefined number of consecutive epochs (=patience)."
   ]
  },
  {
   "cell_type": "code",
   "execution_count": 80,
   "metadata": {
    "id": "pblBEo87FrzL",
    "nbgrader": {
     "grade": false,
     "grade_id": "cell-7d460cc4aa3dd437",
     "locked": false,
     "schema_version": 3,
     "solution": true,
     "task": false
    }
   },
   "outputs": [],
   "source": [
    "reinitialize(BoWClassifier(OUTPUT_DIM, INPUT_DIM))"
   ]
  },
  {
   "cell_type": "code",
   "execution_count": 81,
   "metadata": {
    "id": "IyxNctC13d_m"
   },
   "outputs": [],
   "source": [
    "model = BoWDeepClassifier(OUTPUT_DIM, INPUT_DIM, HIDDEN_SIZE)\n",
    "\n",
    "optimizer = optim.Adam(model.parameters(), lr=learning_rate)\n",
    "criterion = nn.NLLLoss()\n",
    "\n",
    "model = model.to(device)\n",
    "criterion = criterion.to(device)"
   ]
  },
  {
   "cell_type": "code",
   "execution_count": 82,
   "metadata": {
    "id": "9Bl4-i-c3d_m"
   },
   "outputs": [],
   "source": [
    "def training_loop(epoch_number=15, patience=3):\n",
    "    # Set an EPOCH number!\n",
    "    N_EPOCHS = epoch_number\n",
    "    consecutive_no_improvement = 0\n",
    "\n",
    "    best_valid_loss = float(\"inf\")  # ensures the 1st validation loss will always be considered better\n",
    "\n",
    "    train_losses = []\n",
    "    valid_losses = []\n",
    "\n",
    "    # We loop forward on the epoch number\n",
    "    for epoch in range(N_EPOCHS):\n",
    "\n",
    "        start_time = time.time()\n",
    "\n",
    "        # Train the model on the training set using the dataloader\n",
    "        train_loss, train_prec, train_rec, train_fscore = train(\n",
    "            model, train_iterator, optimizer, criterion\n",
    "        )\n",
    "        # And validate your model on the validation set\n",
    "        valid_loss, valid_prec, valid_rec, valid_fscore = evaluate(\n",
    "            model, valid_iterator, criterion\n",
    "        )\n",
    "\n",
    "        end_time = time.time()\n",
    "\n",
    "        epoch_mins, epoch_secs = epoch_time(start_time, end_time)\n",
    "\n",
    "        train_losses.append(train_loss)\n",
    "        valid_losses.append(valid_loss)\n",
    "\n",
    "        # If we find a better model, we save the weights so later we may want to reload it\n",
    "        if valid_loss < best_valid_loss:\n",
    "            best_valid_loss = valid_loss\n",
    "            consecutive_no_improvement = 0\n",
    "            torch.save(model.state_dict(), \"tut1-model.pt\")\n",
    "\n",
    "        else:\n",
    "            consecutive_no_improvement += 1\n",
    "\n",
    "        print(f\"Epoch: {epoch+1:02} | Epoch Time: {epoch_mins}m {epoch_secs}s\")\n",
    "        print(\n",
    "            f\"\\tTrain Loss: {train_loss:.3f} | Train Prec: {train_prec*100:.2f}% | Train Rec: {train_rec*100:.2f}% | Train Fscore: {train_fscore*100:.2f}%\"\n",
    "        )\n",
    "        print(\n",
    "            f\"\\t Val. Loss: {valid_loss:.3f} |  Val Prec: {valid_prec*100:.2f}% | Val Rec: {valid_rec*100:.2f}% | Val Fscore: {valid_fscore*100:.2f}%\"\n",
    "        )\n",
    "\n",
    "        # Check for early stopping\n",
    "        if consecutive_no_improvement >= patience:\n",
    "            print(f\"No improvement in validation loss for {patience} consecutive epochs. Early stopping after epoch {epoch+1}.\")\n",
    "            break  # Terminate training loop\n",
    "\n",
    "    plot_losses(train_losses, valid_losses, n_epochs=epoch+1)\n",
    "        \n",
    "    return best_valid_loss"
   ]
  },
  {
   "cell_type": "code",
   "execution_count": 83,
   "metadata": {
    "colab": {
     "base_uri": "https://localhost:8080/"
    },
    "id": "DH9SEm3c3d_m",
    "outputId": "551a0d27-c3f2-45c9-f970-fc96b60cb428"
   },
   "outputs": [
    {
     "name": "stdout",
     "output_type": "stream",
     "text": [
      "Epoch: 01 | Epoch Time: 0m 0s\n",
      "\tTrain Loss: 0.598 | Train Prec: 19.69% | Train Rec: 56.40% | Train Fscore: 24.66%\n",
      "\t Val. Loss: 0.545 |  Val Prec: 40.85% | Val Rec: 68.28% | Val Fscore: 50.33%\n",
      "Epoch: 02 | Epoch Time: 0m 0s\n",
      "\tTrain Loss: 0.431 | Train Prec: 57.98% | Train Rec: 79.85% | Train Fscore: 66.58%\n",
      "\t Val. Loss: 0.548 |  Val Prec: 48.40% | Val Rec: 68.31% | Val Fscore: 55.91%\n",
      "Epoch: 03 | Epoch Time: 0m 0s\n",
      "\tTrain Loss: 0.321 | Train Prec: 72.48% | Train Rec: 86.35% | Train Fscore: 78.36%\n",
      "\t Val. Loss: 0.601 |  Val Prec: 52.62% | Val Rec: 63.80% | Val Fscore: 57.09%\n",
      "Epoch: 04 | Epoch Time: 0m 0s\n",
      "\tTrain Loss: 0.236 | Train Prec: 81.74% | Train Rec: 91.64% | Train Fscore: 85.94%\n",
      "\t Val. Loss: 0.676 |  Val Prec: 50.98% | Val Rec: 62.62% | Val Fscore: 55.53%\n",
      "No improvement in validation loss for 3 consecutive epochs. Early stopping after epoch 4.\n"
     ]
    },
    {
     "data": {
      "image/png": "[encoded data removed]",
      "text/plain": [
       "<Figure size 720x432 with 1 Axes>"
      ]
     },
     "metadata": {
      "needs_background": "light"
     },
     "output_type": "display_data"
    },
    {
     "data": {
      "text/plain": [
       "0.5445900843256996"
      ]
     },
     "execution_count": 83,
     "metadata": {},
     "output_type": "execute_result"
    }
   ],
   "source": [
    "training_loop()"
   ]
  },
  {
   "cell_type": "markdown",
   "metadata": {
    "id": "PAN4Y5s3FrzL"
   },
   "source": [
    "## Handling class imbalance\n",
    "Our data is imbalanced, the first class has twice the population of the second class.\n",
    "\n",
    "One way of handling imbalanced data is to weight the loss function, so it penalizes errors on the smaller class.\n",
    "\n",
    "Look at the documentation of the loss function: https://pytorch.org/docs/stable/generated/torch.nn.NLLLoss.html\n",
    "\n",
    "Set the weights based on the inverse population of the classes, so a class with fewer samples is penalized more heavily for errors."
   ]
  },
  {
   "cell_type": "code",
   "execution_count": 84,
   "metadata": {
    "colab": {
     "base_uri": "https://localhost:8080/"
    },
    "id": "S9_wXYqlFrzL",
    "outputId": "4617dc32-3f17-49d0-b8ae-5320e01022d8"
   },
   "outputs": [
    {
     "data": {
      "text/plain": [
       "label\n",
       "0    6179\n",
       "1    3089\n",
       "dtype: int64"
      ]
     },
     "execution_count": 84,
     "metadata": {},
     "output_type": "execute_result"
    }
   ],
   "source": [
    "tr_data.groupby(\"label\").size()"
   ]
  },
  {
   "cell_type": "code",
   "execution_count": 85,
   "metadata": {
    "id": "5FoqDTQIFrzL",
    "nbgrader": {
     "grade": false,
     "grade_id": "cell-6ebf131781a3332d",
     "locked": false,
     "schema_version": 3,
     "solution": true,
     "task": false
    }
   },
   "outputs": [],
   "source": [
    "weights = torch.Tensor([1, 2])  # errors for class 1 will be penalised twice as heavily as errors for class 0\n",
    "criterion = nn.NLLLoss(weight=weights)"
   ]
  },
  {
   "cell_type": "markdown",
   "metadata": {
    "id": "HBu230DWRYwK"
   },
   "source": [
    "## Adding an Embedding Layer to the network"
   ]
  },
  {
   "cell_type": "markdown",
   "metadata": {
    "id": "9F_lJrzr3d_m"
   },
   "source": [
    "- We only used Bag-of-Words representations as our features until now\n",
    "- Now we will introduce an [embedding](https://pytorch.org/docs/stable/generated/torch.nn.Embedding.html) layer into our network.\n",
    "- We will feed the words into our network one-by-one, and the layer will learn a dense vector representation for each word"
   ]
  },
  {
   "cell_type": "markdown",
   "metadata": {
    "id": "dI0KsOfr3d_n"
   },
   "source": [
    "![embeddingbag](https://pytorch.org/tutorials/_images/text_sentiment_ngrams_model.png)\n",
    "\n",
    "_from pytorch.org_"
   ]
  },
  {
   "cell_type": "code",
   "execution_count": 86,
   "metadata": {
    "id": "r5uYW1OmUpfJ"
   },
   "outputs": [],
   "source": [
    "# Get the CountVectorizer's analyzer method to get the word-id mapping\n",
    "an = word_to_ix.build_analyzer()  # handles preprocessing, tokenisation and removal of stop words"
   ]
  },
  {
   "cell_type": "code",
   "execution_count": 87,
   "metadata": {
    "colab": {
     "base_uri": "https://localhost:8080/"
    },
    "id": "Syg7NPVxUsWZ",
    "outputId": "ce371a2f-fa78-4c6e-ba9b-a1837341f898"
   },
   "outputs": [
    {
     "data": {
      "text/plain": [
       "['hello', 'varya']"
      ]
     },
     "execution_count": 87,
     "metadata": {},
     "output_type": "execute_result"
    }
   ],
   "source": [
    "an(\"hello my name is varya\")"
   ]
  },
  {
   "cell_type": "markdown",
   "metadata": {
    "id": "H9JTmf6R3d_n"
   },
   "source": [
    "Get the key with maximum values in a dictionary (keys are tokens; values are number of occurrences):\n",
    "\n",
    "`word_to_ix.vocabulary_` returns mapping of terms (tokens) to feature indices (number of occurrences)"
   ]
  },
  {
   "cell_type": "code",
   "execution_count": 88,
   "metadata": {
    "colab": {
     "base_uri": "https://localhost:8080/",
     "height": 35
    },
    "id": "jRJ_cbeeUvMy",
    "outputId": "b32dfc67-af54-4330-e066-158a16738f1f"
   },
   "outputs": [
    {
     "data": {
      "text/plain": [
       "'🤨'"
      ]
     },
     "execution_count": 88,
     "metadata": {},
     "output_type": "execute_result"
    }
   ],
   "source": [
    "max(word_to_ix.vocabulary_, key=word_to_ix.vocabulary_.get)"
   ]
  },
  {
   "cell_type": "markdown",
   "metadata": {
    "id": "XpHfQzTp3d_n"
   },
   "source": [
    "As we remember, we passed a parameter `max_features=3000` to a CountVectorizer, so our vocabulary size is 3000."
   ]
  },
  {
   "cell_type": "code",
   "execution_count": 89,
   "metadata": {
    "colab": {
     "base_uri": "https://localhost:8080/"
    },
    "id": "DG9xZYBQ7VNQ",
    "outputId": "57e737a3-616f-4b44-f091-4cb07cbd7312"
   },
   "outputs": [
    {
     "data": {
      "text/plain": [
       "3000"
      ]
     },
     "execution_count": 89,
     "metadata": {},
     "output_type": "execute_result"
    }
   ],
   "source": [
    "len(word_to_ix.vocabulary_)"
   ]
  },
  {
   "cell_type": "code",
   "execution_count": 90,
   "metadata": {
    "id": "dbU3fq40UxyR"
   },
   "outputs": [],
   "source": [
    "def create_input(dataset, analyzer, vocabulary):\n",
    "    dataset_as_indices = []\n",
    "\n",
    "    # We go through each tweet in the dataset\n",
    "    # We need to add two additional symbols to the vocabulary\n",
    "    # We have 3000 features, ranged 0-2999\n",
    "    # We add 3000 as an id for the \"unknown\" words not among the features\n",
    "    # 3001 will be the symbol for padding, but about this later!\n",
    "    for tweet in dataset:\n",
    "        tokens = analyzer(tweet)\n",
    "        token_ids = []\n",
    "\n",
    "        for token in tokens:\n",
    "            # if the token is in the vocab, we add the id\n",
    "            if token in vocabulary:\n",
    "                token_ids.append(vocabulary[token])\n",
    "            # else we add the id of the unknown token\n",
    "            else:\n",
    "                token_ids.append(3000)\n",
    "\n",
    "        # if we removed every token during preprocessing (stopword removal, lemmatization), we add the unknown token to the list so it won't be empty\n",
    "        if not token_ids:\n",
    "            token_ids.append(3000)\n",
    "        dataset_as_indices.append(torch.LongTensor(token_ids).to(device))\n",
    "\n",
    "    return dataset_as_indices"
   ]
  },
  {
   "cell_type": "code",
   "execution_count": 91,
   "metadata": {},
   "outputs": [
    {
     "data": {
      "text/html": [
       "<div>\n",
       "<style scoped>\n",
       "    .dataframe tbody tr th:only-of-type {\n",
       "        vertical-align: middle;\n",
       "    }\n",
       "\n",
       "    .dataframe tbody tr th {\n",
       "        vertical-align: top;\n",
       "    }\n",
       "\n",
       "    .dataframe thead th {\n",
       "        text-align: right;\n",
       "    }\n",
       "</style>\n",
       "<table border=\"1\" class=\"dataframe\">\n",
       "  <thead>\n",
       "    <tr style=\"text-align: right;\">\n",
       "      <th></th>\n",
       "      <th>id</th>\n",
       "      <th>tweet</th>\n",
       "      <th>subtask_a</th>\n",
       "      <th>subtask_b</th>\n",
       "      <th>subtask_c</th>\n",
       "      <th>label</th>\n",
       "    </tr>\n",
       "  </thead>\n",
       "  <tbody>\n",
       "    <tr>\n",
       "      <th>1224</th>\n",
       "      <td>26821</td>\n",
       "      <td>You should investigate Antifa's connections ...</td>\n",
       "      <td>NOT</td>\n",
       "      <td>NaN</td>\n",
       "      <td>NaN</td>\n",
       "      <td>0</td>\n",
       "    </tr>\n",
       "    <tr>\n",
       "      <th>9102</th>\n",
       "      <td>93433</td>\n",
       "      <td>Love this.</td>\n",
       "      <td>NOT</td>\n",
       "      <td>NaN</td>\n",
       "      <td>NaN</td>\n",
       "      <td>0</td>\n",
       "    </tr>\n",
       "    <tr>\n",
       "      <th>3655</th>\n",
       "      <td>28428</td>\n",
       "      <td>She is Evil!  How dare her.</td>\n",
       "      <td>OFF</td>\n",
       "      <td>TIN</td>\n",
       "      <td>IND</td>\n",
       "      <td>1</td>\n",
       "    </tr>\n",
       "    <tr>\n",
       "      <th>8201</th>\n",
       "      <td>73122</td>\n",
       "      <td>Because I knew it would flush out the one Du...</td>\n",
       "      <td>NOT</td>\n",
       "      <td>NaN</td>\n",
       "      <td>NaN</td>\n",
       "      <td>0</td>\n",
       "    </tr>\n",
       "    <tr>\n",
       "      <th>6141</th>\n",
       "      <td>89906</td>\n",
       "      <td>Hope they're brushed up on their very large n...</td>\n",
       "      <td>OFF</td>\n",
       "      <td>TIN</td>\n",
       "      <td>IND</td>\n",
       "      <td>1</td>\n",
       "    </tr>\n",
       "    <tr>\n",
       "      <th>...</th>\n",
       "      <td>...</td>\n",
       "      <td>...</td>\n",
       "      <td>...</td>\n",
       "      <td>...</td>\n",
       "      <td>...</td>\n",
       "      <td>...</td>\n",
       "    </tr>\n",
       "    <tr>\n",
       "      <th>11468</th>\n",
       "      <td>77354</td>\n",
       "      <td>Character assassinations are a survival techn...</td>\n",
       "      <td>NOT</td>\n",
       "      <td>NaN</td>\n",
       "      <td>NaN</td>\n",
       "      <td>0</td>\n",
       "    </tr>\n",
       "    <tr>\n",
       "      <th>7221</th>\n",
       "      <td>56585</td>\n",
       "      <td>10)  But why?  Do they hate us that much?\"    ...</td>\n",
       "      <td>NOT</td>\n",
       "      <td>NaN</td>\n",
       "      <td>NaN</td>\n",
       "      <td>0</td>\n",
       "    </tr>\n",
       "    <tr>\n",
       "      <th>1318</th>\n",
       "      <td>91693</td>\n",
       "      <td>All you do is lie. All congress does us lie. ...</td>\n",
       "      <td>OFF</td>\n",
       "      <td>TIN</td>\n",
       "      <td>IND</td>\n",
       "      <td>1</td>\n",
       "    </tr>\n",
       "    <tr>\n",
       "      <th>8915</th>\n",
       "      <td>77189</td>\n",
       "      <td>Did Gutierrez go help? Or is he just a blow h...</td>\n",
       "      <td>NOT</td>\n",
       "      <td>NaN</td>\n",
       "      <td>NaN</td>\n",
       "      <td>0</td>\n",
       "    </tr>\n",
       "    <tr>\n",
       "      <th>11055</th>\n",
       "      <td>78055</td>\n",
       "      <td>Exactly. I haven’t watched in two years and...</td>\n",
       "      <td>OFF</td>\n",
       "      <td>TIN</td>\n",
       "      <td>IND</td>\n",
       "      <td>1</td>\n",
       "    </tr>\n",
       "  </tbody>\n",
       "</table>\n",
       "<p>9268 rows × 6 columns</p>\n",
       "</div>"
      ],
      "text/plain": [
       "          id                                              tweet subtask_a  \\\n",
       "1224   26821    You should investigate Antifa's connections ...       NOT   \n",
       "9102   93433                                         Love this.       NOT   \n",
       "3655   28428                        She is Evil!  How dare her.       OFF   \n",
       "8201   73122    Because I knew it would flush out the one Du...       NOT   \n",
       "6141   89906   Hope they're brushed up on their very large n...       OFF   \n",
       "...      ...                                                ...       ...   \n",
       "11468  77354   Character assassinations are a survival techn...       NOT   \n",
       "7221   56585  10)  But why?  Do they hate us that much?\"    ...       NOT   \n",
       "1318   91693   All you do is lie. All congress does us lie. ...       OFF   \n",
       "8915   77189   Did Gutierrez go help? Or is he just a blow h...       NOT   \n",
       "11055  78055     Exactly. I haven’t watched in two years and...       OFF   \n",
       "\n",
       "      subtask_b subtask_c  label  \n",
       "1224        NaN       NaN      0  \n",
       "9102        NaN       NaN      0  \n",
       "3655        TIN       IND      1  \n",
       "8201        NaN       NaN      0  \n",
       "6141        TIN       IND      1  \n",
       "...         ...       ...    ...  \n",
       "11468       NaN       NaN      0  \n",
       "7221        NaN       NaN      0  \n",
       "1318        TIN       IND      1  \n",
       "8915        NaN       NaN      0  \n",
       "11055       TIN       IND      1  \n",
       "\n",
       "[9268 rows x 6 columns]"
      ]
     },
     "execution_count": 91,
     "metadata": {},
     "output_type": "execute_result"
    }
   ],
   "source": [
    "tr_data"
   ]
  },
  {
   "cell_type": "code",
   "execution_count": 92,
   "metadata": {
    "colab": {
     "base_uri": "https://localhost:8080/"
    },
    "id": "4qxWFBdj3d_n",
    "outputId": "b2ce0d82-e7ad-44ff-bfa7-03e67cb28bbe"
   },
   "outputs": [
    {
     "data": {
      "text/plain": [
       "1224      59\n",
       "9102      14\n",
       "3655      28\n",
       "8201      92\n",
       "6141      62\n",
       "        ... \n",
       "11468     63\n",
       "7221     275\n",
       "1318      52\n",
       "8915      50\n",
       "11055    167\n",
       "Name: tweet, Length: 9268, dtype: int64"
      ]
     },
     "execution_count": 92,
     "metadata": {},
     "output_type": "execute_result"
    }
   ],
   "source": [
    "tr_data.tweet.str.len()"
   ]
  },
  {
   "cell_type": "code",
   "execution_count": 93,
   "metadata": {
    "colab": {
     "base_uri": "https://localhost:8080/"
    },
    "id": "BTJ3kNpf3d_n",
    "outputId": "c39c0b26-c737-49d3-f692-e3ffdedd807c"
   },
   "outputs": [
    {
     "data": {
      "text/plain": [
       "9268"
      ]
     },
     "execution_count": 93,
     "metadata": {},
     "output_type": "execute_result"
    }
   ],
   "source": [
    "len(tr_data)"
   ]
  },
  {
   "cell_type": "code",
   "execution_count": 94,
   "metadata": {
    "colab": {
     "base_uri": "https://localhost:8080/"
    },
    "id": "FSt_fM4f3d_o",
    "outputId": "385a7dfe-ba94-40e2-fde5-73920075bd45"
   },
   "outputs": [
    {
     "data": {
      "text/plain": [
       "3972"
      ]
     },
     "execution_count": 94,
     "metadata": {},
     "output_type": "execute_result"
    }
   ],
   "source": [
    "len(val_data)"
   ]
  },
  {
   "cell_type": "code",
   "execution_count": 95,
   "metadata": {
    "id": "xDZmvZmwU3oI"
   },
   "outputs": [],
   "source": [
    "# We add the length of the tweets so sentences with similar lengths will be next to each other\n",
    "# This can be important because of padding\n",
    "tr_data[\"length\"] = tr_data.tweet.str.len()\n",
    "val_data[\"length\"] = val_data.tweet.str.len()"
   ]
  },
  {
   "cell_type": "code",
   "execution_count": 96,
   "metadata": {
    "colab": {
     "base_uri": "https://localhost:8080/"
    },
    "id": "P3SypHXUVAOR",
    "outputId": "4d929860-7785-45b2-a940-6128b24e9e78"
   },
   "outputs": [
    {
     "data": {
      "text/plain": [
       "1224      59\n",
       "9102      14\n",
       "3655      28\n",
       "8201      92\n",
       "6141      62\n",
       "        ... \n",
       "11468     63\n",
       "7221     275\n",
       "1318      52\n",
       "8915      50\n",
       "11055    167\n",
       "Name: tweet, Length: 9268, dtype: int64"
      ]
     },
     "execution_count": 96,
     "metadata": {},
     "output_type": "execute_result"
    }
   ],
   "source": [
    "tr_data.tweet.str.len()"
   ]
  },
  {
   "cell_type": "code",
   "execution_count": 97,
   "metadata": {
    "id": "tJyVrIpLVHjA"
   },
   "outputs": [],
   "source": [
    "tr_data = tr_data.sort_values(by=\"length\")\n",
    "val_data = val_data.sort_values(by=\"length\")"
   ]
  },
  {
   "cell_type": "code",
   "execution_count": 98,
   "metadata": {},
   "outputs": [
    {
     "data": {
      "text/html": [
       "<div>\n",
       "<style scoped>\n",
       "    .dataframe tbody tr th:only-of-type {\n",
       "        vertical-align: middle;\n",
       "    }\n",
       "\n",
       "    .dataframe tbody tr th {\n",
       "        vertical-align: top;\n",
       "    }\n",
       "\n",
       "    .dataframe thead th {\n",
       "        text-align: right;\n",
       "    }\n",
       "</style>\n",
       "<table border=\"1\" class=\"dataframe\">\n",
       "  <thead>\n",
       "    <tr style=\"text-align: right;\">\n",
       "      <th></th>\n",
       "      <th>id</th>\n",
       "      <th>tweet</th>\n",
       "      <th>subtask_a</th>\n",
       "      <th>subtask_b</th>\n",
       "      <th>subtask_c</th>\n",
       "      <th>label</th>\n",
       "      <th>length</th>\n",
       "    </tr>\n",
       "  </thead>\n",
       "  <tbody>\n",
       "    <tr>\n",
       "      <th>7843</th>\n",
       "      <td>88928</td>\n",
       "      <td>sexy</td>\n",
       "      <td>OFF</td>\n",
       "      <td>TIN</td>\n",
       "      <td>IND</td>\n",
       "      <td>1</td>\n",
       "      <td>5</td>\n",
       "    </tr>\n",
       "    <tr>\n",
       "      <th>8094</th>\n",
       "      <td>32539</td>\n",
       "      <td>fool</td>\n",
       "      <td>OFF</td>\n",
       "      <td>TIN</td>\n",
       "      <td>IND</td>\n",
       "      <td>1</td>\n",
       "      <td>5</td>\n",
       "    </tr>\n",
       "    <tr>\n",
       "      <th>9803</th>\n",
       "      <td>35439</td>\n",
       "      <td>Evil</td>\n",
       "      <td>NOT</td>\n",
       "      <td>NaN</td>\n",
       "      <td>NaN</td>\n",
       "      <td>0</td>\n",
       "      <td>5</td>\n",
       "    </tr>\n",
       "    <tr>\n",
       "      <th>5208</th>\n",
       "      <td>58403</td>\n",
       "      <td>Good</td>\n",
       "      <td>NOT</td>\n",
       "      <td>NaN</td>\n",
       "      <td>NaN</td>\n",
       "      <td>0</td>\n",
       "      <td>5</td>\n",
       "    </tr>\n",
       "    <tr>\n",
       "      <th>3160</th>\n",
       "      <td>74992</td>\n",
       "      <td>Stop</td>\n",
       "      <td>NOT</td>\n",
       "      <td>NaN</td>\n",
       "      <td>NaN</td>\n",
       "      <td>0</td>\n",
       "      <td>5</td>\n",
       "    </tr>\n",
       "    <tr>\n",
       "      <th>...</th>\n",
       "      <td>...</td>\n",
       "      <td>...</td>\n",
       "      <td>...</td>\n",
       "      <td>...</td>\n",
       "      <td>...</td>\n",
       "      <td>...</td>\n",
       "      <td>...</td>\n",
       "    </tr>\n",
       "    <tr>\n",
       "      <th>11991</th>\n",
       "      <td>23835</td>\n",
       "      <td>Haven’t seen that ...</td>\n",
       "      <td>NOT</td>\n",
       "      <td>NaN</td>\n",
       "      <td>NaN</td>\n",
       "      <td>0</td>\n",
       "      <td>320</td>\n",
       "    </tr>\n",
       "    <tr>\n",
       "      <th>1410</th>\n",
       "      <td>96262</td>\n",
       "      <td>...</td>\n",
       "      <td>NOT</td>\n",
       "      <td>NaN</td>\n",
       "      <td>NaN</td>\n",
       "      <td>0</td>\n",
       "      <td>325</td>\n",
       "    </tr>\n",
       "    <tr>\n",
       "      <th>12667</th>\n",
       "      <td>88705</td>\n",
       "      <td>...</td>\n",
       "      <td>OFF</td>\n",
       "      <td>UNT</td>\n",
       "      <td>NaN</td>\n",
       "      <td>1</td>\n",
       "      <td>326</td>\n",
       "    </tr>\n",
       "    <tr>\n",
       "      <th>9036</th>\n",
       "      <td>53102</td>\n",
       "      <td>...</td>\n",
       "      <td>NOT</td>\n",
       "      <td>NaN</td>\n",
       "      <td>NaN</td>\n",
       "      <td>0</td>\n",
       "      <td>326</td>\n",
       "    </tr>\n",
       "    <tr>\n",
       "      <th>2397</th>\n",
       "      <td>29558</td>\n",
       "      <td>...</td>\n",
       "      <td>OFF</td>\n",
       "      <td>TIN</td>\n",
       "      <td>GRP</td>\n",
       "      <td>1</td>\n",
       "      <td>330</td>\n",
       "    </tr>\n",
       "  </tbody>\n",
       "</table>\n",
       "<p>9268 rows × 7 columns</p>\n",
       "</div>"
      ],
      "text/plain": [
       "          id                                              tweet subtask_a  \\\n",
       "7843   88928                                               sexy       OFF   \n",
       "8094   32539                                               fool       OFF   \n",
       "9803   35439                                               Evil       NOT   \n",
       "5208   58403                                               Good       NOT   \n",
       "3160   74992                                               Stop       NOT   \n",
       "...      ...                                                ...       ...   \n",
       "11991  23835                              Haven’t seen that ...       NOT   \n",
       "1410   96262                                                ...       NOT   \n",
       "12667  88705                                                ...       OFF   \n",
       "9036   53102                                                ...       NOT   \n",
       "2397   29558                                                ...       OFF   \n",
       "\n",
       "      subtask_b subtask_c  label  length  \n",
       "7843        TIN       IND      1       5  \n",
       "8094        TIN       IND      1       5  \n",
       "9803        NaN       NaN      0       5  \n",
       "5208        NaN       NaN      0       5  \n",
       "3160        NaN       NaN      0       5  \n",
       "...         ...       ...    ...     ...  \n",
       "11991       NaN       NaN      0     320  \n",
       "1410        NaN       NaN      0     325  \n",
       "12667       UNT       NaN      1     326  \n",
       "9036        NaN       NaN      0     326  \n",
       "2397        TIN       GRP      1     330  \n",
       "\n",
       "[9268 rows x 7 columns]"
      ]
     },
     "execution_count": 98,
     "metadata": {},
     "output_type": "execute_result"
    }
   ],
   "source": [
    "tr_data"
   ]
  },
  {
   "cell_type": "code",
   "execution_count": 99,
   "metadata": {
    "id": "aLxMeEF6VJto"
   },
   "outputs": [],
   "source": [
    "# We create the dataset as ids of tokens\n",
    "dataset_as_ids = create_input(tr_data.tweet, an, word_to_ix.vocabulary_)"
   ]
  },
  {
   "cell_type": "markdown",
   "metadata": {
    "id": "uFAxmX983d_o"
   },
   "source": [
    "Actually, when experimenting with different indices, you will see that many tensors that give a numeric representation of each tweet contain only one element. This is because of removal of stop words:"
   ]
  },
  {
   "cell_type": "code",
   "execution_count": 100,
   "metadata": {
    "colab": {
     "base_uri": "https://localhost:8080/"
    },
    "id": "rXRm0Qc0VMRo",
    "outputId": "eab48cae-1b22-4364-b411-8f9e1d65178e"
   },
   "outputs": [
    {
     "data": {
      "text/plain": [
       "tensor([1104, 2940,    0])"
      ]
     },
     "execution_count": 100,
     "metadata": {},
     "output_type": "execute_result"
    }
   ],
   "source": [
    "dataset_as_ids[140]"
   ]
  },
  {
   "cell_type": "markdown",
   "metadata": {
    "id": "hTthCdOK3d_o"
   },
   "source": [
    "Many of them contain only unknown token with an index `3000` (so, it was really important to add it, otherwise our tensor would be empty):"
   ]
  },
  {
   "cell_type": "code",
   "execution_count": 101,
   "metadata": {
    "colab": {
     "base_uri": "https://localhost:8080/"
    },
    "id": "JqMlyXM73d_o",
    "outputId": "3e0c6a89-7a20-4674-a9b1-40be012f2bf0"
   },
   "outputs": [
    {
     "data": {
      "text/plain": [
       "tensor([3000])"
      ]
     },
     "execution_count": 101,
     "metadata": {},
     "output_type": "execute_result"
    }
   ],
   "source": [
    "dataset_as_ids[13]"
   ]
  },
  {
   "cell_type": "markdown",
   "metadata": {
    "id": "HsRwAz8V3d_o"
   },
   "source": [
    "### Padding\n",
    "\n",
    "- We didn't need to take care of input padding when using Bag-of-Words vectors\n",
    "- Padding handles different sized inputs\n",
    "- We can pad sequences from the left, or from the right\n",
    "\n",
    "![padding](https://miro.medium.com/max/1218/1*zsIXWoN0_CE9PXzmY3tIjQ.png)\n",
    "\n",
    "_image from https://towardsdatascience.com/nlp-preparing-text-for-deep-learning-model-using-tensorflow2-461428138657_"
   ]
  },
  {
   "cell_type": "markdown",
   "metadata": {
    "id": "q4cYXPNg3d_o"
   },
   "source": [
    "`torch.nn.utils.rnn.pad_sequence` takes a list of tensors as input (sequences), calculates max length, and then pads all the sequences with `padding_value` to make them all have the same length"
   ]
  },
  {
   "cell_type": "code",
   "execution_count": 102,
   "metadata": {
    "colab": {
     "base_uri": "https://localhost:8080/"
    },
    "id": "wlFl5MTtVb8J",
    "outputId": "2770b512-b981-479c-e5b4-e191fefc8bfa"
   },
   "outputs": [
    {
     "data": {
      "text/plain": [
       "tensor([[2366, 3001, 3001,  ..., 3001, 3001, 3001],\n",
       "        [1075, 3001, 3001,  ..., 3001, 3001, 3001],\n",
       "        [ 963, 3001, 3001,  ..., 3001, 3001, 3001],\n",
       "        ...,\n",
       "        [3000, 2856,  351,  ..., 3001, 3001, 3001],\n",
       "        [2453,  581, 2201,  ..., 3001, 3001, 3001],\n",
       "        [1921, 1417, 2631,  ..., 3001, 3001, 3001]])"
      ]
     },
     "execution_count": 102,
     "metadata": {},
     "output_type": "execute_result"
    }
   ],
   "source": [
    "from torch.nn.utils.rnn import pad_sequence\n",
    "\n",
    "# pad_sequence will take care of the padding\n",
    "# we will need to provide a padding_value to it\n",
    "padded = pad_sequence(dataset_as_ids, batch_first=True, padding_value=3001)\n",
    "padded"
   ]
  },
  {
   "cell_type": "markdown",
   "metadata": {
    "id": "Me6QHFBV3d_p"
   },
   "source": [
    "Here you can see the dimension of `padded`, so max length among the sequences is 62."
   ]
  },
  {
   "cell_type": "code",
   "execution_count": 103,
   "metadata": {
    "colab": {
     "base_uri": "https://localhost:8080/"
    },
    "id": "1oYS45bb3d_p",
    "outputId": "617c46da-aadc-4ead-febc-bec69859b159"
   },
   "outputs": [
    {
     "data": {
      "text/plain": [
       "torch.Size([9268, 62])"
      ]
     },
     "execution_count": 103,
     "metadata": {},
     "output_type": "execute_result"
    }
   ],
   "source": [
    "padded.shape"
   ]
  },
  {
   "cell_type": "code",
   "execution_count": 104,
   "metadata": {
    "id": "RCPFCrMbXIAs"
   },
   "outputs": [],
   "source": [
    "def prepare_dataloader_with_padding(tr_data, val_data, word_to_ix):\n",
    "    # First create the id representations of the input vectors\n",
    "    # Then pad the sequences so all of the input is the same size\n",
    "    # We padded texts for the whole dataset, this could have been done batch-wise also!\n",
    "    tr_data_vecs = pad_sequence(\n",
    "        create_input(tr_data.tweet, an, word_to_ix.vocabulary_),\n",
    "        batch_first=True,\n",
    "        padding_value=3001,\n",
    "    )\n",
    "    tr_labels = torch.LongTensor(tr_data.label.tolist()).to(device)\n",
    "    tr_lens = torch.LongTensor(\n",
    "        [len(i) for i in create_input(tr_data.tweet, an, word_to_ix.vocabulary_)] #len of tweets\n",
    "    )\n",
    "    print(f\"Original Training sequence lengths before Padding: {tr_lens}\")\n",
    "    print(f\"Training sequence lengths tensor shape: {tr_lens.shape}\")\n",
    "\n",
    "    # We also add the texts to the batches\n",
    "    # This is for the Transformer models, you wont need this in the next experiments\n",
    "    tr_sents = tr_data.tweet.tolist()\n",
    "\n",
    "    val_data_vecs = pad_sequence(\n",
    "        create_input(val_data.tweet, an, word_to_ix.vocabulary_),\n",
    "        batch_first=True,\n",
    "        padding_value=3001,\n",
    "    )\n",
    "    val_labels = torch.LongTensor(val_data.label.tolist()).to(device)\n",
    "    val_lens = torch.LongTensor(\n",
    "        [len(i) for i in create_input(val_data.tweet, an, word_to_ix.vocabulary_)]\n",
    "    )\n",
    "\n",
    "    val_sents = val_data.tweet.tolist()\n",
    "\n",
    "    tr_data_loader = [\n",
    "        (sample, label, length, sent)\n",
    "        for sample, label, length, sent in zip(\n",
    "            tr_data_vecs, tr_labels, tr_lens, tr_sents\n",
    "        )\n",
    "    ]\n",
    "    val_data_loader = [\n",
    "        (sample, label, length, sent)\n",
    "        for sample, label, length, sent in zip(\n",
    "            val_data_vecs, val_labels, val_lens, val_sents\n",
    "        )\n",
    "    ]\n",
    "\n",
    "    return tr_data_loader, val_data_loader"
   ]
  },
  {
   "cell_type": "code",
   "execution_count": 105,
   "metadata": {
    "colab": {
     "base_uri": "https://localhost:8080/"
    },
    "id": "EZvbpqCwXY3E",
    "outputId": "c097e26f-f49f-4269-8efc-cfb707d4cd22"
   },
   "outputs": [
    {
     "name": "stdout",
     "output_type": "stream",
     "text": [
      "Original Training sequence lengths before Padding: tensor([ 1,  1,  1,  ..., 24, 26, 26])\n",
      "Training sequence lengths tensor shape: torch.Size([9268])\n"
     ]
    }
   ],
   "source": [
    "tr_data_loader, val_data_loader = prepare_dataloader_with_padding(\n",
    "    tr_data, val_data, word_to_ix\n",
    ")"
   ]
  },
  {
   "cell_type": "code",
   "execution_count": 106,
   "metadata": {
    "id": "lBSJgL9rXgDG"
   },
   "outputs": [],
   "source": [
    "def create_dataloader_iterators_with_padding(\n",
    "    tr_data_loader, val_data_loader, BATCH_SIZE\n",
    "):\n",
    "    train_iterator = DataLoader(\n",
    "        tr_data_loader,\n",
    "        batch_size=BATCH_SIZE,\n",
    "        shuffle=True,\n",
    "    )\n",
    "\n",
    "    valid_iterator = DataLoader(\n",
    "        val_data_loader,\n",
    "        batch_size=BATCH_SIZE,\n",
    "        shuffle=False,\n",
    "    )\n",
    "\n",
    "    return train_iterator, valid_iterator"
   ]
  },
  {
   "cell_type": "code",
   "execution_count": 107,
   "metadata": {
    "id": "_XLM8WHqZCim"
   },
   "outputs": [],
   "source": [
    "train_iterator, valid_iterator = create_dataloader_iterators_with_padding(\n",
    "    tr_data_loader, val_data_loader, BATCH_SIZE\n",
    ")"
   ]
  },
  {
   "cell_type": "markdown",
   "metadata": {
    "id": "zdxivR4r3d_p"
   },
   "source": [
    "`next(iter(train_iterator))` returns a single batch of data (=batch size)"
   ]
  },
  {
   "cell_type": "code",
   "execution_count": 108,
   "metadata": {
    "colab": {
     "base_uri": "https://localhost:8080/"
    },
    "id": "NrBaXBnaWk9t",
    "outputId": "a8fa419b-9ae2-4f2e-cbfe-f2bacd27090c"
   },
   "outputs": [
    {
     "data": {
      "text/plain": [
       "[tensor([[1171,  924, 2106,  ..., 3001, 3001, 3001],\n",
       "         [ 608, 1646,    0,  ..., 3001, 3001, 3001],\n",
       "         [2277,  188,   21,  ..., 3001, 3001, 3001],\n",
       "         ...,\n",
       "         [1156, 1605, 3001,  ..., 3001, 3001, 3001],\n",
       "         [2830, 1152,  242,  ..., 3001, 3001, 3001],\n",
       "         [2648, 1835,  789,  ..., 3001, 3001, 3001]]),\n",
       " tensor([1, 1, 0, 0, 0, 0, 0, 1, 1, 1, 0, 0, 1, 0, 0, 0, 0, 1, 0, 0, 0, 1, 0, 1,\n",
       "         0, 0, 0, 0, 0, 1, 0, 0, 1, 0, 0, 0, 0, 1, 1, 0, 0, 1, 0, 0, 1, 0, 1, 1,\n",
       "         0, 1, 1, 0, 0, 0, 0, 1, 0, 1, 0, 1, 1, 0, 0, 0]),\n",
       " tensor([ 9, 28, 10, 31,  3,  2, 32, 37, 28, 14, 30, 10, 19,  6,  7, 14,  8, 17,\n",
       "          2,  3, 24, 30,  3,  3,  2, 14, 10,  7,  9, 27, 24, 31,  5, 18, 16, 16,\n",
       "         10,  9, 13, 15,  8, 16,  3, 18, 35,  5, 10,  7,  4,  5,  7,  1, 36, 33,\n",
       "          5,  7, 15, 34, 18,  7, 22,  2,  8,  6]),\n",
       " (\"  Grab em by the pussy!!!  What's the problem?\",\n",
       "  \"Confirm the MAN! THE LEFT WING ACTIVIST IS A LIAR WHO'S STORY CHANGES! NO HARD EVIDENCE! #ChristineBlaseyFord Innocent until proven guilty! #ConfirmKavanaugh  #MAGA    #WeakRinos #Republicans\",\n",
       "  ' And he said in America. Heads up Antifa.   Ur neck is about to be stepped on.',\n",
       "  ' Bottom line is and should be to all is that the accusation is from 35+ yrs ago when they were minors. The judge has 60 HS students of his saying No Way! Judge managed to keep impeccable lifestyle as an adult. Accuser is a hardcore left activist (Soros antifa type who has a 🔨2grd',\n",
       "  ' Good luck  ... not',\n",
       "  ' She is also The Rocks wife',\n",
       "  ' After slamming the book shut, she carefully balances it on her chair\\'s armrest.   Very well. You are forgiven.\"  With a flick of her wrist, she motions for him to lift his head.   \"You stand before Vei\\'Aran Xilhatarra, First of the Argentborn. Why have you sought me?\"\"',\n",
       "  \"  Why didn't Zac Goldsmith of the faux Conservative Party use this?  Why didn't faux Conservative Party use Khan's defence of 9/11 organiser?  Why are the Conservatives so f*cking useless? If you ask me it's deliberate as they share Labour's agenda or are they just that useless?\",\n",
       "  \"  And people take pride in living in a place where survival is a moment to moment struggle a d everything is just shit. They feel tougher and stronger than people in successful pleasant educated clean areas not plagued by violence and death. I've been that guy.\",\n",
       "  \" But antifa are only anti fascist (Romney told me so) she wouldn't throw a brick at you unless you were a na... 😧\",\n",
       "  ' Ask Cruz why he blames tofu eating liberals\" for the influx of money into Texas after Houston just held a conference to woo investors from China in May. Texans must learn where that money is coming from and the reasons for the odd insults. URL  #transparency\"',\n",
       "  '  Phil is right socialists are the new fascists like antifa. Thanks to soros',\n",
       "  '  Liberals are the worst sexists.  Not all women speak truth especially political activists.  Try judging the veracity of the allegation by evidence instead of gender.',\n",
       "  ' Do the Dems ask for gun control in Chicago?',\n",
       "  ' Enthusiastic doesn’t mean collusion or treasonous',\n",
       "  \" Thanks she is sweet. Very very timid skiddish scared of every sound so this hurricane isn't helping her adjust BUT today she started being playful😊\",\n",
       "  '   I love Donald Trump our president of the USA..MAGA..',\n",
       "  '    Shes a liberal all she has to do is disagree with you on one thing to determine that you are a terrible person. Remember liberals talk from their high horses of superior morality.',\n",
       "  ' He is the worst and creepy too',\n",
       "  '  Yup hahaha she is cute',\n",
       "  '  She’s so far up in the clouds she’s long since forgotten what common sense is let alone how the American people feel she’s just another Michael Bloomberg trying to push her views on everyone else and the state she represents',\n",
       "  '#democrats and #liberals don’t give a damn about  allegedly committing physical violence on his ex-girlfriend but they all rush to discredit Kavanaugh for a 35 year old “vague” 11th hour accusation. #walkaway #Hypocrites',\n",
       "  '  Never heard of this guy.',\n",
       "  ' He is an israeli puppet.',\n",
       "  '  leader of Antifa',\n",
       "  'This Day in Liberal Judicial Activism—September 17\"  URL #TCOT #MAGA #RedNationRising\"',\n",
       "  'Get busy... 🤣🤣🤣  #MAGA #ConfirmKavanaugh  #DemsDesperate URL',\n",
       "  '  Liberals have always wanted to get their hands in your wallet and and now they want to get them in your pants.',\n",
       "  '     Like unemployed LibLeft Antifa SJW parent basement dwellers...',\n",
       "  \"    empty your mind and god shall speak. To you? Through you? If you are wise increase in abundance. But surely I'm a fool who has not seen the most powerful who has ascended? Or descended? How times are rare but his messages are absolute.\",\n",
       "  '   death threats\". Where are the police complaint forms, where are the field notes from the police, where are the recordings? Sounds to me like #Antifa is staging it to push the narrative of the #SocialistDemocrats URL',\n",
       "  '  “We will never give up, we will never give in, we will never, ever back down and we will never, ever surrender because we are Americans and our hearts bleed red, white and blue. President Donald J. Trump ! #MAGA  #VoteRepublican2018 #VoteRed2018  #AmericaFirst #KeepAmericaGreat!\"',\n",
       "  '  Mxm nigger thinks we give a fuck URL',\n",
       "  ' Comes with the territory but I’m going to say it’s the same leftist that control antifa...just to make more out of it than it actually is! Just saying',\n",
       "  ' His endorsement of Cindy Hyde Smith is a major disconnect. She\\'s a former\" Democrat with a shady gun control past.\"',\n",
       "  \" I know she is very good friends with Siobhan and the two CLP's help each other a lot I imagine. It would seem she has upset a lot of people in her constituency?\",\n",
       "  ' Liberals wear PU$$Y hats for a reason. 🙄',\n",
       "  ' They are hoping all over it. But then they are probably the biggest crowd of racist bigots in the country they back antifa',\n",
       "  '     Ummm theres video of it and the coach literally admitted to it lmao. Maybe read before having strong shitty opinions',\n",
       "  ' Wasnt it just recently that john brown gun club got kicked out of a shooting range for being antifa\"?\"',\n",
       "  '  You are insinuating that the rape victim is not credible because polygraphs are not admissible in court.',\n",
       "  ' Hmmm it’s almost like gun control laws don’t work. Which means that there must be something more than guns that are the problem.....',\n",
       "  ' I can definitely do that for sure!',\n",
       "  '.        We did a great job of electing  and a terrible job of who we sent to congress to support him   Conservatives left frustrated as Congress passes big spending bills URL',\n",
       "  '          NS liberals will sell out fishermen in a heartbeat. These N.S. Liberals are probably in line looking for private sector handouts. Big money tied to Kameron Coal.  don’t care about Nova Scotians. Look at health and education. Fisheries next?',\n",
       "  ' Please add me. Thank you   #MAGA',\n",
       "  \"  I have Dick Durbin that's not gonna happen blame Shitcago that's what i do..\",\n",
       "  ' He schools read a ammo box warning label...',\n",
       "  ' he is already on betfair exchange but not on sportbooks.',\n",
       "  ' I like how her boobs have the same mass as her belly XD',\n",
       "  ' The monuments that will be torn down in the next 10 years?  Much to the consternation of we conservatives',\n",
       "  '  Yeah he is',\n",
       "  'Just think this hate America filled man was our VP!!!!??? Dems HATE AMERICA! Do you see it yet?   WALK no #RUNAway from Dems &amp; join Patriots who LOVE TO LIVE IN AMERICA!   #MAGA URL',\n",
       "  '#Tories #Labour #GE2017 #Conservatives Conservatives URL sajidjavid: Productive discussions with new Pakistan foreign and interior ministers in Islamabad today. Agreed to improve cooperation on anti-corruption &amp; counter-terrorism - v… URL',\n",
       "  '               Antifa constantly lies and... URL',\n",
       "  '   She is a walking talking lie..  that’s why.',\n",
       "  ' BO is bitterly PO’d that Donald Trumps presidency has made him look like the bad president that he was.',\n",
       "  ' I think Donald Trump is a disgusting disgraceful pig . Shame on him thinking that he did so much for Puerto Rico . He failed us . And he is a failure as a so called president . He did nothing but talk bad about Puerto Rican’s he doesn’t understand that PR is USA territory.JERKOFF',\n",
       "  '  That would be about how the Dems work. Still think Dr F was told long before it wasn’t ever going to this far because someone convinced her the conservatives would roll over immediately',\n",
       "  ' I love my penis and want to keep it. Would rather smoke a joint.',\n",
       "  '#VA10 voters know  is the right side of the gun issue. Gun control or gun rights? The answer may help determine whether NRA-financed Rep. Comstock wins reelection URL',\n",
       "  ' Good look',\n",
       "  \"   I was going to ask the same thing.  Don't know who he is.\",\n",
       "  '  But thats ok only dems and liberals can do that dont you know that')]"
      ]
     },
     "execution_count": 108,
     "metadata": {},
     "output_type": "execute_result"
    }
   ],
   "source": [
    "next(iter(train_iterator))"
   ]
  },
  {
   "cell_type": "code",
   "execution_count": 109,
   "metadata": {
    "colab": {
     "base_uri": "https://localhost:8080/"
    },
    "id": "sLbPdOtA3d_q",
    "outputId": "77069a65-801a-4fc0-fdc3-7bdb7561571c"
   },
   "outputs": [
    {
     "name": "stdout",
     "output_type": "stream",
     "text": [
      "Dimension of a tensor with data samples on each iteration (2D tensor of shape (BATCH_SIZE, max_sequence_length)): torch.Size([64, 62])\n",
      "Number of tweets in the batch: 64\n",
      "tensor([1108, 1558, 2830, 1224, 1974, 3000, 3000,  243, 3001, 3001, 3001, 3001,\n",
      "        3001, 3001, 3001, 3001, 3001, 3001, 3001, 3001, 3001, 3001, 3001, 3001,\n",
      "        3001, 3001, 3001, 3001, 3001, 3001, 3001, 3001, 3001, 3001, 3001, 3001,\n",
      "        3001, 3001, 3001, 3001, 3001, 3001, 3001, 3001, 3001, 3001, 3001, 3001,\n",
      "        3001, 3001, 3001, 3001, 3001, 3001, 3001, 3001, 3001, 3001, 3001, 3001,\n",
      "        3001, 3001])\n",
      "tensor(8)\n",
      " fucking liar she was happy to play kate nash when you asked her\n"
     ]
    }
   ],
   "source": [
    "samples, labels, lengths, sents = next(iter(train_iterator))\n",
    "print(f'Dimension of a tensor with data samples on each iteration (2D tensor of shape (BATCH_SIZE, max_sequence_length)): {samples.shape}')\n",
    "print(f'Number of tweets in the batch: {len(sents)}')\n",
    "print(samples[1]) # 2nd sample with X unique ids that are then padded to tensor len=62\n",
    "print(lengths[1]) # original length of the 2nd sample (before padding)\n",
    "print(sents[1])"
   ]
  },
  {
   "cell_type": "markdown",
   "metadata": {
    "id": "z8XktMyY3d_q"
   },
   "source": [
    "![embedding](https://github.com/bentrevett/pytorch-sentiment-analysis/raw/b4efbefa47672174394a8b6a27d4e7bc193bc224/assets/sentiment8.png)\n",
    "\n",
    "_Image from bentrevett_: (BoW) model with an embedding layer and a pooling operation"
   ]
  },
  {
   "cell_type": "markdown",
   "metadata": {},
   "source": [
    "Max Pooling:\n",
    "\n",
    "`[[0.1, 0.3, 0.2],`  # \"I\"\n",
    "\n",
    " `[0.5, 0.7, 0.6],`  # \"hate\"\n",
    "\n",
    " `[0.2, 0.1, 0.3],`  # \"this\"\n",
    " \n",
    " `[0.4, 0.9, 0.8]]`  # \"film\"\n",
    "\n",
    "Max pooling (along the sequence dimension): `[0.5, 0.9, 0.8]` represents the whole tweet\n",
    "\n",
    "\n"
   ]
  },
  {
   "cell_type": "code",
   "execution_count": 110,
   "metadata": {
    "id": "k85Rbx-3ZLq9"
   },
   "outputs": [],
   "source": [
    "from torch import nn\n",
    "import numpy as np\n",
    "\n",
    "\n",
    "class BoWClassifierWithEmbedding(nn.Module):\n",
    "    def __init__(self, num_labels, vocab_size, embedding_dim):\n",
    "        super(BoWClassifierWithEmbedding, self).__init__()\n",
    "\n",
    "        # We define the embedding layer here\n",
    "        # It will convert a list of ids: [1, 50, 64, 2006]\n",
    "        # Into a list of vectors, one for each word\n",
    "        # The embedding layer will learn the vectors from the contexts\n",
    "        self.embedding = nn.Embedding(vocab_size, embedding_dim, padding_idx=3001)\n",
    "        # We could also load precomputed embeddings, e.g. GloVe, in some cases we don't want to train the embedding layer\n",
    "        # In this case we enable the training\n",
    "        self.embedding.weight.requires_grad = True\n",
    "\n",
    "        self.linear = nn.Linear(embedding_dim, num_labels)\n",
    "\n",
    "    def forward(self, text, sequence_lens):\n",
    "        # First we create the embedded vectors\n",
    "        embedded = self.embedding(text)  # dim=64x62x100 (batch_size x seq_len x embedding_dim)\n",
    "        #print(embedded.shape)\n",
    "        #print(embedded.shape[1])\n",
    "        # We need a pooling to convert a list of embedded words to a sentence vector\n",
    "        # We could have chosen different pooling, e.g. min, max, average..\n",
    "        # With LSTM we also do a pooling, just smarter\n",
    "        pooled = F.max_pool2d(embedded, (embedded.shape[1], 1)).squeeze(1)  # dim=64x100 (batch_size x embedding_dim)\n",
    "        #print(pooled.shape)\n",
    "        return F.log_softmax(self.linear(pooled), dim=1)"
   ]
  },
  {
   "cell_type": "code",
   "execution_count": 111,
   "metadata": {
    "id": "IwBofSXr3d_q"
   },
   "outputs": [],
   "source": [
    "INPUT_DIM = VOCAB_SIZE + 2  # 3002\n",
    "OUTPUT_DIM = 2\n",
    "EMBEDDING_DIM = 100  # embedding layer will have an embedding vector for each of the 3000 vocabulary words, plus vectors for <UNK> and <PAD>\n",
    "HIDDEN_DIM = 20\n",
    "criterion = nn.NLLLoss()\n",
    "\n",
    "model = BoWClassifierWithEmbedding(OUTPUT_DIM, INPUT_DIM, EMBEDDING_DIM)\n",
    "#model = LSTMClassifier(OUTPUT_DIM, INPUT_DIM, EMBEDDING_DIM, HIDDEN_DIM)"
   ]
  },
  {
   "cell_type": "code",
   "execution_count": 112,
   "metadata": {
    "id": "p9H7nwaH3d_q"
   },
   "outputs": [],
   "source": [
    "model = model.to(device)\n",
    "criterion = criterion.to(device)\n",
    "optimizer = optim.Adam(model.parameters(), lr=1e-3)"
   ]
  },
  {
   "cell_type": "code",
   "execution_count": 113,
   "metadata": {
    "colab": {
     "base_uri": "https://localhost:8080/"
    },
    "id": "taiga3wN3d_q",
    "outputId": "c6c3bd65-9dc3-4fda-f795-709653bfc642"
   },
   "outputs": [
    {
     "name": "stdout",
     "output_type": "stream",
     "text": [
      "Epoch: 01 | Epoch Time: 0m 0s\n",
      "\tTrain Loss: 0.654 | Train Prec: 9.29% | Train Rec: 34.76% | Train Fscore: 13.42%\n",
      "\t Val. Loss: 0.642 |  Val Prec: 4.48% | Val Rec: 34.94% | Val Fscore: 7.31%\n",
      "Epoch: 02 | Epoch Time: 0m 0s\n",
      "\tTrain Loss: 0.624 | Train Prec: 10.13% | Train Rec: 46.03% | Train Fscore: 15.41%\n",
      "\t Val. Loss: 0.642 |  Val Prec: 2.98% | Val Rec: 21.17% | Val Fscore: 4.96%\n",
      "Epoch: 03 | Epoch Time: 0m 0s\n",
      "\tTrain Loss: 0.606 | Train Prec: 16.80% | Train Rec: 55.48% | Train Fscore: 23.50%\n",
      "\t Val. Loss: 0.614 |  Val Prec: 13.04% | Val Rec: 55.93% | Val Fscore: 20.12%\n",
      "Epoch: 04 | Epoch Time: 0m 0s\n",
      "\tTrain Loss: 0.579 | Train Prec: 21.33% | Train Rec: 70.11% | Train Fscore: 31.07%\n",
      "\t Val. Loss: 0.603 |  Val Prec: 17.02% | Val Rec: 60.91% | Val Fscore: 25.47%\n",
      "Epoch: 05 | Epoch Time: 0m 0s\n",
      "\tTrain Loss: 0.558 | Train Prec: 30.94% | Train Rec: 74.04% | Train Fscore: 41.66%\n",
      "\t Val. Loss: 0.594 |  Val Prec: 19.10% | Val Rec: 67.83% | Val Fscore: 28.52%\n",
      "Epoch: 06 | Epoch Time: 0m 0s\n",
      "\tTrain Loss: 0.531 | Train Prec: 36.02% | Train Rec: 76.11% | Train Fscore: 47.73%\n",
      "\t Val. Loss: 0.596 |  Val Prec: 41.14% | Val Rec: 53.43% | Val Fscore: 45.30%\n",
      "Epoch: 07 | Epoch Time: 0m 0s\n",
      "\tTrain Loss: 0.506 | Train Prec: 41.99% | Train Rec: 76.48% | Train Fscore: 52.59%\n",
      "\t Val. Loss: 0.578 |  Val Prec: 29.58% | Val Rec: 63.82% | Val Fscore: 39.32%\n",
      "Epoch: 08 | Epoch Time: 0m 0s\n",
      "\tTrain Loss: 0.481 | Train Prec: 46.64% | Train Rec: 78.40% | Train Fscore: 57.29%\n",
      "\t Val. Loss: 0.574 |  Val Prec: 35.19% | Val Rec: 62.19% | Val Fscore: 44.02%\n",
      "Epoch: 09 | Epoch Time: 0m 0s\n",
      "\tTrain Loss: 0.457 | Train Prec: 51.03% | Train Rec: 79.48% | Train Fscore: 61.15%\n",
      "\t Val. Loss: 0.575 |  Val Prec: 43.50% | Val Rec: 58.79% | Val Fscore: 49.02%\n",
      "Epoch: 10 | Epoch Time: 0m 0s\n",
      "\tTrain Loss: 0.432 | Train Prec: 57.04% | Train Rec: 81.38% | Train Fscore: 66.09%\n",
      "\t Val. Loss: 0.579 |  Val Prec: 29.76% | Val Rec: 70.39% | Val Fscore: 40.71%\n",
      "Epoch: 11 | Epoch Time: 0m 0s\n",
      "\tTrain Loss: 0.412 | Train Prec: 59.77% | Train Rec: 81.91% | Train Fscore: 68.16%\n",
      "\t Val. Loss: 0.573 |  Val Prec: 45.19% | Val Rec: 60.38% | Val Fscore: 50.92%\n",
      "Epoch: 12 | Epoch Time: 0m 0s\n",
      "\tTrain Loss: 0.389 | Train Prec: 62.92% | Train Rec: 83.58% | Train Fscore: 70.96%\n",
      "\t Val. Loss: 0.578 |  Val Prec: 34.63% | Val Rec: 68.37% | Val Fscore: 45.09%\n",
      "Epoch: 13 | Epoch Time: 0m 0s\n",
      "\tTrain Loss: 0.367 | Train Prec: 66.15% | Train Rec: 85.47% | Train Fscore: 74.03%\n",
      "\t Val. Loss: 0.577 |  Val Prec: 39.65% | Val Rec: 66.13% | Val Fscore: 48.74%\n",
      "Epoch: 14 | Epoch Time: 0m 0s\n",
      "\tTrain Loss: 0.348 | Train Prec: 68.64% | Train Rec: 85.51% | Train Fscore: 75.49%\n",
      "\t Val. Loss: 0.580 |  Val Prec: 41.00% | Val Rec: 65.19% | Val Fscore: 49.54%\n",
      "No improvement in validation loss for 3 consecutive epochs. Early stopping after epoch 14.\n"
     ]
    },
    {
     "data": {
      "image/png": "[encoded data removed]",
      "text/plain": [
       "<Figure size 720x432 with 1 Axes>"
      ]
     },
     "metadata": {
      "needs_background": "light"
     },
     "output_type": "display_data"
    },
    {
     "data": {
      "text/plain": [
       "0.5730739907612876"
      ]
     },
     "execution_count": 113,
     "metadata": {},
     "output_type": "execute_result"
    }
   ],
   "source": [
    "training_loop(epoch_number=15)"
   ]
  },
  {
   "cell_type": "markdown",
   "metadata": {
    "id": "1KC-dHUk3d_q"
   },
   "source": [
    "## Standard RNNs & LSTMs"
   ]
  },
  {
   "cell_type": "markdown",
   "metadata": {
    "id": "Q4c7dR4C3d_q"
   },
   "source": [
    "Unrolled RNN (image source: [colah's blog](https://colah.github.io/posts/2015-08-Understanding-LSTMs/)):\n",
    "\n",
    "![unrolled_rnn1](https://colah.github.io/posts/2015-08-Understanding-LSTMs/img/RNN-unrolled.png)"
   ]
  },
  {
   "cell_type": "markdown",
   "metadata": {
    "id": "4Gje5sbL3d_q"
   },
   "source": [
    "Repeating module in the standard RNN (image source: [colah's blog](https://colah.github.io/posts/2015-08-Understanding-LSTMs/)):\n",
    "\n",
    "![rnn_module](https://colah.github.io/posts/2015-08-Understanding-LSTMs/img/LSTM3-SimpleRNN.png)"
   ]
  },
  {
   "cell_type": "markdown",
   "metadata": {
    "id": "ppm_CVtY3d_q"
   },
   "source": [
    "Repeating module in the LSTM (image source: [colah's blog](https://colah.github.io/posts/2015-08-Understanding-LSTMs/))\n",
    "\n",
    "![repeating_module_lstm](https://colah.github.io/posts/2015-08-Understanding-LSTMs/img/LSTM3-chain.png)"
   ]
  },
  {
   "cell_type": "markdown",
   "metadata": {
    "id": "u4-IuFuR3d_q"
   },
   "source": [
    "Output of the LSTM layer..\n",
    "\n",
    "![lstm](https://i.stack.imgur.com/SjnTl.png)\n",
    "\n",
    "_image from stackoverflow_"
   ]
  },
  {
   "cell_type": "code",
   "execution_count": 114,
   "metadata": {
    "id": "kGOrrC2U3d_q"
   },
   "outputs": [],
   "source": [
    "class LSTMClassifier(nn.Module):\n",
    "    def __init__(self, num_labels, vocab_size, embedding_dim, hidden_dim):\n",
    "        super(LSTMClassifier, self).__init__()\n",
    "        self.embedding = nn.Embedding(vocab_size, embedding_dim, padding_idx=3001)\n",
    "        self.embedding.weight.requires_grad = True\n",
    "\n",
    "        # Define the LSTM layer\n",
    "        # Documentation: https://pytorch.org/docs/stable/generated/torch.nn.LSTM.html\n",
    "        self.lstm = nn.LSTM(\n",
    "            embedding_dim,\n",
    "            hidden_dim,\n",
    "            batch_first=True,\n",
    "            num_layers=1,\n",
    "            bidirectional=False,\n",
    "        )\n",
    "        self.linear = nn.Linear(hidden_dim, num_labels)\n",
    "        # Dropout to overcome overfitting\n",
    "        self.dropout = nn.Dropout(0.25)\n",
    "\n",
    "    def forward(self, text, sequence_lens):\n",
    "        embedded = self.embedding(text)\n",
    "\n",
    "        # To ensure LSTM doesn't learn gradients for the id of the padding symbol\n",
    "        packed = nn.utils.rnn.pack_padded_sequence(\n",
    "            embedded, sequence_lens, enforce_sorted=False, batch_first=True\n",
    "        )\n",
    "        packed_outputs, (h, c) = self.lstm(packed)\n",
    "        # extract LSTM outputs (not used here)\n",
    "        lstm_outputs, lens = nn.utils.rnn.pad_packed_sequence(\n",
    "            packed_outputs, batch_first=True\n",
    "        )\n",
    "\n",
    "        # We use the last hidden vector from LSTM\n",
    "        y = self.linear(h[-1])\n",
    "        log_probs = F.log_softmax(y, dim=1)\n",
    "        return log_probs"
   ]
  },
  {
   "cell_type": "code",
   "execution_count": 115,
   "metadata": {
    "id": "9QgKkr4bZSPG"
   },
   "outputs": [],
   "source": [
    "INPUT_DIM = VOCAB_SIZE + 2\n",
    "OUTPUT_DIM = 2\n",
    "EMBEDDING_DIM = 100\n",
    "HIDDEN_DIM = 20\n",
    "criterion = nn.NLLLoss()\n",
    "\n",
    "#model = BoWClassifierWithEmbedding(OUTPUT_DIM, INPUT_DIM, EMBEDDING_DIM)\n",
    "model = LSTMClassifier(OUTPUT_DIM, INPUT_DIM, EMBEDDING_DIM, HIDDEN_DIM)"
   ]
  },
  {
   "cell_type": "code",
   "execution_count": 116,
   "metadata": {
    "id": "oVrF6CgmZUeg"
   },
   "outputs": [],
   "source": [
    "model = model.to(device)\n",
    "criterion = criterion.to(device)\n",
    "optimizer = optim.Adam(model.parameters(), lr=1e-3)"
   ]
  },
  {
   "cell_type": "code",
   "execution_count": 117,
   "metadata": {
    "colab": {
     "base_uri": "https://localhost:8080/"
    },
    "id": "bHCHriijZU9F",
    "outputId": "7709e9e3-9426-4f11-b620-2b5ff8c06c97"
   },
   "outputs": [
    {
     "name": "stdout",
     "output_type": "stream",
     "text": [
      "Epoch: 01 | Epoch Time: 0m 1s\n",
      "\tTrain Loss: 0.635 | Train Prec: 0.17% | Train Rec: 2.76% | Train Fscore: 0.32%\n",
      "\t Val. Loss: 0.628 |  Val Prec: 0.88% | Val Rec: 15.87% | Val Fscore: 1.66%\n",
      "Epoch: 02 | Epoch Time: 0m 1s\n",
      "\tTrain Loss: 0.618 | Train Prec: 3.08% | Train Rec: 35.93% | Train Fscore: 5.51%\n",
      "\t Val. Loss: 0.613 |  Val Prec: 8.39% | Val Rec: 56.22% | Val Fscore: 13.92%\n",
      "Epoch: 03 | Epoch Time: 0m 1s\n",
      "\tTrain Loss: 0.568 | Train Prec: 28.33% | Train Rec: 73.51% | Train Fscore: 38.62%\n",
      "\t Val. Loss: 0.589 |  Val Prec: 35.24% | Val Rec: 59.53% | Val Fscore: 43.23%\n",
      "Epoch: 04 | Epoch Time: 0m 1s\n",
      "\tTrain Loss: 0.492 | Train Prec: 49.85% | Train Rec: 74.88% | Train Fscore: 58.88%\n",
      "\t Val. Loss: 0.590 |  Val Prec: 34.72% | Val Rec: 65.04% | Val Fscore: 43.99%\n",
      "Epoch: 05 | Epoch Time: 0m 1s\n",
      "\tTrain Loss: 0.425 | Train Prec: 60.43% | Train Rec: 79.93% | Train Fscore: 67.89%\n",
      "\t Val. Loss: 0.605 |  Val Prec: 47.99% | Val Rec: 60.33% | Val Fscore: 52.54%\n",
      "Epoch: 06 | Epoch Time: 0m 1s\n",
      "\tTrain Loss: 0.368 | Train Prec: 67.74% | Train Rec: 82.29% | Train Fscore: 73.64%\n",
      "\t Val. Loss: 0.641 |  Val Prec: 43.49% | Val Rec: 64.28% | Val Fscore: 50.84%\n",
      "No improvement in validation loss for 3 consecutive epochs. Early stopping after epoch 6.\n"
     ]
    },
    {
     "data": {
      "image/png": "[encoded data removed]",
      "text/plain": [
       "<Figure size 720x432 with 1 Axes>"
      ]
     },
     "metadata": {
      "needs_background": "light"
     },
     "output_type": "display_data"
    },
    {
     "data": {
      "text/plain": [
       "0.5891430524606553"
      ]
     },
     "execution_count": 117,
     "metadata": {},
     "output_type": "execute_result"
    }
   ],
   "source": [
    "training_loop(epoch_number=15)"
   ]
  },
  {
   "cell_type": "markdown",
   "metadata": {},
   "source": [
    "Interested in LSTMs? Check out the recent paper by the group of Sepp Hochreiter [xLSTM: Extended Long Short-Term Memory](https://arxiv.org/abs/2405.04517)\n",
    "- Exponential Gating\n",
    "- New memory structure to address long-term dependencies problem of RNNs and initial LSTMs\n",
    "- mLSTM: address the problem of lacking parallelisation in LSTMs"
   ]
  },
  {
   "cell_type": "markdown",
   "metadata": {
    "id": "U6HJydBI3d_r"
   },
   "source": [
    "#### CNN for NLP\n",
    "\n",
    "- works with input of fixed length (to handle it we need padding: fill sequences of different length with tokens that do not contain any meaning)\n",
    "- kernels (filters) in the visualisation below correspond to kernels for bigrams, trigrams and and tetragrams (2 for each type of kernels)\n",
    "- In Computer Vision, our filters slide over local patches of an image, but in NLP we typically use filters that slide over full rows of the matrix (words). Thus, the second dimension of our filters is usually the same as the number of columns of the input matrix"
   ]
  },
  {
   "cell_type": "markdown",
   "metadata": {
    "id": "XSi04xtI3d_r"
   },
   "source": [
    "CNN architecture for NLP introduced in [Zhang et al. A Sensitivity Analysis of (and Practitioners' Guide to) Convolutional Neural Networks for Sentence Classification. 2015](https://arxiv.org/pdf/1510.03820.pdf)"
   ]
  },
  {
   "cell_type": "markdown",
   "metadata": {
    "id": "FLx6p6f2Y69C"
   },
   "source": [
    "## Transformers"
   ]
  },
  {
   "cell_type": "markdown",
   "metadata": {
    "id": "uCLmfXf03d_r"
   },
   "source": [
    "## Attention mechanism in a nutshell"
   ]
  },
  {
   "cell_type": "markdown",
   "metadata": {
    "id": "IKbKwWUV3d_r"
   },
   "source": [
    "To recap: seq2seq: encoder-decoder architecture with 2 RNNs without an attention block (image source: [medium article](https://towardsdatascience.com/understanding-encoder-decoder-sequence-to-sequence-model-679e04af4346))\n",
    "\n",
    "![encoder_decoder_rnn](https://miro.medium.com/v2/resize:fit:720/format:webp/1*1JcHGUU7rFgtXC_mydUA_Q.jpeg)"
   ]
  },
  {
   "cell_type": "markdown",
   "metadata": {},
   "source": [
    "##### Attention mechanism and neural machine translation\n",
    "\n",
    "Machine translation\n",
    "\n",
    "fascinating history that started more than 100 years ago (translating machine of Troyanskii, Georgetown–IBM experiment, ...): some of these experiments were driven by the Cold War\n",
    "\n",
    "- rule-based systems\n",
    "- statistical machine translation (phrase-based statistical machine translation is SOTA until 2016)\n",
    "- NN based approaches without attention mechanism\n",
    "- RNN based Encoder-Decoder architecture with attention mechanism (introduced in 2014 in the paper [Bengio et al. Neural Machine Translation by Jointly Learning to Align and Translate](https://arxiv.org/abs/1409.0473)): read [this Google Blog](https://blog.research.google/2016/09/a-neural-network-for-machine.html) from 2016 on machine translation system they introduced back then, namely Google Neural Machine Translation (GNMT) that contained 8 RNN layers in the encoder and decoder + attention mechanism\n",
    "- Attention is all you need :D\n"
   ]
  },
  {
   "cell_type": "markdown",
   "metadata": {
    "id": "wiQKQ9ub3d_r"
   },
   "source": [
    "![attention_encoder_decoder](https://miro.medium.com/v2/resize:fit:640/format:webp/1*KrCUK30Y1R7TV7xE-ltcpg.png)\n",
    "\n",
    "Image source: [medium article](https://medium.com/data-science-community-srm/understanding-encoders-decoders-with-attention-based-mechanism-c1eb7164c581)"
   ]
  },
  {
   "cell_type": "markdown",
   "metadata": {
    "id": "aT0P2gIA3d_r"
   },
   "source": [
    "### Problems with recurrent neural networks:\n",
    "\n",
    "Recall that we used recurrent neural cells, specifically LSTMs to encode a list of vectors into a sentence vector.\n",
    "\n",
    "- Problem 1. No parallelism\n",
    "\n",
    "        - LSTMs are recurrent, they rely on their left and right history, so the symbols need to be processed in order -> no parallelism.\n",
    "\n",
    "- Problem 2. Long-range dependencies\n",
    "\n",
    "        - Long-range dependencies are not infrequent in NLP.\n",
    "\n",
    "        - \"The people/person who called and wanted to rent your house when you go away next year are/is from California\" -- Miller & Chomsky 1963\n",
    "\n",
    "        - LSTMs have a problem capturing these because there are too many backpropagation steps between the symbols."
   ]
  },
  {
   "cell_type": "markdown",
   "metadata": {
    "id": "Xx-3mF6O3d_s"
   },
   "source": [
    "## Transformers\n",
    "\n",
    "Good explanation of transformer architecture: https://jalammar.github.io/illustrated-transformer/\n",
    "\n",
    "![transformer_architecture](https://machinelearningmastery.com/wp-content/uploads/2021/08/attention_research_1.png)\n",
    "\n",
    "Image source: https://machinelearningmastery.com"
   ]
  },
  {
   "cell_type": "markdown",
   "metadata": {},
   "source": [
    "- Attention is all you need: no convolutions or recurrences are used. Introduction of multi-headed self-attention. \n",
    "\n",
    "\"The animal didn't cross the street because it was too tired\" -- We want self-attention to associate *it* with *animal*"
   ]
  },
  {
   "cell_type": "markdown",
   "metadata": {},
   "source": [
    "![self_attention](https://miro.medium.com/v2/resize:fit:4800/format:webp/1*maneqIvralwRZWf0g3hS5w.png)\n",
    "\n",
    "Image source: [towardsdatascience](https://towardsdatascience.com/all-you-need-to-know-about-attention-and-transformers-in-depth-understanding-part-1-552f0b41d021#4c16)"
   ]
  },
  {
   "cell_type": "markdown",
   "metadata": {},
   "source": [
    "![self_attention_detailed](https://miro.medium.com/v2/resize:fit:4800/format:webp/1*Rv_pntt-N2WL7LMbIptHxQ.png)\n",
    "\n",
    "Image source: [towardsdatascience](https://towardsdatascience.com/all-you-need-to-know-about-attention-and-transformers-in-depth-understanding-part-1-552f0b41d021#4c16)"
   ]
  },
  {
   "cell_type": "markdown",
   "metadata": {
    "id": "XhkOwAbq3d_s"
   },
   "source": [
    "Introduced in [Attention Is All You Need](https://papers.nips.cc/paper/2017/file/3f5ee243547dee91fbd053c1c4a845aa-Paper.pdf) by Vaswani et al., 2017\n",
    "\n",
    "Transformers solve Problem 1 by relying purely on attention instead of recurrence.\n",
    "\n",
    "Not having recurrent connections means that sequence position no longer matters.\n",
    "\n",
    "Recurrence is replaced by self-attention."
   ]
  },
  {
   "cell_type": "markdown",
   "metadata": {
    "id": "eUqe0zbX3d_s"
   },
   "source": [
    "- Transformers are available in the __transformers__ Python package: https://github.com/huggingface/transformers.\n",
    "- There are thousands of pretrained transformers models in different languages and with different architectures.\n",
    "- With the huggingface package there is a unified interface to download and use all the models. Browse https://huggingface.co/models for more!\n",
    "- There is also a great blog post to understand the architecture of transformers: https://jalammar.github.io/illustrated-transformer/"
   ]
  },
  {
   "cell_type": "markdown",
   "metadata": {
    "id": "6GTFkorG3d_s"
   },
   "source": [
    "### BERT\n",
    "\n",
    "[BERT](https://www.aclweb.org/anthology/N19-1423/): Pre-training of Deep Bidirectional Transformers for Language Understanding by Devlin et al. 2018\n",
    "\n",
    "[BERTology](https://huggingface.co/transformers/bertology.html) is the nickname for the growing amount of BERT-related research.\n",
    "\n",
    "BERT trains a transformer model on two tasks:\n",
    "\n",
    "- Masked language model:\n",
    "\n",
    "    - 15% of the tokens' wordpieces are selected at the beginning.\n",
    "    - 80% of those are replaced with [MASK],\n",
    "    - 10% are replaced with a random token,\n",
    "    - 10% are kept intact.\n",
    "\n",
    "- Next sentence prediction:\n",
    "    - Are sentences A and B consecutive sentences?\n",
    "    - Generate 50-50%.\n",
    "    - Binary classification task.\n",
    "    \n",
    "\n",
    "### Training, Finetuning BERT\n",
    "\n",
    "- BERT models are (masked-)language models that were usually trained on large corporas.\n",
    "\n",
    "- e.g. BERT base model was trained on BookCorpus, a dataset consisting of 11,038 unpublished books and English Wikipedia.\n",
    "- vocab_size=30522 for BERT base \n",
    "\n",
    "#### Finetuning\n",
    "\n",
    "- Get a trained BERT model.\n",
    "- Add a small classification layer on top (typically a 2-layer MLP).\n",
    "- Train BERT along with the classification layer on an annotated dataset.\n",
    "- Much smaller than the data BERT was trained on\n",
    "- Another option: freeze BERT and train the classification layer only.\n",
    "    - Easier training regime.\n",
    "    - Smaller memory footprint.\n",
    "    - Worse performance."
   ]
  },
  {
   "cell_type": "markdown",
   "metadata": {
    "id": "n6wM58yp3d_s"
   },
   "source": [
    "<img src=\"https://production-media.paperswithcode.com/methods/new_BERT_Overall.jpg\" alt=\"finetune\" width=\"800px\"/>"
   ]
  },
  {
   "cell_type": "code",
   "execution_count": 119,
   "metadata": {
    "colab": {
     "base_uri": "https://localhost:8080/"
    },
    "id": "4WimJ7cD3d_s",
    "outputId": "465b09cb-4eb9-4370-efda-1c0c88d7fd06"
   },
   "outputs": [
    {
     "name": "stdout",
     "output_type": "stream",
     "text": [
      "Requirement already satisfied: transformers in /Users/varya/miniforge3/envs/work/lib/python3.8/site-packages (4.19.4)\n",
      "Requirement already satisfied: filelock in /Users/varya/miniforge3/envs/work/lib/python3.8/site-packages (from transformers) (3.7.0)\n",
      "Requirement already satisfied: huggingface-hub<1.0,>=0.1.0 in /Users/varya/miniforge3/envs/work/lib/python3.8/site-packages (from transformers) (0.7.0)\n",
      "Requirement already satisfied: numpy>=1.17 in /Users/varya/miniforge3/envs/work/lib/python3.8/site-packages (from transformers) (1.23.5)\n",
      "Requirement already satisfied: packaging>=20.0 in /Users/varya/miniforge3/envs/work/lib/python3.8/site-packages (from transformers) (23.1)\n",
      "Requirement already satisfied: pyyaml>=5.1 in /Users/varya/miniforge3/envs/work/lib/python3.8/site-packages (from transformers) (6.0)\n",
      "Requirement already satisfied: regex!=2019.12.17 in /Users/varya/miniforge3/envs/work/lib/python3.8/site-packages (from transformers) (2022.4.24)\n",
      "Requirement already satisfied: requests in /Users/varya/miniforge3/envs/work/lib/python3.8/site-packages (from transformers) (2.31.0)\n",
      "Requirement already satisfied: tokenizers!=0.11.3,<0.13,>=0.11.1 in /Users/varya/miniforge3/envs/work/lib/python3.8/site-packages (from transformers) (0.12.1)\n",
      "Requirement already satisfied: tqdm>=4.27 in /Users/varya/miniforge3/envs/work/lib/python3.8/site-packages (from transformers) (4.64.0)\n",
      "Requirement already satisfied: typing-extensions>=3.7.4.3 in /Users/varya/miniforge3/envs/work/lib/python3.8/site-packages (from huggingface-hub<1.0,>=0.1.0->transformers) (4.8.0)\n",
      "Requirement already satisfied: charset-normalizer<4,>=2 in /Users/varya/miniforge3/envs/work/lib/python3.8/site-packages (from requests->transformers) (3.2.0)\n",
      "Requirement already satisfied: idna<4,>=2.5 in /Users/varya/miniforge3/envs/work/lib/python3.8/site-packages (from requests->transformers) (2.10)\n",
      "Requirement already satisfied: urllib3<3,>=1.21.1 in /Users/varya/miniforge3/envs/work/lib/python3.8/site-packages (from requests->transformers) (1.26.4)\n",
      "Requirement already satisfied: certifi>=2017.4.17 in /Users/varya/miniforge3/envs/work/lib/python3.8/site-packages (from requests->transformers) (2023.7.22)\n",
      "\u001b[33mWARNING: There was an error checking the latest version of pip.\u001b[0m\u001b[33m\n",
      "\u001b[0m"
     ]
    }
   ],
   "source": [
    "!pip install transformers"
   ]
  },
  {
   "cell_type": "markdown",
   "metadata": {
    "id": "dHAnZlRA3d_s"
   },
   "source": [
    "### WordPiece tokenizer\n",
    "- BERT has its own tokenizer\n",
    "- All inputs must be tokenized with BERT\n",
    "- You don't need to remove stopwords, lemmatize, preprocess the input for BERT\n",
    "\n",
    "- It is a middle ground between word and character tokenization.\n",
    "\n",
    "- Static vocabulary:\n",
    "    - Special tokens: [CLS], [SEP], [MASK], [UNK]\n",
    "    - It tokenizes everything, falling back to characters and [UNK] if necessary"
   ]
  },
  {
   "cell_type": "code",
   "execution_count": null,
   "metadata": {
    "colab": {
     "base_uri": "https://localhost:8080/"
    },
    "id": "Hnq5zE8Wf-_F",
    "outputId": "e1225cb4-4d56-4810-b977-6a5327d6ef78"
   },
   "outputs": [],
   "source": [
    "!pip3 install emoji==0.6.0"
   ]
  },
  {
   "cell_type": "code",
   "execution_count": 134,
   "metadata": {
    "id": "CkBZHPfqPwZ-"
   },
   "outputs": [],
   "source": [
    "from transformers import BertTokenizer, AutoTokenizer"
   ]
  },
  {
   "cell_type": "code",
   "execution_count": 148,
   "metadata": {},
   "outputs": [
    {
     "name": "stdout",
     "output_type": "stream",
     "text": [
      "['i', 'love', 'python', '[UNK]', 'and', 'data', 'analysis', '[UNK]', '!']\n"
     ]
    }
   ],
   "source": [
    "from transformers import BertTokenizer\n",
    "\n",
    "# Load a BERT tokenizer\n",
    "tokenizer = BertTokenizer.from_pretrained(\"bert-base-uncased\")\n",
    "\n",
    "text = \"I love Python 🐍 and data analysis 📊!\"\n",
    "\n",
    "# Tokenize the text\n",
    "tokens = tokenizer.tokenize(text)\n",
    "print(tokens)"
   ]
  },
  {
   "cell_type": "code",
   "execution_count": 149,
   "metadata": {},
   "outputs": [
    {
     "data": {
      "text/plain": [
       "{'input_ids': [101, 2045, 2024, 2304, 8870, 1998, 2304, 6077, 1012, 102, 2178, 6251, 1012, 102], 'token_type_ids': [0, 0, 0, 0, 0, 0, 0, 0, 0, 0, 1, 1, 1, 1], 'attention_mask': [1, 1, 1, 1, 1, 1, 1, 1, 1, 1, 1, 1, 1, 1]}"
      ]
     },
     "execution_count": 149,
     "metadata": {},
     "output_type": "execute_result"
    }
   ],
   "source": [
    "tokenizer(\"There are black cats and black dogs.\", \"Another sentence.\")"
   ]
  },
  {
   "cell_type": "markdown",
   "metadata": {},
   "source": [
    "=> [CLS] Sentence 1 [SEP] Sentence 2 [SEP]\n",
    "\n",
    "100: [UNK] (Unknown token)\n",
    "\n",
    "101: [CLS] (Classification Token)\n",
    "\n",
    "102: [SEP] (Separator Token): The [CLS] token is special in BERT as it is used to aggregate information from the entire sequence. Its output embedding (from the last layer of the model) is often used for classification tasks (e.g., sentiment analysis, sentence-pair classification).\n",
    "\n",
    "103: [MASK] (Masked Token)\n",
    "\n",
    "0: [PAD] (Padding)\n"
   ]
  },
  {
   "cell_type": "code",
   "execution_count": 150,
   "metadata": {},
   "outputs": [
    {
     "name": "stdout",
     "output_type": "stream",
     "text": [
      "<class 'transformers.models.bert.tokenization_bert.BertTokenizer'>\n",
      "30522\n"
     ]
    },
    {
     "data": {
      "text/plain": [
       "['his',\n",
       " 'full',\n",
       " 'name',\n",
       " 'is',\n",
       " 'f',\n",
       " '##yo',\n",
       " '##dor',\n",
       " 'mikhail',\n",
       " '##ovich',\n",
       " 'dos',\n",
       " '##to',\n",
       " '##evsky']"
      ]
     },
     "execution_count": 150,
     "metadata": {},
     "output_type": "execute_result"
    }
   ],
   "source": [
    "print(type(tokenizer))\n",
    "print(len(tokenizer.get_vocab()))\n",
    "\n",
    "tokenizer.tokenize(\"His full name is Fyodor Mikhailovich Dostoevsky\")"
   ]
  },
  {
   "cell_type": "markdown",
   "metadata": {},
   "source": [
    "Now, let's have a look at how another tokeniser works:"
   ]
  },
  {
   "cell_type": "code",
   "execution_count": 151,
   "metadata": {},
   "outputs": [
    {
     "name": "stderr",
     "output_type": "stream",
     "text": [
      "Special tokens have been added in the vocabulary, make sure the associated word embeddings are fine-tuned or trained.\n"
     ]
    },
    {
     "name": "stdout",
     "output_type": "stream",
     "text": [
      "['I', 'love', 'Python', '🐍', 'and', 'data', 'analysis', '📊@@', '!']\n"
     ]
    }
   ],
   "source": [
    "from transformers import BertTokenizer\n",
    "\n",
    "# Load a BERT tokenizer\n",
    "tokenizer = AutoTokenizer.from_pretrained(\"vinai/bertweet-base\")  # The vinai/bertweet-base model does not use BertTokenizer. it uses a RoBERTa-like tokenizer => AutoTokenizer for simplicity\n",
    "\n",
    "text = \"I love Python 🐍 and data analysis 📊!\"\n",
    "\n",
    "# Tokenize the text\n",
    "tokens = tokenizer.tokenize(text)\n",
    "print(tokens)"
   ]
  },
  {
   "cell_type": "code",
   "execution_count": 152,
   "metadata": {
    "colab": {
     "base_uri": "https://localhost:8080/",
     "height": 145,
     "referenced_widgets": [
      "3459a07ff77442a0a99d62a564aeab5a",
      "7c1fa3d8b54f4499a16b37b941b856d3",
      "4cd5bef030644364ad11b5fee58e1279",
      "44de39b785d14456997e3cafd6aa7578",
      "e74e23913379453aa16931b744e2e2d8",
      "3a14450014e74d918381af193a4aade0",
      "21e12a93ca1040ee9c796a1bd1ddb690",
      "d5ca0736f19b43f48d995c66fe3a790b",
      "146565c18d7940358a93ac1f139e2bd0",
      "5e25007b6c2e49e8ae6f61c5b927c6c1",
      "59d7aa0205b1432f8e0e069df1de55bb",
      "8ea0dfe133984d8a82026d93d1aa2f7e",
      "f9432d8165854debaa7d0f33acf2f471",
      "2da8cfea31114cddb4bccf2a7a070442",
      "7100823ec0bb4137b918ef42b000a71f",
      "42b4e686cded4f98a8f75c028e008278",
      "45ea52ab0e3341f7820c404ef4538591",
      "2bc8e3b3cc9447c5baeb3e291ca59950",
      "c6de9018faa54c3191df2700d2bb2f2b",
      "f326ca5639e949e9bec56868fc153679",
      "802e81c53b4b470bb496bfc457df3913",
      "e4db997df90f459c9af94a29c99a5207",
      "c7f998f7f4f74e189b76e771f6626f53",
      "2053c0e273a14a5ca7181ef1d715da9b",
      "15798adc99b84a64bee5e2bf516d3479",
      "3173c3d5743a48d89df922c77991e941",
      "b7f63463a8de4bc5a52d6a03a57abcfa",
      "49b86b4023f447a38f4cd386348945da",
      "f869070b970744e8805c44e8ec57eedb",
      "0084f75d88624fc38d3f5ad29c6718a2",
      "8c2dd19ab40e40cdab1e0264bb3733b4",
      "a560cc0902d44a60a7e2eebf951249e5",
      "c9f9c38161214356b21d3a10fb04e655",
      "6ac1188056784b96b03c18af698a3555",
      "c0137e3e2bd04202819a245bd779a172",
      "51d17cbe78904d81883dfb1a6c376736",
      "1cab0d74c9a9497296c05768cf00f236",
      "c5a99c03a661472a8528ac63006bd054",
      "984ed9f1ef754c938a900f48d11279a1",
      "5c29713b593a4086948e4fe12824bb62",
      "dabe388568ab4603a8507fca7d1ae509",
      "3d72d47fb5554cebbba3a299aa42eadf",
      "bb6eb80a86d94015b765c39913a3da4a",
      "e4fafd7a57704de18116e8f917f6b0b9"
     ]
    },
    "id": "__eq23ZTP21d",
    "outputId": "be2e99e5-0bfe-49d9-a9ff-7d9b63fb5bb4"
   },
   "outputs": [
    {
     "name": "stderr",
     "output_type": "stream",
     "text": [
      "Special tokens have been added in the vocabulary, make sure the associated word embeddings are fine-tuned or trained.\n"
     ]
    }
   ],
   "source": [
    "#tokenizer = BertTokenizer.from_pretrained(\"bert-base-uncased\")\n",
    "#tokenizer = BertTokenizer.from_pretrained(\"bert-large-uncased\")\n",
    "tokenizer = AutoTokenizer.from_pretrained(\"vinai/bertweet-base\")"
   ]
  },
  {
   "cell_type": "code",
   "execution_count": 153,
   "metadata": {
    "colab": {
     "base_uri": "https://localhost:8080/"
    },
    "id": "J6crEZat3d_s",
    "outputId": "6e41eecc-7873-47ce-d6de-7b79920d71cd"
   },
   "outputs": [
    {
     "name": "stdout",
     "output_type": "stream",
     "text": [
      "<class 'transformers.models.bertweet.tokenization_bertweet.BertweetTokenizer'>\n",
      "64001\n"
     ]
    },
    {
     "data": {
      "text/plain": [
       "['His',\n",
       " 'full',\n",
       " 'name',\n",
       " 'is',\n",
       " 'Fy@@',\n",
       " 'odor',\n",
       " 'Mikha@@',\n",
       " 'i@@',\n",
       " 'lov@@',\n",
       " 'ich',\n",
       " 'Do@@',\n",
       " 'sto@@',\n",
       " 'ev@@',\n",
       " 'sky']"
      ]
     },
     "execution_count": 153,
     "metadata": {},
     "output_type": "execute_result"
    }
   ],
   "source": [
    "print(type(tokenizer))\n",
    "print(len(tokenizer.get_vocab()))\n",
    "\n",
    "tokenizer.tokenize(\"His full name is Fyodor Mikhailovich Dostoevsky\")"
   ]
  },
  {
   "cell_type": "code",
   "execution_count": 154,
   "metadata": {
    "colab": {
     "base_uri": "https://localhost:8080/"
    },
    "id": "xsDuwhJl3d_s",
    "outputId": "f9a3a9d8-c561-422c-dc21-47f4305f339d"
   },
   "outputs": [
    {
     "data": {
      "text/plain": [
       "{'input_ids': [0, 326, 41, 583, 3490, 13, 583, 10638, 32188, 2, 2, 1311, 31707, 11725, 4, 2], 'token_type_ids': [0, 0, 0, 0, 0, 0, 0, 0, 0, 0, 0, 0, 0, 0, 0, 0], 'attention_mask': [1, 1, 1, 1, 1, 1, 1, 1, 1, 1, 1, 1, 1, 1, 1, 1]}"
      ]
     },
     "execution_count": 154,
     "metadata": {},
     "output_type": "execute_result"
    }
   ],
   "source": [
    "tokenizer(\"There are black cats and black dogs.\", \"Another sentence.\")"
   ]
  },
  {
   "cell_type": "markdown",
   "metadata": {
    "id": "P-31r_6N3d_s"
   },
   "source": [
    "### Train a BertForSequenceClassification model on the dataset"
   ]
  },
  {
   "cell_type": "code",
   "execution_count": 127,
   "metadata": {
    "id": "ieWp80HC3d_t"
   },
   "outputs": [],
   "source": [
    "from transformers import BertForSequenceClassification, AutoModelForSequenceClassification, TrainingArguments, RobertaForSequenceClassification, Trainer"
   ]
  },
  {
   "cell_type": "markdown",
   "metadata": {
    "id": "RjbS4v-E3d_t"
   },
   "source": [
    "__BertForSequenceClassification__ is a helper class to train transformer-based BERT models. It puts a classification layer on top of a pretrained model.\n",
    "\n",
    "Read more in the documentation: https://huggingface.co/transformers/model_doc/bert.html#bertforsequenceclassification"
   ]
  },
  {
   "cell_type": "code",
   "execution_count": 128,
   "metadata": {
    "colab": {
     "base_uri": "https://localhost:8080/",
     "height": 103,
     "referenced_widgets": [
      "9cb3c33c775646ad969bf63742aac67c",
      "3a8c5d093fcd4ce7bc45af7cbb574d4d",
      "117939875677424c9654ba2659fc2afd",
      "eaad47593aa74e78afd8bd4f59d275b8",
      "0d2d068d26a149bb8dc313869d383b18",
      "c0cf938381f648bb80c3fba33aedcfed",
      "3ff241b617a34ff2ae37e965c62c1692",
      "ef7df33e327b4f1b82b9f9ed5aa956d6",
      "52eb4b4f37794bbcb7be0affffe0434b",
      "c265a33272d94721a2ad0d16f1576e5a",
      "8ab0b04ab3614908b7d6b116e6c4e1eb"
     ]
    },
    "id": "nNitpQlH3d_t",
    "outputId": "80c065b3-3a24-48d2-93f0-0a00dd84e97e"
   },
   "outputs": [
    {
     "data": {
      "application/vnd.jupyter.widget-view+json": {
       "model_id": "295cf05ef5eb402c81e1710074772829",
       "version_major": 2,
       "version_minor": 0
      },
      "text/plain": [
       "Downloading:   0%|          | 0.00/517M [00:00<?, ?B/s]"
      ]
     },
     "metadata": {},
     "output_type": "display_data"
    },
    {
     "name": "stderr",
     "output_type": "stream",
     "text": [
      "Some weights of the model checkpoint at vinai/bertweet-base were not used when initializing RobertaForSequenceClassification: ['lm_head.bias', 'roberta.pooler.dense.weight', 'lm_head.layer_norm.weight', 'roberta.pooler.dense.bias', 'lm_head.decoder.weight', 'lm_head.layer_norm.bias', 'lm_head.dense.weight', 'lm_head.decoder.bias', 'lm_head.dense.bias']\n",
      "- This IS expected if you are initializing RobertaForSequenceClassification from the checkpoint of a model trained on another task or with another architecture (e.g. initializing a BertForSequenceClassification model from a BertForPreTraining model).\n",
      "- This IS NOT expected if you are initializing RobertaForSequenceClassification from the checkpoint of a model that you expect to be exactly identical (initializing a BertForSequenceClassification model from a BertForSequenceClassification model).\n",
      "Some weights of RobertaForSequenceClassification were not initialized from the model checkpoint at vinai/bertweet-base and are newly initialized: ['classifier.out_proj.weight', 'classifier.dense.bias', 'classifier.out_proj.bias', 'classifier.dense.weight']\n",
      "You should probably TRAIN this model on a down-stream task to be able to use it for predictions and inference.\n"
     ]
    }
   ],
   "source": [
    "#model = BertForSequenceClassification.from_pretrained(\"bert-base-uncased\", num_labels=2)\n",
    "#_ = model.to(device)\n",
    "\n",
    "model = AutoModelForSequenceClassification.from_pretrained(\"vinai/bertweet-base\", num_labels=2)\n",
    "_ = model.to(device)\n",
    "\n",
    "#model = BertForSequenceClassification.from_pretrained(\"bert-large-uncased\", num_labels=2)\n",
    "#_ = model.to(device)"
   ]
  },
  {
   "cell_type": "code",
   "execution_count": 129,
   "metadata": {
    "id": "IOOymZT0ZNs9"
   },
   "outputs": [],
   "source": [
    "# We only want to finetune the classification layer on top of BERT\n",
    "for p in model.base_model.parameters():\n",
    "    p.requires_grad = False"
   ]
  },
  {
   "cell_type": "code",
   "execution_count": 156,
   "metadata": {},
   "outputs": [
    {
     "name": "stdout",
     "output_type": "stream",
     "text": [
      "True\n",
      "True\n",
      "True\n",
      "True\n"
     ]
    }
   ],
   "source": [
    "for p in model.classifier.parameters():\n",
    "    print(p.requires_grad)  # Check trainable status\n"
   ]
  },
  {
   "cell_type": "code",
   "execution_count": 157,
   "metadata": {},
   "outputs": [
    {
     "name": "stdout",
     "output_type": "stream",
     "text": [
      "False\n",
      "False\n",
      "False\n",
      "False\n",
      "False\n",
      "False\n",
      "False\n",
      "False\n",
      "False\n",
      "False\n",
      "False\n",
      "False\n",
      "False\n",
      "False\n",
      "False\n",
      "False\n",
      "False\n",
      "False\n",
      "False\n",
      "False\n",
      "False\n",
      "False\n",
      "False\n",
      "False\n",
      "False\n",
      "False\n",
      "False\n",
      "False\n",
      "False\n",
      "False\n",
      "False\n",
      "False\n",
      "False\n",
      "False\n",
      "False\n",
      "False\n",
      "False\n",
      "False\n",
      "False\n",
      "False\n",
      "False\n",
      "False\n",
      "False\n",
      "False\n",
      "False\n",
      "False\n",
      "False\n",
      "False\n",
      "False\n",
      "False\n",
      "False\n",
      "False\n",
      "False\n",
      "False\n",
      "False\n",
      "False\n",
      "False\n",
      "False\n",
      "False\n",
      "False\n",
      "False\n",
      "False\n",
      "False\n",
      "False\n",
      "False\n",
      "False\n",
      "False\n",
      "False\n",
      "False\n",
      "False\n",
      "False\n",
      "False\n",
      "False\n",
      "False\n",
      "False\n",
      "False\n",
      "False\n",
      "False\n",
      "False\n",
      "False\n",
      "False\n",
      "False\n",
      "False\n",
      "False\n",
      "False\n",
      "False\n",
      "False\n",
      "False\n",
      "False\n",
      "False\n",
      "False\n",
      "False\n",
      "False\n",
      "False\n",
      "False\n",
      "False\n",
      "False\n",
      "False\n",
      "False\n",
      "False\n",
      "False\n",
      "False\n",
      "False\n",
      "False\n",
      "False\n",
      "False\n",
      "False\n",
      "False\n",
      "False\n",
      "False\n",
      "False\n",
      "False\n",
      "False\n",
      "False\n",
      "False\n",
      "False\n",
      "False\n",
      "False\n",
      "False\n",
      "False\n",
      "False\n",
      "False\n",
      "False\n",
      "False\n",
      "False\n",
      "False\n",
      "False\n",
      "False\n",
      "False\n",
      "False\n",
      "False\n",
      "False\n",
      "False\n",
      "False\n",
      "False\n",
      "False\n",
      "False\n",
      "False\n",
      "False\n",
      "False\n",
      "False\n",
      "False\n",
      "False\n",
      "False\n",
      "False\n",
      "False\n",
      "False\n",
      "False\n",
      "False\n",
      "False\n",
      "False\n",
      "False\n",
      "False\n",
      "False\n",
      "False\n",
      "False\n",
      "False\n",
      "False\n",
      "False\n",
      "False\n",
      "False\n",
      "False\n",
      "False\n",
      "False\n",
      "False\n",
      "False\n",
      "False\n",
      "False\n",
      "False\n",
      "False\n",
      "False\n",
      "False\n",
      "False\n",
      "False\n",
      "False\n",
      "False\n",
      "False\n",
      "False\n",
      "False\n",
      "False\n",
      "False\n",
      "False\n",
      "False\n",
      "False\n",
      "False\n",
      "False\n",
      "False\n",
      "False\n",
      "False\n",
      "False\n",
      "False\n",
      "False\n",
      "False\n",
      "False\n",
      "False\n",
      "False\n",
      "False\n",
      "True\n",
      "True\n",
      "True\n",
      "True\n"
     ]
    }
   ],
   "source": [
    "for p in model.parameters():\n",
    "    print(p.requires_grad)"
   ]
  },
  {
   "cell_type": "code",
   "execution_count": null,
   "metadata": {
    "colab": {
     "base_uri": "https://localhost:8080/"
    },
    "id": "tSSlbI6F3d_t",
    "outputId": "1830a80b-eb94-48ae-9119-91adb4a63a31"
   },
   "outputs": [
    {
     "name": "stdout",
     "output_type": "stream",
     "text": [
      "The BERT model has 201 different named parameters.\n",
      "==== Embedding Layer ====\n",
      "\n",
      "roberta.embeddings.word_embeddings.weight (64001, 768)\n",
      "roberta.embeddings.position_embeddings.weight (130, 768)\n",
      "roberta.embeddings.token_type_embeddings.weight (1, 768)\n",
      "roberta.embeddings.LayerNorm.weight (768,)\n",
      "roberta.embeddings.LayerNorm.bias (768,)\n",
      "\n",
      "==== First Transformer ====\n",
      "\n",
      "roberta.encoder.layer.0.attention.self.query.weight (768, 768)\n",
      "roberta.encoder.layer.0.attention.self.query.bias (768,)\n",
      "roberta.encoder.layer.0.attention.self.key.weight (768, 768)\n",
      "roberta.encoder.layer.0.attention.self.key.bias (768,)\n",
      "roberta.encoder.layer.0.attention.self.value.weight (768, 768)\n",
      "roberta.encoder.layer.0.attention.self.value.bias (768,)\n",
      "roberta.encoder.layer.0.attention.output.dense.weight (768, 768)\n",
      "roberta.encoder.layer.0.attention.output.dense.bias (768,)\n",
      "roberta.encoder.layer.0.attention.output.LayerNorm.weight (768,)\n",
      "roberta.encoder.layer.0.attention.output.LayerNorm.bias (768,)\n",
      "roberta.encoder.layer.0.intermediate.dense.weight (3072, 768)\n",
      "roberta.encoder.layer.0.intermediate.dense.bias (3072,)\n",
      "roberta.encoder.layer.0.output.dense.weight (768, 3072)\n",
      "roberta.encoder.layer.0.output.dense.bias (768,)\n",
      "roberta.encoder.layer.0.output.LayerNorm.weight (768,)\n",
      "roberta.encoder.layer.0.output.LayerNorm.bias (768,)\n",
      "\n",
      "==== Output Layer ====\n",
      "\n",
      "classifier.dense.weight (768, 768)\n",
      "classifier.dense.bias (768,)\n",
      "classifier.out_proj.weight (2, 768)\n",
      "classifier.out_proj.bias (2,)\n"
     ]
    }
   ],
   "source": [
    "params = list(model.named_parameters())\n",
    "\n",
    "print(f\"The BERT model has {len(params)} different named parameters.\")\n",
    "\n",
    "print(\"==== Embedding Layer ====\\n\")\n",
    "\n",
    "for p in params[0:5]:\n",
    "    print(f\"{p[0]} {str(tuple(p[1].size()))}\")\n",
    "\n",
    "print(\"\\n==== First Transformer Encoder Block ====\\n\")  \n",
    "\n",
    "for p in params[5:21]:\n",
    "    print(f\"{p[0]} {str(tuple(p[1].size()))}\")\n",
    "\n",
    "print(\"\\n==== Output Layer ====\\n\")\n",
    "\n",
    "for p in params[-4:]:\n",
    "    print(f\"{p[0]} {str(tuple(p[1].size()))}\")"
   ]
  },
  {
   "cell_type": "code",
   "execution_count": 158,
   "metadata": {
    "id": "xWfRwslX3d_t"
   },
   "outputs": [],
   "source": [
    "N_EPOCHS = 5\n",
    "optimizer = optim.Adam(model.parameters())\n",
    "\n",
    "#weights = torch.Tensor([1, 2])\n",
    "#criterion = nn.CrossEntropyLoss(weight=weights)"
   ]
  },
  {
   "cell_type": "code",
   "execution_count": 159,
   "metadata": {
    "colab": {
     "base_uri": "https://localhost:8080/"
    },
    "id": "xzJBSYBy3d_t",
    "outputId": "fd1dc375-7e42-4a6b-fe9f-3adfb4afcbda"
   },
   "outputs": [
    {
     "name": "stdout",
     "output_type": "stream",
     "text": [
      "Original Training sequence lengths before Padding: tensor([ 1,  1,  1,  ..., 24, 26, 26])\n",
      "Training sequence lengths tensor shape: torch.Size([9268])\n"
     ]
    }
   ],
   "source": [
    "tr_data_loader, val_data_loader = prepare_dataloader_with_padding(\n",
    "    tr_data, val_data, word_to_ix\n",
    ")\n",
    "\n",
    "train_iterator, valid_iterator = create_dataloader_iterators_with_padding(\n",
    "    tr_data_loader, val_data_loader, BATCH_SIZE\n",
    ")"
   ]
  },
  {
   "cell_type": "code",
   "execution_count": 133,
   "metadata": {
    "colab": {
     "base_uri": "https://localhost:8080/"
    },
    "id": "qw2l_Idk3d_t",
    "outputId": "fca7bd8d-7a36-4b93-b9d2-1ebeeb30c3dd"
   },
   "outputs": [
    {
     "name": "stdout",
     "output_type": "stream",
     "text": [
      "Epoch: 01 | Epoch Time: 3m 35s\n",
      "\tTrain Loss: 0.615 | Train Prec: 16.23% | Train Rec: 47.95% | Train Fscore: 21.39%\n",
      "\t Val. Loss: 0.614 |  Val Prec: 3.62% | Val Rec: 39.68% | Val Fscore: 6.49%\n",
      "Epoch: 02 | Epoch Time: 3m 36s\n",
      "\tTrain Loss: 0.589 | Train Prec: 25.76% | Train Rec: 59.76% | Train Fscore: 32.85%\n",
      "\t Val. Loss: 0.562 |  Val Prec: 19.65% | Val Rec: 65.77% | Val Fscore: 28.23%\n",
      "Epoch: 03 | Epoch Time: 3m 36s\n",
      "\tTrain Loss: 0.588 | Train Prec: 29.11% | Train Rec: 59.52% | Train Fscore: 35.21%\n",
      "\t Val. Loss: 0.558 |  Val Prec: 21.38% | Val Rec: 67.98% | Val Fscore: 29.68%\n",
      "Epoch: 04 | Epoch Time: 3m 37s\n",
      "\tTrain Loss: 0.580 | Train Prec: 29.99% | Train Rec: 61.62% | Train Fscore: 38.01%\n",
      "\t Val. Loss: 0.592 |  Val Prec: 61.01% | Val Rec: 55.81% | Val Fscore: 56.84%\n",
      "Epoch: 05 | Epoch Time: 3m 34s\n",
      "\tTrain Loss: 0.579 | Train Prec: 31.08% | Train Rec: 61.37% | Train Fscore: 38.56%\n",
      "\t Val. Loss: 0.552 |  Val Prec: 23.84% | Val Rec: 67.30% | Val Fscore: 32.72%\n"
     ]
    }
   ],
   "source": [
    "for epoch in range(N_EPOCHS):\n",
    "\n",
    "    start_time = time.time()\n",
    "\n",
    "    train_epoch_loss = 0\n",
    "    train_epoch_prec = 0\n",
    "    train_epoch_recall = 0\n",
    "    train_epoch_fscore = 0\n",
    "    model.train()\n",
    "\n",
    "    # We use our own iterator but now use the raw texts instead of the ID tokens\n",
    "    for train_batch in train_iterator:\n",
    "        labels = train_batch[1]\n",
    "        texts = train_batch[3]\n",
    "\n",
    "        optimizer.zero_grad()\n",
    "\n",
    "        # We use BERT's own tokenizer on raw texts\n",
    "        # Check the documentation: https://huggingface.co/transformers/main_classes/tokenizer.html\n",
    "        encoded = tokenizer(\n",
    "            texts,\n",
    "            truncation=True,\n",
    "            max_length=128,\n",
    "            padding=True,\n",
    "            return_tensors=\"pt\",\n",
    "        )\n",
    "\n",
    "        # BERT converts texts into IDs of its own vocabulary\n",
    "        input_ids = encoded[\"input_ids\"].to(device)\n",
    "        # Mask to avoid performing attention on padding token indices.\n",
    "        attention_mask = encoded[\"attention_mask\"].to(device)\n",
    "\n",
    "        # Run the model\n",
    "        outputs = model(input_ids, attention_mask=attention_mask, labels=labels)\n",
    "\n",
    "        loss = outputs[0] #negative log likelihood loss\n",
    "\n",
    "\n",
    "        predictions = outputs[1]\n",
    "        #print(predictions)\n",
    "        prec, recall, fscore = calculate_performance(predictions, labels)\n",
    "\n",
    "        loss.backward()\n",
    "        optimizer.step()\n",
    "\n",
    "        train_epoch_loss += loss.item()\n",
    "        train_epoch_prec += prec.item()\n",
    "        train_epoch_recall += recall.item()\n",
    "        train_epoch_fscore += fscore.item()\n",
    "\n",
    "    train_loss = train_epoch_loss / len(train_iterator)\n",
    "    train_prec = train_epoch_prec / len(train_iterator)\n",
    "    train_rec = train_epoch_recall / len(train_iterator)\n",
    "    train_fscore = train_epoch_fscore / len(train_iterator)\n",
    "\n",
    "    # And validate your model on the validation set\n",
    "    valid_epoch_loss = 0\n",
    "    valid_epoch_prec = 0\n",
    "    valid_epoch_recall = 0\n",
    "    valid_epoch_fscore = 0\n",
    "    model.eval()\n",
    "\n",
    "    with torch.no_grad():\n",
    "        for valid_batch in valid_iterator:\n",
    "            labels = valid_batch[1]\n",
    "            texts = valid_batch[3]\n",
    "\n",
    "            encoded = tokenizer(\n",
    "                texts,\n",
    "                truncation=True,\n",
    "                max_length=128,\n",
    "                padding=True,\n",
    "                return_tensors=\"pt\",\n",
    "            )\n",
    "            input_ids = encoded[\"input_ids\"].to(device)\n",
    "            attention_mask = encoded[\"attention_mask\"].to(device)\n",
    "\n",
    "            outputs = model(input_ids, attention_mask=attention_mask, labels=labels)\n",
    "            loss = outputs[0]\n",
    "            predictions = outputs[1]\n",
    "            prec, recall, fscore = calculate_performance(predictions, labels)\n",
    "\n",
    "            # We add batch-wise loss to the epoch-wise loss\n",
    "            valid_epoch_loss += loss.item()\n",
    "            valid_epoch_prec += prec.item()\n",
    "            valid_epoch_recall += recall.item()\n",
    "            valid_epoch_fscore += fscore.item()\n",
    "\n",
    "    valid_loss = valid_epoch_loss / len(valid_iterator)\n",
    "    valid_prec = valid_epoch_prec / len(valid_iterator)\n",
    "    valid_rec = valid_epoch_recall / len(valid_iterator)\n",
    "    valid_fscore = valid_epoch_fscore / len(valid_iterator)\n",
    "\n",
    "    end_time = time.time()\n",
    "\n",
    "    epoch_mins, epoch_secs = epoch_time(start_time, end_time)\n",
    "\n",
    "    print(f\"Epoch: {epoch+1:02} | Epoch Time: {epoch_mins}m {epoch_secs}s\")\n",
    "    print(\n",
    "        f\"\\tTrain Loss: {train_loss:.3f} | Train Prec: {train_prec*100:.2f}% | Train Rec: {train_rec*100:.2f}% | Train Fscore: {train_fscore*100:.2f}%\"\n",
    "    )\n",
    "    print(\n",
    "        f\"\\t Val. Loss: {valid_loss:.3f} |  Val Prec: {valid_prec*100:.2f}% | Val Rec: {valid_rec*100:.2f}% | Val Fscore: {valid_fscore*100:.2f}%\"\n",
    "    )"
   ]
  },
  {
   "cell_type": "markdown",
   "metadata": {
    "id": "UJhkftgRnPfF"
   },
   "source": [
    "## Same experiment with HuggingFace"
   ]
  },
  {
   "cell_type": "markdown",
   "metadata": {},
   "source": [
    "In this experiment we will also look at how you can track your experiments with [mlflow](https://mlflow.org)"
   ]
  },
  {
   "cell_type": "code",
   "execution_count": null,
   "metadata": {
    "colab": {
     "base_uri": "https://localhost:8080/"
    },
    "id": "gjO27_TGrNbs",
    "outputId": "20555f09-41da-4e2d-c509-0eec88675d27"
   },
   "outputs": [],
   "source": [
    "!pip install -U accelerate\n",
    "!pip install -U transformers"
   ]
  },
  {
   "cell_type": "code",
   "execution_count": null,
   "metadata": {
    "colab": {
     "base_uri": "https://localhost:8080/"
    },
    "id": "32u3e_YVxT47",
    "outputId": "6373e936-55cc-48d5-f131-4a759bf3feef"
   },
   "outputs": [],
   "source": [
    "import accelerate\n",
    "import transformers\n",
    "\n",
    "transformers.__version__, accelerate.__version__"
   ]
  },
  {
   "cell_type": "code",
   "execution_count": null,
   "metadata": {},
   "outputs": [],
   "source": [
    "pip install safetensors"
   ]
  },
  {
   "cell_type": "code",
   "execution_count": null,
   "metadata": {
    "colab": {
     "base_uri": "https://localhost:8080/"
    },
    "id": "GmaqPsaT3d_t",
    "outputId": "9c99606e-38e0-48bd-8aec-fa2edfc5c46c"
   },
   "outputs": [],
   "source": [
    "!pip install wandb"
   ]
  },
  {
   "cell_type": "markdown",
   "metadata": {
    "id": "eGh81QfDn579"
   },
   "source": [
    "Check the train and val data again"
   ]
  },
  {
   "cell_type": "code",
   "execution_count": 163,
   "metadata": {
    "colab": {
     "base_uri": "https://localhost:8080/",
     "height": 419
    },
    "id": "wTsbwgEsnaXt",
    "outputId": "d3f5ca87-2bd8-4b2b-ad58-c473544f79cc"
   },
   "outputs": [
    {
     "data": {
      "text/html": [
       "<div>\n",
       "<style scoped>\n",
       "    .dataframe tbody tr th:only-of-type {\n",
       "        vertical-align: middle;\n",
       "    }\n",
       "\n",
       "    .dataframe tbody tr th {\n",
       "        vertical-align: top;\n",
       "    }\n",
       "\n",
       "    .dataframe thead th {\n",
       "        text-align: right;\n",
       "    }\n",
       "</style>\n",
       "<table border=\"1\" class=\"dataframe\">\n",
       "  <thead>\n",
       "    <tr style=\"text-align: right;\">\n",
       "      <th></th>\n",
       "      <th>id</th>\n",
       "      <th>tweet</th>\n",
       "      <th>subtask_a</th>\n",
       "      <th>subtask_b</th>\n",
       "      <th>subtask_c</th>\n",
       "      <th>label</th>\n",
       "      <th>length</th>\n",
       "    </tr>\n",
       "  </thead>\n",
       "  <tbody>\n",
       "    <tr>\n",
       "      <th>7843</th>\n",
       "      <td>88928</td>\n",
       "      <td>sexy</td>\n",
       "      <td>OFF</td>\n",
       "      <td>TIN</td>\n",
       "      <td>IND</td>\n",
       "      <td>1</td>\n",
       "      <td>5</td>\n",
       "    </tr>\n",
       "    <tr>\n",
       "      <th>8094</th>\n",
       "      <td>32539</td>\n",
       "      <td>fool</td>\n",
       "      <td>OFF</td>\n",
       "      <td>TIN</td>\n",
       "      <td>IND</td>\n",
       "      <td>1</td>\n",
       "      <td>5</td>\n",
       "    </tr>\n",
       "    <tr>\n",
       "      <th>9803</th>\n",
       "      <td>35439</td>\n",
       "      <td>Evil</td>\n",
       "      <td>NOT</td>\n",
       "      <td>NaN</td>\n",
       "      <td>NaN</td>\n",
       "      <td>0</td>\n",
       "      <td>5</td>\n",
       "    </tr>\n",
       "    <tr>\n",
       "      <th>5208</th>\n",
       "      <td>58403</td>\n",
       "      <td>Good</td>\n",
       "      <td>NOT</td>\n",
       "      <td>NaN</td>\n",
       "      <td>NaN</td>\n",
       "      <td>0</td>\n",
       "      <td>5</td>\n",
       "    </tr>\n",
       "    <tr>\n",
       "      <th>3160</th>\n",
       "      <td>74992</td>\n",
       "      <td>Stop</td>\n",
       "      <td>NOT</td>\n",
       "      <td>NaN</td>\n",
       "      <td>NaN</td>\n",
       "      <td>0</td>\n",
       "      <td>5</td>\n",
       "    </tr>\n",
       "    <tr>\n",
       "      <th>...</th>\n",
       "      <td>...</td>\n",
       "      <td>...</td>\n",
       "      <td>...</td>\n",
       "      <td>...</td>\n",
       "      <td>...</td>\n",
       "      <td>...</td>\n",
       "      <td>...</td>\n",
       "    </tr>\n",
       "    <tr>\n",
       "      <th>11991</th>\n",
       "      <td>23835</td>\n",
       "      <td>Haven’t seen that ...</td>\n",
       "      <td>NOT</td>\n",
       "      <td>NaN</td>\n",
       "      <td>NaN</td>\n",
       "      <td>0</td>\n",
       "      <td>320</td>\n",
       "    </tr>\n",
       "    <tr>\n",
       "      <th>1410</th>\n",
       "      <td>96262</td>\n",
       "      <td>...</td>\n",
       "      <td>NOT</td>\n",
       "      <td>NaN</td>\n",
       "      <td>NaN</td>\n",
       "      <td>0</td>\n",
       "      <td>325</td>\n",
       "    </tr>\n",
       "    <tr>\n",
       "      <th>12667</th>\n",
       "      <td>88705</td>\n",
       "      <td>...</td>\n",
       "      <td>OFF</td>\n",
       "      <td>UNT</td>\n",
       "      <td>NaN</td>\n",
       "      <td>1</td>\n",
       "      <td>326</td>\n",
       "    </tr>\n",
       "    <tr>\n",
       "      <th>9036</th>\n",
       "      <td>53102</td>\n",
       "      <td>...</td>\n",
       "      <td>NOT</td>\n",
       "      <td>NaN</td>\n",
       "      <td>NaN</td>\n",
       "      <td>0</td>\n",
       "      <td>326</td>\n",
       "    </tr>\n",
       "    <tr>\n",
       "      <th>2397</th>\n",
       "      <td>29558</td>\n",
       "      <td>...</td>\n",
       "      <td>OFF</td>\n",
       "      <td>TIN</td>\n",
       "      <td>GRP</td>\n",
       "      <td>1</td>\n",
       "      <td>330</td>\n",
       "    </tr>\n",
       "  </tbody>\n",
       "</table>\n",
       "<p>9268 rows × 7 columns</p>\n",
       "</div>"
      ],
      "text/plain": [
       "          id                                              tweet subtask_a  \\\n",
       "7843   88928                                               sexy       OFF   \n",
       "8094   32539                                               fool       OFF   \n",
       "9803   35439                                               Evil       NOT   \n",
       "5208   58403                                               Good       NOT   \n",
       "3160   74992                                               Stop       NOT   \n",
       "...      ...                                                ...       ...   \n",
       "11991  23835                              Haven’t seen that ...       NOT   \n",
       "1410   96262                                                ...       NOT   \n",
       "12667  88705                                                ...       OFF   \n",
       "9036   53102                                                ...       NOT   \n",
       "2397   29558                                                ...       OFF   \n",
       "\n",
       "      subtask_b subtask_c  label  length  \n",
       "7843        TIN       IND      1       5  \n",
       "8094        TIN       IND      1       5  \n",
       "9803        NaN       NaN      0       5  \n",
       "5208        NaN       NaN      0       5  \n",
       "3160        NaN       NaN      0       5  \n",
       "...         ...       ...    ...     ...  \n",
       "11991       NaN       NaN      0     320  \n",
       "1410        NaN       NaN      0     325  \n",
       "12667       UNT       NaN      1     326  \n",
       "9036        NaN       NaN      0     326  \n",
       "2397        TIN       GRP      1     330  \n",
       "\n",
       "[9268 rows x 7 columns]"
      ]
     },
     "execution_count": 163,
     "metadata": {},
     "output_type": "execute_result"
    }
   ],
   "source": [
    "tr_data"
   ]
  },
  {
   "cell_type": "code",
   "execution_count": 164,
   "metadata": {
    "colab": {
     "base_uri": "https://localhost:8080/",
     "height": 419
    },
    "id": "VEFzyEKsn-wc",
    "outputId": "72f95023-e171-439f-b1c1-323668cc2e70"
   },
   "outputs": [
    {
     "data": {
      "text/html": [
       "<div>\n",
       "<style scoped>\n",
       "    .dataframe tbody tr th:only-of-type {\n",
       "        vertical-align: middle;\n",
       "    }\n",
       "\n",
       "    .dataframe tbody tr th {\n",
       "        vertical-align: top;\n",
       "    }\n",
       "\n",
       "    .dataframe thead th {\n",
       "        text-align: right;\n",
       "    }\n",
       "</style>\n",
       "<table border=\"1\" class=\"dataframe\">\n",
       "  <thead>\n",
       "    <tr style=\"text-align: right;\">\n",
       "      <th></th>\n",
       "      <th>id</th>\n",
       "      <th>tweet</th>\n",
       "      <th>subtask_a</th>\n",
       "      <th>subtask_b</th>\n",
       "      <th>subtask_c</th>\n",
       "      <th>label</th>\n",
       "      <th>length</th>\n",
       "    </tr>\n",
       "  </thead>\n",
       "  <tbody>\n",
       "    <tr>\n",
       "      <th>10467</th>\n",
       "      <td>26126</td>\n",
       "      <td>Good</td>\n",
       "      <td>NOT</td>\n",
       "      <td>NaN</td>\n",
       "      <td>NaN</td>\n",
       "      <td>0</td>\n",
       "      <td>5</td>\n",
       "    </tr>\n",
       "    <tr>\n",
       "      <th>8166</th>\n",
       "      <td>37849</td>\n",
       "      <td>Bull</td>\n",
       "      <td>NOT</td>\n",
       "      <td>NaN</td>\n",
       "      <td>NaN</td>\n",
       "      <td>0</td>\n",
       "      <td>5</td>\n",
       "    </tr>\n",
       "    <tr>\n",
       "      <th>658</th>\n",
       "      <td>73253</td>\n",
       "      <td>Sexy</td>\n",
       "      <td>NOT</td>\n",
       "      <td>NaN</td>\n",
       "      <td>NaN</td>\n",
       "      <td>0</td>\n",
       "      <td>5</td>\n",
       "    </tr>\n",
       "    <tr>\n",
       "      <th>396</th>\n",
       "      <td>23159</td>\n",
       "      <td>Ouch!</td>\n",
       "      <td>OFF</td>\n",
       "      <td>UNT</td>\n",
       "      <td>NaN</td>\n",
       "      <td>1</td>\n",
       "      <td>6</td>\n",
       "    </tr>\n",
       "    <tr>\n",
       "      <th>738</th>\n",
       "      <td>90997</td>\n",
       "      <td>Sucks</td>\n",
       "      <td>OFF</td>\n",
       "      <td>TIN</td>\n",
       "      <td>IND</td>\n",
       "      <td>1</td>\n",
       "      <td>6</td>\n",
       "    </tr>\n",
       "    <tr>\n",
       "      <th>...</th>\n",
       "      <td>...</td>\n",
       "      <td>...</td>\n",
       "      <td>...</td>\n",
       "      <td>...</td>\n",
       "      <td>...</td>\n",
       "      <td>...</td>\n",
       "      <td>...</td>\n",
       "    </tr>\n",
       "    <tr>\n",
       "      <th>6677</th>\n",
       "      <td>83999</td>\n",
       "      <td>...</td>\n",
       "      <td>NOT</td>\n",
       "      <td>NaN</td>\n",
       "      <td>NaN</td>\n",
       "      <td>0</td>\n",
       "      <td>297</td>\n",
       "    </tr>\n",
       "    <tr>\n",
       "      <th>582</th>\n",
       "      <td>33099</td>\n",
       "      <td>You are suggesting that it i...</td>\n",
       "      <td>NOT</td>\n",
       "      <td>NaN</td>\n",
       "      <td>NaN</td>\n",
       "      <td>0</td>\n",
       "      <td>297</td>\n",
       "    </tr>\n",
       "    <tr>\n",
       "      <th>10311</th>\n",
       "      <td>82164</td>\n",
       "      <td>It is always same-trash Trump &amp;amp; conservat...</td>\n",
       "      <td>OFF</td>\n",
       "      <td>TIN</td>\n",
       "      <td>GRP</td>\n",
       "      <td>1</td>\n",
       "      <td>300</td>\n",
       "    </tr>\n",
       "    <tr>\n",
       "      <th>1994</th>\n",
       "      <td>67217</td>\n",
       "      <td>My Dad didn’t die so ANYONE could disres...</td>\n",
       "      <td>NOT</td>\n",
       "      <td>NaN</td>\n",
       "      <td>NaN</td>\n",
       "      <td>0</td>\n",
       "      <td>301</td>\n",
       "    </tr>\n",
       "    <tr>\n",
       "      <th>10256</th>\n",
       "      <td>20447</td>\n",
       "      <td>...</td>\n",
       "      <td>NOT</td>\n",
       "      <td>NaN</td>\n",
       "      <td>NaN</td>\n",
       "      <td>0</td>\n",
       "      <td>330</td>\n",
       "    </tr>\n",
       "  </tbody>\n",
       "</table>\n",
       "<p>3972 rows × 7 columns</p>\n",
       "</div>"
      ],
      "text/plain": [
       "          id                                              tweet subtask_a  \\\n",
       "10467  26126                                               Good       NOT   \n",
       "8166   37849                                               Bull       NOT   \n",
       "658    73253                                               Sexy       NOT   \n",
       "396    23159                                              Ouch!       OFF   \n",
       "738    90997                                              Sucks       OFF   \n",
       "...      ...                                                ...       ...   \n",
       "6677   83999                                                ...       NOT   \n",
       "582    33099                    You are suggesting that it i...       NOT   \n",
       "10311  82164   It is always same-trash Trump &amp; conservat...       OFF   \n",
       "1994   67217        My Dad didn’t die so ANYONE could disres...       NOT   \n",
       "10256  20447                                                ...       NOT   \n",
       "\n",
       "      subtask_b subtask_c  label  length  \n",
       "10467       NaN       NaN      0       5  \n",
       "8166        NaN       NaN      0       5  \n",
       "658         NaN       NaN      0       5  \n",
       "396         UNT       NaN      1       6  \n",
       "738         TIN       IND      1       6  \n",
       "...         ...       ...    ...     ...  \n",
       "6677        NaN       NaN      0     297  \n",
       "582         NaN       NaN      0     297  \n",
       "10311       TIN       GRP      1     300  \n",
       "1994        NaN       NaN      0     301  \n",
       "10256       NaN       NaN      0     330  \n",
       "\n",
       "[3972 rows x 7 columns]"
      ]
     },
     "execution_count": 164,
     "metadata": {},
     "output_type": "execute_result"
    }
   ],
   "source": [
    "val_data"
   ]
  },
  {
   "cell_type": "code",
   "execution_count": 165,
   "metadata": {
    "id": "e7PL6IcRoQeB"
   },
   "outputs": [],
   "source": [
    "#convert a df column into a list of strings\n",
    "train_texts = tr_data.tweet.tolist()\n",
    "\n",
    "#convert a df column into a list of strings\n",
    "train_labels = tr_data.label.tolist()\n",
    "\n",
    "#convert a df column into a list of strings\n",
    "val_texts = val_data.tweet.tolist()\n",
    "\n",
    "#convert a df column into a list of strings\n",
    "val_labels = val_data.label.tolist()"
   ]
  },
  {
   "cell_type": "code",
   "execution_count": 166,
   "metadata": {
    "id": "rOsNavpBowdq"
   },
   "outputs": [],
   "source": [
    "tokenizer = BertTokenizer.from_pretrained(\"bert-base-uncased\")"
   ]
  },
  {
   "cell_type": "code",
   "execution_count": 167,
   "metadata": {
    "id": "Zi0o8GfTo0do"
   },
   "outputs": [],
   "source": [
    "train_encodings = tokenizer(train_texts, truncation=True, padding=True)\n",
    "val_encodings = tokenizer(val_texts, truncation=True, padding=True)"
   ]
  },
  {
   "cell_type": "code",
   "execution_count": 168,
   "metadata": {
    "id": "fsBVoBCjpF9s"
   },
   "outputs": [],
   "source": [
    "class TweetDataset(torch.utils.data.Dataset):\n",
    "    def __init__(self, encodings, labels):\n",
    "        self.encodings = encodings\n",
    "        self.labels = labels\n",
    "\n",
    "    def __getitem__(self, idx):\n",
    "        item = {key: torch.tensor(val[idx]) for key, val in self.encodings.items()}\n",
    "        item['labels'] = torch.tensor(self.labels[idx])\n",
    "        return item\n",
    "\n",
    "    def __len__(self):\n",
    "        return len(self.labels)\n",
    "\n",
    "train_dataset = TweetDataset(train_encodings, train_labels)\n",
    "val_dataset = TweetDataset(val_encodings, val_labels)"
   ]
  },
  {
   "cell_type": "code",
   "execution_count": 169,
   "metadata": {
    "id": "BskU_jlPpUrd"
   },
   "outputs": [],
   "source": [
    "from sklearn.metrics import accuracy_score, precision_recall_fscore_support\n",
    "\n",
    "def compute_metrics(pred):\n",
    "    labels = pred.label_ids\n",
    "    preds = pred.predictions.argmax(-1)\n",
    "    precision, recall, f1, _ = precision_recall_fscore_support(labels, preds, average=\"micro\")\n",
    "    acc = accuracy_score(labels, preds)\n",
    "    return {\n",
    "        'accuracy': acc,\n",
    "        'f1': f1,\n",
    "        'precision': precision,\n",
    "        'recall': recall\n",
    "    }"
   ]
  },
  {
   "cell_type": "markdown",
   "metadata": {
    "id": "THBl7tpJ3py2"
   },
   "source": [
    "Now, we finetune our BERT model with different hyperparameters. Before we had `batch_size=64`, default batch size in the HugggingFace class `transformers.TrainingArguments`is 8. We also change the learnung rate.\n",
    "\n",
    "##### Change of hyperparameters\n",
    "- `batch_size=8`\n",
    "- `learning_rate=5e-5`\n",
    "##### Keep track of experiments with Weights & Biases"
   ]
  },
  {
   "cell_type": "markdown",
   "metadata": {},
   "source": [
    "Note: if you get an error similar to `ImportError: Using the Trainer with PyTorch requires accelerate>=0.20.1: Please run pip install transformers[torch] or pip install accelerate -U` when running code on the colab, please make sure you run the command `!pip install accelerate -U`. After that do the following:\n",
    "1. In the top menu click **Runtime** → **Restart Runtime**\n",
    "2. Do not rerun any cells with !pip install in them\n",
    "3. Rerun all the other code cells that refer to the experiment using Huggingface and you should be good to go!"
   ]
  },
  {
   "cell_type": "code",
   "execution_count": 171,
   "metadata": {},
   "outputs": [],
   "source": [
    "import wandb"
   ]
  },
  {
   "cell_type": "code",
   "execution_count": 173,
   "metadata": {},
   "outputs": [
    {
     "data": {
      "text/plain": [
       "'20241121'"
      ]
     },
     "execution_count": 173,
     "metadata": {},
     "output_type": "execute_result"
    }
   ],
   "source": [
    "from datetime import datetime\n",
    "\n",
    "# Get the current date\n",
    "current_date = datetime.now().strftime(\"%Y%m%d\")  # Format: YYYYMMDD\n",
    "current_date"
   ]
  },
  {
   "cell_type": "code",
   "execution_count": null,
   "metadata": {},
   "outputs": [],
   "source": [
    "from transformers import EarlyStoppingCallback\n"
   ]
  },
  {
   "cell_type": "code",
   "execution_count": 174,
   "metadata": {
    "colab": {
     "base_uri": "https://localhost:8080/",
     "height": 444,
     "referenced_widgets": [
      "bedd05a3dcbb4a90bbaaff13da1c0d55",
      "4765f41c37a143ba955a1fb03434b6cd",
      "4b8bd74d2b824ebb95d927efeda3b380",
      "12b7833abd174d00a552ce1ffcc12cba",
      "c6e84c2523b040b3ac7f37f376b56e5d",
      "27f0c4c773e841d0ad3fd5ca4578387f",
      "994b59e22e78433ca5abd14157557e2c",
      "74d80fa96e1547c1bd4e0991fd02d2a7",
      "a58e61a346bc47f7bc4125de08fe9f90",
      "e6af4d8fe63d4cb987fbf3dcb818f232",
      "708621a183564cc492e3e31221f09ea3",
      "a690261e4b3f427d8a09ff92d8469714",
      "06ae4a2c9bff449a96469ca79c4f6f6f",
      "648d768da4c74ca68fe1622269cdf08a",
      "b9876923900640b39c449dc83328e88c",
      "c3f74e8f21c84c4380a8c978ab608b22",
      "5797a82c4e3844c8be1fe9b75e97e54c",
      "b0f6dedbc1794b1ab53a0e8f7c7f0151",
      "85a8c21fd9ed46459dd055cd54647cec",
      "73cbc3d4f873410b95e5c10de91590c6",
      "5bcdef7aa0eb4ea384334d03f00415e6",
      "f7eaf6f2238143d1a46cd2c083c97f95",
      "9a66c855f00449c08111d8f52eecef1a",
      "eb3008aa2bec4526a88ccee75b493b30",
      "5c50ced65df84dbda3cf54a5cca0f837",
      "39240fd76ca140eeae24ca4648a835ef",
      "dd8f1c9851bd45c1b46bc2c932307c2e",
      "5dbfba30baad4c919daf14275963b93a",
      "db0c0de1b46e446084ee397a8acd80f6",
      "b4c891e1590e498483757ed001c63f2a",
      "4d85c970d7d64ed2bddfe8ae25bdff5c",
      "044657a7e9f04389bd52da3688e659db",
      "5406f6dd96cc4e76aa3ff3bdc957a21c",
      "9e0ad7e6300044d59b637cb1c913718f",
      "62b5648966e64af6a0b7098244e95898",
      "2863cf99a4c94403970773aae953a77b",
      "a242cf037c6e446f9f33fc01f25fa97e",
      "be8397673e9b4fecbb404fe0b898a61c",
      "82f20a9a535340b281c1d5883ff22f78",
      "b094b0688076455e89d671010561a823",
      "2c04580fc55844878dfb819129cc4159",
      "df04aae002a8427dbbf095fa4e83a3ee",
      "9f2d1f3c0e064c06b1e1d823b1200396",
      "40ed48da1f6b40bc923fe0b005618c9d",
      "c5b63442c79f4f1098135ba291c75ac4",
      "43d5518c9522411180d5b935694a99ba",
      "98ce9422525e40f0be280ed8579432dc",
      "463212231f8848cca4e4a4e90d18c61a",
      "0e15f6fd75974415989ce53e7e05904a",
      "c79ae4ad113a434c948e5137a79fcad8",
      "c82059cc49564e9991483f1e0d5a6b1b",
      "7f1430bfe5e34137a8f18babd624c7ee",
      "38b0cb2f897d4150846c1701250d7d81",
      "583969762b8348f49e085414635695d6",
      "f51c7658838541089f4719fc6ec54c2e"
     ]
    },
    "id": "9UR9RHK_p54R",
    "outputId": "02ef41fe-82b5-420f-eada-d4354722fd75"
   },
   "outputs": [
    {
     "name": "stderr",
     "output_type": "stream",
     "text": [
      "Failed to detect the name of this notebook, you can set it manually with the WANDB_NOTEBOOK_NAME environment variable to enable code saving.\n",
      "\u001b[34m\u001b[1mwandb\u001b[0m: Using wandb-core as the SDK backend.  Please refer to https://wandb.me/wandb-core for more information.\n",
      "\u001b[34m\u001b[1mwandb\u001b[0m: Logging into wandb.ai. (Learn how to deploy a W&B server locally: https://wandb.me/wandb-server)\n",
      "\u001b[34m\u001b[1mwandb\u001b[0m: You can find your API key in your browser here: https://wandb.ai/authorize\n",
      "\u001b[34m\u001b[1mwandb\u001b[0m: Paste an API key from your profile and hit enter, or press ctrl+c to quit:\u001b[34m\u001b[1mwandb\u001b[0m: Paste an API key from your profile and hit enter, or press ctrl+c to quit:\u001b[34m\u001b[1mwandb\u001b[0m: Appending key for api.wandb.ai to your netrc file: /Users/varya/.netrc\n"
     ]
    },
    {
     "data": {
      "text/html": [
       "Tracking run with wandb version 0.18.7"
      ],
      "text/plain": [
       "<IPython.core.display.HTML object>"
      ]
     },
     "metadata": {},
     "output_type": "display_data"
    },
    {
     "data": {
      "text/html": [
       "Run data is saved locally in <code>/Users/varya/Programmieren/python_workspace/final_version_lecture/wandb/run-20241121_195146-5riohcqf</code>"
      ],
      "text/plain": [
       "<IPython.core.display.HTML object>"
      ]
     },
     "metadata": {},
     "output_type": "display_data"
    },
    {
     "data": {
      "text/html": [
       "Syncing run <strong><a href='https://wandb.ai/kleines-gespeist/bert-finetuning/runs/5riohcqf' target=\"_blank\">bert-base-uncased-semeval-20241121</a></strong> to <a href='https://wandb.ai/kleines-gespeist/bert-finetuning' target=\"_blank\">Weights & Biases</a> (<a href='https://wandb.me/developer-guide' target=\"_blank\">docs</a>)<br/>"
      ],
      "text/plain": [
       "<IPython.core.display.HTML object>"
      ]
     },
     "metadata": {},
     "output_type": "display_data"
    },
    {
     "data": {
      "text/html": [
       " View project at <a href='https://wandb.ai/kleines-gespeist/bert-finetuning' target=\"_blank\">https://wandb.ai/kleines-gespeist/bert-finetuning</a>"
      ],
      "text/plain": [
       "<IPython.core.display.HTML object>"
      ]
     },
     "metadata": {},
     "output_type": "display_data"
    },
    {
     "data": {
      "text/html": [
       " View run at <a href='https://wandb.ai/kleines-gespeist/bert-finetuning/runs/5riohcqf' target=\"_blank\">https://wandb.ai/kleines-gespeist/bert-finetuning/runs/5riohcqf</a>"
      ],
      "text/plain": [
       "<IPython.core.display.HTML object>"
      ]
     },
     "metadata": {},
     "output_type": "display_data"
    },
    {
     "name": "stderr",
     "output_type": "stream",
     "text": [
      "Some weights of the model checkpoint at bert-base-uncased were not used when initializing BertForSequenceClassification: ['cls.predictions.transform.LayerNorm.weight', 'cls.predictions.decoder.weight', 'cls.seq_relationship.weight', 'cls.predictions.transform.dense.weight', 'cls.seq_relationship.bias', 'cls.predictions.transform.dense.bias', 'cls.predictions.bias', 'cls.predictions.transform.LayerNorm.bias']\n",
      "- This IS expected if you are initializing BertForSequenceClassification from the checkpoint of a model trained on another task or with another architecture (e.g. initializing a BertForSequenceClassification model from a BertForPreTraining model).\n",
      "- This IS NOT expected if you are initializing BertForSequenceClassification from the checkpoint of a model that you expect to be exactly identical (initializing a BertForSequenceClassification model from a BertForSequenceClassification model).\n",
      "Some weights of BertForSequenceClassification were not initialized from the model checkpoint at bert-base-uncased and are newly initialized: ['classifier.bias', 'classifier.weight']\n",
      "You should probably TRAIN this model on a down-stream task to be able to use it for predictions and inference.\n",
      "***** Running training *****\n",
      "  Num examples = 9268\n",
      "  Num Epochs = 5\n",
      "  Instantaneous batch size per device = 8\n",
      "  Total train batch size (w. parallel, distributed & accumulation) = 8\n",
      "  Gradient Accumulation steps = 1\n",
      "  Total optimization steps = 5795\n",
      "Automatic Weights & Biases logging enabled, to disable set os.environ[\"WANDB_DISABLED\"] = \"true\"\n"
     ]
    },
    {
     "data": {
      "application/vnd.jupyter.widget-view+json": {
       "model_id": "f3aad376cf864818953bea22aa1da989",
       "version_major": 2,
       "version_minor": 0
      },
      "text/plain": [
       "  0%|          | 0/5795 [00:00<?, ?it/s]"
      ]
     },
     "metadata": {},
     "output_type": "display_data"
    },
    {
     "name": "stdout",
     "output_type": "stream",
     "text": [
      "{'loss': 0.6786, 'learning_rate': 4.99137187230371e-05, 'epoch': 0.01}\n",
      "{'loss': 0.6162, 'learning_rate': 4.9827437446074206e-05, 'epoch': 0.02}\n",
      "{'loss': 0.5703, 'learning_rate': 4.9741156169111304e-05, 'epoch': 0.03}\n",
      "{'loss': 0.6416, 'learning_rate': 4.965487489214841e-05, 'epoch': 0.03}\n",
      "{'loss': 0.5648, 'learning_rate': 4.956859361518551e-05, 'epoch': 0.04}\n",
      "{'loss': 0.6967, 'learning_rate': 4.9482312338222606e-05, 'epoch': 0.05}\n",
      "{'loss': 0.7278, 'learning_rate': 4.9396031061259704e-05, 'epoch': 0.06}\n",
      "{'loss': 0.5138, 'learning_rate': 4.930974978429681e-05, 'epoch': 0.07}\n",
      "{'loss': 0.5801, 'learning_rate': 4.922346850733391e-05, 'epoch': 0.08}\n",
      "{'loss': 0.5883, 'learning_rate': 4.913718723037101e-05, 'epoch': 0.09}\n",
      "{'loss': 0.4589, 'learning_rate': 4.905090595340811e-05, 'epoch': 0.09}\n",
      "{'loss': 0.4452, 'learning_rate': 4.8964624676445215e-05, 'epoch': 0.1}\n",
      "{'loss': 0.4523, 'learning_rate': 4.8878343399482314e-05, 'epoch': 0.11}\n",
      "{'loss': 0.5424, 'learning_rate': 4.879206212251942e-05, 'epoch': 0.12}\n",
      "{'loss': 0.4538, 'learning_rate': 4.870578084555652e-05, 'epoch': 0.13}\n",
      "{'loss': 0.5163, 'learning_rate': 4.8619499568593615e-05, 'epoch': 0.14}\n",
      "{'loss': 0.6731, 'learning_rate': 4.8533218291630714e-05, 'epoch': 0.15}\n",
      "{'loss': 0.5603, 'learning_rate': 4.844693701466782e-05, 'epoch': 0.16}\n",
      "{'loss': 0.6096, 'learning_rate': 4.836065573770492e-05, 'epoch': 0.16}\n",
      "{'loss': 0.6201, 'learning_rate': 4.827437446074202e-05, 'epoch': 0.17}\n",
      "{'loss': 0.4265, 'learning_rate': 4.818809318377912e-05, 'epoch': 0.18}\n",
      "{'loss': 0.5022, 'learning_rate': 4.8101811906816225e-05, 'epoch': 0.19}\n",
      "{'loss': 0.5399, 'learning_rate': 4.8015530629853324e-05, 'epoch': 0.2}\n",
      "{'loss': 0.443, 'learning_rate': 4.792924935289043e-05, 'epoch': 0.21}\n",
      "{'loss': 0.5997, 'learning_rate': 4.784296807592753e-05, 'epoch': 0.22}\n",
      "{'loss': 0.4002, 'learning_rate': 4.7756686798964625e-05, 'epoch': 0.22}\n",
      "{'loss': 0.4483, 'learning_rate': 4.767040552200172e-05, 'epoch': 0.23}\n",
      "{'loss': 0.5083, 'learning_rate': 4.758412424503883e-05, 'epoch': 0.24}\n",
      "{'loss': 0.5212, 'learning_rate': 4.749784296807593e-05, 'epoch': 0.25}\n",
      "{'loss': 0.509, 'learning_rate': 4.741156169111303e-05, 'epoch': 0.26}\n",
      "{'loss': 0.531, 'learning_rate': 4.732528041415013e-05, 'epoch': 0.27}\n",
      "{'loss': 0.5502, 'learning_rate': 4.7238999137187235e-05, 'epoch': 0.28}\n",
      "{'loss': 0.4378, 'learning_rate': 4.715271786022433e-05, 'epoch': 0.28}\n",
      "{'loss': 0.5975, 'learning_rate': 4.706643658326144e-05, 'epoch': 0.29}\n",
      "{'loss': 0.4439, 'learning_rate': 4.698015530629854e-05, 'epoch': 0.3}\n",
      "{'loss': 0.4759, 'learning_rate': 4.6893874029335635e-05, 'epoch': 0.31}\n",
      "{'loss': 0.4651, 'learning_rate': 4.680759275237273e-05, 'epoch': 0.32}\n",
      "{'loss': 0.6141, 'learning_rate': 4.672131147540984e-05, 'epoch': 0.33}\n",
      "{'loss': 0.5068, 'learning_rate': 4.6635030198446936e-05, 'epoch': 0.34}\n",
      "{'loss': 0.4916, 'learning_rate': 4.654874892148404e-05, 'epoch': 0.35}\n",
      "{'loss': 0.6341, 'learning_rate': 4.646246764452114e-05, 'epoch': 0.35}\n",
      "{'loss': 0.4894, 'learning_rate': 4.6376186367558245e-05, 'epoch': 0.36}\n",
      "{'loss': 0.5037, 'learning_rate': 4.628990509059534e-05, 'epoch': 0.37}\n",
      "{'loss': 0.5057, 'learning_rate': 4.620362381363245e-05, 'epoch': 0.38}\n",
      "{'loss': 0.5249, 'learning_rate': 4.6117342536669546e-05, 'epoch': 0.39}\n",
      "{'loss': 0.4256, 'learning_rate': 4.603106125970665e-05, 'epoch': 0.4}\n",
      "{'loss': 0.5577, 'learning_rate': 4.594477998274375e-05, 'epoch': 0.41}\n",
      "{'loss': 0.4655, 'learning_rate': 4.585849870578085e-05, 'epoch': 0.41}\n",
      "{'loss': 0.3749, 'learning_rate': 4.5772217428817946e-05, 'epoch': 0.42}\n",
      "{'loss': 0.5499, 'learning_rate': 4.568593615185505e-05, 'epoch': 0.43}\n",
      "{'loss': 0.4733, 'learning_rate': 4.559965487489215e-05, 'epoch': 0.44}\n",
      "{'loss': 0.4275, 'learning_rate': 4.5513373597929255e-05, 'epoch': 0.45}\n",
      "{'loss': 0.5679, 'learning_rate': 4.542709232096635e-05, 'epoch': 0.46}\n",
      "{'loss': 0.447, 'learning_rate': 4.534081104400346e-05, 'epoch': 0.47}\n",
      "{'loss': 0.4246, 'learning_rate': 4.5254529767040556e-05, 'epoch': 0.47}\n",
      "{'loss': 0.4776, 'learning_rate': 4.5168248490077654e-05, 'epoch': 0.48}\n",
      "{'loss': 0.3913, 'learning_rate': 4.508196721311476e-05, 'epoch': 0.49}\n",
      "{'loss': 0.3764, 'learning_rate': 4.499568593615186e-05, 'epoch': 0.5}\n",
      "{'loss': 0.6138, 'learning_rate': 4.4909404659188956e-05, 'epoch': 0.51}\n",
      "{'loss': 0.6349, 'learning_rate': 4.4823123382226054e-05, 'epoch': 0.52}\n",
      "{'loss': 0.5059, 'learning_rate': 4.473684210526316e-05, 'epoch': 0.53}\n",
      "{'loss': 0.4875, 'learning_rate': 4.465056082830026e-05, 'epoch': 0.53}\n",
      "{'loss': 0.6178, 'learning_rate': 4.456427955133736e-05, 'epoch': 0.54}\n",
      "{'loss': 0.6195, 'learning_rate': 4.447799827437446e-05, 'epoch': 0.55}\n",
      "{'loss': 0.4889, 'learning_rate': 4.4391716997411566e-05, 'epoch': 0.56}\n",
      "{'loss': 0.4794, 'learning_rate': 4.4305435720448664e-05, 'epoch': 0.57}\n",
      "{'loss': 0.3691, 'learning_rate': 4.421915444348577e-05, 'epoch': 0.58}\n",
      "{'loss': 0.5717, 'learning_rate': 4.413287316652287e-05, 'epoch': 0.59}\n",
      "{'loss': 0.495, 'learning_rate': 4.4046591889559966e-05, 'epoch': 0.6}\n",
      "{'loss': 0.5378, 'learning_rate': 4.3960310612597064e-05, 'epoch': 0.6}\n",
      "{'loss': 0.3967, 'learning_rate': 4.387402933563417e-05, 'epoch': 0.61}\n",
      "{'loss': 0.2519, 'learning_rate': 4.378774805867127e-05, 'epoch': 0.62}\n",
      "{'loss': 0.6536, 'learning_rate': 4.370146678170837e-05, 'epoch': 0.63}\n",
      "{'loss': 0.4442, 'learning_rate': 4.361518550474547e-05, 'epoch': 0.64}\n",
      "{'loss': 0.47, 'learning_rate': 4.3528904227782576e-05, 'epoch': 0.65}\n",
      "{'loss': 0.4289, 'learning_rate': 4.3442622950819674e-05, 'epoch': 0.66}\n",
      "{'loss': 0.5192, 'learning_rate': 4.335634167385678e-05, 'epoch': 0.66}\n",
      "{'loss': 0.5226, 'learning_rate': 4.327006039689388e-05, 'epoch': 0.67}\n",
      "{'loss': 0.5041, 'learning_rate': 4.3183779119930976e-05, 'epoch': 0.68}\n",
      "{'loss': 0.425, 'learning_rate': 4.3097497842968074e-05, 'epoch': 0.69}\n",
      "{'loss': 0.4897, 'learning_rate': 4.301121656600518e-05, 'epoch': 0.7}\n",
      "{'loss': 0.4722, 'learning_rate': 4.292493528904228e-05, 'epoch': 0.71}\n",
      "{'loss': 0.4425, 'learning_rate': 4.283865401207938e-05, 'epoch': 0.72}\n",
      "{'loss': 0.5347, 'learning_rate': 4.275237273511648e-05, 'epoch': 0.72}\n",
      "{'loss': 0.5075, 'learning_rate': 4.2666091458153586e-05, 'epoch': 0.73}\n",
      "{'loss': 0.4896, 'learning_rate': 4.2579810181190684e-05, 'epoch': 0.74}\n",
      "{'loss': 0.6885, 'learning_rate': 4.249352890422779e-05, 'epoch': 0.75}\n",
      "{'loss': 0.4897, 'learning_rate': 4.240724762726489e-05, 'epoch': 0.76}\n",
      "{'loss': 0.645, 'learning_rate': 4.2320966350301985e-05, 'epoch': 0.77}\n",
      "{'loss': 0.5634, 'learning_rate': 4.2234685073339084e-05, 'epoch': 0.78}\n",
      "{'loss': 0.5367, 'learning_rate': 4.214840379637619e-05, 'epoch': 0.79}\n",
      "{'loss': 0.5182, 'learning_rate': 4.206212251941329e-05, 'epoch': 0.79}\n",
      "{'loss': 0.5036, 'learning_rate': 4.197584124245039e-05, 'epoch': 0.8}\n",
      "{'loss': 0.4998, 'learning_rate': 4.188955996548749e-05, 'epoch': 0.81}\n",
      "{'loss': 0.4848, 'learning_rate': 4.1803278688524595e-05, 'epoch': 0.82}\n",
      "{'loss': 0.4385, 'learning_rate': 4.1716997411561694e-05, 'epoch': 0.83}\n",
      "{'loss': 0.5588, 'learning_rate': 4.16307161345988e-05, 'epoch': 0.84}\n",
      "{'loss': 0.4754, 'learning_rate': 4.15444348576359e-05, 'epoch': 0.85}\n",
      "{'loss': 0.461, 'learning_rate': 4.1458153580672995e-05, 'epoch': 0.85}\n",
      "{'loss': 0.4445, 'learning_rate': 4.1371872303710093e-05, 'epoch': 0.86}\n",
      "{'loss': 0.4303, 'learning_rate': 4.12855910267472e-05, 'epoch': 0.87}\n",
      "{'loss': 0.4992, 'learning_rate': 4.11993097497843e-05, 'epoch': 0.88}\n",
      "{'loss': 0.4018, 'learning_rate': 4.11130284728214e-05, 'epoch': 0.89}\n",
      "{'loss': 0.5234, 'learning_rate': 4.10267471958585e-05, 'epoch': 0.9}\n",
      "{'loss': 0.4135, 'learning_rate': 4.0940465918895605e-05, 'epoch': 0.91}\n",
      "{'loss': 0.4626, 'learning_rate': 4.08541846419327e-05, 'epoch': 0.91}\n",
      "{'loss': 0.4228, 'learning_rate': 4.076790336496981e-05, 'epoch': 0.92}\n",
      "{'loss': 0.5216, 'learning_rate': 4.068162208800691e-05, 'epoch': 0.93}\n",
      "{'loss': 0.5207, 'learning_rate': 4.0595340811044005e-05, 'epoch': 0.94}\n",
      "{'loss': 0.5095, 'learning_rate': 4.05090595340811e-05, 'epoch': 0.95}\n",
      "{'loss': 0.4302, 'learning_rate': 4.04227782571182e-05, 'epoch': 0.96}\n",
      "{'loss': 0.3994, 'learning_rate': 4.0336496980155306e-05, 'epoch': 0.97}\n",
      "{'loss': 0.5449, 'learning_rate': 4.0250215703192405e-05, 'epoch': 0.97}\n",
      "{'loss': 0.5417, 'learning_rate': 4.016393442622951e-05, 'epoch': 0.98}\n",
      "{'loss': 0.4992, 'learning_rate': 4.007765314926661e-05, 'epoch': 0.99}\n"
     ]
    },
    {
     "name": "stderr",
     "output_type": "stream",
     "text": [
      "***** Running Evaluation *****\n",
      "  Num examples = 3972\n",
      "  Batch size = 8\n"
     ]
    },
    {
     "data": {
      "application/vnd.jupyter.widget-view+json": {
       "model_id": "56ee4aac406f489fbe85fbd987caa3b0",
       "version_major": 2,
       "version_minor": 0
      },
      "text/plain": [
       "  0%|          | 0/497 [00:00<?, ?it/s]"
      ]
     },
     "metadata": {},
     "output_type": "display_data"
    },
    {
     "name": "stderr",
     "output_type": "stream",
     "text": [
      "Saving model checkpoint to ./results_bertbaseuncased_semeval_20241121/checkpoint-1159\n",
      "Configuration saved in ./results_bertbaseuncased_semeval_20241121/checkpoint-1159/config.json\n"
     ]
    },
    {
     "name": "stdout",
     "output_type": "stream",
     "text": [
      "{'eval_loss': 0.4632123112678528, 'eval_accuracy': 0.7973313192346425, 'eval_f1': 0.7973313192346425, 'eval_precision': 0.7973313192346425, 'eval_recall': 0.7973313192346425, 'eval_runtime': 92.6498, 'eval_samples_per_second': 42.871, 'eval_steps_per_second': 5.364, 'epoch': 1.0}\n"
     ]
    },
    {
     "name": "stderr",
     "output_type": "stream",
     "text": [
      "Model weights saved in ./results_bertbaseuncased_semeval_20241121/checkpoint-1159/pytorch_model.bin\n"
     ]
    },
    {
     "name": "stdout",
     "output_type": "stream",
     "text": [
      "{'loss': 0.6077, 'learning_rate': 3.999137187230371e-05, 'epoch': 1.0}\n",
      "{'loss': 0.4055, 'learning_rate': 3.990509059534081e-05, 'epoch': 1.01}\n",
      "{'loss': 0.4048, 'learning_rate': 3.9818809318377916e-05, 'epoch': 1.02}\n",
      "{'loss': 0.5151, 'learning_rate': 3.9732528041415015e-05, 'epoch': 1.03}\n",
      "{'loss': 0.4342, 'learning_rate': 3.964624676445211e-05, 'epoch': 1.04}\n",
      "{'loss': 0.3551, 'learning_rate': 3.955996548748921e-05, 'epoch': 1.04}\n",
      "{'loss': 0.3317, 'learning_rate': 3.9473684210526316e-05, 'epoch': 1.05}\n",
      "{'loss': 0.322, 'learning_rate': 3.9387402933563415e-05, 'epoch': 1.06}\n",
      "{'loss': 0.4853, 'learning_rate': 3.930112165660052e-05, 'epoch': 1.07}\n",
      "{'loss': 0.3071, 'learning_rate': 3.921484037963762e-05, 'epoch': 1.08}\n",
      "{'loss': 0.4704, 'learning_rate': 3.912855910267472e-05, 'epoch': 1.09}\n",
      "{'loss': 0.5042, 'learning_rate': 3.904227782571182e-05, 'epoch': 1.1}\n",
      "{'loss': 0.3608, 'learning_rate': 3.8955996548748926e-05, 'epoch': 1.1}\n",
      "{'loss': 0.4311, 'learning_rate': 3.8869715271786024e-05, 'epoch': 1.11}\n",
      "{'loss': 0.2786, 'learning_rate': 3.878343399482313e-05, 'epoch': 1.12}\n",
      "{'loss': 0.4076, 'learning_rate': 3.869715271786023e-05, 'epoch': 1.13}\n",
      "{'loss': 0.7059, 'learning_rate': 3.8610871440897326e-05, 'epoch': 1.14}\n",
      "{'loss': 0.1998, 'learning_rate': 3.8524590163934424e-05, 'epoch': 1.15}\n",
      "{'loss': 0.3448, 'learning_rate': 3.843830888697153e-05, 'epoch': 1.16}\n",
      "{'loss': 0.5701, 'learning_rate': 3.835202761000863e-05, 'epoch': 1.16}\n",
      "{'loss': 0.4494, 'learning_rate': 3.826574633304573e-05, 'epoch': 1.17}\n",
      "{'loss': 0.4079, 'learning_rate': 3.817946505608283e-05, 'epoch': 1.18}\n",
      "{'loss': 0.4082, 'learning_rate': 3.8093183779119936e-05, 'epoch': 1.19}\n",
      "{'loss': 0.3037, 'learning_rate': 3.8006902502157034e-05, 'epoch': 1.2}\n",
      "{'loss': 0.3757, 'learning_rate': 3.792062122519414e-05, 'epoch': 1.21}\n",
      "{'loss': 0.2687, 'learning_rate': 3.783433994823124e-05, 'epoch': 1.22}\n",
      "{'loss': 0.4783, 'learning_rate': 3.7748058671268336e-05, 'epoch': 1.23}\n",
      "{'loss': 0.4827, 'learning_rate': 3.7661777394305434e-05, 'epoch': 1.23}\n",
      "{'loss': 0.2858, 'learning_rate': 3.757549611734254e-05, 'epoch': 1.24}\n",
      "{'loss': 0.3721, 'learning_rate': 3.748921484037964e-05, 'epoch': 1.25}\n",
      "{'loss': 0.3658, 'learning_rate': 3.740293356341674e-05, 'epoch': 1.26}\n",
      "{'loss': 0.3868, 'learning_rate': 3.731665228645384e-05, 'epoch': 1.27}\n",
      "{'loss': 0.3978, 'learning_rate': 3.7230371009490946e-05, 'epoch': 1.28}\n",
      "{'loss': 0.3937, 'learning_rate': 3.7144089732528044e-05, 'epoch': 1.29}\n",
      "{'loss': 0.2965, 'learning_rate': 3.705780845556515e-05, 'epoch': 1.29}\n",
      "{'loss': 0.5996, 'learning_rate': 3.697152717860225e-05, 'epoch': 1.3}\n",
      "{'loss': 0.3777, 'learning_rate': 3.6885245901639346e-05, 'epoch': 1.31}\n",
      "{'loss': 0.4029, 'learning_rate': 3.6798964624676444e-05, 'epoch': 1.32}\n",
      "{'loss': 0.4354, 'learning_rate': 3.671268334771355e-05, 'epoch': 1.33}\n",
      "{'loss': 0.38, 'learning_rate': 3.662640207075065e-05, 'epoch': 1.34}\n",
      "{'loss': 0.323, 'learning_rate': 3.654012079378775e-05, 'epoch': 1.35}\n",
      "{'loss': 0.4674, 'learning_rate': 3.645383951682485e-05, 'epoch': 1.35}\n",
      "{'loss': 0.3248, 'learning_rate': 3.6367558239861956e-05, 'epoch': 1.36}\n",
      "{'loss': 0.3913, 'learning_rate': 3.6281276962899054e-05, 'epoch': 1.37}\n",
      "{'loss': 0.4351, 'learning_rate': 3.619499568593616e-05, 'epoch': 1.38}\n",
      "{'loss': 0.4211, 'learning_rate': 3.610871440897326e-05, 'epoch': 1.39}\n",
      "{'loss': 0.7328, 'learning_rate': 3.6022433132010355e-05, 'epoch': 1.4}\n",
      "{'loss': 0.5615, 'learning_rate': 3.5936151855047454e-05, 'epoch': 1.41}\n",
      "{'loss': 0.3721, 'learning_rate': 3.584987057808456e-05, 'epoch': 1.42}\n",
      "{'loss': 0.3941, 'learning_rate': 3.576358930112166e-05, 'epoch': 1.42}\n",
      "{'loss': 0.3524, 'learning_rate': 3.5677308024158755e-05, 'epoch': 1.43}\n",
      "{'loss': 0.2893, 'learning_rate': 3.559102674719586e-05, 'epoch': 1.44}\n",
      "{'loss': 0.2501, 'learning_rate': 3.550474547023296e-05, 'epoch': 1.45}\n",
      "{'loss': 0.4615, 'learning_rate': 3.5418464193270064e-05, 'epoch': 1.46}\n",
      "{'loss': 0.5403, 'learning_rate': 3.533218291630716e-05, 'epoch': 1.47}\n",
      "{'loss': 0.4218, 'learning_rate': 3.524590163934427e-05, 'epoch': 1.48}\n",
      "{'loss': 0.3059, 'learning_rate': 3.5159620362381365e-05, 'epoch': 1.48}\n",
      "{'loss': 0.336, 'learning_rate': 3.5073339085418463e-05, 'epoch': 1.49}\n",
      "{'loss': 0.3715, 'learning_rate': 3.498705780845556e-05, 'epoch': 1.5}\n",
      "{'loss': 0.4781, 'learning_rate': 3.490077653149267e-05, 'epoch': 1.51}\n",
      "{'loss': 0.4188, 'learning_rate': 3.4814495254529765e-05, 'epoch': 1.52}\n",
      "{'loss': 0.3345, 'learning_rate': 3.472821397756687e-05, 'epoch': 1.53}\n",
      "{'loss': 0.3923, 'learning_rate': 3.464193270060397e-05, 'epoch': 1.54}\n",
      "{'loss': 0.5328, 'learning_rate': 3.455565142364107e-05, 'epoch': 1.54}\n",
      "{'loss': 0.3638, 'learning_rate': 3.446937014667817e-05, 'epoch': 1.55}\n",
      "{'loss': 0.3148, 'learning_rate': 3.438308886971528e-05, 'epoch': 1.56}\n",
      "{'loss': 0.4382, 'learning_rate': 3.4296807592752375e-05, 'epoch': 1.57}\n",
      "{'loss': 0.3385, 'learning_rate': 3.421052631578947e-05, 'epoch': 1.58}\n",
      "{'loss': 0.4999, 'learning_rate': 3.412424503882657e-05, 'epoch': 1.59}\n",
      "{'loss': 0.3044, 'learning_rate': 3.4037963761863676e-05, 'epoch': 1.6}\n",
      "{'loss': 0.3799, 'learning_rate': 3.3951682484900775e-05, 'epoch': 1.6}\n",
      "{'loss': 0.4788, 'learning_rate': 3.386540120793788e-05, 'epoch': 1.61}\n",
      "{'loss': 0.4321, 'learning_rate': 3.377911993097498e-05, 'epoch': 1.62}\n",
      "{'loss': 0.4153, 'learning_rate': 3.369283865401208e-05, 'epoch': 1.63}\n",
      "{'loss': 0.3032, 'learning_rate': 3.360655737704918e-05, 'epoch': 1.64}\n",
      "{'loss': 0.3868, 'learning_rate': 3.3520276100086286e-05, 'epoch': 1.65}\n",
      "{'loss': 0.3227, 'learning_rate': 3.3433994823123385e-05, 'epoch': 1.66}\n",
      "{'loss': 0.3103, 'learning_rate': 3.334771354616048e-05, 'epoch': 1.67}\n",
      "{'loss': 0.3453, 'learning_rate': 3.326143226919758e-05, 'epoch': 1.67}\n",
      "{'loss': 0.5153, 'learning_rate': 3.3175150992234686e-05, 'epoch': 1.68}\n",
      "{'loss': 0.6383, 'learning_rate': 3.3088869715271785e-05, 'epoch': 1.69}\n",
      "{'loss': 0.5105, 'learning_rate': 3.300258843830889e-05, 'epoch': 1.7}\n",
      "{'loss': 0.3697, 'learning_rate': 3.291630716134599e-05, 'epoch': 1.71}\n",
      "{'loss': 0.3919, 'learning_rate': 3.283002588438309e-05, 'epoch': 1.72}\n",
      "{'loss': 0.3818, 'learning_rate': 3.274374460742019e-05, 'epoch': 1.73}\n",
      "{'loss': 0.454, 'learning_rate': 3.2657463330457296e-05, 'epoch': 1.73}\n",
      "{'loss': 0.2773, 'learning_rate': 3.2571182053494394e-05, 'epoch': 1.74}\n",
      "{'loss': 0.4799, 'learning_rate': 3.248490077653149e-05, 'epoch': 1.75}\n",
      "{'loss': 0.466, 'learning_rate': 3.239861949956859e-05, 'epoch': 1.76}\n",
      "{'loss': 0.2706, 'learning_rate': 3.2312338222605696e-05, 'epoch': 1.77}\n",
      "{'loss': 0.4365, 'learning_rate': 3.2226056945642794e-05, 'epoch': 1.78}\n",
      "{'loss': 0.3826, 'learning_rate': 3.21397756686799e-05, 'epoch': 1.79}\n",
      "{'loss': 0.5561, 'learning_rate': 3.2053494391717e-05, 'epoch': 1.79}\n",
      "{'loss': 0.3325, 'learning_rate': 3.19672131147541e-05, 'epoch': 1.8}\n",
      "{'loss': 0.4799, 'learning_rate': 3.18809318377912e-05, 'epoch': 1.81}\n",
      "{'loss': 0.368, 'learning_rate': 3.1794650560828306e-05, 'epoch': 1.82}\n",
      "{'loss': 0.4796, 'learning_rate': 3.1708369283865404e-05, 'epoch': 1.83}\n",
      "{'loss': 0.5368, 'learning_rate': 3.162208800690251e-05, 'epoch': 1.84}\n",
      "{'loss': 0.4919, 'learning_rate': 3.153580672993961e-05, 'epoch': 1.85}\n",
      "{'loss': 0.5057, 'learning_rate': 3.1449525452976706e-05, 'epoch': 1.86}\n",
      "{'loss': 0.4491, 'learning_rate': 3.1363244176013804e-05, 'epoch': 1.86}\n",
      "{'loss': 0.3349, 'learning_rate': 3.127696289905091e-05, 'epoch': 1.87}\n",
      "{'loss': 0.4131, 'learning_rate': 3.119068162208801e-05, 'epoch': 1.88}\n",
      "{'loss': 0.2746, 'learning_rate': 3.110440034512511e-05, 'epoch': 1.89}\n",
      "{'loss': 0.4262, 'learning_rate': 3.101811906816221e-05, 'epoch': 1.9}\n",
      "{'loss': 0.4274, 'learning_rate': 3.093183779119931e-05, 'epoch': 1.91}\n",
      "{'loss': 0.3495, 'learning_rate': 3.0845556514236414e-05, 'epoch': 1.92}\n",
      "{'loss': 0.3664, 'learning_rate': 3.075927523727351e-05, 'epoch': 1.92}\n",
      "{'loss': 0.3632, 'learning_rate': 3.067299396031062e-05, 'epoch': 1.93}\n",
      "{'loss': 0.3988, 'learning_rate': 3.0586712683347716e-05, 'epoch': 1.94}\n",
      "{'loss': 0.3647, 'learning_rate': 3.0500431406384817e-05, 'epoch': 1.95}\n",
      "{'loss': 0.4062, 'learning_rate': 3.0414150129421916e-05, 'epoch': 1.96}\n",
      "{'loss': 0.5667, 'learning_rate': 3.0327868852459017e-05, 'epoch': 1.97}\n",
      "{'loss': 0.4567, 'learning_rate': 3.0241587575496115e-05, 'epoch': 1.98}\n",
      "{'loss': 0.6691, 'learning_rate': 3.015530629853322e-05, 'epoch': 1.98}\n",
      "{'loss': 0.4379, 'learning_rate': 3.006902502157032e-05, 'epoch': 1.99}\n"
     ]
    },
    {
     "name": "stderr",
     "output_type": "stream",
     "text": [
      "***** Running Evaluation *****\n",
      "  Num examples = 3972\n",
      "  Batch size = 8\n"
     ]
    },
    {
     "data": {
      "application/vnd.jupyter.widget-view+json": {
       "model_id": "9f0454f1e5854efe9b15afd31a21f1f2",
       "version_major": 2,
       "version_minor": 0
      },
      "text/plain": [
       "  0%|          | 0/497 [00:00<?, ?it/s]"
      ]
     },
     "metadata": {},
     "output_type": "display_data"
    },
    {
     "name": "stderr",
     "output_type": "stream",
     "text": [
      "Saving model checkpoint to ./results_bertbaseuncased_semeval_20241121/checkpoint-2318\n",
      "Configuration saved in ./results_bertbaseuncased_semeval_20241121/checkpoint-2318/config.json\n"
     ]
    },
    {
     "name": "stdout",
     "output_type": "stream",
     "text": [
      "{'eval_loss': 0.4728225767612457, 'eval_accuracy': 0.7922960725075529, 'eval_f1': 0.7922960725075529, 'eval_precision': 0.7922960725075529, 'eval_recall': 0.7922960725075529, 'eval_runtime': 90.9978, 'eval_samples_per_second': 43.649, 'eval_steps_per_second': 5.462, 'epoch': 2.0}\n"
     ]
    },
    {
     "name": "stderr",
     "output_type": "stream",
     "text": [
      "Model weights saved in ./results_bertbaseuncased_semeval_20241121/checkpoint-2318/pytorch_model.bin\n"
     ]
    },
    {
     "name": "stdout",
     "output_type": "stream",
     "text": [
      "{'loss': 0.3157, 'learning_rate': 2.9982743744607424e-05, 'epoch': 2.0}\n",
      "{'loss': 0.3352, 'learning_rate': 2.9896462467644522e-05, 'epoch': 2.01}\n",
      "{'loss': 0.3922, 'learning_rate': 2.9810181190681624e-05, 'epoch': 2.02}\n",
      "{'loss': 0.3754, 'learning_rate': 2.9723899913718722e-05, 'epoch': 2.03}\n",
      "{'loss': 0.2701, 'learning_rate': 2.9637618636755827e-05, 'epoch': 2.04}\n",
      "{'loss': 0.3336, 'learning_rate': 2.9551337359792925e-05, 'epoch': 2.04}\n",
      "{'loss': 0.4324, 'learning_rate': 2.9465056082830027e-05, 'epoch': 2.05}\n",
      "{'loss': 0.3449, 'learning_rate': 2.9378774805867125e-05, 'epoch': 2.06}\n",
      "{'loss': 0.256, 'learning_rate': 2.929249352890423e-05, 'epoch': 2.07}\n",
      "{'loss': 0.4488, 'learning_rate': 2.920621225194133e-05, 'epoch': 2.08}\n",
      "{'loss': 0.2768, 'learning_rate': 2.9119930974978434e-05, 'epoch': 2.09}\n",
      "{'loss': 0.3318, 'learning_rate': 2.9033649698015532e-05, 'epoch': 2.1}\n",
      "{'loss': 0.1521, 'learning_rate': 2.8947368421052634e-05, 'epoch': 2.11}\n",
      "{'loss': 0.3156, 'learning_rate': 2.8861087144089732e-05, 'epoch': 2.11}\n",
      "{'loss': 0.3359, 'learning_rate': 2.8774805867126837e-05, 'epoch': 2.12}\n",
      "{'loss': 0.3574, 'learning_rate': 2.8688524590163935e-05, 'epoch': 2.13}\n",
      "{'loss': 0.3152, 'learning_rate': 2.8602243313201037e-05, 'epoch': 2.14}\n",
      "{'loss': 0.4977, 'learning_rate': 2.8515962036238135e-05, 'epoch': 2.15}\n",
      "{'loss': 0.1425, 'learning_rate': 2.842968075927524e-05, 'epoch': 2.16}\n",
      "{'loss': 0.3118, 'learning_rate': 2.834339948231234e-05, 'epoch': 2.17}\n",
      "{'loss': 0.3768, 'learning_rate': 2.8257118205349443e-05, 'epoch': 2.17}\n",
      "{'loss': 0.2815, 'learning_rate': 2.817083692838654e-05, 'epoch': 2.18}\n",
      "{'loss': 0.313, 'learning_rate': 2.8084555651423643e-05, 'epoch': 2.19}\n",
      "{'loss': 0.3213, 'learning_rate': 2.799827437446074e-05, 'epoch': 2.2}\n",
      "{'loss': 0.2405, 'learning_rate': 2.7911993097497847e-05, 'epoch': 2.21}\n",
      "{'loss': 0.4929, 'learning_rate': 2.7825711820534945e-05, 'epoch': 2.22}\n",
      "{'loss': 0.4878, 'learning_rate': 2.7739430543572047e-05, 'epoch': 2.23}\n",
      "{'loss': 0.3899, 'learning_rate': 2.7653149266609145e-05, 'epoch': 2.23}\n",
      "{'loss': 0.2636, 'learning_rate': 2.756686798964625e-05, 'epoch': 2.24}\n",
      "{'loss': 0.3506, 'learning_rate': 2.7480586712683348e-05, 'epoch': 2.25}\n",
      "{'loss': 0.2663, 'learning_rate': 2.7394305435720453e-05, 'epoch': 2.26}\n",
      "{'loss': 0.3806, 'learning_rate': 2.730802415875755e-05, 'epoch': 2.27}\n",
      "{'loss': 0.4699, 'learning_rate': 2.7221742881794653e-05, 'epoch': 2.28}\n",
      "{'loss': 0.4059, 'learning_rate': 2.713546160483175e-05, 'epoch': 2.29}\n",
      "{'loss': 0.2929, 'learning_rate': 2.7049180327868856e-05, 'epoch': 2.3}\n",
      "{'loss': 0.1748, 'learning_rate': 2.6962899050905955e-05, 'epoch': 2.3}\n",
      "{'loss': 0.4721, 'learning_rate': 2.687661777394306e-05, 'epoch': 2.31}\n",
      "{'loss': 0.1998, 'learning_rate': 2.6790336496980155e-05, 'epoch': 2.32}\n",
      "{'loss': 0.2999, 'learning_rate': 2.670405522001726e-05, 'epoch': 2.33}\n",
      "{'loss': 0.3206, 'learning_rate': 2.6617773943054358e-05, 'epoch': 2.34}\n",
      "{'loss': 0.2441, 'learning_rate': 2.6531492666091463e-05, 'epoch': 2.35}\n",
      "{'loss': 0.2644, 'learning_rate': 2.644521138912856e-05, 'epoch': 2.36}\n",
      "{'loss': 0.3462, 'learning_rate': 2.6358930112165663e-05, 'epoch': 2.36}\n",
      "{'loss': 0.2342, 'learning_rate': 2.627264883520276e-05, 'epoch': 2.37}\n",
      "{'loss': 0.3351, 'learning_rate': 2.618636755823986e-05, 'epoch': 2.38}\n",
      "{'loss': 0.3203, 'learning_rate': 2.6100086281276964e-05, 'epoch': 2.39}\n",
      "{'loss': 0.2861, 'learning_rate': 2.6013805004314063e-05, 'epoch': 2.4}\n",
      "{'loss': 0.4228, 'learning_rate': 2.5927523727351168e-05, 'epoch': 2.41}\n",
      "{'loss': 0.2525, 'learning_rate': 2.5841242450388266e-05, 'epoch': 2.42}\n",
      "{'loss': 0.3546, 'learning_rate': 2.5754961173425368e-05, 'epoch': 2.42}\n",
      "{'loss': 0.2441, 'learning_rate': 2.5668679896462466e-05, 'epoch': 2.43}\n",
      "{'loss': 0.1361, 'learning_rate': 2.558239861949957e-05, 'epoch': 2.44}\n",
      "{'loss': 0.4718, 'learning_rate': 2.549611734253667e-05, 'epoch': 2.45}\n",
      "{'loss': 0.3143, 'learning_rate': 2.540983606557377e-05, 'epoch': 2.46}\n",
      "{'loss': 0.6015, 'learning_rate': 2.532355478861087e-05, 'epoch': 2.47}\n",
      "{'loss': 0.2578, 'learning_rate': 2.5237273511647974e-05, 'epoch': 2.48}\n",
      "{'loss': 0.3529, 'learning_rate': 2.5150992234685072e-05, 'epoch': 2.48}\n",
      "{'loss': 0.389, 'learning_rate': 2.5064710957722177e-05, 'epoch': 2.49}\n",
      "{'loss': 0.2616, 'learning_rate': 2.4978429680759276e-05, 'epoch': 2.5}\n",
      "{'loss': 0.1438, 'learning_rate': 2.4892148403796377e-05, 'epoch': 2.51}\n",
      "{'loss': 0.456, 'learning_rate': 2.480586712683348e-05, 'epoch': 2.52}\n",
      "{'loss': 0.2838, 'learning_rate': 2.471958584987058e-05, 'epoch': 2.53}\n",
      "{'loss': 0.4348, 'learning_rate': 2.4633304572907682e-05, 'epoch': 2.54}\n",
      "{'loss': 0.418, 'learning_rate': 2.454702329594478e-05, 'epoch': 2.55}\n",
      "{'loss': 0.2165, 'learning_rate': 2.4460742018981882e-05, 'epoch': 2.55}\n",
      "{'loss': 0.1485, 'learning_rate': 2.4374460742018984e-05, 'epoch': 2.56}\n",
      "{'loss': 0.3799, 'learning_rate': 2.4288179465056086e-05, 'epoch': 2.57}\n",
      "{'loss': 0.2294, 'learning_rate': 2.4201898188093187e-05, 'epoch': 2.58}\n",
      "{'loss': 0.4933, 'learning_rate': 2.4115616911130286e-05, 'epoch': 2.59}\n",
      "{'loss': 0.3788, 'learning_rate': 2.4029335634167387e-05, 'epoch': 2.6}\n",
      "{'loss': 0.1959, 'learning_rate': 2.394305435720449e-05, 'epoch': 2.61}\n",
      "{'loss': 0.5295, 'learning_rate': 2.385677308024159e-05, 'epoch': 2.61}\n",
      "{'loss': 0.4643, 'learning_rate': 2.377049180327869e-05, 'epoch': 2.62}\n",
      "{'loss': 0.2159, 'learning_rate': 2.368421052631579e-05, 'epoch': 2.63}\n",
      "{'loss': 0.2906, 'learning_rate': 2.359792924935289e-05, 'epoch': 2.64}\n",
      "{'loss': 0.2768, 'learning_rate': 2.351164797238999e-05, 'epoch': 2.65}\n",
      "{'loss': 0.3064, 'learning_rate': 2.3425366695427092e-05, 'epoch': 2.66}\n",
      "{'loss': 0.2248, 'learning_rate': 2.3339085418464194e-05, 'epoch': 2.67}\n",
      "{'loss': 0.346, 'learning_rate': 2.3252804141501295e-05, 'epoch': 2.67}\n",
      "{'loss': 0.2833, 'learning_rate': 2.3166522864538394e-05, 'epoch': 2.68}\n",
      "{'loss': 0.4003, 'learning_rate': 2.3080241587575495e-05, 'epoch': 2.69}\n",
      "{'loss': 0.4499, 'learning_rate': 2.2993960310612597e-05, 'epoch': 2.7}\n",
      "{'loss': 0.4403, 'learning_rate': 2.29076790336497e-05, 'epoch': 2.71}\n",
      "{'loss': 0.0865, 'learning_rate': 2.28213977566868e-05, 'epoch': 2.72}\n",
      "{'loss': 0.596, 'learning_rate': 2.2735116479723902e-05, 'epoch': 2.73}\n",
      "{'loss': 0.518, 'learning_rate': 2.2648835202761e-05, 'epoch': 2.74}\n",
      "{'loss': 0.3366, 'learning_rate': 2.2562553925798102e-05, 'epoch': 2.74}\n",
      "{'loss': 0.4352, 'learning_rate': 2.2476272648835203e-05, 'epoch': 2.75}\n",
      "{'loss': 0.3251, 'learning_rate': 2.2389991371872305e-05, 'epoch': 2.76}\n",
      "{'loss': 0.2012, 'learning_rate': 2.2303710094909407e-05, 'epoch': 2.77}\n",
      "{'loss': 0.4271, 'learning_rate': 2.2217428817946505e-05, 'epoch': 2.78}\n",
      "{'loss': 0.3424, 'learning_rate': 2.2131147540983607e-05, 'epoch': 2.79}\n",
      "{'loss': 0.3481, 'learning_rate': 2.204486626402071e-05, 'epoch': 2.8}\n",
      "{'loss': 0.5027, 'learning_rate': 2.195858498705781e-05, 'epoch': 2.8}\n",
      "{'loss': 0.2046, 'learning_rate': 2.187230371009491e-05, 'epoch': 2.81}\n",
      "{'loss': 0.1454, 'learning_rate': 2.178602243313201e-05, 'epoch': 2.82}\n",
      "{'loss': 0.3243, 'learning_rate': 2.169974115616911e-05, 'epoch': 2.83}\n",
      "{'loss': 0.2962, 'learning_rate': 2.1613459879206213e-05, 'epoch': 2.84}\n",
      "{'loss': 0.3585, 'learning_rate': 2.1527178602243315e-05, 'epoch': 2.85}\n",
      "{'loss': 0.3532, 'learning_rate': 2.1440897325280417e-05, 'epoch': 2.86}\n",
      "{'loss': 0.2514, 'learning_rate': 2.1354616048317515e-05, 'epoch': 2.86}\n",
      "{'loss': 0.6597, 'learning_rate': 2.1268334771354616e-05, 'epoch': 2.87}\n",
      "{'loss': 0.4251, 'learning_rate': 2.1182053494391718e-05, 'epoch': 2.88}\n",
      "{'loss': 0.4561, 'learning_rate': 2.109577221742882e-05, 'epoch': 2.89}\n",
      "{'loss': 0.4838, 'learning_rate': 2.100949094046592e-05, 'epoch': 2.9}\n",
      "{'loss': 0.3798, 'learning_rate': 2.092320966350302e-05, 'epoch': 2.91}\n",
      "{'loss': 0.2339, 'learning_rate': 2.083692838654012e-05, 'epoch': 2.92}\n",
      "{'loss': 0.3834, 'learning_rate': 2.0750647109577223e-05, 'epoch': 2.92}\n",
      "{'loss': 0.2894, 'learning_rate': 2.0664365832614325e-05, 'epoch': 2.93}\n",
      "{'loss': 0.3291, 'learning_rate': 2.0578084555651426e-05, 'epoch': 2.94}\n",
      "{'loss': 0.355, 'learning_rate': 2.0491803278688525e-05, 'epoch': 2.95}\n",
      "{'loss': 0.2255, 'learning_rate': 2.0405522001725626e-05, 'epoch': 2.96}\n",
      "{'loss': 0.4605, 'learning_rate': 2.0319240724762728e-05, 'epoch': 2.97}\n",
      "{'loss': 0.3357, 'learning_rate': 2.023295944779983e-05, 'epoch': 2.98}\n",
      "{'loss': 0.3271, 'learning_rate': 2.014667817083693e-05, 'epoch': 2.99}\n",
      "{'loss': 0.2425, 'learning_rate': 2.006039689387403e-05, 'epoch': 2.99}\n"
     ]
    },
    {
     "name": "stderr",
     "output_type": "stream",
     "text": [
      "***** Running Evaluation *****\n",
      "  Num examples = 3972\n",
      "  Batch size = 8\n"
     ]
    },
    {
     "data": {
      "application/vnd.jupyter.widget-view+json": {
       "model_id": "3688027a529e4bdea925469beb013246",
       "version_major": 2,
       "version_minor": 0
      },
      "text/plain": [
       "  0%|          | 0/497 [00:00<?, ?it/s]"
      ]
     },
     "metadata": {},
     "output_type": "display_data"
    },
    {
     "name": "stderr",
     "output_type": "stream",
     "text": [
      "Saving model checkpoint to ./results_bertbaseuncased_semeval_20241121/checkpoint-3477\n",
      "Configuration saved in ./results_bertbaseuncased_semeval_20241121/checkpoint-3477/config.json\n"
     ]
    },
    {
     "name": "stdout",
     "output_type": "stream",
     "text": [
      "{'eval_loss': 0.7189241647720337, 'eval_accuracy': 0.7787009063444109, 'eval_f1': 0.7787009063444109, 'eval_precision': 0.7787009063444109, 'eval_recall': 0.7787009063444109, 'eval_runtime': 99.4873, 'eval_samples_per_second': 39.925, 'eval_steps_per_second': 4.996, 'epoch': 3.0}\n"
     ]
    },
    {
     "name": "stderr",
     "output_type": "stream",
     "text": [
      "Model weights saved in ./results_bertbaseuncased_semeval_20241121/checkpoint-3477/pytorch_model.bin\n"
     ]
    },
    {
     "name": "stdout",
     "output_type": "stream",
     "text": [
      "{'loss': 0.1308, 'learning_rate': 1.997411561691113e-05, 'epoch': 3.0}\n",
      "{'loss': 0.2291, 'learning_rate': 1.9887834339948233e-05, 'epoch': 3.01}\n",
      "{'loss': 0.3434, 'learning_rate': 1.9801553062985334e-05, 'epoch': 3.02}\n",
      "{'loss': 0.3311, 'learning_rate': 1.9715271786022436e-05, 'epoch': 3.03}\n",
      "{'loss': 0.0327, 'learning_rate': 1.9628990509059538e-05, 'epoch': 3.04}\n",
      "{'loss': 0.2874, 'learning_rate': 1.9542709232096636e-05, 'epoch': 3.05}\n",
      "{'loss': 0.226, 'learning_rate': 1.9456427955133738e-05, 'epoch': 3.05}\n",
      "{'loss': 0.3563, 'learning_rate': 1.937014667817084e-05, 'epoch': 3.06}\n",
      "{'loss': 0.1512, 'learning_rate': 1.928386540120794e-05, 'epoch': 3.07}\n",
      "{'loss': 0.4432, 'learning_rate': 1.9197584124245043e-05, 'epoch': 3.08}\n",
      "{'loss': 0.3456, 'learning_rate': 1.911130284728214e-05, 'epoch': 3.09}\n",
      "{'loss': 0.2192, 'learning_rate': 1.902502157031924e-05, 'epoch': 3.1}\n",
      "{'loss': 0.2364, 'learning_rate': 1.893874029335634e-05, 'epoch': 3.11}\n",
      "{'loss': 0.4294, 'learning_rate': 1.8852459016393442e-05, 'epoch': 3.11}\n",
      "{'loss': 0.262, 'learning_rate': 1.8766177739430544e-05, 'epoch': 3.12}\n",
      "{'loss': 0.2695, 'learning_rate': 1.8679896462467646e-05, 'epoch': 3.13}\n",
      "{'loss': 0.2068, 'learning_rate': 1.8593615185504744e-05, 'epoch': 3.14}\n",
      "{'loss': 0.0765, 'learning_rate': 1.8507333908541846e-05, 'epoch': 3.15}\n",
      "{'loss': 0.1983, 'learning_rate': 1.8421052631578947e-05, 'epoch': 3.16}\n",
      "{'loss': 0.2375, 'learning_rate': 1.833477135461605e-05, 'epoch': 3.17}\n",
      "{'loss': 0.2936, 'learning_rate': 1.824849007765315e-05, 'epoch': 3.18}\n",
      "{'loss': 0.2539, 'learning_rate': 1.816220880069025e-05, 'epoch': 3.18}\n",
      "{'loss': 0.0959, 'learning_rate': 1.807592752372735e-05, 'epoch': 3.19}\n",
      "{'loss': 0.233, 'learning_rate': 1.7989646246764452e-05, 'epoch': 3.2}\n",
      "{'loss': 0.3845, 'learning_rate': 1.7903364969801554e-05, 'epoch': 3.21}\n",
      "{'loss': 0.2888, 'learning_rate': 1.7817083692838656e-05, 'epoch': 3.22}\n",
      "{'loss': 0.2809, 'learning_rate': 1.7730802415875754e-05, 'epoch': 3.23}\n",
      "{'loss': 0.0377, 'learning_rate': 1.7644521138912855e-05, 'epoch': 3.24}\n",
      "{'loss': 0.1825, 'learning_rate': 1.7558239861949957e-05, 'epoch': 3.24}\n",
      "{'loss': 0.3629, 'learning_rate': 1.747195858498706e-05, 'epoch': 3.25}\n",
      "{'loss': 0.2107, 'learning_rate': 1.738567730802416e-05, 'epoch': 3.26}\n",
      "{'loss': 0.1505, 'learning_rate': 1.729939603106126e-05, 'epoch': 3.27}\n",
      "{'loss': 0.3507, 'learning_rate': 1.721311475409836e-05, 'epoch': 3.28}\n",
      "{'loss': 0.2995, 'learning_rate': 1.7126833477135462e-05, 'epoch': 3.29}\n",
      "{'loss': 0.5425, 'learning_rate': 1.7040552200172564e-05, 'epoch': 3.3}\n",
      "{'loss': 0.31, 'learning_rate': 1.6954270923209665e-05, 'epoch': 3.3}\n",
      "{'loss': 0.3172, 'learning_rate': 1.6867989646246764e-05, 'epoch': 3.31}\n",
      "{'loss': 0.2768, 'learning_rate': 1.6781708369283865e-05, 'epoch': 3.32}\n",
      "{'loss': 0.2351, 'learning_rate': 1.6695427092320967e-05, 'epoch': 3.33}\n",
      "{'loss': 0.1415, 'learning_rate': 1.660914581535807e-05, 'epoch': 3.34}\n",
      "{'loss': 0.2111, 'learning_rate': 1.652286453839517e-05, 'epoch': 3.35}\n",
      "{'loss': 0.3953, 'learning_rate': 1.643658326143227e-05, 'epoch': 3.36}\n",
      "{'loss': 0.4552, 'learning_rate': 1.635030198446937e-05, 'epoch': 3.36}\n",
      "{'loss': 0.3206, 'learning_rate': 1.6264020707506472e-05, 'epoch': 3.37}\n",
      "{'loss': 0.2759, 'learning_rate': 1.6177739430543573e-05, 'epoch': 3.38}\n",
      "{'loss': 0.341, 'learning_rate': 1.6091458153580675e-05, 'epoch': 3.39}\n",
      "{'loss': 0.3679, 'learning_rate': 1.6005176876617777e-05, 'epoch': 3.4}\n",
      "{'loss': 0.3236, 'learning_rate': 1.5918895599654875e-05, 'epoch': 3.41}\n",
      "{'loss': 0.231, 'learning_rate': 1.5832614322691977e-05, 'epoch': 3.42}\n",
      "{'loss': 0.1845, 'learning_rate': 1.574633304572908e-05, 'epoch': 3.43}\n",
      "{'loss': 0.3141, 'learning_rate': 1.566005176876618e-05, 'epoch': 3.43}\n",
      "{'loss': 0.0509, 'learning_rate': 1.557377049180328e-05, 'epoch': 3.44}\n",
      "{'loss': 0.2682, 'learning_rate': 1.548748921484038e-05, 'epoch': 3.45}\n",
      "{'loss': 0.3543, 'learning_rate': 1.540120793787748e-05, 'epoch': 3.46}\n",
      "{'loss': 0.4366, 'learning_rate': 1.5314926660914583e-05, 'epoch': 3.47}\n",
      "{'loss': 0.2473, 'learning_rate': 1.5228645383951685e-05, 'epoch': 3.48}\n",
      "{'loss': 0.3414, 'learning_rate': 1.5142364106988785e-05, 'epoch': 3.49}\n",
      "{'loss': 0.0858, 'learning_rate': 1.5056082830025887e-05, 'epoch': 3.49}\n",
      "{'loss': 0.3454, 'learning_rate': 1.4969801553062986e-05, 'epoch': 3.5}\n",
      "{'loss': 0.2486, 'learning_rate': 1.4883520276100088e-05, 'epoch': 3.51}\n",
      "{'loss': 0.223, 'learning_rate': 1.479723899913719e-05, 'epoch': 3.52}\n",
      "{'loss': 0.2381, 'learning_rate': 1.471095772217429e-05, 'epoch': 3.53}\n",
      "{'loss': 0.0935, 'learning_rate': 1.4624676445211391e-05, 'epoch': 3.54}\n",
      "{'loss': 0.2845, 'learning_rate': 1.4538395168248491e-05, 'epoch': 3.55}\n",
      "{'loss': 0.2774, 'learning_rate': 1.4452113891285593e-05, 'epoch': 3.55}\n",
      "{'loss': 0.1084, 'learning_rate': 1.4365832614322695e-05, 'epoch': 3.56}\n",
      "{'loss': 0.1489, 'learning_rate': 1.4279551337359793e-05, 'epoch': 3.57}\n",
      "{'loss': 0.3212, 'learning_rate': 1.4193270060396893e-05, 'epoch': 3.58}\n",
      "{'loss': 0.2711, 'learning_rate': 1.4106988783433995e-05, 'epoch': 3.59}\n",
      "{'loss': 0.1843, 'learning_rate': 1.4020707506471095e-05, 'epoch': 3.6}\n",
      "{'loss': 0.1296, 'learning_rate': 1.3934426229508196e-05, 'epoch': 3.61}\n",
      "{'loss': 0.249, 'learning_rate': 1.3848144952545298e-05, 'epoch': 3.62}\n",
      "{'loss': 0.0128, 'learning_rate': 1.3761863675582398e-05, 'epoch': 3.62}\n",
      "{'loss': 0.1816, 'learning_rate': 1.36755823986195e-05, 'epoch': 3.63}\n",
      "{'loss': 0.15, 'learning_rate': 1.35893011216566e-05, 'epoch': 3.64}\n",
      "{'loss': 0.2463, 'learning_rate': 1.3503019844693701e-05, 'epoch': 3.65}\n",
      "{'loss': 0.4489, 'learning_rate': 1.3416738567730803e-05, 'epoch': 3.66}\n",
      "{'loss': 0.1751, 'learning_rate': 1.3330457290767903e-05, 'epoch': 3.67}\n",
      "{'loss': 0.3445, 'learning_rate': 1.3244176013805004e-05, 'epoch': 3.68}\n",
      "{'loss': 0.2408, 'learning_rate': 1.3157894736842106e-05, 'epoch': 3.68}\n",
      "{'loss': 0.1218, 'learning_rate': 1.3071613459879206e-05, 'epoch': 3.69}\n",
      "{'loss': 0.3497, 'learning_rate': 1.2985332182916308e-05, 'epoch': 3.7}\n",
      "{'loss': 0.2048, 'learning_rate': 1.2899050905953408e-05, 'epoch': 3.71}\n",
      "{'loss': 0.4512, 'learning_rate': 1.281276962899051e-05, 'epoch': 3.72}\n",
      "{'loss': 0.1676, 'learning_rate': 1.2726488352027611e-05, 'epoch': 3.73}\n",
      "{'loss': 0.1943, 'learning_rate': 1.264020707506471e-05, 'epoch': 3.74}\n",
      "{'loss': 0.5652, 'learning_rate': 1.2553925798101812e-05, 'epoch': 3.74}\n",
      "{'loss': 0.2391, 'learning_rate': 1.2467644521138912e-05, 'epoch': 3.75}\n",
      "{'loss': 0.1867, 'learning_rate': 1.2381363244176014e-05, 'epoch': 3.76}\n",
      "{'loss': 0.3061, 'learning_rate': 1.2295081967213116e-05, 'epoch': 3.77}\n",
      "{'loss': 0.1645, 'learning_rate': 1.2208800690250216e-05, 'epoch': 3.78}\n",
      "{'loss': 0.219, 'learning_rate': 1.2122519413287317e-05, 'epoch': 3.79}\n",
      "{'loss': 0.2006, 'learning_rate': 1.2036238136324417e-05, 'epoch': 3.8}\n",
      "{'loss': 0.2029, 'learning_rate': 1.1949956859361519e-05, 'epoch': 3.81}\n",
      "{'loss': 0.453, 'learning_rate': 1.186367558239862e-05, 'epoch': 3.81}\n",
      "{'loss': 0.1077, 'learning_rate': 1.177739430543572e-05, 'epoch': 3.82}\n",
      "{'loss': 0.2365, 'learning_rate': 1.1691113028472822e-05, 'epoch': 3.83}\n",
      "{'loss': 0.256, 'learning_rate': 1.1604831751509924e-05, 'epoch': 3.84}\n",
      "{'loss': 0.2287, 'learning_rate': 1.1518550474547024e-05, 'epoch': 3.85}\n",
      "{'loss': 0.1617, 'learning_rate': 1.1432269197584126e-05, 'epoch': 3.86}\n",
      "{'loss': 0.231, 'learning_rate': 1.1345987920621225e-05, 'epoch': 3.87}\n",
      "{'loss': 0.3071, 'learning_rate': 1.1259706643658327e-05, 'epoch': 3.87}\n",
      "{'loss': 0.2397, 'learning_rate': 1.1173425366695429e-05, 'epoch': 3.88}\n",
      "{'loss': 0.1188, 'learning_rate': 1.1087144089732529e-05, 'epoch': 3.89}\n",
      "{'loss': 0.2603, 'learning_rate': 1.100086281276963e-05, 'epoch': 3.9}\n",
      "{'loss': 0.0283, 'learning_rate': 1.091458153580673e-05, 'epoch': 3.91}\n",
      "{'loss': 0.404, 'learning_rate': 1.0828300258843832e-05, 'epoch': 3.92}\n",
      "{'loss': 0.3295, 'learning_rate': 1.0742018981880934e-05, 'epoch': 3.93}\n",
      "{'loss': 0.0618, 'learning_rate': 1.0655737704918032e-05, 'epoch': 3.93}\n",
      "{'loss': 0.1861, 'learning_rate': 1.0569456427955134e-05, 'epoch': 3.94}\n",
      "{'loss': 0.3994, 'learning_rate': 1.0483175150992235e-05, 'epoch': 3.95}\n",
      "{'loss': 0.2516, 'learning_rate': 1.0396893874029335e-05, 'epoch': 3.96}\n",
      "{'loss': 0.5982, 'learning_rate': 1.0310612597066437e-05, 'epoch': 3.97}\n",
      "{'loss': 0.1733, 'learning_rate': 1.0224331320103537e-05, 'epoch': 3.98}\n",
      "{'loss': 0.0104, 'learning_rate': 1.0138050043140639e-05, 'epoch': 3.99}\n",
      "{'loss': 0.4477, 'learning_rate': 1.005176876617774e-05, 'epoch': 3.99}\n"
     ]
    },
    {
     "name": "stderr",
     "output_type": "stream",
     "text": [
      "***** Running Evaluation *****\n",
      "  Num examples = 3972\n",
      "  Batch size = 8\n"
     ]
    },
    {
     "data": {
      "application/vnd.jupyter.widget-view+json": {
       "model_id": "be49c4493b404eadb61b2b0fb7979bba",
       "version_major": 2,
       "version_minor": 0
      },
      "text/plain": [
       "  0%|          | 0/497 [00:00<?, ?it/s]"
      ]
     },
     "metadata": {},
     "output_type": "display_data"
    },
    {
     "name": "stderr",
     "output_type": "stream",
     "text": [
      "Saving model checkpoint to ./results_bertbaseuncased_semeval_20241121/checkpoint-4636\n",
      "Configuration saved in ./results_bertbaseuncased_semeval_20241121/checkpoint-4636/config.json\n"
     ]
    },
    {
     "name": "stdout",
     "output_type": "stream",
     "text": [
      "{'eval_loss': 0.9521754384040833, 'eval_accuracy': 0.7792044310171199, 'eval_f1': 0.7792044310171199, 'eval_precision': 0.7792044310171199, 'eval_recall': 0.7792044310171199, 'eval_runtime': 88.6361, 'eval_samples_per_second': 44.812, 'eval_steps_per_second': 5.607, 'epoch': 4.0}\n"
     ]
    },
    {
     "name": "stderr",
     "output_type": "stream",
     "text": [
      "Model weights saved in ./results_bertbaseuncased_semeval_20241121/checkpoint-4636/pytorch_model.bin\n"
     ]
    },
    {
     "name": "stdout",
     "output_type": "stream",
     "text": [
      "{'loss': 0.327, 'learning_rate': 9.96548748921484e-06, 'epoch': 4.0}\n",
      "{'loss': 0.1451, 'learning_rate': 9.879206212251942e-06, 'epoch': 4.01}\n",
      "{'loss': 0.0598, 'learning_rate': 9.792924935289043e-06, 'epoch': 4.02}\n",
      "{'loss': 0.2584, 'learning_rate': 9.706643658326143e-06, 'epoch': 4.03}\n",
      "{'loss': 0.1389, 'learning_rate': 9.620362381363245e-06, 'epoch': 4.04}\n",
      "{'loss': 0.0151, 'learning_rate': 9.534081104400345e-06, 'epoch': 4.05}\n",
      "{'loss': 0.0629, 'learning_rate': 9.447799827437447e-06, 'epoch': 4.06}\n",
      "{'loss': 0.1749, 'learning_rate': 9.361518550474548e-06, 'epoch': 4.06}\n",
      "{'loss': 0.1228, 'learning_rate': 9.275237273511648e-06, 'epoch': 4.07}\n",
      "{'loss': 0.3219, 'learning_rate': 9.18895599654875e-06, 'epoch': 4.08}\n",
      "{'loss': 0.206, 'learning_rate': 9.10267471958585e-06, 'epoch': 4.09}\n",
      "{'loss': 0.1279, 'learning_rate': 9.016393442622952e-06, 'epoch': 4.1}\n",
      "{'loss': 0.2467, 'learning_rate': 8.930112165660053e-06, 'epoch': 4.11}\n",
      "{'loss': 0.1294, 'learning_rate': 8.843830888697153e-06, 'epoch': 4.12}\n",
      "{'loss': 0.229, 'learning_rate': 8.757549611734255e-06, 'epoch': 4.12}\n",
      "{'loss': 0.1244, 'learning_rate': 8.671268334771355e-06, 'epoch': 4.13}\n",
      "{'loss': 0.16, 'learning_rate': 8.584987057808456e-06, 'epoch': 4.14}\n",
      "{'loss': 0.1492, 'learning_rate': 8.498705780845558e-06, 'epoch': 4.15}\n",
      "{'loss': 0.1714, 'learning_rate': 8.412424503882658e-06, 'epoch': 4.16}\n",
      "{'loss': 0.0645, 'learning_rate': 8.326143226919758e-06, 'epoch': 4.17}\n",
      "{'loss': 0.0569, 'learning_rate': 8.23986194995686e-06, 'epoch': 4.18}\n",
      "{'loss': 0.119, 'learning_rate': 8.15358067299396e-06, 'epoch': 4.18}\n",
      "{'loss': 0.2621, 'learning_rate': 8.067299396031061e-06, 'epoch': 4.19}\n",
      "{'loss': 0.2891, 'learning_rate': 7.981018119068161e-06, 'epoch': 4.2}\n",
      "{'loss': 0.0927, 'learning_rate': 7.894736842105263e-06, 'epoch': 4.21}\n",
      "{'loss': 0.1882, 'learning_rate': 7.808455565142365e-06, 'epoch': 4.22}\n",
      "{'loss': 0.1098, 'learning_rate': 7.722174288179465e-06, 'epoch': 4.23}\n",
      "{'loss': 0.3298, 'learning_rate': 7.635893011216566e-06, 'epoch': 4.24}\n",
      "{'loss': 0.0962, 'learning_rate': 7.549611734253667e-06, 'epoch': 4.25}\n",
      "{'loss': 0.283, 'learning_rate': 7.463330457290768e-06, 'epoch': 4.25}\n",
      "{'loss': 0.0565, 'learning_rate': 7.3770491803278695e-06, 'epoch': 4.26}\n",
      "{'loss': 0.2974, 'learning_rate': 7.29076790336497e-06, 'epoch': 4.27}\n",
      "{'loss': 0.2665, 'learning_rate': 7.204486626402071e-06, 'epoch': 4.28}\n",
      "{'loss': 0.1038, 'learning_rate': 7.118205349439172e-06, 'epoch': 4.29}\n",
      "{'loss': 0.0513, 'learning_rate': 7.031924072476273e-06, 'epoch': 4.3}\n",
      "{'loss': 0.2294, 'learning_rate': 6.945642795513374e-06, 'epoch': 4.31}\n",
      "{'loss': 0.1064, 'learning_rate': 6.859361518550475e-06, 'epoch': 4.31}\n",
      "{'loss': 0.3598, 'learning_rate': 6.773080241587576e-06, 'epoch': 4.32}\n",
      "{'loss': 0.4597, 'learning_rate': 6.686798964624677e-06, 'epoch': 4.33}\n",
      "{'loss': 0.146, 'learning_rate': 6.6005176876617784e-06, 'epoch': 4.34}\n",
      "{'loss': 0.2268, 'learning_rate': 6.514236410698879e-06, 'epoch': 4.35}\n",
      "{'loss': 0.274, 'learning_rate': 6.42795513373598e-06, 'epoch': 4.36}\n",
      "{'loss': 0.1554, 'learning_rate': 6.341673856773081e-06, 'epoch': 4.37}\n",
      "{'loss': 0.0949, 'learning_rate': 6.255392579810182e-06, 'epoch': 4.37}\n",
      "{'loss': 0.237, 'learning_rate': 6.1691113028472825e-06, 'epoch': 4.38}\n",
      "{'loss': 0.0548, 'learning_rate': 6.082830025884383e-06, 'epoch': 4.39}\n",
      "{'loss': 0.2235, 'learning_rate': 5.996548748921484e-06, 'epoch': 4.4}\n",
      "{'loss': 0.247, 'learning_rate': 5.910267471958585e-06, 'epoch': 4.41}\n",
      "{'loss': 0.1643, 'learning_rate': 5.8239861949956865e-06, 'epoch': 4.42}\n",
      "{'loss': 0.0863, 'learning_rate': 5.737704918032787e-06, 'epoch': 4.43}\n",
      "{'loss': 0.4118, 'learning_rate': 5.651423641069888e-06, 'epoch': 4.43}\n",
      "{'loss': 0.2874, 'learning_rate': 5.565142364106989e-06, 'epoch': 4.44}\n",
      "{'loss': 0.1304, 'learning_rate': 5.478861087144091e-06, 'epoch': 4.45}\n",
      "{'loss': 0.0228, 'learning_rate': 5.3925798101811914e-06, 'epoch': 4.46}\n",
      "{'loss': 0.0488, 'learning_rate': 5.306298533218291e-06, 'epoch': 4.47}\n",
      "{'loss': 0.2296, 'learning_rate': 5.220017256255392e-06, 'epoch': 4.48}\n",
      "{'loss': 0.2204, 'learning_rate': 5.133735979292494e-06, 'epoch': 4.49}\n",
      "{'loss': 0.1898, 'learning_rate': 5.047454702329595e-06, 'epoch': 4.5}\n",
      "{'loss': 0.0598, 'learning_rate': 4.9611734253666955e-06, 'epoch': 4.5}\n",
      "{'loss': 0.2232, 'learning_rate': 4.874892148403796e-06, 'epoch': 4.51}\n",
      "{'loss': 0.2906, 'learning_rate': 4.788610871440898e-06, 'epoch': 4.52}\n",
      "{'loss': 0.1783, 'learning_rate': 4.702329594477999e-06, 'epoch': 4.53}\n",
      "{'loss': 0.1752, 'learning_rate': 4.6160483175150996e-06, 'epoch': 4.54}\n",
      "{'loss': 0.1099, 'learning_rate': 4.5297670405522e-06, 'epoch': 4.55}\n",
      "{'loss': 0.1719, 'learning_rate': 4.443485763589301e-06, 'epoch': 4.56}\n",
      "{'loss': 0.182, 'learning_rate': 4.357204486626403e-06, 'epoch': 4.56}\n",
      "{'loss': 0.0067, 'learning_rate': 4.270923209663504e-06, 'epoch': 4.57}\n",
      "{'loss': 0.0644, 'learning_rate': 4.1846419327006044e-06, 'epoch': 4.58}\n",
      "{'loss': 0.2045, 'learning_rate': 4.098360655737704e-06, 'epoch': 4.59}\n",
      "{'loss': 0.0842, 'learning_rate': 4.012079378774806e-06, 'epoch': 4.6}\n",
      "{'loss': 0.0623, 'learning_rate': 3.925798101811907e-06, 'epoch': 4.61}\n",
      "{'loss': 0.1105, 'learning_rate': 3.839516824849008e-06, 'epoch': 4.62}\n",
      "{'loss': 0.065, 'learning_rate': 3.753235547886109e-06, 'epoch': 4.62}\n",
      "{'loss': 0.1833, 'learning_rate': 3.6669542709232097e-06, 'epoch': 4.63}\n",
      "{'loss': 0.0065, 'learning_rate': 3.580672993960311e-06, 'epoch': 4.64}\n",
      "{'loss': 0.0056, 'learning_rate': 3.4943917169974118e-06, 'epoch': 4.65}\n",
      "{'loss': 0.265, 'learning_rate': 3.4081104400345126e-06, 'epoch': 4.66}\n",
      "{'loss': 0.2887, 'learning_rate': 3.321829163071614e-06, 'epoch': 4.67}\n",
      "{'loss': 0.059, 'learning_rate': 3.2355478861087146e-06, 'epoch': 4.68}\n",
      "{'loss': 0.3824, 'learning_rate': 3.149266609145816e-06, 'epoch': 4.69}\n",
      "{'loss': 0.1258, 'learning_rate': 3.0629853321829162e-06, 'epoch': 4.69}\n",
      "{'loss': 0.1958, 'learning_rate': 2.9767040552200175e-06, 'epoch': 4.7}\n",
      "{'loss': 0.081, 'learning_rate': 2.8904227782571183e-06, 'epoch': 4.71}\n",
      "{'loss': 0.2732, 'learning_rate': 2.8041415012942195e-06, 'epoch': 4.72}\n",
      "{'loss': 0.1377, 'learning_rate': 2.7178602243313203e-06, 'epoch': 4.73}\n",
      "{'loss': 0.1675, 'learning_rate': 2.631578947368421e-06, 'epoch': 4.74}\n",
      "{'loss': 0.117, 'learning_rate': 2.545297670405522e-06, 'epoch': 4.75}\n",
      "{'loss': 0.2957, 'learning_rate': 2.459016393442623e-06, 'epoch': 4.75}\n",
      "{'loss': 0.0917, 'learning_rate': 2.372735116479724e-06, 'epoch': 4.76}\n",
      "{'loss': 0.3109, 'learning_rate': 2.286453839516825e-06, 'epoch': 4.77}\n",
      "{'loss': 0.2594, 'learning_rate': 2.200172562553926e-06, 'epoch': 4.78}\n",
      "{'loss': 0.249, 'learning_rate': 2.113891285591027e-06, 'epoch': 4.79}\n",
      "{'loss': 0.1802, 'learning_rate': 2.0276100086281276e-06, 'epoch': 4.8}\n",
      "{'loss': 0.0651, 'learning_rate': 1.941328731665229e-06, 'epoch': 4.81}\n",
      "{'loss': 0.323, 'learning_rate': 1.8550474547023297e-06, 'epoch': 4.81}\n",
      "{'loss': 0.298, 'learning_rate': 1.7687661777394307e-06, 'epoch': 4.82}\n",
      "{'loss': 0.2043, 'learning_rate': 1.6824849007765317e-06, 'epoch': 4.83}\n",
      "{'loss': 0.1755, 'learning_rate': 1.5962036238136327e-06, 'epoch': 4.84}\n",
      "{'loss': 0.1842, 'learning_rate': 1.5099223468507335e-06, 'epoch': 4.85}\n",
      "{'loss': 0.1537, 'learning_rate': 1.4236410698878345e-06, 'epoch': 4.86}\n",
      "{'loss': 0.1862, 'learning_rate': 1.3373597929249354e-06, 'epoch': 4.87}\n",
      "{'loss': 0.1592, 'learning_rate': 1.2510785159620362e-06, 'epoch': 4.87}\n",
      "{'loss': 0.1834, 'learning_rate': 1.1647972389991372e-06, 'epoch': 4.88}\n",
      "{'loss': 0.1975, 'learning_rate': 1.0785159620362382e-06, 'epoch': 4.89}\n",
      "{'loss': 0.1917, 'learning_rate': 9.92234685073339e-07, 'epoch': 4.9}\n",
      "{'loss': 0.2819, 'learning_rate': 9.0595340811044e-07, 'epoch': 4.91}\n",
      "{'loss': 0.1162, 'learning_rate': 8.19672131147541e-07, 'epoch': 4.92}\n",
      "{'loss': 0.2332, 'learning_rate': 7.33390854184642e-07, 'epoch': 4.93}\n",
      "{'loss': 0.1549, 'learning_rate': 6.471095772217429e-07, 'epoch': 4.94}\n",
      "{'loss': 0.158, 'learning_rate': 5.608283002588439e-07, 'epoch': 4.94}\n",
      "{'loss': 0.1952, 'learning_rate': 4.7454702329594476e-07, 'epoch': 4.95}\n",
      "{'loss': 0.0774, 'learning_rate': 3.8826574633304573e-07, 'epoch': 4.96}\n",
      "{'loss': 0.3167, 'learning_rate': 3.019844693701467e-07, 'epoch': 4.97}\n",
      "{'loss': 0.0603, 'learning_rate': 2.1570319240724764e-07, 'epoch': 4.98}\n",
      "{'loss': 0.077, 'learning_rate': 1.2942191544434858e-07, 'epoch': 4.99}\n",
      "{'loss': 0.1336, 'learning_rate': 4.314063848144953e-08, 'epoch': 5.0}\n"
     ]
    },
    {
     "name": "stderr",
     "output_type": "stream",
     "text": [
      "***** Running Evaluation *****\n",
      "  Num examples = 3972\n",
      "  Batch size = 8\n"
     ]
    },
    {
     "data": {
      "application/vnd.jupyter.widget-view+json": {
       "model_id": "59f08a5adf5548b3a218945132218aae",
       "version_major": 2,
       "version_minor": 0
      },
      "text/plain": [
       "  0%|          | 0/497 [00:00<?, ?it/s]"
      ]
     },
     "metadata": {},
     "output_type": "display_data"
    },
    {
     "name": "stderr",
     "output_type": "stream",
     "text": [
      "Saving model checkpoint to ./results_bertbaseuncased_semeval_20241121/checkpoint-5795\n",
      "Configuration saved in ./results_bertbaseuncased_semeval_20241121/checkpoint-5795/config.json\n"
     ]
    },
    {
     "name": "stdout",
     "output_type": "stream",
     "text": [
      "{'eval_loss': 1.022975206375122, 'eval_accuracy': 0.7824773413897281, 'eval_f1': 0.7824773413897281, 'eval_precision': 0.7824773413897281, 'eval_recall': 0.7824773413897281, 'eval_runtime': 93.7351, 'eval_samples_per_second': 42.375, 'eval_steps_per_second': 5.302, 'epoch': 5.0}\n"
     ]
    },
    {
     "name": "stderr",
     "output_type": "stream",
     "text": [
      "Model weights saved in ./results_bertbaseuncased_semeval_20241121/checkpoint-5795/pytorch_model.bin\n",
      "\n",
      "\n",
      "Training completed. Do not forget to share your model on huggingface.co/models =)\n",
      "\n",
      "\n",
      "Loading best model from ./results_bertbaseuncased_semeval_20241121/checkpoint-1159 (score: 0.4632123112678528).\n",
      "***** Running Evaluation *****\n",
      "  Num examples = 3972\n",
      "  Batch size = 8\n"
     ]
    },
    {
     "name": "stdout",
     "output_type": "stream",
     "text": [
      "{'train_runtime': 4431.4448, 'train_samples_per_second': 10.457, 'train_steps_per_second': 1.308, 'train_loss': 0.3369064765496178, 'epoch': 5.0}\n"
     ]
    },
    {
     "data": {
      "application/vnd.jupyter.widget-view+json": {
       "model_id": "818e97ef5ac4496db52deecb1e60cf17",
       "version_major": 2,
       "version_minor": 0
      },
      "text/plain": [
       "  0%|          | 0/497 [00:00<?, ?it/s]"
      ]
     },
     "metadata": {},
     "output_type": "display_data"
    },
    {
     "name": "stderr",
     "output_type": "stream",
     "text": [
      "Saving model checkpoint to ./saved_model_bertbaseuncased_semeval_20241121\n",
      "Configuration saved in ./saved_model_bertbaseuncased_semeval_20241121/config.json\n",
      "Model weights saved in ./saved_model_bertbaseuncased_semeval_20241121/pytorch_model.bin\n"
     ]
    },
    {
     "data": {
      "application/vnd.jupyter.widget-view+json": {
       "model_id": "26bbad717e784fb7b290c1e1ed8667d3",
       "version_major": 2,
       "version_minor": 0
      },
      "text/plain": [
       "VBox(children=(Label(value='0.007 MB of 0.007 MB uploaded\\r'), FloatProgress(value=1.0, max=1.0)))"
      ]
     },
     "metadata": {},
     "output_type": "display_data"
    },
    {
     "data": {
      "text/html": [
       "\n",
       "    <style>\n",
       "        .wandb-row {\n",
       "            display: flex;\n",
       "            flex-direction: row;\n",
       "            flex-wrap: wrap;\n",
       "            justify-content: flex-start;\n",
       "            width: 100%;\n",
       "        }\n",
       "        .wandb-col {\n",
       "            display: flex;\n",
       "            flex-direction: column;\n",
       "            flex-basis: 100%;\n",
       "            flex: 1;\n",
       "            padding: 10px;\n",
       "        }\n",
       "    </style>\n",
       "<div class=\"wandb-row\"><div class=\"wandb-col\"><h3>Run history:</h3><br/><table class=\"wandb\"><tr><td>epoch</td><td>▁</td></tr><tr><td>eval/accuracy</td><td>█▆▁▁▂█</td></tr><tr><td>eval/f1</td><td>█▆▁▁▂█</td></tr><tr><td>eval/loss</td><td>▁▁▄▇█▁</td></tr><tr><td>eval/precision</td><td>█▆▁▁▂█</td></tr><tr><td>eval/recall</td><td>█▆▁▁▂█</td></tr><tr><td>eval/runtime</td><td>▅▄█▃▅▁</td></tr><tr><td>eval/samples_per_second</td><td>▄▅▁▆▄█</td></tr><tr><td>eval/steps_per_second</td><td>▄▅▁▆▄█</td></tr><tr><td>eval_accuracy</td><td>▁</td></tr><tr><td>eval_f1</td><td>▁</td></tr><tr><td>eval_loss</td><td>▁</td></tr><tr><td>eval_precision</td><td>▁</td></tr><tr><td>eval_recall</td><td>▁</td></tr><tr><td>eval_runtime</td><td>▁</td></tr><tr><td>eval_samples_per_second</td><td>▁</td></tr><tr><td>eval_steps_per_second</td><td>▁</td></tr><tr><td>train/epoch</td><td>▁▁▁▁▂▂▂▂▂▂▃▄▄▄▄▄▄▄▅▅▅▅▅▆▆▆▇▇▇▇▇▇▇▇▇█████</td></tr><tr><td>train/global_step</td><td>▁▁▂▂▂▂▂▂▃▃▃▃▄▄▄▄▄▄▄▅▅▅▅▅▅▅▅▆▆▆▆▆▇▇▇█████</td></tr><tr><td>train/learning_rate</td><td>██████▇▇▆▆▆▆▆▆▆▅▅▅▅▄▄▄▄▄▄▃▃▃▃▃▃▂▂▂▂▂▂▂▁▁</td></tr><tr><td>train/loss</td><td>▆▆▇▆▆▆█▆▄▆▆▅▅▅▆▅▄▅▄▄▃▆▄▇▄▃▄▄▃▃▇▂▂▃▂▁▂▂▄▃</td></tr><tr><td>train/total_flos</td><td>▁</td></tr><tr><td>train/train_loss</td><td>▁</td></tr><tr><td>train/train_runtime</td><td>▁</td></tr><tr><td>train/train_samples_per_second</td><td>▁</td></tr><tr><td>train/train_steps_per_second</td><td>▁</td></tr></table><br/></div><div class=\"wandb-col\"><h3>Run summary:</h3><br/><table class=\"wandb\"><tr><td>epoch</td><td>5</td></tr><tr><td>eval/accuracy</td><td>0.79733</td></tr><tr><td>eval/f1</td><td>0.79733</td></tr><tr><td>eval/loss</td><td>0.46321</td></tr><tr><td>eval/precision</td><td>0.79733</td></tr><tr><td>eval/recall</td><td>0.79733</td></tr><tr><td>eval/runtime</td><td>85.1764</td></tr><tr><td>eval/samples_per_second</td><td>46.633</td></tr><tr><td>eval/steps_per_second</td><td>5.835</td></tr><tr><td>eval_accuracy</td><td>0.79733</td></tr><tr><td>eval_f1</td><td>0.79733</td></tr><tr><td>eval_loss</td><td>0.46321</td></tr><tr><td>eval_precision</td><td>0.79733</td></tr><tr><td>eval_recall</td><td>0.79733</td></tr><tr><td>eval_runtime</td><td>85.1764</td></tr><tr><td>eval_samples_per_second</td><td>46.633</td></tr><tr><td>eval_steps_per_second</td><td>5.835</td></tr><tr><td>train/epoch</td><td>5</td></tr><tr><td>train/global_step</td><td>5795</td></tr><tr><td>train/learning_rate</td><td>0.0</td></tr><tr><td>train/loss</td><td>0.1336</td></tr><tr><td>train/total_flos</td><td>2595683061106800.0</td></tr><tr><td>train/train_loss</td><td>0.33691</td></tr><tr><td>train/train_runtime</td><td>4431.4448</td></tr><tr><td>train/train_samples_per_second</td><td>10.457</td></tr><tr><td>train/train_steps_per_second</td><td>1.308</td></tr></table><br/></div></div>"
      ],
      "text/plain": [
       "<IPython.core.display.HTML object>"
      ]
     },
     "metadata": {},
     "output_type": "display_data"
    },
    {
     "data": {
      "text/html": [
       " View run <strong style=\"color:#cdcd00\">bert-base-uncased-semeval-20241121</strong> at: <a href='https://wandb.ai/kleines-gespeist/bert-finetuning/runs/5riohcqf' target=\"_blank\">https://wandb.ai/kleines-gespeist/bert-finetuning/runs/5riohcqf</a><br/> View project at: <a href='https://wandb.ai/kleines-gespeist/bert-finetuning' target=\"_blank\">https://wandb.ai/kleines-gespeist/bert-finetuning</a><br/>Synced 5 W&B file(s), 0 media file(s), 0 artifact file(s) and 0 other file(s)"
      ],
      "text/plain": [
       "<IPython.core.display.HTML object>"
      ]
     },
     "metadata": {},
     "output_type": "display_data"
    },
    {
     "data": {
      "text/html": [
       "Find logs at: <code>./wandb/run-20241121_195146-5riohcqf/logs</code>"
      ],
      "text/plain": [
       "<IPython.core.display.HTML object>"
      ]
     },
     "metadata": {},
     "output_type": "display_data"
    }
   ],
   "source": [
    "wandb.init(project=\"bert-finetuning\", name=f\"bert-base-uncased-semeval-{current_date}\")\n",
    "\n",
    "training_args = TrainingArguments(\n",
    "    output_dir=f\"./results_bertbaseuncased_semeval_{current_date}\",\n",
    "    num_train_epochs=5,              # total number of training epochs\n",
    "    per_device_train_batch_size=8,  # batch size per device during training\n",
    "    per_device_eval_batch_size=8,   # batch size for evaluation\n",
    "    learning_rate=5e-5,\n",
    "    evaluation_strategy=\"epoch\",\n",
    "    save_strategy=\"epoch\",\n",
    "    logging_dir=f\"./logs_bertbaseuncased_semeval_{current_date}\",            # directory for storing logs\n",
    "    load_best_model_at_end=True,\n",
    "    greater_is_better=False,\n",
    "    logging_steps=10,\n",
    "    metric_for_best_model='eval_loss', \n",
    "    report_to=\"wandb\"\n",
    "    )\n",
    "\n",
    "model = BertForSequenceClassification.from_pretrained(\"bert-base-uncased\", num_labels=2)\n",
    "\n",
    "trainer = Trainer(\n",
    "    model=model,                         # the instantiated 🤗 Transformers model to be trained\n",
    "    args=training_args,                  # training arguments, defined above\n",
    "    train_dataset=train_dataset,         # training dataset\n",
    "    eval_dataset=val_dataset,            # evaluation dataset\n",
    "    compute_metrics=compute_metrics,\n",
    "    #callbacks=[EarlyStoppingCallback(early_stopping_patience=3)]  # Early stopping with patience of 3\n",
    "\n",
    ")\n",
    "\n",
    "trainer.train()\n",
    "\n",
    "results = trainer.evaluate()\n",
    "\n",
    "# Log evaluation results to wandb\n",
    "wandb.log(results)\n",
    "\n",
    "trainer.save_model(f\"./saved_model_bertbaseuncased_semeval_{current_date}\")\n",
    "\n",
    "# End the wandb run\n",
    "wandb.finish()"
   ]
  },
  {
   "cell_type": "markdown",
   "metadata": {},
   "source": [
    "Do not forget to add early stopping :)"
   ]
  }
 ],
 "metadata": {
  "accelerator": "GPU",
  "celltoolbar": "Create Assignment",
  "colab": {
   "gpuType": "T4",
   "provenance": [],
   "toc_visible": true
  },
  "kernelspec": {
   "display_name": "Python 3",
   "name": "python3"
  },
  "language_info": {
   "codemirror_mode": {
    "name": "ipython",
    "version": 3
   },
   "file_extension": ".py",
   "mimetype": "text/x-python",
   "name": "python",
   "nbconvert_exporter": "python",
   "pygments_lexer": "ipython3",
   "version": "3.8.8"
  },
  "toc-showcode": false,
  "toc-showmarkdowntxt": false,
  "widgets": {
   "application/vnd.jupyter.widget-state+json": {
    "0084f75d88624fc38d3f5ad29c6718a2": {
     "model_module": "@jupyter-widgets/base",
     "model_module_version": "1.2.0",
     "model_name": "LayoutModel",
     "state": {
      "_model_module": "@jupyter-widgets/base",
      "_model_module_version": "1.2.0",
      "_model_name": "LayoutModel",
      "_view_count": null,
      "_view_module": "@jupyter-widgets/base",
      "_view_module_version": "1.2.0",
      "_view_name": "LayoutView",
      "align_content": null,
      "align_items": null,
      "align_self": null,
      "border": null,
      "bottom": null,
      "display": null,
      "flex": null,
      "flex_flow": null,
      "grid_area": null,
      "grid_auto_columns": null,
      "grid_auto_flow": null,
      "grid_auto_rows": null,
      "grid_column": null,
      "grid_gap": null,
      "grid_row": null,
      "grid_template_areas": null,
      "grid_template_columns": null,
      "grid_template_rows": null,
      "height": null,
      "justify_content": null,
      "justify_items": null,
      "left": null,
      "margin": null,
      "max_height": null,
      "max_width": null,
      "min_height": null,
      "min_width": null,
      "object_fit": null,
      "object_position": null,
      "order": null,
      "overflow": null,
      "overflow_x": null,
      "overflow_y": null,
      "padding": null,
      "right": null,
      "top": null,
      "visibility": null,
      "width": null
     }
    },
    "044657a7e9f04389bd52da3688e659db": {
     "model_module": "@jupyter-widgets/base",
     "model_module_version": "1.2.0",
     "model_name": "LayoutModel",
     "state": {
      "_model_module": "@jupyter-widgets/base",
      "_model_module_version": "1.2.0",
      "_model_name": "LayoutModel",
      "_view_count": null,
      "_view_module": "@jupyter-widgets/base",
      "_view_module_version": "1.2.0",
      "_view_name": "LayoutView",
      "align_content": null,
      "align_items": null,
      "align_self": null,
      "border": null,
      "bottom": null,
      "display": null,
      "flex": null,
      "flex_flow": null,
      "grid_area": null,
      "grid_auto_columns": null,
      "grid_auto_flow": null,
      "grid_auto_rows": null,
      "grid_column": null,
      "grid_gap": null,
      "grid_row": null,
      "grid_template_areas": null,
      "grid_template_columns": null,
      "grid_template_rows": null,
      "height": null,
      "justify_content": null,
      "justify_items": null,
      "left": null,
      "margin": null,
      "max_height": null,
      "max_width": null,
      "min_height": null,
      "min_width": null,
      "object_fit": null,
      "object_position": null,
      "order": null,
      "overflow": null,
      "overflow_x": null,
      "overflow_y": null,
      "padding": null,
      "right": null,
      "top": null,
      "visibility": null,
      "width": null
     }
    },
    "06ae4a2c9bff449a96469ca79c4f6f6f": {
     "model_module": "@jupyter-widgets/controls",
     "model_module_version": "1.5.0",
     "model_name": "HTMLModel",
     "state": {
      "_dom_classes": [],
      "_model_module": "@jupyter-widgets/controls",
      "_model_module_version": "1.5.0",
      "_model_name": "HTMLModel",
      "_view_count": null,
      "_view_module": "@jupyter-widgets/controls",
      "_view_module_version": "1.5.0",
      "_view_name": "HTMLView",
      "description": "",
      "description_tooltip": null,
      "layout": "IPY_MODEL_5797a82c4e3844c8be1fe9b75e97e54c",
      "placeholder": "​",
      "style": "IPY_MODEL_b0f6dedbc1794b1ab53a0e8f7c7f0151",
      "value": "Downloading artifacts: 100%"
     }
    },
    "0d2d068d26a149bb8dc313869d383b18": {
     "model_module": "@jupyter-widgets/base",
     "model_module_version": "1.2.0",
     "model_name": "LayoutModel",
     "state": {
      "_model_module": "@jupyter-widgets/base",
      "_model_module_version": "1.2.0",
      "_model_name": "LayoutModel",
      "_view_count": null,
      "_view_module": "@jupyter-widgets/base",
      "_view_module_version": "1.2.0",
      "_view_name": "LayoutView",
      "align_content": null,
      "align_items": null,
      "align_self": null,
      "border": null,
      "bottom": null,
      "display": null,
      "flex": null,
      "flex_flow": null,
      "grid_area": null,
      "grid_auto_columns": null,
      "grid_auto_flow": null,
      "grid_auto_rows": null,
      "grid_column": null,
      "grid_gap": null,
      "grid_row": null,
      "grid_template_areas": null,
      "grid_template_columns": null,
      "grid_template_rows": null,
      "height": null,
      "justify_content": null,
      "justify_items": null,
      "left": null,
      "margin": null,
      "max_height": null,
      "max_width": null,
      "min_height": null,
      "min_width": null,
      "object_fit": null,
      "object_position": null,
      "order": null,
      "overflow": null,
      "overflow_x": null,
      "overflow_y": null,
      "padding": null,
      "right": null,
      "top": null,
      "visibility": null,
      "width": null
     }
    },
    "0e15f6fd75974415989ce53e7e05904a": {
     "model_module": "@jupyter-widgets/base",
     "model_module_version": "1.2.0",
     "model_name": "LayoutModel",
     "state": {
      "_model_module": "@jupyter-widgets/base",
      "_model_module_version": "1.2.0",
      "_model_name": "LayoutModel",
      "_view_count": null,
      "_view_module": "@jupyter-widgets/base",
      "_view_module_version": "1.2.0",
      "_view_name": "LayoutView",
      "align_content": null,
      "align_items": null,
      "align_self": null,
      "border": null,
      "bottom": null,
      "display": null,
      "flex": null,
      "flex_flow": null,
      "grid_area": null,
      "grid_auto_columns": null,
      "grid_auto_flow": null,
      "grid_auto_rows": null,
      "grid_column": null,
      "grid_gap": null,
      "grid_row": null,
      "grid_template_areas": null,
      "grid_template_columns": null,
      "grid_template_rows": null,
      "height": null,
      "justify_content": null,
      "justify_items": null,
      "left": null,
      "margin": null,
      "max_height": null,
      "max_width": null,
      "min_height": null,
      "min_width": null,
      "object_fit": null,
      "object_position": null,
      "order": null,
      "overflow": null,
      "overflow_x": null,
      "overflow_y": null,
      "padding": null,
      "right": null,
      "top": null,
      "visibility": null,
      "width": null
     }
    },
    "117939875677424c9654ba2659fc2afd": {
     "model_module": "@jupyter-widgets/controls",
     "model_module_version": "1.5.0",
     "model_name": "FloatProgressModel",
     "state": {
      "_dom_classes": [],
      "_model_module": "@jupyter-widgets/controls",
      "_model_module_version": "1.5.0",
      "_model_name": "FloatProgressModel",
      "_view_count": null,
      "_view_module": "@jupyter-widgets/controls",
      "_view_module_version": "1.5.0",
      "_view_name": "ProgressView",
      "bar_style": "success",
      "description": "",
      "description_tooltip": null,
      "layout": "IPY_MODEL_ef7df33e327b4f1b82b9f9ed5aa956d6",
      "max": 542529064,
      "min": 0,
      "orientation": "horizontal",
      "style": "IPY_MODEL_52eb4b4f37794bbcb7be0affffe0434b",
      "value": 542529064
     }
    },
    "12b7833abd174d00a552ce1ffcc12cba": {
     "model_module": "@jupyter-widgets/controls",
     "model_module_version": "1.5.0",
     "model_name": "HTMLModel",
     "state": {
      "_dom_classes": [],
      "_model_module": "@jupyter-widgets/controls",
      "_model_module_version": "1.5.0",
      "_model_name": "HTMLModel",
      "_view_count": null,
      "_view_module": "@jupyter-widgets/controls",
      "_view_module_version": "1.5.0",
      "_view_name": "HTMLView",
      "description": "",
      "description_tooltip": null,
      "layout": "IPY_MODEL_e6af4d8fe63d4cb987fbf3dcb818f232",
      "placeholder": "​",
      "style": "IPY_MODEL_708621a183564cc492e3e31221f09ea3",
      "value": " 7/7 [00:05&lt;00:00,  1.24it/s]"
     }
    },
    "146565c18d7940358a93ac1f139e2bd0": {
     "model_module": "@jupyter-widgets/controls",
     "model_module_version": "1.5.0",
     "model_name": "ProgressStyleModel",
     "state": {
      "_model_module": "@jupyter-widgets/controls",
      "_model_module_version": "1.5.0",
      "_model_name": "ProgressStyleModel",
      "_view_count": null,
      "_view_module": "@jupyter-widgets/base",
      "_view_module_version": "1.2.0",
      "_view_name": "StyleView",
      "bar_color": null,
      "description_width": ""
     }
    },
    "15798adc99b84a64bee5e2bf516d3479": {
     "model_module": "@jupyter-widgets/controls",
     "model_module_version": "1.5.0",
     "model_name": "FloatProgressModel",
     "state": {
      "_dom_classes": [],
      "_model_module": "@jupyter-widgets/controls",
      "_model_module_version": "1.5.0",
      "_model_name": "FloatProgressModel",
      "_view_count": null,
      "_view_module": "@jupyter-widgets/controls",
      "_view_module_version": "1.5.0",
      "_view_name": "ProgressView",
      "bar_style": "success",
      "description": "",
      "description_tooltip": null,
      "layout": "IPY_MODEL_0084f75d88624fc38d3f5ad29c6718a2",
      "max": 1078931,
      "min": 0,
      "orientation": "horizontal",
      "style": "IPY_MODEL_8c2dd19ab40e40cdab1e0264bb3733b4",
      "value": 1078931
     }
    },
    "1cab0d74c9a9497296c05768cf00f236": {
     "model_module": "@jupyter-widgets/controls",
     "model_module_version": "1.5.0",
     "model_name": "HTMLModel",
     "state": {
      "_dom_classes": [],
      "_model_module": "@jupyter-widgets/controls",
      "_model_module_version": "1.5.0",
      "_model_name": "HTMLModel",
      "_view_count": null,
      "_view_module": "@jupyter-widgets/controls",
      "_view_module_version": "1.5.0",
      "_view_name": "HTMLView",
      "description": "",
      "description_tooltip": null,
      "layout": "IPY_MODEL_bb6eb80a86d94015b765c39913a3da4a",
      "placeholder": "​",
      "style": "IPY_MODEL_e4fafd7a57704de18116e8f917f6b0b9",
      "value": " 2.91M/2.91M [00:00&lt;00:00, 8.82MB/s]"
     }
    },
    "2053c0e273a14a5ca7181ef1d715da9b": {
     "model_module": "@jupyter-widgets/controls",
     "model_module_version": "1.5.0",
     "model_name": "HTMLModel",
     "state": {
      "_dom_classes": [],
      "_model_module": "@jupyter-widgets/controls",
      "_model_module_version": "1.5.0",
      "_model_name": "HTMLModel",
      "_view_count": null,
      "_view_module": "@jupyter-widgets/controls",
      "_view_module_version": "1.5.0",
      "_view_name": "HTMLView",
      "description": "",
      "description_tooltip": null,
      "layout": "IPY_MODEL_49b86b4023f447a38f4cd386348945da",
      "placeholder": "​",
      "style": "IPY_MODEL_f869070b970744e8805c44e8ec57eedb",
      "value": "Downloading (…)solve/main/bpe.codes: 100%"
     }
    },
    "21e12a93ca1040ee9c796a1bd1ddb690": {
     "model_module": "@jupyter-widgets/controls",
     "model_module_version": "1.5.0",
     "model_name": "DescriptionStyleModel",
     "state": {
      "_model_module": "@jupyter-widgets/controls",
      "_model_module_version": "1.5.0",
      "_model_name": "DescriptionStyleModel",
      "_view_count": null,
      "_view_module": "@jupyter-widgets/base",
      "_view_module_version": "1.2.0",
      "_view_name": "StyleView",
      "description_width": ""
     }
    },
    "27f0c4c773e841d0ad3fd5ca4578387f": {
     "model_module": "@jupyter-widgets/base",
     "model_module_version": "1.2.0",
     "model_name": "LayoutModel",
     "state": {
      "_model_module": "@jupyter-widgets/base",
      "_model_module_version": "1.2.0",
      "_model_name": "LayoutModel",
      "_view_count": null,
      "_view_module": "@jupyter-widgets/base",
      "_view_module_version": "1.2.0",
      "_view_name": "LayoutView",
      "align_content": null,
      "align_items": null,
      "align_self": null,
      "border": null,
      "bottom": null,
      "display": null,
      "flex": null,
      "flex_flow": null,
      "grid_area": null,
      "grid_auto_columns": null,
      "grid_auto_flow": null,
      "grid_auto_rows": null,
      "grid_column": null,
      "grid_gap": null,
      "grid_row": null,
      "grid_template_areas": null,
      "grid_template_columns": null,
      "grid_template_rows": null,
      "height": null,
      "justify_content": null,
      "justify_items": null,
      "left": null,
      "margin": null,
      "max_height": null,
      "max_width": null,
      "min_height": null,
      "min_width": null,
      "object_fit": null,
      "object_position": null,
      "order": null,
      "overflow": null,
      "overflow_x": null,
      "overflow_y": null,
      "padding": null,
      "right": null,
      "top": null,
      "visibility": null,
      "width": null
     }
    },
    "2863cf99a4c94403970773aae953a77b": {
     "model_module": "@jupyter-widgets/controls",
     "model_module_version": "1.5.0",
     "model_name": "FloatProgressModel",
     "state": {
      "_dom_classes": [],
      "_model_module": "@jupyter-widgets/controls",
      "_model_module_version": "1.5.0",
      "_model_name": "FloatProgressModel",
      "_view_count": null,
      "_view_module": "@jupyter-widgets/controls",
      "_view_module_version": "1.5.0",
      "_view_name": "ProgressView",
      "bar_style": "success",
      "description": "",
      "description_tooltip": null,
      "layout": "IPY_MODEL_2c04580fc55844878dfb819129cc4159",
      "max": 7,
      "min": 0,
      "orientation": "horizontal",
      "style": "IPY_MODEL_df04aae002a8427dbbf095fa4e83a3ee",
      "value": 7
     }
    },
    "2bc8e3b3cc9447c5baeb3e291ca59950": {
     "model_module": "@jupyter-widgets/controls",
     "model_module_version": "1.5.0",
     "model_name": "DescriptionStyleModel",
     "state": {
      "_model_module": "@jupyter-widgets/controls",
      "_model_module_version": "1.5.0",
      "_model_name": "DescriptionStyleModel",
      "_view_count": null,
      "_view_module": "@jupyter-widgets/base",
      "_view_module_version": "1.2.0",
      "_view_name": "StyleView",
      "description_width": ""
     }
    },
    "2c04580fc55844878dfb819129cc4159": {
     "model_module": "@jupyter-widgets/base",
     "model_module_version": "1.2.0",
     "model_name": "LayoutModel",
     "state": {
      "_model_module": "@jupyter-widgets/base",
      "_model_module_version": "1.2.0",
      "_model_name": "LayoutModel",
      "_view_count": null,
      "_view_module": "@jupyter-widgets/base",
      "_view_module_version": "1.2.0",
      "_view_name": "LayoutView",
      "align_content": null,
      "align_items": null,
      "align_self": null,
      "border": null,
      "bottom": null,
      "display": null,
      "flex": null,
      "flex_flow": null,
      "grid_area": null,
      "grid_auto_columns": null,
      "grid_auto_flow": null,
      "grid_auto_rows": null,
      "grid_column": null,
      "grid_gap": null,
      "grid_row": null,
      "grid_template_areas": null,
      "grid_template_columns": null,
      "grid_template_rows": null,
      "height": null,
      "justify_content": null,
      "justify_items": null,
      "left": null,
      "margin": null,
      "max_height": null,
      "max_width": null,
      "min_height": null,
      "min_width": null,
      "object_fit": null,
      "object_position": null,
      "order": null,
      "overflow": null,
      "overflow_x": null,
      "overflow_y": null,
      "padding": null,
      "right": null,
      "top": null,
      "visibility": null,
      "width": null
     }
    },
    "2da8cfea31114cddb4bccf2a7a070442": {
     "model_module": "@jupyter-widgets/controls",
     "model_module_version": "1.5.0",
     "model_name": "FloatProgressModel",
     "state": {
      "_dom_classes": [],
      "_model_module": "@jupyter-widgets/controls",
      "_model_module_version": "1.5.0",
      "_model_name": "FloatProgressModel",
      "_view_count": null,
      "_view_module": "@jupyter-widgets/controls",
      "_view_module_version": "1.5.0",
      "_view_name": "ProgressView",
      "bar_style": "success",
      "description": "",
      "description_tooltip": null,
      "layout": "IPY_MODEL_c6de9018faa54c3191df2700d2bb2f2b",
      "max": 843438,
      "min": 0,
      "orientation": "horizontal",
      "style": "IPY_MODEL_f326ca5639e949e9bec56868fc153679",
      "value": 843438
     }
    },
    "3173c3d5743a48d89df922c77991e941": {
     "model_module": "@jupyter-widgets/controls",
     "model_module_version": "1.5.0",
     "model_name": "HTMLModel",
     "state": {
      "_dom_classes": [],
      "_model_module": "@jupyter-widgets/controls",
      "_model_module_version": "1.5.0",
      "_model_name": "HTMLModel",
      "_view_count": null,
      "_view_module": "@jupyter-widgets/controls",
      "_view_module_version": "1.5.0",
      "_view_name": "HTMLView",
      "description": "",
      "description_tooltip": null,
      "layout": "IPY_MODEL_a560cc0902d44a60a7e2eebf951249e5",
      "placeholder": "​",
      "style": "IPY_MODEL_c9f9c38161214356b21d3a10fb04e655",
      "value": " 1.08M/1.08M [00:00&lt;00:00, 5.44MB/s]"
     }
    },
    "3459a07ff77442a0a99d62a564aeab5a": {
     "model_module": "@jupyter-widgets/controls",
     "model_module_version": "1.5.0",
     "model_name": "HBoxModel",
     "state": {
      "_dom_classes": [],
      "_model_module": "@jupyter-widgets/controls",
      "_model_module_version": "1.5.0",
      "_model_name": "HBoxModel",
      "_view_count": null,
      "_view_module": "@jupyter-widgets/controls",
      "_view_module_version": "1.5.0",
      "_view_name": "HBoxView",
      "box_style": "",
      "children": [
       "IPY_MODEL_7c1fa3d8b54f4499a16b37b941b856d3",
       "IPY_MODEL_4cd5bef030644364ad11b5fee58e1279",
       "IPY_MODEL_44de39b785d14456997e3cafd6aa7578"
      ],
      "layout": "IPY_MODEL_e74e23913379453aa16931b744e2e2d8"
     }
    },
    "38b0cb2f897d4150846c1701250d7d81": {
     "model_module": "@jupyter-widgets/controls",
     "model_module_version": "1.5.0",
     "model_name": "ProgressStyleModel",
     "state": {
      "_model_module": "@jupyter-widgets/controls",
      "_model_module_version": "1.5.0",
      "_model_name": "ProgressStyleModel",
      "_view_count": null,
      "_view_module": "@jupyter-widgets/base",
      "_view_module_version": "1.2.0",
      "_view_name": "StyleView",
      "bar_color": null,
      "description_width": ""
     }
    },
    "39240fd76ca140eeae24ca4648a835ef": {
     "model_module": "@jupyter-widgets/controls",
     "model_module_version": "1.5.0",
     "model_name": "HTMLModel",
     "state": {
      "_dom_classes": [],
      "_model_module": "@jupyter-widgets/controls",
      "_model_module_version": "1.5.0",
      "_model_name": "HTMLModel",
      "_view_count": null,
      "_view_module": "@jupyter-widgets/controls",
      "_view_module_version": "1.5.0",
      "_view_name": "HTMLView",
      "description": "",
      "description_tooltip": null,
      "layout": "IPY_MODEL_044657a7e9f04389bd52da3688e659db",
      "placeholder": "​",
      "style": "IPY_MODEL_5406f6dd96cc4e76aa3ff3bdc957a21c",
      "value": " 7/7 [00:08&lt;00:00,  1.49s/it]"
     }
    },
    "3a14450014e74d918381af193a4aade0": {
     "model_module": "@jupyter-widgets/base",
     "model_module_version": "1.2.0",
     "model_name": "LayoutModel",
     "state": {
      "_model_module": "@jupyter-widgets/base",
      "_model_module_version": "1.2.0",
      "_model_name": "LayoutModel",
      "_view_count": null,
      "_view_module": "@jupyter-widgets/base",
      "_view_module_version": "1.2.0",
      "_view_name": "LayoutView",
      "align_content": null,
      "align_items": null,
      "align_self": null,
      "border": null,
      "bottom": null,
      "display": null,
      "flex": null,
      "flex_flow": null,
      "grid_area": null,
      "grid_auto_columns": null,
      "grid_auto_flow": null,
      "grid_auto_rows": null,
      "grid_column": null,
      "grid_gap": null,
      "grid_row": null,
      "grid_template_areas": null,
      "grid_template_columns": null,
      "grid_template_rows": null,
      "height": null,
      "justify_content": null,
      "justify_items": null,
      "left": null,
      "margin": null,
      "max_height": null,
      "max_width": null,
      "min_height": null,
      "min_width": null,
      "object_fit": null,
      "object_position": null,
      "order": null,
      "overflow": null,
      "overflow_x": null,
      "overflow_y": null,
      "padding": null,
      "right": null,
      "top": null,
      "visibility": null,
      "width": null
     }
    },
    "3a8c5d093fcd4ce7bc45af7cbb574d4d": {
     "model_module": "@jupyter-widgets/controls",
     "model_module_version": "1.5.0",
     "model_name": "HTMLModel",
     "state": {
      "_dom_classes": [],
      "_model_module": "@jupyter-widgets/controls",
      "_model_module_version": "1.5.0",
      "_model_name": "HTMLModel",
      "_view_count": null,
      "_view_module": "@jupyter-widgets/controls",
      "_view_module_version": "1.5.0",
      "_view_name": "HTMLView",
      "description": "",
      "description_tooltip": null,
      "layout": "IPY_MODEL_c0cf938381f648bb80c3fba33aedcfed",
      "placeholder": "​",
      "style": "IPY_MODEL_3ff241b617a34ff2ae37e965c62c1692",
      "value": "Downloading pytorch_model.bin: 100%"
     }
    },
    "3d72d47fb5554cebbba3a299aa42eadf": {
     "model_module": "@jupyter-widgets/controls",
     "model_module_version": "1.5.0",
     "model_name": "ProgressStyleModel",
     "state": {
      "_model_module": "@jupyter-widgets/controls",
      "_model_module_version": "1.5.0",
      "_model_name": "ProgressStyleModel",
      "_view_count": null,
      "_view_module": "@jupyter-widgets/base",
      "_view_module_version": "1.2.0",
      "_view_name": "StyleView",
      "bar_color": null,
      "description_width": ""
     }
    },
    "3ff241b617a34ff2ae37e965c62c1692": {
     "model_module": "@jupyter-widgets/controls",
     "model_module_version": "1.5.0",
     "model_name": "DescriptionStyleModel",
     "state": {
      "_model_module": "@jupyter-widgets/controls",
      "_model_module_version": "1.5.0",
      "_model_name": "DescriptionStyleModel",
      "_view_count": null,
      "_view_module": "@jupyter-widgets/base",
      "_view_module_version": "1.2.0",
      "_view_name": "StyleView",
      "description_width": ""
     }
    },
    "40ed48da1f6b40bc923fe0b005618c9d": {
     "model_module": "@jupyter-widgets/controls",
     "model_module_version": "1.5.0",
     "model_name": "DescriptionStyleModel",
     "state": {
      "_model_module": "@jupyter-widgets/controls",
      "_model_module_version": "1.5.0",
      "_model_name": "DescriptionStyleModel",
      "_view_count": null,
      "_view_module": "@jupyter-widgets/base",
      "_view_module_version": "1.2.0",
      "_view_name": "StyleView",
      "description_width": ""
     }
    },
    "42b4e686cded4f98a8f75c028e008278": {
     "model_module": "@jupyter-widgets/base",
     "model_module_version": "1.2.0",
     "model_name": "LayoutModel",
     "state": {
      "_model_module": "@jupyter-widgets/base",
      "_model_module_version": "1.2.0",
      "_model_name": "LayoutModel",
      "_view_count": null,
      "_view_module": "@jupyter-widgets/base",
      "_view_module_version": "1.2.0",
      "_view_name": "LayoutView",
      "align_content": null,
      "align_items": null,
      "align_self": null,
      "border": null,
      "bottom": null,
      "display": null,
      "flex": null,
      "flex_flow": null,
      "grid_area": null,
      "grid_auto_columns": null,
      "grid_auto_flow": null,
      "grid_auto_rows": null,
      "grid_column": null,
      "grid_gap": null,
      "grid_row": null,
      "grid_template_areas": null,
      "grid_template_columns": null,
      "grid_template_rows": null,
      "height": null,
      "justify_content": null,
      "justify_items": null,
      "left": null,
      "margin": null,
      "max_height": null,
      "max_width": null,
      "min_height": null,
      "min_width": null,
      "object_fit": null,
      "object_position": null,
      "order": null,
      "overflow": null,
      "overflow_x": null,
      "overflow_y": null,
      "padding": null,
      "right": null,
      "top": null,
      "visibility": null,
      "width": null
     }
    },
    "43d5518c9522411180d5b935694a99ba": {
     "model_module": "@jupyter-widgets/controls",
     "model_module_version": "1.5.0",
     "model_name": "HTMLModel",
     "state": {
      "_dom_classes": [],
      "_model_module": "@jupyter-widgets/controls",
      "_model_module_version": "1.5.0",
      "_model_name": "HTMLModel",
      "_view_count": null,
      "_view_module": "@jupyter-widgets/controls",
      "_view_module_version": "1.5.0",
      "_view_name": "HTMLView",
      "description": "",
      "description_tooltip": null,
      "layout": "IPY_MODEL_c79ae4ad113a434c948e5137a79fcad8",
      "placeholder": "​",
      "style": "IPY_MODEL_c82059cc49564e9991483f1e0d5a6b1b",
      "value": "Downloading artifacts: 100%"
     }
    },
    "44de39b785d14456997e3cafd6aa7578": {
     "model_module": "@jupyter-widgets/controls",
     "model_module_version": "1.5.0",
     "model_name": "HTMLModel",
     "state": {
      "_dom_classes": [],
      "_model_module": "@jupyter-widgets/controls",
      "_model_module_version": "1.5.0",
      "_model_name": "HTMLModel",
      "_view_count": null,
      "_view_module": "@jupyter-widgets/controls",
      "_view_module_version": "1.5.0",
      "_view_name": "HTMLView",
      "description": "",
      "description_tooltip": null,
      "layout": "IPY_MODEL_5e25007b6c2e49e8ae6f61c5b927c6c1",
      "placeholder": "​",
      "style": "IPY_MODEL_59d7aa0205b1432f8e0e069df1de55bb",
      "value": " 558/558 [00:00&lt;00:00, 36.7kB/s]"
     }
    },
    "45ea52ab0e3341f7820c404ef4538591": {
     "model_module": "@jupyter-widgets/base",
     "model_module_version": "1.2.0",
     "model_name": "LayoutModel",
     "state": {
      "_model_module": "@jupyter-widgets/base",
      "_model_module_version": "1.2.0",
      "_model_name": "LayoutModel",
      "_view_count": null,
      "_view_module": "@jupyter-widgets/base",
      "_view_module_version": "1.2.0",
      "_view_name": "LayoutView",
      "align_content": null,
      "align_items": null,
      "align_self": null,
      "border": null,
      "bottom": null,
      "display": null,
      "flex": null,
      "flex_flow": null,
      "grid_area": null,
      "grid_auto_columns": null,
      "grid_auto_flow": null,
      "grid_auto_rows": null,
      "grid_column": null,
      "grid_gap": null,
      "grid_row": null,
      "grid_template_areas": null,
      "grid_template_columns": null,
      "grid_template_rows": null,
      "height": null,
      "justify_content": null,
      "justify_items": null,
      "left": null,
      "margin": null,
      "max_height": null,
      "max_width": null,
      "min_height": null,
      "min_width": null,
      "object_fit": null,
      "object_position": null,
      "order": null,
      "overflow": null,
      "overflow_x": null,
      "overflow_y": null,
      "padding": null,
      "right": null,
      "top": null,
      "visibility": null,
      "width": null
     }
    },
    "463212231f8848cca4e4a4e90d18c61a": {
     "model_module": "@jupyter-widgets/controls",
     "model_module_version": "1.5.0",
     "model_name": "HTMLModel",
     "state": {
      "_dom_classes": [],
      "_model_module": "@jupyter-widgets/controls",
      "_model_module_version": "1.5.0",
      "_model_name": "HTMLModel",
      "_view_count": null,
      "_view_module": "@jupyter-widgets/controls",
      "_view_module_version": "1.5.0",
      "_view_name": "HTMLView",
      "description": "",
      "description_tooltip": null,
      "layout": "IPY_MODEL_583969762b8348f49e085414635695d6",
      "placeholder": "​",
      "style": "IPY_MODEL_f51c7658838541089f4719fc6ec54c2e",
      "value": " 7/7 [00:05&lt;00:00,  1.25it/s]"
     }
    },
    "4765f41c37a143ba955a1fb03434b6cd": {
     "model_module": "@jupyter-widgets/controls",
     "model_module_version": "1.5.0",
     "model_name": "HTMLModel",
     "state": {
      "_dom_classes": [],
      "_model_module": "@jupyter-widgets/controls",
      "_model_module_version": "1.5.0",
      "_model_name": "HTMLModel",
      "_view_count": null,
      "_view_module": "@jupyter-widgets/controls",
      "_view_module_version": "1.5.0",
      "_view_name": "HTMLView",
      "description": "",
      "description_tooltip": null,
      "layout": "IPY_MODEL_27f0c4c773e841d0ad3fd5ca4578387f",
      "placeholder": "​",
      "style": "IPY_MODEL_994b59e22e78433ca5abd14157557e2c",
      "value": "Downloading artifacts: 100%"
     }
    },
    "49b86b4023f447a38f4cd386348945da": {
     "model_module": "@jupyter-widgets/base",
     "model_module_version": "1.2.0",
     "model_name": "LayoutModel",
     "state": {
      "_model_module": "@jupyter-widgets/base",
      "_model_module_version": "1.2.0",
      "_model_name": "LayoutModel",
      "_view_count": null,
      "_view_module": "@jupyter-widgets/base",
      "_view_module_version": "1.2.0",
      "_view_name": "LayoutView",
      "align_content": null,
      "align_items": null,
      "align_self": null,
      "border": null,
      "bottom": null,
      "display": null,
      "flex": null,
      "flex_flow": null,
      "grid_area": null,
      "grid_auto_columns": null,
      "grid_auto_flow": null,
      "grid_auto_rows": null,
      "grid_column": null,
      "grid_gap": null,
      "grid_row": null,
      "grid_template_areas": null,
      "grid_template_columns": null,
      "grid_template_rows": null,
      "height": null,
      "justify_content": null,
      "justify_items": null,
      "left": null,
      "margin": null,
      "max_height": null,
      "max_width": null,
      "min_height": null,
      "min_width": null,
      "object_fit": null,
      "object_position": null,
      "order": null,
      "overflow": null,
      "overflow_x": null,
      "overflow_y": null,
      "padding": null,
      "right": null,
      "top": null,
      "visibility": null,
      "width": null
     }
    },
    "4b8bd74d2b824ebb95d927efeda3b380": {
     "model_module": "@jupyter-widgets/controls",
     "model_module_version": "1.5.0",
     "model_name": "FloatProgressModel",
     "state": {
      "_dom_classes": [],
      "_model_module": "@jupyter-widgets/controls",
      "_model_module_version": "1.5.0",
      "_model_name": "FloatProgressModel",
      "_view_count": null,
      "_view_module": "@jupyter-widgets/controls",
      "_view_module_version": "1.5.0",
      "_view_name": "ProgressView",
      "bar_style": "success",
      "description": "",
      "description_tooltip": null,
      "layout": "IPY_MODEL_74d80fa96e1547c1bd4e0991fd02d2a7",
      "max": 7,
      "min": 0,
      "orientation": "horizontal",
      "style": "IPY_MODEL_a58e61a346bc47f7bc4125de08fe9f90",
      "value": 7
     }
    },
    "4cd5bef030644364ad11b5fee58e1279": {
     "model_module": "@jupyter-widgets/controls",
     "model_module_version": "1.5.0",
     "model_name": "FloatProgressModel",
     "state": {
      "_dom_classes": [],
      "_model_module": "@jupyter-widgets/controls",
      "_model_module_version": "1.5.0",
      "_model_name": "FloatProgressModel",
      "_view_count": null,
      "_view_module": "@jupyter-widgets/controls",
      "_view_module_version": "1.5.0",
      "_view_name": "ProgressView",
      "bar_style": "success",
      "description": "",
      "description_tooltip": null,
      "layout": "IPY_MODEL_d5ca0736f19b43f48d995c66fe3a790b",
      "max": 558,
      "min": 0,
      "orientation": "horizontal",
      "style": "IPY_MODEL_146565c18d7940358a93ac1f139e2bd0",
      "value": 558
     }
    },
    "4d85c970d7d64ed2bddfe8ae25bdff5c": {
     "model_module": "@jupyter-widgets/controls",
     "model_module_version": "1.5.0",
     "model_name": "ProgressStyleModel",
     "state": {
      "_model_module": "@jupyter-widgets/controls",
      "_model_module_version": "1.5.0",
      "_model_name": "ProgressStyleModel",
      "_view_count": null,
      "_view_module": "@jupyter-widgets/base",
      "_view_module_version": "1.2.0",
      "_view_name": "StyleView",
      "bar_color": null,
      "description_width": ""
     }
    },
    "51d17cbe78904d81883dfb1a6c376736": {
     "model_module": "@jupyter-widgets/controls",
     "model_module_version": "1.5.0",
     "model_name": "FloatProgressModel",
     "state": {
      "_dom_classes": [],
      "_model_module": "@jupyter-widgets/controls",
      "_model_module_version": "1.5.0",
      "_model_name": "FloatProgressModel",
      "_view_count": null,
      "_view_module": "@jupyter-widgets/controls",
      "_view_module_version": "1.5.0",
      "_view_name": "ProgressView",
      "bar_style": "success",
      "description": "",
      "description_tooltip": null,
      "layout": "IPY_MODEL_dabe388568ab4603a8507fca7d1ae509",
      "max": 2912687,
      "min": 0,
      "orientation": "horizontal",
      "style": "IPY_MODEL_3d72d47fb5554cebbba3a299aa42eadf",
      "value": 2912687
     }
    },
    "52eb4b4f37794bbcb7be0affffe0434b": {
     "model_module": "@jupyter-widgets/controls",
     "model_module_version": "1.5.0",
     "model_name": "ProgressStyleModel",
     "state": {
      "_model_module": "@jupyter-widgets/controls",
      "_model_module_version": "1.5.0",
      "_model_name": "ProgressStyleModel",
      "_view_count": null,
      "_view_module": "@jupyter-widgets/base",
      "_view_module_version": "1.2.0",
      "_view_name": "StyleView",
      "bar_color": null,
      "description_width": ""
     }
    },
    "5406f6dd96cc4e76aa3ff3bdc957a21c": {
     "model_module": "@jupyter-widgets/controls",
     "model_module_version": "1.5.0",
     "model_name": "DescriptionStyleModel",
     "state": {
      "_model_module": "@jupyter-widgets/controls",
      "_model_module_version": "1.5.0",
      "_model_name": "DescriptionStyleModel",
      "_view_count": null,
      "_view_module": "@jupyter-widgets/base",
      "_view_module_version": "1.2.0",
      "_view_name": "StyleView",
      "description_width": ""
     }
    },
    "5797a82c4e3844c8be1fe9b75e97e54c": {
     "model_module": "@jupyter-widgets/base",
     "model_module_version": "1.2.0",
     "model_name": "LayoutModel",
     "state": {
      "_model_module": "@jupyter-widgets/base",
      "_model_module_version": "1.2.0",
      "_model_name": "LayoutModel",
      "_view_count": null,
      "_view_module": "@jupyter-widgets/base",
      "_view_module_version": "1.2.0",
      "_view_name": "LayoutView",
      "align_content": null,
      "align_items": null,
      "align_self": null,
      "border": null,
      "bottom": null,
      "display": null,
      "flex": null,
      "flex_flow": null,
      "grid_area": null,
      "grid_auto_columns": null,
      "grid_auto_flow": null,
      "grid_auto_rows": null,
      "grid_column": null,
      "grid_gap": null,
      "grid_row": null,
      "grid_template_areas": null,
      "grid_template_columns": null,
      "grid_template_rows": null,
      "height": null,
      "justify_content": null,
      "justify_items": null,
      "left": null,
      "margin": null,
      "max_height": null,
      "max_width": null,
      "min_height": null,
      "min_width": null,
      "object_fit": null,
      "object_position": null,
      "order": null,
      "overflow": null,
      "overflow_x": null,
      "overflow_y": null,
      "padding": null,
      "right": null,
      "top": null,
      "visibility": null,
      "width": null
     }
    },
    "583969762b8348f49e085414635695d6": {
     "model_module": "@jupyter-widgets/base",
     "model_module_version": "1.2.0",
     "model_name": "LayoutModel",
     "state": {
      "_model_module": "@jupyter-widgets/base",
      "_model_module_version": "1.2.0",
      "_model_name": "LayoutModel",
      "_view_count": null,
      "_view_module": "@jupyter-widgets/base",
      "_view_module_version": "1.2.0",
      "_view_name": "LayoutView",
      "align_content": null,
      "align_items": null,
      "align_self": null,
      "border": null,
      "bottom": null,
      "display": null,
      "flex": null,
      "flex_flow": null,
      "grid_area": null,
      "grid_auto_columns": null,
      "grid_auto_flow": null,
      "grid_auto_rows": null,
      "grid_column": null,
      "grid_gap": null,
      "grid_row": null,
      "grid_template_areas": null,
      "grid_template_columns": null,
      "grid_template_rows": null,
      "height": null,
      "justify_content": null,
      "justify_items": null,
      "left": null,
      "margin": null,
      "max_height": null,
      "max_width": null,
      "min_height": null,
      "min_width": null,
      "object_fit": null,
      "object_position": null,
      "order": null,
      "overflow": null,
      "overflow_x": null,
      "overflow_y": null,
      "padding": null,
      "right": null,
      "top": null,
      "visibility": null,
      "width": null
     }
    },
    "59d7aa0205b1432f8e0e069df1de55bb": {
     "model_module": "@jupyter-widgets/controls",
     "model_module_version": "1.5.0",
     "model_name": "DescriptionStyleModel",
     "state": {
      "_model_module": "@jupyter-widgets/controls",
      "_model_module_version": "1.5.0",
      "_model_name": "DescriptionStyleModel",
      "_view_count": null,
      "_view_module": "@jupyter-widgets/base",
      "_view_module_version": "1.2.0",
      "_view_name": "StyleView",
      "description_width": ""
     }
    },
    "5bcdef7aa0eb4ea384334d03f00415e6": {
     "model_module": "@jupyter-widgets/base",
     "model_module_version": "1.2.0",
     "model_name": "LayoutModel",
     "state": {
      "_model_module": "@jupyter-widgets/base",
      "_model_module_version": "1.2.0",
      "_model_name": "LayoutModel",
      "_view_count": null,
      "_view_module": "@jupyter-widgets/base",
      "_view_module_version": "1.2.0",
      "_view_name": "LayoutView",
      "align_content": null,
      "align_items": null,
      "align_self": null,
      "border": null,
      "bottom": null,
      "display": null,
      "flex": null,
      "flex_flow": null,
      "grid_area": null,
      "grid_auto_columns": null,
      "grid_auto_flow": null,
      "grid_auto_rows": null,
      "grid_column": null,
      "grid_gap": null,
      "grid_row": null,
      "grid_template_areas": null,
      "grid_template_columns": null,
      "grid_template_rows": null,
      "height": null,
      "justify_content": null,
      "justify_items": null,
      "left": null,
      "margin": null,
      "max_height": null,
      "max_width": null,
      "min_height": null,
      "min_width": null,
      "object_fit": null,
      "object_position": null,
      "order": null,
      "overflow": null,
      "overflow_x": null,
      "overflow_y": null,
      "padding": null,
      "right": null,
      "top": null,
      "visibility": null,
      "width": null
     }
    },
    "5c29713b593a4086948e4fe12824bb62": {
     "model_module": "@jupyter-widgets/controls",
     "model_module_version": "1.5.0",
     "model_name": "DescriptionStyleModel",
     "state": {
      "_model_module": "@jupyter-widgets/controls",
      "_model_module_version": "1.5.0",
      "_model_name": "DescriptionStyleModel",
      "_view_count": null,
      "_view_module": "@jupyter-widgets/base",
      "_view_module_version": "1.2.0",
      "_view_name": "StyleView",
      "description_width": ""
     }
    },
    "5c50ced65df84dbda3cf54a5cca0f837": {
     "model_module": "@jupyter-widgets/controls",
     "model_module_version": "1.5.0",
     "model_name": "FloatProgressModel",
     "state": {
      "_dom_classes": [],
      "_model_module": "@jupyter-widgets/controls",
      "_model_module_version": "1.5.0",
      "_model_name": "FloatProgressModel",
      "_view_count": null,
      "_view_module": "@jupyter-widgets/controls",
      "_view_module_version": "1.5.0",
      "_view_name": "ProgressView",
      "bar_style": "success",
      "description": "",
      "description_tooltip": null,
      "layout": "IPY_MODEL_b4c891e1590e498483757ed001c63f2a",
      "max": 7,
      "min": 0,
      "orientation": "horizontal",
      "style": "IPY_MODEL_4d85c970d7d64ed2bddfe8ae25bdff5c",
      "value": 7
     }
    },
    "5dbfba30baad4c919daf14275963b93a": {
     "model_module": "@jupyter-widgets/base",
     "model_module_version": "1.2.0",
     "model_name": "LayoutModel",
     "state": {
      "_model_module": "@jupyter-widgets/base",
      "_model_module_version": "1.2.0",
      "_model_name": "LayoutModel",
      "_view_count": null,
      "_view_module": "@jupyter-widgets/base",
      "_view_module_version": "1.2.0",
      "_view_name": "LayoutView",
      "align_content": null,
      "align_items": null,
      "align_self": null,
      "border": null,
      "bottom": null,
      "display": null,
      "flex": null,
      "flex_flow": null,
      "grid_area": null,
      "grid_auto_columns": null,
      "grid_auto_flow": null,
      "grid_auto_rows": null,
      "grid_column": null,
      "grid_gap": null,
      "grid_row": null,
      "grid_template_areas": null,
      "grid_template_columns": null,
      "grid_template_rows": null,
      "height": null,
      "justify_content": null,
      "justify_items": null,
      "left": null,
      "margin": null,
      "max_height": null,
      "max_width": null,
      "min_height": null,
      "min_width": null,
      "object_fit": null,
      "object_position": null,
      "order": null,
      "overflow": null,
      "overflow_x": null,
      "overflow_y": null,
      "padding": null,
      "right": null,
      "top": null,
      "visibility": null,
      "width": null
     }
    },
    "5e25007b6c2e49e8ae6f61c5b927c6c1": {
     "model_module": "@jupyter-widgets/base",
     "model_module_version": "1.2.0",
     "model_name": "LayoutModel",
     "state": {
      "_model_module": "@jupyter-widgets/base",
      "_model_module_version": "1.2.0",
      "_model_name": "LayoutModel",
      "_view_count": null,
      "_view_module": "@jupyter-widgets/base",
      "_view_module_version": "1.2.0",
      "_view_name": "LayoutView",
      "align_content": null,
      "align_items": null,
      "align_self": null,
      "border": null,
      "bottom": null,
      "display": null,
      "flex": null,
      "flex_flow": null,
      "grid_area": null,
      "grid_auto_columns": null,
      "grid_auto_flow": null,
      "grid_auto_rows": null,
      "grid_column": null,
      "grid_gap": null,
      "grid_row": null,
      "grid_template_areas": null,
      "grid_template_columns": null,
      "grid_template_rows": null,
      "height": null,
      "justify_content": null,
      "justify_items": null,
      "left": null,
      "margin": null,
      "max_height": null,
      "max_width": null,
      "min_height": null,
      "min_width": null,
      "object_fit": null,
      "object_position": null,
      "order": null,
      "overflow": null,
      "overflow_x": null,
      "overflow_y": null,
      "padding": null,
      "right": null,
      "top": null,
      "visibility": null,
      "width": null
     }
    },
    "62b5648966e64af6a0b7098244e95898": {
     "model_module": "@jupyter-widgets/controls",
     "model_module_version": "1.5.0",
     "model_name": "HTMLModel",
     "state": {
      "_dom_classes": [],
      "_model_module": "@jupyter-widgets/controls",
      "_model_module_version": "1.5.0",
      "_model_name": "HTMLModel",
      "_view_count": null,
      "_view_module": "@jupyter-widgets/controls",
      "_view_module_version": "1.5.0",
      "_view_name": "HTMLView",
      "description": "",
      "description_tooltip": null,
      "layout": "IPY_MODEL_82f20a9a535340b281c1d5883ff22f78",
      "placeholder": "​",
      "style": "IPY_MODEL_b094b0688076455e89d671010561a823",
      "value": "Downloading artifacts: 100%"
     }
    },
    "648d768da4c74ca68fe1622269cdf08a": {
     "model_module": "@jupyter-widgets/controls",
     "model_module_version": "1.5.0",
     "model_name": "FloatProgressModel",
     "state": {
      "_dom_classes": [],
      "_model_module": "@jupyter-widgets/controls",
      "_model_module_version": "1.5.0",
      "_model_name": "FloatProgressModel",
      "_view_count": null,
      "_view_module": "@jupyter-widgets/controls",
      "_view_module_version": "1.5.0",
      "_view_name": "ProgressView",
      "bar_style": "success",
      "description": "",
      "description_tooltip": null,
      "layout": "IPY_MODEL_85a8c21fd9ed46459dd055cd54647cec",
      "max": 7,
      "min": 0,
      "orientation": "horizontal",
      "style": "IPY_MODEL_73cbc3d4f873410b95e5c10de91590c6",
      "value": 7
     }
    },
    "6ac1188056784b96b03c18af698a3555": {
     "model_module": "@jupyter-widgets/controls",
     "model_module_version": "1.5.0",
     "model_name": "HBoxModel",
     "state": {
      "_dom_classes": [],
      "_model_module": "@jupyter-widgets/controls",
      "_model_module_version": "1.5.0",
      "_model_name": "HBoxModel",
      "_view_count": null,
      "_view_module": "@jupyter-widgets/controls",
      "_view_module_version": "1.5.0",
      "_view_name": "HBoxView",
      "box_style": "",
      "children": [
       "IPY_MODEL_c0137e3e2bd04202819a245bd779a172",
       "IPY_MODEL_51d17cbe78904d81883dfb1a6c376736",
       "IPY_MODEL_1cab0d74c9a9497296c05768cf00f236"
      ],
      "layout": "IPY_MODEL_c5a99c03a661472a8528ac63006bd054"
     }
    },
    "708621a183564cc492e3e31221f09ea3": {
     "model_module": "@jupyter-widgets/controls",
     "model_module_version": "1.5.0",
     "model_name": "DescriptionStyleModel",
     "state": {
      "_model_module": "@jupyter-widgets/controls",
      "_model_module_version": "1.5.0",
      "_model_name": "DescriptionStyleModel",
      "_view_count": null,
      "_view_module": "@jupyter-widgets/base",
      "_view_module_version": "1.2.0",
      "_view_name": "StyleView",
      "description_width": ""
     }
    },
    "7100823ec0bb4137b918ef42b000a71f": {
     "model_module": "@jupyter-widgets/controls",
     "model_module_version": "1.5.0",
     "model_name": "HTMLModel",
     "state": {
      "_dom_classes": [],
      "_model_module": "@jupyter-widgets/controls",
      "_model_module_version": "1.5.0",
      "_model_name": "HTMLModel",
      "_view_count": null,
      "_view_module": "@jupyter-widgets/controls",
      "_view_module_version": "1.5.0",
      "_view_name": "HTMLView",
      "description": "",
      "description_tooltip": null,
      "layout": "IPY_MODEL_802e81c53b4b470bb496bfc457df3913",
      "placeholder": "​",
      "style": "IPY_MODEL_e4db997df90f459c9af94a29c99a5207",
      "value": " 843k/843k [00:00&lt;00:00, 4.13MB/s]"
     }
    },
    "73cbc3d4f873410b95e5c10de91590c6": {
     "model_module": "@jupyter-widgets/controls",
     "model_module_version": "1.5.0",
     "model_name": "ProgressStyleModel",
     "state": {
      "_model_module": "@jupyter-widgets/controls",
      "_model_module_version": "1.5.0",
      "_model_name": "ProgressStyleModel",
      "_view_count": null,
      "_view_module": "@jupyter-widgets/base",
      "_view_module_version": "1.2.0",
      "_view_name": "StyleView",
      "bar_color": null,
      "description_width": ""
     }
    },
    "74d80fa96e1547c1bd4e0991fd02d2a7": {
     "model_module": "@jupyter-widgets/base",
     "model_module_version": "1.2.0",
     "model_name": "LayoutModel",
     "state": {
      "_model_module": "@jupyter-widgets/base",
      "_model_module_version": "1.2.0",
      "_model_name": "LayoutModel",
      "_view_count": null,
      "_view_module": "@jupyter-widgets/base",
      "_view_module_version": "1.2.0",
      "_view_name": "LayoutView",
      "align_content": null,
      "align_items": null,
      "align_self": null,
      "border": null,
      "bottom": null,
      "display": null,
      "flex": null,
      "flex_flow": null,
      "grid_area": null,
      "grid_auto_columns": null,
      "grid_auto_flow": null,
      "grid_auto_rows": null,
      "grid_column": null,
      "grid_gap": null,
      "grid_row": null,
      "grid_template_areas": null,
      "grid_template_columns": null,
      "grid_template_rows": null,
      "height": null,
      "justify_content": null,
      "justify_items": null,
      "left": null,
      "margin": null,
      "max_height": null,
      "max_width": null,
      "min_height": null,
      "min_width": null,
      "object_fit": null,
      "object_position": null,
      "order": null,
      "overflow": null,
      "overflow_x": null,
      "overflow_y": null,
      "padding": null,
      "right": null,
      "top": null,
      "visibility": null,
      "width": null
     }
    },
    "7c1fa3d8b54f4499a16b37b941b856d3": {
     "model_module": "@jupyter-widgets/controls",
     "model_module_version": "1.5.0",
     "model_name": "HTMLModel",
     "state": {
      "_dom_classes": [],
      "_model_module": "@jupyter-widgets/controls",
      "_model_module_version": "1.5.0",
      "_model_name": "HTMLModel",
      "_view_count": null,
      "_view_module": "@jupyter-widgets/controls",
      "_view_module_version": "1.5.0",
      "_view_name": "HTMLView",
      "description": "",
      "description_tooltip": null,
      "layout": "IPY_MODEL_3a14450014e74d918381af193a4aade0",
      "placeholder": "​",
      "style": "IPY_MODEL_21e12a93ca1040ee9c796a1bd1ddb690",
      "value": "Downloading (…)lve/main/config.json: 100%"
     }
    },
    "7f1430bfe5e34137a8f18babd624c7ee": {
     "model_module": "@jupyter-widgets/base",
     "model_module_version": "1.2.0",
     "model_name": "LayoutModel",
     "state": {
      "_model_module": "@jupyter-widgets/base",
      "_model_module_version": "1.2.0",
      "_model_name": "LayoutModel",
      "_view_count": null,
      "_view_module": "@jupyter-widgets/base",
      "_view_module_version": "1.2.0",
      "_view_name": "LayoutView",
      "align_content": null,
      "align_items": null,
      "align_self": null,
      "border": null,
      "bottom": null,
      "display": null,
      "flex": null,
      "flex_flow": null,
      "grid_area": null,
      "grid_auto_columns": null,
      "grid_auto_flow": null,
      "grid_auto_rows": null,
      "grid_column": null,
      "grid_gap": null,
      "grid_row": null,
      "grid_template_areas": null,
      "grid_template_columns": null,
      "grid_template_rows": null,
      "height": null,
      "justify_content": null,
      "justify_items": null,
      "left": null,
      "margin": null,
      "max_height": null,
      "max_width": null,
      "min_height": null,
      "min_width": null,
      "object_fit": null,
      "object_position": null,
      "order": null,
      "overflow": null,
      "overflow_x": null,
      "overflow_y": null,
      "padding": null,
      "right": null,
      "top": null,
      "visibility": null,
      "width": null
     }
    },
    "802e81c53b4b470bb496bfc457df3913": {
     "model_module": "@jupyter-widgets/base",
     "model_module_version": "1.2.0",
     "model_name": "LayoutModel",
     "state": {
      "_model_module": "@jupyter-widgets/base",
      "_model_module_version": "1.2.0",
      "_model_name": "LayoutModel",
      "_view_count": null,
      "_view_module": "@jupyter-widgets/base",
      "_view_module_version": "1.2.0",
      "_view_name": "LayoutView",
      "align_content": null,
      "align_items": null,
      "align_self": null,
      "border": null,
      "bottom": null,
      "display": null,
      "flex": null,
      "flex_flow": null,
      "grid_area": null,
      "grid_auto_columns": null,
      "grid_auto_flow": null,
      "grid_auto_rows": null,
      "grid_column": null,
      "grid_gap": null,
      "grid_row": null,
      "grid_template_areas": null,
      "grid_template_columns": null,
      "grid_template_rows": null,
      "height": null,
      "justify_content": null,
      "justify_items": null,
      "left": null,
      "margin": null,
      "max_height": null,
      "max_width": null,
      "min_height": null,
      "min_width": null,
      "object_fit": null,
      "object_position": null,
      "order": null,
      "overflow": null,
      "overflow_x": null,
      "overflow_y": null,
      "padding": null,
      "right": null,
      "top": null,
      "visibility": null,
      "width": null
     }
    },
    "82f20a9a535340b281c1d5883ff22f78": {
     "model_module": "@jupyter-widgets/base",
     "model_module_version": "1.2.0",
     "model_name": "LayoutModel",
     "state": {
      "_model_module": "@jupyter-widgets/base",
      "_model_module_version": "1.2.0",
      "_model_name": "LayoutModel",
      "_view_count": null,
      "_view_module": "@jupyter-widgets/base",
      "_view_module_version": "1.2.0",
      "_view_name": "LayoutView",
      "align_content": null,
      "align_items": null,
      "align_self": null,
      "border": null,
      "bottom": null,
      "display": null,
      "flex": null,
      "flex_flow": null,
      "grid_area": null,
      "grid_auto_columns": null,
      "grid_auto_flow": null,
      "grid_auto_rows": null,
      "grid_column": null,
      "grid_gap": null,
      "grid_row": null,
      "grid_template_areas": null,
      "grid_template_columns": null,
      "grid_template_rows": null,
      "height": null,
      "justify_content": null,
      "justify_items": null,
      "left": null,
      "margin": null,
      "max_height": null,
      "max_width": null,
      "min_height": null,
      "min_width": null,
      "object_fit": null,
      "object_position": null,
      "order": null,
      "overflow": null,
      "overflow_x": null,
      "overflow_y": null,
      "padding": null,
      "right": null,
      "top": null,
      "visibility": null,
      "width": null
     }
    },
    "85a8c21fd9ed46459dd055cd54647cec": {
     "model_module": "@jupyter-widgets/base",
     "model_module_version": "1.2.0",
     "model_name": "LayoutModel",
     "state": {
      "_model_module": "@jupyter-widgets/base",
      "_model_module_version": "1.2.0",
      "_model_name": "LayoutModel",
      "_view_count": null,
      "_view_module": "@jupyter-widgets/base",
      "_view_module_version": "1.2.0",
      "_view_name": "LayoutView",
      "align_content": null,
      "align_items": null,
      "align_self": null,
      "border": null,
      "bottom": null,
      "display": null,
      "flex": null,
      "flex_flow": null,
      "grid_area": null,
      "grid_auto_columns": null,
      "grid_auto_flow": null,
      "grid_auto_rows": null,
      "grid_column": null,
      "grid_gap": null,
      "grid_row": null,
      "grid_template_areas": null,
      "grid_template_columns": null,
      "grid_template_rows": null,
      "height": null,
      "justify_content": null,
      "justify_items": null,
      "left": null,
      "margin": null,
      "max_height": null,
      "max_width": null,
      "min_height": null,
      "min_width": null,
      "object_fit": null,
      "object_position": null,
      "order": null,
      "overflow": null,
      "overflow_x": null,
      "overflow_y": null,
      "padding": null,
      "right": null,
      "top": null,
      "visibility": null,
      "width": null
     }
    },
    "8ab0b04ab3614908b7d6b116e6c4e1eb": {
     "model_module": "@jupyter-widgets/controls",
     "model_module_version": "1.5.0",
     "model_name": "DescriptionStyleModel",
     "state": {
      "_model_module": "@jupyter-widgets/controls",
      "_model_module_version": "1.5.0",
      "_model_name": "DescriptionStyleModel",
      "_view_count": null,
      "_view_module": "@jupyter-widgets/base",
      "_view_module_version": "1.2.0",
      "_view_name": "StyleView",
      "description_width": ""
     }
    },
    "8c2dd19ab40e40cdab1e0264bb3733b4": {
     "model_module": "@jupyter-widgets/controls",
     "model_module_version": "1.5.0",
     "model_name": "ProgressStyleModel",
     "state": {
      "_model_module": "@jupyter-widgets/controls",
      "_model_module_version": "1.5.0",
      "_model_name": "ProgressStyleModel",
      "_view_count": null,
      "_view_module": "@jupyter-widgets/base",
      "_view_module_version": "1.2.0",
      "_view_name": "StyleView",
      "bar_color": null,
      "description_width": ""
     }
    },
    "8ea0dfe133984d8a82026d93d1aa2f7e": {
     "model_module": "@jupyter-widgets/controls",
     "model_module_version": "1.5.0",
     "model_name": "HBoxModel",
     "state": {
      "_dom_classes": [],
      "_model_module": "@jupyter-widgets/controls",
      "_model_module_version": "1.5.0",
      "_model_name": "HBoxModel",
      "_view_count": null,
      "_view_module": "@jupyter-widgets/controls",
      "_view_module_version": "1.5.0",
      "_view_name": "HBoxView",
      "box_style": "",
      "children": [
       "IPY_MODEL_f9432d8165854debaa7d0f33acf2f471",
       "IPY_MODEL_2da8cfea31114cddb4bccf2a7a070442",
       "IPY_MODEL_7100823ec0bb4137b918ef42b000a71f"
      ],
      "layout": "IPY_MODEL_42b4e686cded4f98a8f75c028e008278"
     }
    },
    "984ed9f1ef754c938a900f48d11279a1": {
     "model_module": "@jupyter-widgets/base",
     "model_module_version": "1.2.0",
     "model_name": "LayoutModel",
     "state": {
      "_model_module": "@jupyter-widgets/base",
      "_model_module_version": "1.2.0",
      "_model_name": "LayoutModel",
      "_view_count": null,
      "_view_module": "@jupyter-widgets/base",
      "_view_module_version": "1.2.0",
      "_view_name": "LayoutView",
      "align_content": null,
      "align_items": null,
      "align_self": null,
      "border": null,
      "bottom": null,
      "display": null,
      "flex": null,
      "flex_flow": null,
      "grid_area": null,
      "grid_auto_columns": null,
      "grid_auto_flow": null,
      "grid_auto_rows": null,
      "grid_column": null,
      "grid_gap": null,
      "grid_row": null,
      "grid_template_areas": null,
      "grid_template_columns": null,
      "grid_template_rows": null,
      "height": null,
      "justify_content": null,
      "justify_items": null,
      "left": null,
      "margin": null,
      "max_height": null,
      "max_width": null,
      "min_height": null,
      "min_width": null,
      "object_fit": null,
      "object_position": null,
      "order": null,
      "overflow": null,
      "overflow_x": null,
      "overflow_y": null,
      "padding": null,
      "right": null,
      "top": null,
      "visibility": null,
      "width": null
     }
    },
    "98ce9422525e40f0be280ed8579432dc": {
     "model_module": "@jupyter-widgets/controls",
     "model_module_version": "1.5.0",
     "model_name": "FloatProgressModel",
     "state": {
      "_dom_classes": [],
      "_model_module": "@jupyter-widgets/controls",
      "_model_module_version": "1.5.0",
      "_model_name": "FloatProgressModel",
      "_view_count": null,
      "_view_module": "@jupyter-widgets/controls",
      "_view_module_version": "1.5.0",
      "_view_name": "ProgressView",
      "bar_style": "success",
      "description": "",
      "description_tooltip": null,
      "layout": "IPY_MODEL_7f1430bfe5e34137a8f18babd624c7ee",
      "max": 7,
      "min": 0,
      "orientation": "horizontal",
      "style": "IPY_MODEL_38b0cb2f897d4150846c1701250d7d81",
      "value": 7
     }
    },
    "994b59e22e78433ca5abd14157557e2c": {
     "model_module": "@jupyter-widgets/controls",
     "model_module_version": "1.5.0",
     "model_name": "DescriptionStyleModel",
     "state": {
      "_model_module": "@jupyter-widgets/controls",
      "_model_module_version": "1.5.0",
      "_model_name": "DescriptionStyleModel",
      "_view_count": null,
      "_view_module": "@jupyter-widgets/base",
      "_view_module_version": "1.2.0",
      "_view_name": "StyleView",
      "description_width": ""
     }
    },
    "9a66c855f00449c08111d8f52eecef1a": {
     "model_module": "@jupyter-widgets/controls",
     "model_module_version": "1.5.0",
     "model_name": "HBoxModel",
     "state": {
      "_dom_classes": [],
      "_model_module": "@jupyter-widgets/controls",
      "_model_module_version": "1.5.0",
      "_model_name": "HBoxModel",
      "_view_count": null,
      "_view_module": "@jupyter-widgets/controls",
      "_view_module_version": "1.5.0",
      "_view_name": "HBoxView",
      "box_style": "",
      "children": [
       "IPY_MODEL_eb3008aa2bec4526a88ccee75b493b30",
       "IPY_MODEL_5c50ced65df84dbda3cf54a5cca0f837",
       "IPY_MODEL_39240fd76ca140eeae24ca4648a835ef"
      ],
      "layout": "IPY_MODEL_dd8f1c9851bd45c1b46bc2c932307c2e"
     }
    },
    "9cb3c33c775646ad969bf63742aac67c": {
     "model_module": "@jupyter-widgets/controls",
     "model_module_version": "1.5.0",
     "model_name": "HBoxModel",
     "state": {
      "_dom_classes": [],
      "_model_module": "@jupyter-widgets/controls",
      "_model_module_version": "1.5.0",
      "_model_name": "HBoxModel",
      "_view_count": null,
      "_view_module": "@jupyter-widgets/controls",
      "_view_module_version": "1.5.0",
      "_view_name": "HBoxView",
      "box_style": "",
      "children": [
       "IPY_MODEL_3a8c5d093fcd4ce7bc45af7cbb574d4d",
       "IPY_MODEL_117939875677424c9654ba2659fc2afd",
       "IPY_MODEL_eaad47593aa74e78afd8bd4f59d275b8"
      ],
      "layout": "IPY_MODEL_0d2d068d26a149bb8dc313869d383b18"
     }
    },
    "9e0ad7e6300044d59b637cb1c913718f": {
     "model_module": "@jupyter-widgets/controls",
     "model_module_version": "1.5.0",
     "model_name": "HBoxModel",
     "state": {
      "_dom_classes": [],
      "_model_module": "@jupyter-widgets/controls",
      "_model_module_version": "1.5.0",
      "_model_name": "HBoxModel",
      "_view_count": null,
      "_view_module": "@jupyter-widgets/controls",
      "_view_module_version": "1.5.0",
      "_view_name": "HBoxView",
      "box_style": "",
      "children": [
       "IPY_MODEL_62b5648966e64af6a0b7098244e95898",
       "IPY_MODEL_2863cf99a4c94403970773aae953a77b",
       "IPY_MODEL_a242cf037c6e446f9f33fc01f25fa97e"
      ],
      "layout": "IPY_MODEL_be8397673e9b4fecbb404fe0b898a61c"
     }
    },
    "9f2d1f3c0e064c06b1e1d823b1200396": {
     "model_module": "@jupyter-widgets/base",
     "model_module_version": "1.2.0",
     "model_name": "LayoutModel",
     "state": {
      "_model_module": "@jupyter-widgets/base",
      "_model_module_version": "1.2.0",
      "_model_name": "LayoutModel",
      "_view_count": null,
      "_view_module": "@jupyter-widgets/base",
      "_view_module_version": "1.2.0",
      "_view_name": "LayoutView",
      "align_content": null,
      "align_items": null,
      "align_self": null,
      "border": null,
      "bottom": null,
      "display": null,
      "flex": null,
      "flex_flow": null,
      "grid_area": null,
      "grid_auto_columns": null,
      "grid_auto_flow": null,
      "grid_auto_rows": null,
      "grid_column": null,
      "grid_gap": null,
      "grid_row": null,
      "grid_template_areas": null,
      "grid_template_columns": null,
      "grid_template_rows": null,
      "height": null,
      "justify_content": null,
      "justify_items": null,
      "left": null,
      "margin": null,
      "max_height": null,
      "max_width": null,
      "min_height": null,
      "min_width": null,
      "object_fit": null,
      "object_position": null,
      "order": null,
      "overflow": null,
      "overflow_x": null,
      "overflow_y": null,
      "padding": null,
      "right": null,
      "top": null,
      "visibility": null,
      "width": null
     }
    },
    "a242cf037c6e446f9f33fc01f25fa97e": {
     "model_module": "@jupyter-widgets/controls",
     "model_module_version": "1.5.0",
     "model_name": "HTMLModel",
     "state": {
      "_dom_classes": [],
      "_model_module": "@jupyter-widgets/controls",
      "_model_module_version": "1.5.0",
      "_model_name": "HTMLModel",
      "_view_count": null,
      "_view_module": "@jupyter-widgets/controls",
      "_view_module_version": "1.5.0",
      "_view_name": "HTMLView",
      "description": "",
      "description_tooltip": null,
      "layout": "IPY_MODEL_9f2d1f3c0e064c06b1e1d823b1200396",
      "placeholder": "​",
      "style": "IPY_MODEL_40ed48da1f6b40bc923fe0b005618c9d",
      "value": " 7/7 [00:05&lt;00:00,  1.20it/s]"
     }
    },
    "a560cc0902d44a60a7e2eebf951249e5": {
     "model_module": "@jupyter-widgets/base",
     "model_module_version": "1.2.0",
     "model_name": "LayoutModel",
     "state": {
      "_model_module": "@jupyter-widgets/base",
      "_model_module_version": "1.2.0",
      "_model_name": "LayoutModel",
      "_view_count": null,
      "_view_module": "@jupyter-widgets/base",
      "_view_module_version": "1.2.0",
      "_view_name": "LayoutView",
      "align_content": null,
      "align_items": null,
      "align_self": null,
      "border": null,
      "bottom": null,
      "display": null,
      "flex": null,
      "flex_flow": null,
      "grid_area": null,
      "grid_auto_columns": null,
      "grid_auto_flow": null,
      "grid_auto_rows": null,
      "grid_column": null,
      "grid_gap": null,
      "grid_row": null,
      "grid_template_areas": null,
      "grid_template_columns": null,
      "grid_template_rows": null,
      "height": null,
      "justify_content": null,
      "justify_items": null,
      "left": null,
      "margin": null,
      "max_height": null,
      "max_width": null,
      "min_height": null,
      "min_width": null,
      "object_fit": null,
      "object_position": null,
      "order": null,
      "overflow": null,
      "overflow_x": null,
      "overflow_y": null,
      "padding": null,
      "right": null,
      "top": null,
      "visibility": null,
      "width": null
     }
    },
    "a58e61a346bc47f7bc4125de08fe9f90": {
     "model_module": "@jupyter-widgets/controls",
     "model_module_version": "1.5.0",
     "model_name": "ProgressStyleModel",
     "state": {
      "_model_module": "@jupyter-widgets/controls",
      "_model_module_version": "1.5.0",
      "_model_name": "ProgressStyleModel",
      "_view_count": null,
      "_view_module": "@jupyter-widgets/base",
      "_view_module_version": "1.2.0",
      "_view_name": "StyleView",
      "bar_color": null,
      "description_width": ""
     }
    },
    "a690261e4b3f427d8a09ff92d8469714": {
     "model_module": "@jupyter-widgets/controls",
     "model_module_version": "1.5.0",
     "model_name": "HBoxModel",
     "state": {
      "_dom_classes": [],
      "_model_module": "@jupyter-widgets/controls",
      "_model_module_version": "1.5.0",
      "_model_name": "HBoxModel",
      "_view_count": null,
      "_view_module": "@jupyter-widgets/controls",
      "_view_module_version": "1.5.0",
      "_view_name": "HBoxView",
      "box_style": "",
      "children": [
       "IPY_MODEL_06ae4a2c9bff449a96469ca79c4f6f6f",
       "IPY_MODEL_648d768da4c74ca68fe1622269cdf08a",
       "IPY_MODEL_b9876923900640b39c449dc83328e88c"
      ],
      "layout": "IPY_MODEL_c3f74e8f21c84c4380a8c978ab608b22"
     }
    },
    "b094b0688076455e89d671010561a823": {
     "model_module": "@jupyter-widgets/controls",
     "model_module_version": "1.5.0",
     "model_name": "DescriptionStyleModel",
     "state": {
      "_model_module": "@jupyter-widgets/controls",
      "_model_module_version": "1.5.0",
      "_model_name": "DescriptionStyleModel",
      "_view_count": null,
      "_view_module": "@jupyter-widgets/base",
      "_view_module_version": "1.2.0",
      "_view_name": "StyleView",
      "description_width": ""
     }
    },
    "b0f6dedbc1794b1ab53a0e8f7c7f0151": {
     "model_module": "@jupyter-widgets/controls",
     "model_module_version": "1.5.0",
     "model_name": "DescriptionStyleModel",
     "state": {
      "_model_module": "@jupyter-widgets/controls",
      "_model_module_version": "1.5.0",
      "_model_name": "DescriptionStyleModel",
      "_view_count": null,
      "_view_module": "@jupyter-widgets/base",
      "_view_module_version": "1.2.0",
      "_view_name": "StyleView",
      "description_width": ""
     }
    },
    "b4c891e1590e498483757ed001c63f2a": {
     "model_module": "@jupyter-widgets/base",
     "model_module_version": "1.2.0",
     "model_name": "LayoutModel",
     "state": {
      "_model_module": "@jupyter-widgets/base",
      "_model_module_version": "1.2.0",
      "_model_name": "LayoutModel",
      "_view_count": null,
      "_view_module": "@jupyter-widgets/base",
      "_view_module_version": "1.2.0",
      "_view_name": "LayoutView",
      "align_content": null,
      "align_items": null,
      "align_self": null,
      "border": null,
      "bottom": null,
      "display": null,
      "flex": null,
      "flex_flow": null,
      "grid_area": null,
      "grid_auto_columns": null,
      "grid_auto_flow": null,
      "grid_auto_rows": null,
      "grid_column": null,
      "grid_gap": null,
      "grid_row": null,
      "grid_template_areas": null,
      "grid_template_columns": null,
      "grid_template_rows": null,
      "height": null,
      "justify_content": null,
      "justify_items": null,
      "left": null,
      "margin": null,
      "max_height": null,
      "max_width": null,
      "min_height": null,
      "min_width": null,
      "object_fit": null,
      "object_position": null,
      "order": null,
      "overflow": null,
      "overflow_x": null,
      "overflow_y": null,
      "padding": null,
      "right": null,
      "top": null,
      "visibility": null,
      "width": null
     }
    },
    "b7f63463a8de4bc5a52d6a03a57abcfa": {
     "model_module": "@jupyter-widgets/base",
     "model_module_version": "1.2.0",
     "model_name": "LayoutModel",
     "state": {
      "_model_module": "@jupyter-widgets/base",
      "_model_module_version": "1.2.0",
      "_model_name": "LayoutModel",
      "_view_count": null,
      "_view_module": "@jupyter-widgets/base",
      "_view_module_version": "1.2.0",
      "_view_name": "LayoutView",
      "align_content": null,
      "align_items": null,
      "align_self": null,
      "border": null,
      "bottom": null,
      "display": null,
      "flex": null,
      "flex_flow": null,
      "grid_area": null,
      "grid_auto_columns": null,
      "grid_auto_flow": null,
      "grid_auto_rows": null,
      "grid_column": null,
      "grid_gap": null,
      "grid_row": null,
      "grid_template_areas": null,
      "grid_template_columns": null,
      "grid_template_rows": null,
      "height": null,
      "justify_content": null,
      "justify_items": null,
      "left": null,
      "margin": null,
      "max_height": null,
      "max_width": null,
      "min_height": null,
      "min_width": null,
      "object_fit": null,
      "object_position": null,
      "order": null,
      "overflow": null,
      "overflow_x": null,
      "overflow_y": null,
      "padding": null,
      "right": null,
      "top": null,
      "visibility": null,
      "width": null
     }
    },
    "b9876923900640b39c449dc83328e88c": {
     "model_module": "@jupyter-widgets/controls",
     "model_module_version": "1.5.0",
     "model_name": "HTMLModel",
     "state": {
      "_dom_classes": [],
      "_model_module": "@jupyter-widgets/controls",
      "_model_module_version": "1.5.0",
      "_model_name": "HTMLModel",
      "_view_count": null,
      "_view_module": "@jupyter-widgets/controls",
      "_view_module_version": "1.5.0",
      "_view_name": "HTMLView",
      "description": "",
      "description_tooltip": null,
      "layout": "IPY_MODEL_5bcdef7aa0eb4ea384334d03f00415e6",
      "placeholder": "​",
      "style": "IPY_MODEL_f7eaf6f2238143d1a46cd2c083c97f95",
      "value": " 7/7 [00:06&lt;00:00,  1.07it/s]"
     }
    },
    "bb6eb80a86d94015b765c39913a3da4a": {
     "model_module": "@jupyter-widgets/base",
     "model_module_version": "1.2.0",
     "model_name": "LayoutModel",
     "state": {
      "_model_module": "@jupyter-widgets/base",
      "_model_module_version": "1.2.0",
      "_model_name": "LayoutModel",
      "_view_count": null,
      "_view_module": "@jupyter-widgets/base",
      "_view_module_version": "1.2.0",
      "_view_name": "LayoutView",
      "align_content": null,
      "align_items": null,
      "align_self": null,
      "border": null,
      "bottom": null,
      "display": null,
      "flex": null,
      "flex_flow": null,
      "grid_area": null,
      "grid_auto_columns": null,
      "grid_auto_flow": null,
      "grid_auto_rows": null,
      "grid_column": null,
      "grid_gap": null,
      "grid_row": null,
      "grid_template_areas": null,
      "grid_template_columns": null,
      "grid_template_rows": null,
      "height": null,
      "justify_content": null,
      "justify_items": null,
      "left": null,
      "margin": null,
      "max_height": null,
      "max_width": null,
      "min_height": null,
      "min_width": null,
      "object_fit": null,
      "object_position": null,
      "order": null,
      "overflow": null,
      "overflow_x": null,
      "overflow_y": null,
      "padding": null,
      "right": null,
      "top": null,
      "visibility": null,
      "width": null
     }
    },
    "be8397673e9b4fecbb404fe0b898a61c": {
     "model_module": "@jupyter-widgets/base",
     "model_module_version": "1.2.0",
     "model_name": "LayoutModel",
     "state": {
      "_model_module": "@jupyter-widgets/base",
      "_model_module_version": "1.2.0",
      "_model_name": "LayoutModel",
      "_view_count": null,
      "_view_module": "@jupyter-widgets/base",
      "_view_module_version": "1.2.0",
      "_view_name": "LayoutView",
      "align_content": null,
      "align_items": null,
      "align_self": null,
      "border": null,
      "bottom": null,
      "display": null,
      "flex": null,
      "flex_flow": null,
      "grid_area": null,
      "grid_auto_columns": null,
      "grid_auto_flow": null,
      "grid_auto_rows": null,
      "grid_column": null,
      "grid_gap": null,
      "grid_row": null,
      "grid_template_areas": null,
      "grid_template_columns": null,
      "grid_template_rows": null,
      "height": null,
      "justify_content": null,
      "justify_items": null,
      "left": null,
      "margin": null,
      "max_height": null,
      "max_width": null,
      "min_height": null,
      "min_width": null,
      "object_fit": null,
      "object_position": null,
      "order": null,
      "overflow": null,
      "overflow_x": null,
      "overflow_y": null,
      "padding": null,
      "right": null,
      "top": null,
      "visibility": null,
      "width": null
     }
    },
    "bedd05a3dcbb4a90bbaaff13da1c0d55": {
     "model_module": "@jupyter-widgets/controls",
     "model_module_version": "1.5.0",
     "model_name": "HBoxModel",
     "state": {
      "_dom_classes": [],
      "_model_module": "@jupyter-widgets/controls",
      "_model_module_version": "1.5.0",
      "_model_name": "HBoxModel",
      "_view_count": null,
      "_view_module": "@jupyter-widgets/controls",
      "_view_module_version": "1.5.0",
      "_view_name": "HBoxView",
      "box_style": "",
      "children": [
       "IPY_MODEL_4765f41c37a143ba955a1fb03434b6cd",
       "IPY_MODEL_4b8bd74d2b824ebb95d927efeda3b380",
       "IPY_MODEL_12b7833abd174d00a552ce1ffcc12cba"
      ],
      "layout": "IPY_MODEL_c6e84c2523b040b3ac7f37f376b56e5d"
     }
    },
    "c0137e3e2bd04202819a245bd779a172": {
     "model_module": "@jupyter-widgets/controls",
     "model_module_version": "1.5.0",
     "model_name": "HTMLModel",
     "state": {
      "_dom_classes": [],
      "_model_module": "@jupyter-widgets/controls",
      "_model_module_version": "1.5.0",
      "_model_name": "HTMLModel",
      "_view_count": null,
      "_view_module": "@jupyter-widgets/controls",
      "_view_module_version": "1.5.0",
      "_view_name": "HTMLView",
      "description": "",
      "description_tooltip": null,
      "layout": "IPY_MODEL_984ed9f1ef754c938a900f48d11279a1",
      "placeholder": "​",
      "style": "IPY_MODEL_5c29713b593a4086948e4fe12824bb62",
      "value": "Downloading (…)/main/tokenizer.json: 100%"
     }
    },
    "c0cf938381f648bb80c3fba33aedcfed": {
     "model_module": "@jupyter-widgets/base",
     "model_module_version": "1.2.0",
     "model_name": "LayoutModel",
     "state": {
      "_model_module": "@jupyter-widgets/base",
      "_model_module_version": "1.2.0",
      "_model_name": "LayoutModel",
      "_view_count": null,
      "_view_module": "@jupyter-widgets/base",
      "_view_module_version": "1.2.0",
      "_view_name": "LayoutView",
      "align_content": null,
      "align_items": null,
      "align_self": null,
      "border": null,
      "bottom": null,
      "display": null,
      "flex": null,
      "flex_flow": null,
      "grid_area": null,
      "grid_auto_columns": null,
      "grid_auto_flow": null,
      "grid_auto_rows": null,
      "grid_column": null,
      "grid_gap": null,
      "grid_row": null,
      "grid_template_areas": null,
      "grid_template_columns": null,
      "grid_template_rows": null,
      "height": null,
      "justify_content": null,
      "justify_items": null,
      "left": null,
      "margin": null,
      "max_height": null,
      "max_width": null,
      "min_height": null,
      "min_width": null,
      "object_fit": null,
      "object_position": null,
      "order": null,
      "overflow": null,
      "overflow_x": null,
      "overflow_y": null,
      "padding": null,
      "right": null,
      "top": null,
      "visibility": null,
      "width": null
     }
    },
    "c265a33272d94721a2ad0d16f1576e5a": {
     "model_module": "@jupyter-widgets/base",
     "model_module_version": "1.2.0",
     "model_name": "LayoutModel",
     "state": {
      "_model_module": "@jupyter-widgets/base",
      "_model_module_version": "1.2.0",
      "_model_name": "LayoutModel",
      "_view_count": null,
      "_view_module": "@jupyter-widgets/base",
      "_view_module_version": "1.2.0",
      "_view_name": "LayoutView",
      "align_content": null,
      "align_items": null,
      "align_self": null,
      "border": null,
      "bottom": null,
      "display": null,
      "flex": null,
      "flex_flow": null,
      "grid_area": null,
      "grid_auto_columns": null,
      "grid_auto_flow": null,
      "grid_auto_rows": null,
      "grid_column": null,
      "grid_gap": null,
      "grid_row": null,
      "grid_template_areas": null,
      "grid_template_columns": null,
      "grid_template_rows": null,
      "height": null,
      "justify_content": null,
      "justify_items": null,
      "left": null,
      "margin": null,
      "max_height": null,
      "max_width": null,
      "min_height": null,
      "min_width": null,
      "object_fit": null,
      "object_position": null,
      "order": null,
      "overflow": null,
      "overflow_x": null,
      "overflow_y": null,
      "padding": null,
      "right": null,
      "top": null,
      "visibility": null,
      "width": null
     }
    },
    "c3f74e8f21c84c4380a8c978ab608b22": {
     "model_module": "@jupyter-widgets/base",
     "model_module_version": "1.2.0",
     "model_name": "LayoutModel",
     "state": {
      "_model_module": "@jupyter-widgets/base",
      "_model_module_version": "1.2.0",
      "_model_name": "LayoutModel",
      "_view_count": null,
      "_view_module": "@jupyter-widgets/base",
      "_view_module_version": "1.2.0",
      "_view_name": "LayoutView",
      "align_content": null,
      "align_items": null,
      "align_self": null,
      "border": null,
      "bottom": null,
      "display": null,
      "flex": null,
      "flex_flow": null,
      "grid_area": null,
      "grid_auto_columns": null,
      "grid_auto_flow": null,
      "grid_auto_rows": null,
      "grid_column": null,
      "grid_gap": null,
      "grid_row": null,
      "grid_template_areas": null,
      "grid_template_columns": null,
      "grid_template_rows": null,
      "height": null,
      "justify_content": null,
      "justify_items": null,
      "left": null,
      "margin": null,
      "max_height": null,
      "max_width": null,
      "min_height": null,
      "min_width": null,
      "object_fit": null,
      "object_position": null,
      "order": null,
      "overflow": null,
      "overflow_x": null,
      "overflow_y": null,
      "padding": null,
      "right": null,
      "top": null,
      "visibility": null,
      "width": null
     }
    },
    "c5a99c03a661472a8528ac63006bd054": {
     "model_module": "@jupyter-widgets/base",
     "model_module_version": "1.2.0",
     "model_name": "LayoutModel",
     "state": {
      "_model_module": "@jupyter-widgets/base",
      "_model_module_version": "1.2.0",
      "_model_name": "LayoutModel",
      "_view_count": null,
      "_view_module": "@jupyter-widgets/base",
      "_view_module_version": "1.2.0",
      "_view_name": "LayoutView",
      "align_content": null,
      "align_items": null,
      "align_self": null,
      "border": null,
      "bottom": null,
      "display": null,
      "flex": null,
      "flex_flow": null,
      "grid_area": null,
      "grid_auto_columns": null,
      "grid_auto_flow": null,
      "grid_auto_rows": null,
      "grid_column": null,
      "grid_gap": null,
      "grid_row": null,
      "grid_template_areas": null,
      "grid_template_columns": null,
      "grid_template_rows": null,
      "height": null,
      "justify_content": null,
      "justify_items": null,
      "left": null,
      "margin": null,
      "max_height": null,
      "max_width": null,
      "min_height": null,
      "min_width": null,
      "object_fit": null,
      "object_position": null,
      "order": null,
      "overflow": null,
      "overflow_x": null,
      "overflow_y": null,
      "padding": null,
      "right": null,
      "top": null,
      "visibility": null,
      "width": null
     }
    },
    "c5b63442c79f4f1098135ba291c75ac4": {
     "model_module": "@jupyter-widgets/controls",
     "model_module_version": "1.5.0",
     "model_name": "HBoxModel",
     "state": {
      "_dom_classes": [],
      "_model_module": "@jupyter-widgets/controls",
      "_model_module_version": "1.5.0",
      "_model_name": "HBoxModel",
      "_view_count": null,
      "_view_module": "@jupyter-widgets/controls",
      "_view_module_version": "1.5.0",
      "_view_name": "HBoxView",
      "box_style": "",
      "children": [
       "IPY_MODEL_43d5518c9522411180d5b935694a99ba",
       "IPY_MODEL_98ce9422525e40f0be280ed8579432dc",
       "IPY_MODEL_463212231f8848cca4e4a4e90d18c61a"
      ],
      "layout": "IPY_MODEL_0e15f6fd75974415989ce53e7e05904a"
     }
    },
    "c6de9018faa54c3191df2700d2bb2f2b": {
     "model_module": "@jupyter-widgets/base",
     "model_module_version": "1.2.0",
     "model_name": "LayoutModel",
     "state": {
      "_model_module": "@jupyter-widgets/base",
      "_model_module_version": "1.2.0",
      "_model_name": "LayoutModel",
      "_view_count": null,
      "_view_module": "@jupyter-widgets/base",
      "_view_module_version": "1.2.0",
      "_view_name": "LayoutView",
      "align_content": null,
      "align_items": null,
      "align_self": null,
      "border": null,
      "bottom": null,
      "display": null,
      "flex": null,
      "flex_flow": null,
      "grid_area": null,
      "grid_auto_columns": null,
      "grid_auto_flow": null,
      "grid_auto_rows": null,
      "grid_column": null,
      "grid_gap": null,
      "grid_row": null,
      "grid_template_areas": null,
      "grid_template_columns": null,
      "grid_template_rows": null,
      "height": null,
      "justify_content": null,
      "justify_items": null,
      "left": null,
      "margin": null,
      "max_height": null,
      "max_width": null,
      "min_height": null,
      "min_width": null,
      "object_fit": null,
      "object_position": null,
      "order": null,
      "overflow": null,
      "overflow_x": null,
      "overflow_y": null,
      "padding": null,
      "right": null,
      "top": null,
      "visibility": null,
      "width": null
     }
    },
    "c6e84c2523b040b3ac7f37f376b56e5d": {
     "model_module": "@jupyter-widgets/base",
     "model_module_version": "1.2.0",
     "model_name": "LayoutModel",
     "state": {
      "_model_module": "@jupyter-widgets/base",
      "_model_module_version": "1.2.0",
      "_model_name": "LayoutModel",
      "_view_count": null,
      "_view_module": "@jupyter-widgets/base",
      "_view_module_version": "1.2.0",
      "_view_name": "LayoutView",
      "align_content": null,
      "align_items": null,
      "align_self": null,
      "border": null,
      "bottom": null,
      "display": null,
      "flex": null,
      "flex_flow": null,
      "grid_area": null,
      "grid_auto_columns": null,
      "grid_auto_flow": null,
      "grid_auto_rows": null,
      "grid_column": null,
      "grid_gap": null,
      "grid_row": null,
      "grid_template_areas": null,
      "grid_template_columns": null,
      "grid_template_rows": null,
      "height": null,
      "justify_content": null,
      "justify_items": null,
      "left": null,
      "margin": null,
      "max_height": null,
      "max_width": null,
      "min_height": null,
      "min_width": null,
      "object_fit": null,
      "object_position": null,
      "order": null,
      "overflow": null,
      "overflow_x": null,
      "overflow_y": null,
      "padding": null,
      "right": null,
      "top": null,
      "visibility": null,
      "width": null
     }
    },
    "c79ae4ad113a434c948e5137a79fcad8": {
     "model_module": "@jupyter-widgets/base",
     "model_module_version": "1.2.0",
     "model_name": "LayoutModel",
     "state": {
      "_model_module": "@jupyter-widgets/base",
      "_model_module_version": "1.2.0",
      "_model_name": "LayoutModel",
      "_view_count": null,
      "_view_module": "@jupyter-widgets/base",
      "_view_module_version": "1.2.0",
      "_view_name": "LayoutView",
      "align_content": null,
      "align_items": null,
      "align_self": null,
      "border": null,
      "bottom": null,
      "display": null,
      "flex": null,
      "flex_flow": null,
      "grid_area": null,
      "grid_auto_columns": null,
      "grid_auto_flow": null,
      "grid_auto_rows": null,
      "grid_column": null,
      "grid_gap": null,
      "grid_row": null,
      "grid_template_areas": null,
      "grid_template_columns": null,
      "grid_template_rows": null,
      "height": null,
      "justify_content": null,
      "justify_items": null,
      "left": null,
      "margin": null,
      "max_height": null,
      "max_width": null,
      "min_height": null,
      "min_width": null,
      "object_fit": null,
      "object_position": null,
      "order": null,
      "overflow": null,
      "overflow_x": null,
      "overflow_y": null,
      "padding": null,
      "right": null,
      "top": null,
      "visibility": null,
      "width": null
     }
    },
    "c7f998f7f4f74e189b76e771f6626f53": {
     "model_module": "@jupyter-widgets/controls",
     "model_module_version": "1.5.0",
     "model_name": "HBoxModel",
     "state": {
      "_dom_classes": [],
      "_model_module": "@jupyter-widgets/controls",
      "_model_module_version": "1.5.0",
      "_model_name": "HBoxModel",
      "_view_count": null,
      "_view_module": "@jupyter-widgets/controls",
      "_view_module_version": "1.5.0",
      "_view_name": "HBoxView",
      "box_style": "",
      "children": [
       "IPY_MODEL_2053c0e273a14a5ca7181ef1d715da9b",
       "IPY_MODEL_15798adc99b84a64bee5e2bf516d3479",
       "IPY_MODEL_3173c3d5743a48d89df922c77991e941"
      ],
      "layout": "IPY_MODEL_b7f63463a8de4bc5a52d6a03a57abcfa"
     }
    },
    "c82059cc49564e9991483f1e0d5a6b1b": {
     "model_module": "@jupyter-widgets/controls",
     "model_module_version": "1.5.0",
     "model_name": "DescriptionStyleModel",
     "state": {
      "_model_module": "@jupyter-widgets/controls",
      "_model_module_version": "1.5.0",
      "_model_name": "DescriptionStyleModel",
      "_view_count": null,
      "_view_module": "@jupyter-widgets/base",
      "_view_module_version": "1.2.0",
      "_view_name": "StyleView",
      "description_width": ""
     }
    },
    "c9f9c38161214356b21d3a10fb04e655": {
     "model_module": "@jupyter-widgets/controls",
     "model_module_version": "1.5.0",
     "model_name": "DescriptionStyleModel",
     "state": {
      "_model_module": "@jupyter-widgets/controls",
      "_model_module_version": "1.5.0",
      "_model_name": "DescriptionStyleModel",
      "_view_count": null,
      "_view_module": "@jupyter-widgets/base",
      "_view_module_version": "1.2.0",
      "_view_name": "StyleView",
      "description_width": ""
     }
    },
    "d5ca0736f19b43f48d995c66fe3a790b": {
     "model_module": "@jupyter-widgets/base",
     "model_module_version": "1.2.0",
     "model_name": "LayoutModel",
     "state": {
      "_model_module": "@jupyter-widgets/base",
      "_model_module_version": "1.2.0",
      "_model_name": "LayoutModel",
      "_view_count": null,
      "_view_module": "@jupyter-widgets/base",
      "_view_module_version": "1.2.0",
      "_view_name": "LayoutView",
      "align_content": null,
      "align_items": null,
      "align_self": null,
      "border": null,
      "bottom": null,
      "display": null,
      "flex": null,
      "flex_flow": null,
      "grid_area": null,
      "grid_auto_columns": null,
      "grid_auto_flow": null,
      "grid_auto_rows": null,
      "grid_column": null,
      "grid_gap": null,
      "grid_row": null,
      "grid_template_areas": null,
      "grid_template_columns": null,
      "grid_template_rows": null,
      "height": null,
      "justify_content": null,
      "justify_items": null,
      "left": null,
      "margin": null,
      "max_height": null,
      "max_width": null,
      "min_height": null,
      "min_width": null,
      "object_fit": null,
      "object_position": null,
      "order": null,
      "overflow": null,
      "overflow_x": null,
      "overflow_y": null,
      "padding": null,
      "right": null,
      "top": null,
      "visibility": null,
      "width": null
     }
    },
    "dabe388568ab4603a8507fca7d1ae509": {
     "model_module": "@jupyter-widgets/base",
     "model_module_version": "1.2.0",
     "model_name": "LayoutModel",
     "state": {
      "_model_module": "@jupyter-widgets/base",
      "_model_module_version": "1.2.0",
      "_model_name": "LayoutModel",
      "_view_count": null,
      "_view_module": "@jupyter-widgets/base",
      "_view_module_version": "1.2.0",
      "_view_name": "LayoutView",
      "align_content": null,
      "align_items": null,
      "align_self": null,
      "border": null,
      "bottom": null,
      "display": null,
      "flex": null,
      "flex_flow": null,
      "grid_area": null,
      "grid_auto_columns": null,
      "grid_auto_flow": null,
      "grid_auto_rows": null,
      "grid_column": null,
      "grid_gap": null,
      "grid_row": null,
      "grid_template_areas": null,
      "grid_template_columns": null,
      "grid_template_rows": null,
      "height": null,
      "justify_content": null,
      "justify_items": null,
      "left": null,
      "margin": null,
      "max_height": null,
      "max_width": null,
      "min_height": null,
      "min_width": null,
      "object_fit": null,
      "object_position": null,
      "order": null,
      "overflow": null,
      "overflow_x": null,
      "overflow_y": null,
      "padding": null,
      "right": null,
      "top": null,
      "visibility": null,
      "width": null
     }
    },
    "db0c0de1b46e446084ee397a8acd80f6": {
     "model_module": "@jupyter-widgets/controls",
     "model_module_version": "1.5.0",
     "model_name": "DescriptionStyleModel",
     "state": {
      "_model_module": "@jupyter-widgets/controls",
      "_model_module_version": "1.5.0",
      "_model_name": "DescriptionStyleModel",
      "_view_count": null,
      "_view_module": "@jupyter-widgets/base",
      "_view_module_version": "1.2.0",
      "_view_name": "StyleView",
      "description_width": ""
     }
    },
    "dd8f1c9851bd45c1b46bc2c932307c2e": {
     "model_module": "@jupyter-widgets/base",
     "model_module_version": "1.2.0",
     "model_name": "LayoutModel",
     "state": {
      "_model_module": "@jupyter-widgets/base",
      "_model_module_version": "1.2.0",
      "_model_name": "LayoutModel",
      "_view_count": null,
      "_view_module": "@jupyter-widgets/base",
      "_view_module_version": "1.2.0",
      "_view_name": "LayoutView",
      "align_content": null,
      "align_items": null,
      "align_self": null,
      "border": null,
      "bottom": null,
      "display": null,
      "flex": null,
      "flex_flow": null,
      "grid_area": null,
      "grid_auto_columns": null,
      "grid_auto_flow": null,
      "grid_auto_rows": null,
      "grid_column": null,
      "grid_gap": null,
      "grid_row": null,
      "grid_template_areas": null,
      "grid_template_columns": null,
      "grid_template_rows": null,
      "height": null,
      "justify_content": null,
      "justify_items": null,
      "left": null,
      "margin": null,
      "max_height": null,
      "max_width": null,
      "min_height": null,
      "min_width": null,
      "object_fit": null,
      "object_position": null,
      "order": null,
      "overflow": null,
      "overflow_x": null,
      "overflow_y": null,
      "padding": null,
      "right": null,
      "top": null,
      "visibility": null,
      "width": null
     }
    },
    "df04aae002a8427dbbf095fa4e83a3ee": {
     "model_module": "@jupyter-widgets/controls",
     "model_module_version": "1.5.0",
     "model_name": "ProgressStyleModel",
     "state": {
      "_model_module": "@jupyter-widgets/controls",
      "_model_module_version": "1.5.0",
      "_model_name": "ProgressStyleModel",
      "_view_count": null,
      "_view_module": "@jupyter-widgets/base",
      "_view_module_version": "1.2.0",
      "_view_name": "StyleView",
      "bar_color": null,
      "description_width": ""
     }
    },
    "e4db997df90f459c9af94a29c99a5207": {
     "model_module": "@jupyter-widgets/controls",
     "model_module_version": "1.5.0",
     "model_name": "DescriptionStyleModel",
     "state": {
      "_model_module": "@jupyter-widgets/controls",
      "_model_module_version": "1.5.0",
      "_model_name": "DescriptionStyleModel",
      "_view_count": null,
      "_view_module": "@jupyter-widgets/base",
      "_view_module_version": "1.2.0",
      "_view_name": "StyleView",
      "description_width": ""
     }
    },
    "e4fafd7a57704de18116e8f917f6b0b9": {
     "model_module": "@jupyter-widgets/controls",
     "model_module_version": "1.5.0",
     "model_name": "DescriptionStyleModel",
     "state": {
      "_model_module": "@jupyter-widgets/controls",
      "_model_module_version": "1.5.0",
      "_model_name": "DescriptionStyleModel",
      "_view_count": null,
      "_view_module": "@jupyter-widgets/base",
      "_view_module_version": "1.2.0",
      "_view_name": "StyleView",
      "description_width": ""
     }
    },
    "e6af4d8fe63d4cb987fbf3dcb818f232": {
     "model_module": "@jupyter-widgets/base",
     "model_module_version": "1.2.0",
     "model_name": "LayoutModel",
     "state": {
      "_model_module": "@jupyter-widgets/base",
      "_model_module_version": "1.2.0",
      "_model_name": "LayoutModel",
      "_view_count": null,
      "_view_module": "@jupyter-widgets/base",
      "_view_module_version": "1.2.0",
      "_view_name": "LayoutView",
      "align_content": null,
      "align_items": null,
      "align_self": null,
      "border": null,
      "bottom": null,
      "display": null,
      "flex": null,
      "flex_flow": null,
      "grid_area": null,
      "grid_auto_columns": null,
      "grid_auto_flow": null,
      "grid_auto_rows": null,
      "grid_column": null,
      "grid_gap": null,
      "grid_row": null,
      "grid_template_areas": null,
      "grid_template_columns": null,
      "grid_template_rows": null,
      "height": null,
      "justify_content": null,
      "justify_items": null,
      "left": null,
      "margin": null,
      "max_height": null,
      "max_width": null,
      "min_height": null,
      "min_width": null,
      "object_fit": null,
      "object_position": null,
      "order": null,
      "overflow": null,
      "overflow_x": null,
      "overflow_y": null,
      "padding": null,
      "right": null,
      "top": null,
      "visibility": null,
      "width": null
     }
    },
    "e74e23913379453aa16931b744e2e2d8": {
     "model_module": "@jupyter-widgets/base",
     "model_module_version": "1.2.0",
     "model_name": "LayoutModel",
     "state": {
      "_model_module": "@jupyter-widgets/base",
      "_model_module_version": "1.2.0",
      "_model_name": "LayoutModel",
      "_view_count": null,
      "_view_module": "@jupyter-widgets/base",
      "_view_module_version": "1.2.0",
      "_view_name": "LayoutView",
      "align_content": null,
      "align_items": null,
      "align_self": null,
      "border": null,
      "bottom": null,
      "display": null,
      "flex": null,
      "flex_flow": null,
      "grid_area": null,
      "grid_auto_columns": null,
      "grid_auto_flow": null,
      "grid_auto_rows": null,
      "grid_column": null,
      "grid_gap": null,
      "grid_row": null,
      "grid_template_areas": null,
      "grid_template_columns": null,
      "grid_template_rows": null,
      "height": null,
      "justify_content": null,
      "justify_items": null,
      "left": null,
      "margin": null,
      "max_height": null,
      "max_width": null,
      "min_height": null,
      "min_width": null,
      "object_fit": null,
      "object_position": null,
      "order": null,
      "overflow": null,
      "overflow_x": null,
      "overflow_y": null,
      "padding": null,
      "right": null,
      "top": null,
      "visibility": null,
      "width": null
     }
    },
    "eaad47593aa74e78afd8bd4f59d275b8": {
     "model_module": "@jupyter-widgets/controls",
     "model_module_version": "1.5.0",
     "model_name": "HTMLModel",
     "state": {
      "_dom_classes": [],
      "_model_module": "@jupyter-widgets/controls",
      "_model_module_version": "1.5.0",
      "_model_name": "HTMLModel",
      "_view_count": null,
      "_view_module": "@jupyter-widgets/controls",
      "_view_module_version": "1.5.0",
      "_view_name": "HTMLView",
      "description": "",
      "description_tooltip": null,
      "layout": "IPY_MODEL_c265a33272d94721a2ad0d16f1576e5a",
      "placeholder": "​",
      "style": "IPY_MODEL_8ab0b04ab3614908b7d6b116e6c4e1eb",
      "value": " 543M/543M [00:32&lt;00:00, 29.2MB/s]"
     }
    },
    "eb3008aa2bec4526a88ccee75b493b30": {
     "model_module": "@jupyter-widgets/controls",
     "model_module_version": "1.5.0",
     "model_name": "HTMLModel",
     "state": {
      "_dom_classes": [],
      "_model_module": "@jupyter-widgets/controls",
      "_model_module_version": "1.5.0",
      "_model_name": "HTMLModel",
      "_view_count": null,
      "_view_module": "@jupyter-widgets/controls",
      "_view_module_version": "1.5.0",
      "_view_name": "HTMLView",
      "description": "",
      "description_tooltip": null,
      "layout": "IPY_MODEL_5dbfba30baad4c919daf14275963b93a",
      "placeholder": "​",
      "style": "IPY_MODEL_db0c0de1b46e446084ee397a8acd80f6",
      "value": "Downloading artifacts: 100%"
     }
    },
    "ef7df33e327b4f1b82b9f9ed5aa956d6": {
     "model_module": "@jupyter-widgets/base",
     "model_module_version": "1.2.0",
     "model_name": "LayoutModel",
     "state": {
      "_model_module": "@jupyter-widgets/base",
      "_model_module_version": "1.2.0",
      "_model_name": "LayoutModel",
      "_view_count": null,
      "_view_module": "@jupyter-widgets/base",
      "_view_module_version": "1.2.0",
      "_view_name": "LayoutView",
      "align_content": null,
      "align_items": null,
      "align_self": null,
      "border": null,
      "bottom": null,
      "display": null,
      "flex": null,
      "flex_flow": null,
      "grid_area": null,
      "grid_auto_columns": null,
      "grid_auto_flow": null,
      "grid_auto_rows": null,
      "grid_column": null,
      "grid_gap": null,
      "grid_row": null,
      "grid_template_areas": null,
      "grid_template_columns": null,
      "grid_template_rows": null,
      "height": null,
      "justify_content": null,
      "justify_items": null,
      "left": null,
      "margin": null,
      "max_height": null,
      "max_width": null,
      "min_height": null,
      "min_width": null,
      "object_fit": null,
      "object_position": null,
      "order": null,
      "overflow": null,
      "overflow_x": null,
      "overflow_y": null,
      "padding": null,
      "right": null,
      "top": null,
      "visibility": null,
      "width": null
     }
    },
    "f326ca5639e949e9bec56868fc153679": {
     "model_module": "@jupyter-widgets/controls",
     "model_module_version": "1.5.0",
     "model_name": "ProgressStyleModel",
     "state": {
      "_model_module": "@jupyter-widgets/controls",
      "_model_module_version": "1.5.0",
      "_model_name": "ProgressStyleModel",
      "_view_count": null,
      "_view_module": "@jupyter-widgets/base",
      "_view_module_version": "1.2.0",
      "_view_name": "StyleView",
      "bar_color": null,
      "description_width": ""
     }
    },
    "f51c7658838541089f4719fc6ec54c2e": {
     "model_module": "@jupyter-widgets/controls",
     "model_module_version": "1.5.0",
     "model_name": "DescriptionStyleModel",
     "state": {
      "_model_module": "@jupyter-widgets/controls",
      "_model_module_version": "1.5.0",
      "_model_name": "DescriptionStyleModel",
      "_view_count": null,
      "_view_module": "@jupyter-widgets/base",
      "_view_module_version": "1.2.0",
      "_view_name": "StyleView",
      "description_width": ""
     }
    },
    "f7eaf6f2238143d1a46cd2c083c97f95": {
     "model_module": "@jupyter-widgets/controls",
     "model_module_version": "1.5.0",
     "model_name": "DescriptionStyleModel",
     "state": {
      "_model_module": "@jupyter-widgets/controls",
      "_model_module_version": "1.5.0",
      "_model_name": "DescriptionStyleModel",
      "_view_count": null,
      "_view_module": "@jupyter-widgets/base",
      "_view_module_version": "1.2.0",
      "_view_name": "StyleView",
      "description_width": ""
     }
    },
    "f869070b970744e8805c44e8ec57eedb": {
     "model_module": "@jupyter-widgets/controls",
     "model_module_version": "1.5.0",
     "model_name": "DescriptionStyleModel",
     "state": {
      "_model_module": "@jupyter-widgets/controls",
      "_model_module_version": "1.5.0",
      "_model_name": "DescriptionStyleModel",
      "_view_count": null,
      "_view_module": "@jupyter-widgets/base",
      "_view_module_version": "1.2.0",
      "_view_name": "StyleView",
      "description_width": ""
     }
    },
    "f9432d8165854debaa7d0f33acf2f471": {
     "model_module": "@jupyter-widgets/controls",
     "model_module_version": "1.5.0",
     "model_name": "HTMLModel",
     "state": {
      "_dom_classes": [],
      "_model_module": "@jupyter-widgets/controls",
      "_model_module_version": "1.5.0",
      "_model_name": "HTMLModel",
      "_view_count": null,
      "_view_module": "@jupyter-widgets/controls",
      "_view_module_version": "1.5.0",
      "_view_name": "HTMLView",
      "description": "",
      "description_tooltip": null,
      "layout": "IPY_MODEL_45ea52ab0e3341f7820c404ef4538591",
      "placeholder": "​",
      "style": "IPY_MODEL_2bc8e3b3cc9447c5baeb3e291ca59950",
      "value": "Downloading (…)solve/main/vocab.txt: 100%"
     }
    }
   }
  }
 },
 "nbformat": 4,
 "nbformat_minor": 0
}
